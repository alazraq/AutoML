{
 "cells": [
  {
   "cell_type": "markdown",
   "metadata": {},
   "source": [
    "The metric used is (Wh) :\n",
    "$$\n",
    "\\mathcal{L}(\\widehat{y}, y) = \\frac{1}{\\sum_{j \\: in \\: appliances} \\alpha_j} \\sum_{j \\: in \\: appliances} \\alpha_j \\sqrt{\\frac{\\sum_{i=1}^{N} (\\widehat{y}_{i}^{(j)}-y_{i}^{(j)})^2)}{N}}\n",
    "$$\n",
    "\n",
    "Where\n",
    "* N = 201362 : number of data known in test set\n",
    "* appliances = \\{washing_machine, fridge_freezer, TV, kettle\\}\n",
    "* $\\alpha_j = E(y_{i}^{(j)})$ : mean of power of the appliance j on training set\n",
    "     * $\\alpha_{washing\\_machine} = 5.55$\n",
    "     * $\\alpha_{fridge_freezer} = 49.79$\n",
    "     * $\\alpha_{TV} = 14.57$\n",
    "     * $\\alpha_{kettle} = 4.95$"
   ]
  },
  {
   "cell_type": "code",
   "execution_count": 1,
   "metadata": {},
   "outputs": [
    {
     "ename": "ValueError",
     "evalue": "invalid error value specified",
     "output_type": "error",
     "traceback": [
      "\u001b[1;31m---------------------------------------------------------------------------\u001b[0m",
      "\u001b[1;31mValueError\u001b[0m                                Traceback (most recent call last)",
      "\u001b[1;32m<ipython-input-1-518c90ec5323>\u001b[0m in \u001b[0;36m<module>\u001b[1;34m\u001b[0m\n\u001b[0;32m     46\u001b[0m         \u001b[0mdf_y_pred\u001b[0m \u001b[1;33m=\u001b[0m \u001b[0mdf_y_pred\u001b[0m\u001b[1;33m.\u001b[0m\u001b[0msort_values\u001b[0m\u001b[1;33m(\u001b[0m\u001b[0mby\u001b[0m\u001b[1;33m=\u001b[0m\u001b[1;33m[\u001b[0m\u001b[1;34m'time_step'\u001b[0m\u001b[1;33m]\u001b[0m\u001b[1;33m)\u001b[0m\u001b[1;33m\u001b[0m\u001b[1;33m\u001b[0m\u001b[0m\n\u001b[0;32m     47\u001b[0m         \u001b[1;32mif\u001b[0m \u001b[1;33m(\u001b[0m\u001b[0mdf_y_true\u001b[0m\u001b[1;33m.\u001b[0m\u001b[0mindex\u001b[0m\u001b[1;33m[\u001b[0m\u001b[1;36m0\u001b[0m\u001b[1;33m]\u001b[0m\u001b[1;33m==\u001b[0m \u001b[0mdf_y_pred\u001b[0m\u001b[1;33m.\u001b[0m\u001b[0mindex\u001b[0m\u001b[1;33m[\u001b[0m\u001b[1;36m0\u001b[0m\u001b[1;33m]\u001b[0m\u001b[1;33m)\u001b[0m \u001b[1;33m&\u001b[0m \u001b[1;33m(\u001b[0m\u001b[0mdf_y_true\u001b[0m\u001b[1;33m.\u001b[0m\u001b[0mindex\u001b[0m\u001b[1;33m[\u001b[0m\u001b[0mdf_y_true\u001b[0m\u001b[1;33m.\u001b[0m\u001b[0mshape\u001b[0m\u001b[1;33m[\u001b[0m\u001b[1;36m0\u001b[0m\u001b[1;33m]\u001b[0m\u001b[1;33m-\u001b[0m\u001b[1;36m1\u001b[0m\u001b[1;33m]\u001b[0m\u001b[1;33m==\u001b[0m \u001b[0mdf_y_pred\u001b[0m\u001b[1;33m.\u001b[0m\u001b[0mindex\u001b[0m\u001b[1;33m[\u001b[0m\u001b[0mdf_y_pred\u001b[0m\u001b[1;33m.\u001b[0m\u001b[0mshape\u001b[0m\u001b[1;33m[\u001b[0m\u001b[1;36m0\u001b[0m\u001b[1;33m]\u001b[0m\u001b[1;33m-\u001b[0m\u001b[1;36m1\u001b[0m\u001b[1;33m]\u001b[0m\u001b[1;33m)\u001b[0m \u001b[1;33m:\u001b[0m\u001b[1;33m\u001b[0m\u001b[1;33m\u001b[0m\u001b[0m\n\u001b[1;32m---> 48\u001b[1;33m             \u001b[0mdf_y_true\u001b[0m\u001b[1;33m[\u001b[0m\u001b[1;34m'washing_machine'\u001b[0m\u001b[1;33m]\u001b[0m \u001b[1;33m=\u001b[0m \u001b[0mpd\u001b[0m\u001b[1;33m.\u001b[0m\u001b[0mto_numeric\u001b[0m\u001b[1;33m(\u001b[0m\u001b[0mdf_y_true\u001b[0m\u001b[1;33m[\u001b[0m\u001b[1;34m'washing_machine'\u001b[0m\u001b[1;33m]\u001b[0m\u001b[1;33m,\u001b[0m \u001b[0merrors\u001b[0m \u001b[1;33m=\u001b[0m \u001b[1;34m'nan'\u001b[0m\u001b[1;33m)\u001b[0m\u001b[1;33m\u001b[0m\u001b[1;33m\u001b[0m\u001b[0m\n\u001b[0m\u001b[0;32m     49\u001b[0m             \u001b[0mdf_y_true\u001b[0m\u001b[1;33m[\u001b[0m\u001b[1;34m'fridge_freezer'\u001b[0m\u001b[1;33m]\u001b[0m \u001b[1;33m=\u001b[0m \u001b[0mpd\u001b[0m\u001b[1;33m.\u001b[0m\u001b[0mto_numeric\u001b[0m\u001b[1;33m(\u001b[0m\u001b[0mdf_y_true\u001b[0m\u001b[1;33m[\u001b[0m\u001b[1;34m'fridge_freezer'\u001b[0m\u001b[1;33m]\u001b[0m\u001b[1;33m,\u001b[0m \u001b[0merrors\u001b[0m \u001b[1;33m=\u001b[0m \u001b[1;34m'nan'\u001b[0m\u001b[1;33m)\u001b[0m\u001b[1;33m\u001b[0m\u001b[1;33m\u001b[0m\u001b[0m\n\u001b[0;32m     50\u001b[0m             \u001b[0mdf_y_true\u001b[0m\u001b[1;33m[\u001b[0m\u001b[1;34m'TV'\u001b[0m\u001b[1;33m]\u001b[0m \u001b[1;33m=\u001b[0m \u001b[0mpd\u001b[0m\u001b[1;33m.\u001b[0m\u001b[0mto_numeric\u001b[0m\u001b[1;33m(\u001b[0m\u001b[0mdf_y_true\u001b[0m\u001b[1;33m[\u001b[0m\u001b[1;34m'TV'\u001b[0m\u001b[1;33m]\u001b[0m\u001b[1;33m,\u001b[0m \u001b[0merrors\u001b[0m \u001b[1;33m=\u001b[0m \u001b[1;34m'nan'\u001b[0m\u001b[1;33m)\u001b[0m\u001b[1;33m\u001b[0m\u001b[1;33m\u001b[0m\u001b[0m\n",
      "\u001b[1;32mD:\\Anaconda3\\lib\\site-packages\\pandas\\core\\tools\\numeric.py\u001b[0m in \u001b[0;36mto_numeric\u001b[1;34m(arg, errors, downcast)\u001b[0m\n\u001b[0;32m    112\u001b[0m \u001b[1;33m\u001b[0m\u001b[0m\n\u001b[0;32m    113\u001b[0m     \u001b[1;32mif\u001b[0m \u001b[0merrors\u001b[0m \u001b[1;32mnot\u001b[0m \u001b[1;32min\u001b[0m \u001b[1;33m(\u001b[0m\u001b[1;34m\"ignore\"\u001b[0m\u001b[1;33m,\u001b[0m \u001b[1;34m\"raise\"\u001b[0m\u001b[1;33m,\u001b[0m \u001b[1;34m\"coerce\"\u001b[0m\u001b[1;33m)\u001b[0m\u001b[1;33m:\u001b[0m\u001b[1;33m\u001b[0m\u001b[1;33m\u001b[0m\u001b[0m\n\u001b[1;32m--> 114\u001b[1;33m         \u001b[1;32mraise\u001b[0m \u001b[0mValueError\u001b[0m\u001b[1;33m(\u001b[0m\u001b[1;34m\"invalid error value specified\"\u001b[0m\u001b[1;33m)\u001b[0m\u001b[1;33m\u001b[0m\u001b[1;33m\u001b[0m\u001b[0m\n\u001b[0m\u001b[0;32m    115\u001b[0m \u001b[1;33m\u001b[0m\u001b[0m\n\u001b[0;32m    116\u001b[0m     \u001b[0mis_series\u001b[0m \u001b[1;33m=\u001b[0m \u001b[1;32mFalse\u001b[0m\u001b[1;33m\u001b[0m\u001b[1;33m\u001b[0m\u001b[0m\n",
      "\u001b[1;31mValueError\u001b[0m: invalid error value specified"
     ]
    }
   ],
   "source": [
    "\n",
    "import pandas as pd\n",
    "import datetime as dt\n",
    "import math as mt\n",
    "\n",
    "def metric_nilm(dataframe_y_true, dataframe_y_pred):\n",
    "    score = 0.0\n",
    "    test = dataframe_y_true[~dataframe_y_true['washing_machine'].isna()]['washing_machine']\n",
    "    pred = dataframe_y_pred[~dataframe_y_true['washing_machine'].isna()]['washing_machine']\n",
    "    score += mt.sqrt(sum((pred - test)**2)/len(test))*5.55\n",
    "    test = dataframe_y_true[~dataframe_y_true['fridge_freezer'].isna()]['fridge_freezer']\n",
    "    pred = dataframe_y_pred[~dataframe_y_true['fridge_freezer'].isna()]['fridge_freezer']\n",
    "    score += mt.sqrt(sum((pred - test)**2)/len(test))*49.79\n",
    "    test = dataframe_y_true[~dataframe_y_true['TV'].isna()]['TV']\n",
    "    pred = dataframe_y_pred[~dataframe_y_true['TV'].isna()]['TV']\n",
    "    score += mt.sqrt(sum((pred - test)**2)/len(test))*14.57\n",
    "    test = dataframe_y_true[~dataframe_y_true['kettle'].isna()]['kettle']\n",
    "    pred = dataframe_y_pred[~dataframe_y_true['kettle'].isna()]['kettle']\n",
    "    score += mt.sqrt(sum((pred - test)**2)/len(test))*4.95\n",
    "    score /= 74.86\n",
    "    return score\n",
    "\n",
    "if __name__ == '__main__':\n",
    "    import pandas as pd\n",
    "    CSV_FILE_Y_TRUE = 'y_test.csv'\n",
    "    CSV_FILE_Y_PRED = 'y_pred.csv'\n",
    "    df_y_true = pd.read_csv(CSV_FILE_Y_TRUE, index_col=0, sep=',')\n",
    "    df_y_pred = pd.read_csv(CSV_FILE_Y_PRED, index_col=0, sep=',')\n",
    "    if df_y_true.shape[0] == df_y_pred.shape[0] :\n",
    "        df_y_true = df_y_true.sort_values(by=['time_step'])\n",
    "        df_y_pred = df_y_pred.sort_values(by=['time_step'])\n",
    "        if (df_y_true.index[0]== df_y_pred.index[0]) & (df_y_true.index[df_y_true.shape[0]-1]== df_y_pred.index[df_y_pred.shape[0]-1]) :\n",
    "            df_y_true['washing_machine'] = pd.to_numeric(df_y_true['washing_machine'], errors = 'nan')\n",
    "            df_y_true['fridge_freezer'] = pd.to_numeric(df_y_true['fridge_freezer'], errors = 'nan')\n",
    "            df_y_true['TV'] = pd.to_numeric(df_y_true['TV'], errors = 'nan')\n",
    "            df_y_true['kettle'] = pd.to_numeric(df_y_true['kettle'], errors = 'nan')\n",
    "            df_y_pred['washing_machine'] = pd.to_numeric(df_y_pred['washing_machine'], errors = 'nan')\n",
    "            df_y_pred['fridge_freezer'] = pd.to_numeric(df_y_pred['fridge_freezer'], errors = 'nan')\n",
    "            df_y_pred['TV'] = pd.to_numeric(df_y_pred['TV'], errors = 'nan')\n",
    "            df_y_pred['kettle'] = pd.to_numeric(df_y_pred['kettle'], errors = 'nan')\n",
    "            print(metric_nilm(df_y_true, df_y_pred))\n",
    "        else :\n",
    "            print('nan')\n",
    "    else :\n",
    "            print('nan')"
   ]
  },
  {
   "cell_type": "code",
   "execution_count": null,
   "metadata": {},
   "outputs": [],
   "source": []
  }
 ],
 "metadata": {
  "kernelspec": {
   "display_name": "Python 3",
   "language": "python",
   "name": "python3"
  },
  "language_info": {
   "codemirror_mode": {
    "name": "ipython",
    "version": 3
   },
   "file_extension": ".py",
   "mimetype": "text/x-python",
   "name": "python",
   "nbconvert_exporter": "python",
   "pygments_lexer": "ipython3",
   "version": "3.7.2"
  },
  "toc": {
   "base_numbering": 1,
   "nav_menu": {},
   "number_sections": true,
   "sideBar": true,
   "skip_h1_title": false,
   "title_cell": "Table of Contents",
   "title_sidebar": "Contents",
   "toc_cell": false,
   "toc_position": {},
   "toc_section_display": true,
   "toc_window_display": false
  }
 },
 "nbformat": 4,
 "nbformat_minor": 2
}
