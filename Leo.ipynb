{
 "cells": [
  {
   "cell_type": "markdown",
   "metadata": {},
   "source": [
    "# Data Challenge: Smart meter is coming\n",
    "by BCM Energy - Planète OUI"
   ]
  },
  {
   "cell_type": "code",
<<<<<<< HEAD
   "execution_count": 2,
   "metadata": {
    "ExecuteTime": {
     "end_time": "2020-03-10T16:39:52.504410Z",
     "start_time": "2020-03-10T16:39:52.468824Z"
    }
   },
=======
   "execution_count": null,
   "metadata": {},
>>>>>>> fca34dae68163f51a6787ae1b3f39a88a1989afc
   "outputs": [],
   "source": [
    "import pandas as pd\n",
    "# import pandas_profiling\n",
    "import numpy as np\n",
    "import matplotlib.pyplot as plt\n",
    "import matplotlib as mpl\n",
    "import seaborn as sns\n",
    "import holidays\n",
    "import math as mt\n",
    "\n",
    "import tensorflow as tf\n",
    "import keras\n",
    "from keras.layers import LSTM, Dense, Flatten, Dropout, Activation, SimpleRNN\n",
    "from keras.models import Sequential\n",
    "\n",
    "from sklearn.base import BaseEstimator, TransformerMixin\n",
    "from sklearn.pipeline import Pipeline\n",
    "from sklearn.preprocessing import StandardScaler, OneHotEncoder\n",
    "from sklearn.metrics import mean_squared_error\n",
    "from sklearn.multioutput import MultiOutputRegressor\n",
    "from sklearn.linear_model import LinearRegression\n",
    "from sklearn.model_selection import train_test_split\n",
    "\n",
    "import datetime"
   ]
  },
  {
   "cell_type": "code",
   "execution_count": 3,
   "metadata": {
    "ExecuteTime": {
     "end_time": "2020-03-10T16:39:54.866264Z",
     "start_time": "2020-03-10T16:39:54.108066Z"
    }
   },
   "outputs": [],
   "source": [
    "X_train = pd.read_csv(\n",
    "    'provided_data_and_metric/X_train_6GWGSxz.csv',\n",
    ")\n",
    "Y_train = pd.read_csv(\n",
    "    'provided_data_and_metric/y_train_2G60rOL.csv',\n",
    ")"
   ]
  },
  {
   "cell_type": "markdown",
   "metadata": {},
   "source": [
    "## Data Exploration"
   ]
  },
  {
   "cell_type": "code",
   "execution_count": 4,
   "metadata": {
    "ExecuteTime": {
     "end_time": "2020-03-10T16:39:55.658040Z",
     "start_time": "2020-03-10T16:39:55.606366Z"
    }
   },
   "outputs": [
    {
     "data": {
      "text/html": [
       "<div>\n",
       "<style scoped>\n",
       "    .dataframe tbody tr th:only-of-type {\n",
       "        vertical-align: middle;\n",
       "    }\n",
       "\n",
       "    .dataframe tbody tr th {\n",
       "        vertical-align: top;\n",
       "    }\n",
       "\n",
       "    .dataframe thead th {\n",
       "        text-align: right;\n",
       "    }\n",
       "</style>\n",
       "<table border=\"1\" class=\"dataframe\">\n",
       "  <thead>\n",
       "    <tr style=\"text-align: right;\">\n",
       "      <th></th>\n",
       "      <th>time_step</th>\n",
       "      <th>consumption</th>\n",
       "      <th>visibility</th>\n",
       "      <th>temperature</th>\n",
       "      <th>humidity</th>\n",
       "      <th>humidex</th>\n",
       "      <th>windchill</th>\n",
       "      <th>wind</th>\n",
       "      <th>pressure</th>\n",
       "      <th>Unnamed: 9</th>\n",
       "    </tr>\n",
       "  </thead>\n",
       "  <tbody>\n",
       "    <tr>\n",
       "      <th>0</th>\n",
       "      <td>2013-03-17T00:01:00.0</td>\n",
       "      <td>550.4000</td>\n",
       "      <td>NaN</td>\n",
       "      <td>NaN</td>\n",
       "      <td>NaN</td>\n",
       "      <td>NaN</td>\n",
       "      <td>NaN</td>\n",
       "      <td>NaN</td>\n",
       "      <td>NaN</td>\n",
       "      <td>NaN</td>\n",
       "    </tr>\n",
       "    <tr>\n",
       "      <th>1</th>\n",
       "      <td>2013-03-17T00:02:00.0</td>\n",
       "      <td>548.6000</td>\n",
       "      <td>NaN</td>\n",
       "      <td>NaN</td>\n",
       "      <td>NaN</td>\n",
       "      <td>NaN</td>\n",
       "      <td>NaN</td>\n",
       "      <td>NaN</td>\n",
       "      <td>NaN</td>\n",
       "      <td>NaN</td>\n",
       "    </tr>\n",
       "    <tr>\n",
       "      <th>2</th>\n",
       "      <td>2013-03-17T00:03:00.0</td>\n",
       "      <td>549.3000</td>\n",
       "      <td>NaN</td>\n",
       "      <td>NaN</td>\n",
       "      <td>NaN</td>\n",
       "      <td>NaN</td>\n",
       "      <td>NaN</td>\n",
       "      <td>NaN</td>\n",
       "      <td>NaN</td>\n",
       "      <td>NaN</td>\n",
       "    </tr>\n",
       "    <tr>\n",
       "      <th>3</th>\n",
       "      <td>2013-03-17T00:04:00.0</td>\n",
       "      <td>549.3667</td>\n",
       "      <td>NaN</td>\n",
       "      <td>NaN</td>\n",
       "      <td>NaN</td>\n",
       "      <td>NaN</td>\n",
       "      <td>NaN</td>\n",
       "      <td>NaN</td>\n",
       "      <td>NaN</td>\n",
       "      <td>NaN</td>\n",
       "    </tr>\n",
       "    <tr>\n",
       "      <th>4</th>\n",
       "      <td>2013-03-17T00:05:00.0</td>\n",
       "      <td>548.8909</td>\n",
       "      <td>NaN</td>\n",
       "      <td>NaN</td>\n",
       "      <td>NaN</td>\n",
       "      <td>NaN</td>\n",
       "      <td>NaN</td>\n",
       "      <td>NaN</td>\n",
       "      <td>NaN</td>\n",
       "      <td>NaN</td>\n",
       "    </tr>\n",
       "  </tbody>\n",
       "</table>\n",
       "</div>"
      ],
      "text/plain": [
       "               time_step  consumption  visibility  temperature  humidity  \\\n",
       "0  2013-03-17T00:01:00.0     550.4000         NaN          NaN       NaN   \n",
       "1  2013-03-17T00:02:00.0     548.6000         NaN          NaN       NaN   \n",
       "2  2013-03-17T00:03:00.0     549.3000         NaN          NaN       NaN   \n",
       "3  2013-03-17T00:04:00.0     549.3667         NaN          NaN       NaN   \n",
       "4  2013-03-17T00:05:00.0     548.8909         NaN          NaN       NaN   \n",
       "\n",
       "   humidex  windchill  wind  pressure  Unnamed: 9  \n",
       "0      NaN        NaN   NaN       NaN         NaN  \n",
       "1      NaN        NaN   NaN       NaN         NaN  \n",
       "2      NaN        NaN   NaN       NaN         NaN  \n",
       "3      NaN        NaN   NaN       NaN         NaN  \n",
       "4      NaN        NaN   NaN       NaN         NaN  "
      ]
     },
     "execution_count": 4,
     "metadata": {},
     "output_type": "execute_result"
    }
   ],
   "source": [
    "X_train.head()"
   ]
  },
  {
   "cell_type": "markdown",
   "metadata": {},
   "source": [
    "### Dealing with NaN"
   ]
  },
  {
   "cell_type": "code",
   "execution_count": 5,
   "metadata": {
    "ExecuteTime": {
     "end_time": "2020-03-10T16:39:56.068044Z",
     "start_time": "2020-03-10T16:39:56.055709Z"
    }
   },
   "outputs": [
    {
     "data": {
      "text/plain": [
       "433      NaN\n",
       "613      NaN\n",
       "614      NaN\n",
       "615      NaN\n",
       "617      NaN\n",
       "          ..\n",
       "405868   NaN\n",
       "414108   NaN\n",
       "414690   NaN\n",
       "415189   NaN\n",
       "417516   NaN\n",
       "Name: consumption, Length: 10231, dtype: float64"
      ]
     },
     "execution_count": 5,
     "metadata": {},
     "output_type": "execute_result"
    }
   ],
   "source": [
    "X_train.consumption[X_train.consumption.isna()]"
   ]
  },
  {
   "cell_type": "markdown",
   "metadata": {},
   "source": [
    "DataImputer and YImputer are custom trasformers we have built to deal with NaNs."
   ]
  },
  {
   "cell_type": "code",
<<<<<<< HEAD
   "execution_count": 6,
   "metadata": {
    "ExecuteTime": {
     "end_time": "2020-03-10T16:39:56.431506Z",
     "start_time": "2020-03-10T16:39:56.424867Z"
    }
   },
=======
   "execution_count": null,
   "metadata": {},
>>>>>>> fca34dae68163f51a6787ae1b3f39a88a1989afc
   "outputs": [],
   "source": [
    "class DataImputer(BaseEstimator, TransformerMixin):\n",
    "    \n",
    "    def __init__(self):\n",
    "        self.X = None\n",
    "    \n",
    "    def fit(self, X, y=None):\n",
    "        return self\n",
    "    \n",
    "    def transform(self, X, y=None):\n",
    "        try:\n",
    "            X.drop('Unnamed: 9', axis = 1, inplace = True)\n",
    "        except KeyError as e:\n",
    "            pass\n",
    "        X = X.interpolate(method='linear').fillna(method='bfill')\n",
    "        X.time_step = pd.to_datetime(X.time_step)\n",
    "        return X"
   ]
  },
  {
   "cell_type": "code",
   "execution_count": 7,
   "metadata": {
    "ExecuteTime": {
     "end_time": "2020-03-10T16:39:56.636161Z",
     "start_time": "2020-03-10T16:39:56.630051Z"
    }
   },
   "outputs": [],
   "source": [
    "class YImputer(BaseEstimator, TransformerMixin):\n",
    "    \n",
    "    def __init__(self):\n",
    "        self.X = None\n",
    "    \n",
    "    def fit(self, X, y=None):\n",
    "        return X\n",
    "    \n",
    "    def transform(self, X, y=None):\n",
    "        X = X.interpolate(method='linear').fillna(method='bfill')\n",
    "#         X.index = pd.to_datetime(X.index)\n",
    "        return X"
   ]
  },
  {
   "cell_type": "code",
   "execution_count": 8,
   "metadata": {
    "ExecuteTime": {
     "end_time": "2020-03-10T16:40:42.576791Z",
     "start_time": "2020-03-10T16:39:56.732399Z"
    }
   },
   "outputs": [],
   "source": [
    "di = DataImputer()\n",
    "yi = YImputer()\n",
    "X_train = di.transform(X=X_train)\n",
    "Y_train = yi.transform(X=Y_train)"
   ]
  },
  {
   "cell_type": "code",
   "execution_count": 9,
   "metadata": {
    "ExecuteTime": {
     "end_time": "2020-03-10T16:40:42.604787Z",
     "start_time": "2020-03-10T16:40:42.578427Z"
    }
   },
   "outputs": [
    {
     "data": {
      "text/html": [
       "<div>\n",
       "<style scoped>\n",
       "    .dataframe tbody tr th:only-of-type {\n",
       "        vertical-align: middle;\n",
       "    }\n",
       "\n",
       "    .dataframe tbody tr th {\n",
       "        vertical-align: top;\n",
       "    }\n",
       "\n",
       "    .dataframe thead th {\n",
       "        text-align: right;\n",
       "    }\n",
       "</style>\n",
       "<table border=\"1\" class=\"dataframe\">\n",
       "  <thead>\n",
       "    <tr style=\"text-align: right;\">\n",
       "      <th></th>\n",
       "      <th>time_step</th>\n",
       "      <th>consumption</th>\n",
       "      <th>visibility</th>\n",
       "      <th>temperature</th>\n",
       "      <th>humidity</th>\n",
       "      <th>humidex</th>\n",
       "      <th>windchill</th>\n",
       "      <th>wind</th>\n",
       "      <th>pressure</th>\n",
       "    </tr>\n",
       "  </thead>\n",
       "  <tbody>\n",
       "    <tr>\n",
       "      <th>0</th>\n",
       "      <td>2013-03-17 00:01:00</td>\n",
       "      <td>550.4000</td>\n",
       "      <td>35.0</td>\n",
       "      <td>8.9</td>\n",
       "      <td>86.0</td>\n",
       "      <td>8.9</td>\n",
       "      <td>6.0</td>\n",
       "      <td>19.0</td>\n",
       "      <td>1017.3</td>\n",
       "    </tr>\n",
       "    <tr>\n",
       "      <th>1</th>\n",
       "      <td>2013-03-17 00:02:00</td>\n",
       "      <td>548.6000</td>\n",
       "      <td>35.0</td>\n",
       "      <td>8.9</td>\n",
       "      <td>86.0</td>\n",
       "      <td>8.9</td>\n",
       "      <td>6.0</td>\n",
       "      <td>19.0</td>\n",
       "      <td>1017.3</td>\n",
       "    </tr>\n",
       "    <tr>\n",
       "      <th>2</th>\n",
       "      <td>2013-03-17 00:03:00</td>\n",
       "      <td>549.3000</td>\n",
       "      <td>35.0</td>\n",
       "      <td>8.9</td>\n",
       "      <td>86.0</td>\n",
       "      <td>8.9</td>\n",
       "      <td>6.0</td>\n",
       "      <td>19.0</td>\n",
       "      <td>1017.3</td>\n",
       "    </tr>\n",
       "    <tr>\n",
       "      <th>3</th>\n",
       "      <td>2013-03-17 00:04:00</td>\n",
       "      <td>549.3667</td>\n",
       "      <td>35.0</td>\n",
       "      <td>8.9</td>\n",
       "      <td>86.0</td>\n",
       "      <td>8.9</td>\n",
       "      <td>6.0</td>\n",
       "      <td>19.0</td>\n",
       "      <td>1017.3</td>\n",
       "    </tr>\n",
       "    <tr>\n",
       "      <th>4</th>\n",
       "      <td>2013-03-17 00:05:00</td>\n",
       "      <td>548.8909</td>\n",
       "      <td>35.0</td>\n",
       "      <td>8.9</td>\n",
       "      <td>86.0</td>\n",
       "      <td>8.9</td>\n",
       "      <td>6.0</td>\n",
       "      <td>19.0</td>\n",
       "      <td>1017.3</td>\n",
       "    </tr>\n",
       "  </tbody>\n",
       "</table>\n",
       "</div>"
      ],
      "text/plain": [
       "            time_step  consumption  visibility  temperature  humidity  \\\n",
       "0 2013-03-17 00:01:00     550.4000        35.0          8.9      86.0   \n",
       "1 2013-03-17 00:02:00     548.6000        35.0          8.9      86.0   \n",
       "2 2013-03-17 00:03:00     549.3000        35.0          8.9      86.0   \n",
       "3 2013-03-17 00:04:00     549.3667        35.0          8.9      86.0   \n",
       "4 2013-03-17 00:05:00     548.8909        35.0          8.9      86.0   \n",
       "\n",
       "   humidex  windchill  wind  pressure  \n",
       "0      8.9        6.0  19.0    1017.3  \n",
       "1      8.9        6.0  19.0    1017.3  \n",
       "2      8.9        6.0  19.0    1017.3  \n",
       "3      8.9        6.0  19.0    1017.3  \n",
       "4      8.9        6.0  19.0    1017.3  "
      ]
     },
     "execution_count": 9,
     "metadata": {},
     "output_type": "execute_result"
    }
   ],
   "source": [
    "X_train.head()"
   ]
  },
  {
   "cell_type": "code",
   "execution_count": 10,
   "metadata": {
    "ExecuteTime": {
     "end_time": "2020-03-10T16:40:42.617240Z",
     "start_time": "2020-03-10T16:40:42.607128Z"
    }
   },
   "outputs": [],
   "source": [
    "# X_train.consumption.fillna(method=\"ffill\", inplace=True)\n",
    "# X_test.consumption.fillna(method=\"ffill\", inplace=True)\n",
    "# Y_train.fillna(method=\"ffill\", inplace=True)"
   ]
  },
  {
   "cell_type": "code",
   "execution_count": 11,
   "metadata": {
    "ExecuteTime": {
     "end_time": "2020-03-10T16:40:42.631526Z",
     "start_time": "2020-03-10T16:40:42.623470Z"
    }
   },
   "outputs": [],
   "source": [
    "X_train[\"time_step\"] = pd.to_datetime(X_train[\"time_step\"])"
   ]
  },
  {
   "cell_type": "code",
   "execution_count": 12,
   "metadata": {
    "ExecuteTime": {
     "end_time": "2020-03-10T16:40:42.642342Z",
     "start_time": "2020-03-10T16:40:42.638195Z"
    }
   },
   "outputs": [],
   "source": [
    "fr_holidays = holidays.France()"
   ]
  },
  {
   "cell_type": "markdown",
   "metadata": {},
   "source": [
    "DO NOT DELETE THIS PLEASE OR WE DO NOT GET IS_HOLIDAYS WORKING!"
   ]
  },
  {
   "cell_type": "code",
   "execution_count": 13,
   "metadata": {
    "ExecuteTime": {
     "end_time": "2020-03-10T16:40:43.289064Z",
     "start_time": "2020-03-10T16:40:42.644308Z"
    }
   },
   "outputs": [
    {
     "name": "stdout",
     "output_type": "stream",
     "text": [
      "14400\n"
     ]
    }
   ],
   "source": [
    "c = 0\n",
    "for i in X_train.time_step.dt.date:\n",
    "    if i in fr_holidays:\n",
    "        c+=1\n",
    "        \n",
    "print(c)"
   ]
  },
  {
   "cell_type": "markdown",
   "metadata": {},
   "source": [
    "Adding extra features:"
   ]
  },
  {
   "cell_type": "markdown",
   "metadata": {},
   "source": [
    "Do we also want to add day of the month?"
   ]
  },
  {
   "cell_type": "code",
   "execution_count": 14,
   "metadata": {
    "ExecuteTime": {
     "end_time": "2020-03-10T16:40:43.653133Z",
     "start_time": "2020-03-10T16:40:43.291481Z"
    }
   },
   "outputs": [],
   "source": [
    "X_train[\"weekday\"] = X_train.time_step.dt.dayofweek\n",
    "X_train[\"month\"] = X_train.time_step.dt.month\n",
    "X_train[\"hour\"] = X_train.time_step.dt.hour\n",
    "X_train[\"is_weekend\"] = (X_train[\"weekday\"] > 4)*1  \n",
    "X_train[\"is_holidays\"] = (X_train.time_step.dt.date.isin(fr_holidays))*1"
   ]
  },
  {
   "cell_type": "markdown",
   "metadata": {},
   "source": [
    "### Visualizing the Data"
   ]
  },
  {
   "cell_type": "markdown",
   "metadata": {},
   "source": [
    "There is on average more consumption during weekends, as expected."
   ]
  },
  {
   "cell_type": "code",
   "execution_count": 15,
   "metadata": {
    "ExecuteTime": {
     "end_time": "2020-03-10T16:40:43.685713Z",
     "start_time": "2020-03-10T16:40:43.657529Z"
    }
   },
   "outputs": [
    {
     "data": {
      "text/html": [
       "<div>\n",
       "<style scoped>\n",
       "    .dataframe tbody tr th:only-of-type {\n",
       "        vertical-align: middle;\n",
       "    }\n",
       "\n",
       "    .dataframe tbody tr th {\n",
       "        vertical-align: top;\n",
       "    }\n",
       "\n",
       "    .dataframe thead th {\n",
       "        text-align: right;\n",
       "    }\n",
       "</style>\n",
       "<table border=\"1\" class=\"dataframe\">\n",
       "  <thead>\n",
       "    <tr style=\"text-align: right;\">\n",
       "      <th></th>\n",
       "      <th>consumption</th>\n",
       "    </tr>\n",
       "    <tr>\n",
       "      <th>is_weekend</th>\n",
       "      <th></th>\n",
       "    </tr>\n",
       "  </thead>\n",
       "  <tbody>\n",
       "    <tr>\n",
       "      <th>0</th>\n",
       "      <td>298.491884</td>\n",
       "    </tr>\n",
       "    <tr>\n",
       "      <th>1</th>\n",
       "      <td>315.715797</td>\n",
       "    </tr>\n",
       "  </tbody>\n",
       "</table>\n",
       "</div>"
      ],
      "text/plain": [
       "            consumption\n",
       "is_weekend             \n",
       "0            298.491884\n",
       "1            315.715797"
      ]
     },
     "execution_count": 15,
     "metadata": {},
     "output_type": "execute_result"
    }
   ],
   "source": [
    "X_train[[\"consumption\", \"is_weekend\"]].groupby(\"is_weekend\").mean()"
   ]
  },
  {
   "cell_type": "markdown",
   "metadata": {},
   "source": [
    "---"
   ]
  },
  {
   "cell_type": "markdown",
   "metadata": {},
   "source": [
    "Weekday:"
   ]
  },
  {
   "cell_type": "code",
   "execution_count": 16,
   "metadata": {
    "ExecuteTime": {
     "end_time": "2020-03-10T16:40:43.715942Z",
     "start_time": "2020-03-10T16:40:43.689422Z"
    }
   },
   "outputs": [
    {
     "data": {
      "text/html": [
       "<div>\n",
       "<style scoped>\n",
       "    .dataframe tbody tr th:only-of-type {\n",
       "        vertical-align: middle;\n",
       "    }\n",
       "\n",
       "    .dataframe tbody tr th {\n",
       "        vertical-align: top;\n",
       "    }\n",
       "\n",
       "    .dataframe thead th {\n",
       "        text-align: right;\n",
       "    }\n",
       "</style>\n",
       "<table border=\"1\" class=\"dataframe\">\n",
       "  <thead>\n",
       "    <tr style=\"text-align: right;\">\n",
       "      <th></th>\n",
       "      <th>consumption</th>\n",
       "    </tr>\n",
       "    <tr>\n",
       "      <th>weekday</th>\n",
       "      <th></th>\n",
       "    </tr>\n",
       "  </thead>\n",
       "  <tbody>\n",
       "    <tr>\n",
       "      <th>0</th>\n",
       "      <td>302.595452</td>\n",
       "    </tr>\n",
       "    <tr>\n",
       "      <th>1</th>\n",
       "      <td>314.806979</td>\n",
       "    </tr>\n",
       "    <tr>\n",
       "      <th>2</th>\n",
       "      <td>294.324385</td>\n",
       "    </tr>\n",
       "    <tr>\n",
       "      <th>3</th>\n",
       "      <td>294.144759</td>\n",
       "    </tr>\n",
       "    <tr>\n",
       "      <th>4</th>\n",
       "      <td>286.089830</td>\n",
       "    </tr>\n",
       "    <tr>\n",
       "      <th>5</th>\n",
       "      <td>315.718187</td>\n",
       "    </tr>\n",
       "    <tr>\n",
       "      <th>6</th>\n",
       "      <td>315.713463</td>\n",
       "    </tr>\n",
       "  </tbody>\n",
       "</table>\n",
       "</div>"
      ],
      "text/plain": [
       "         consumption\n",
       "weekday             \n",
       "0         302.595452\n",
       "1         314.806979\n",
       "2         294.324385\n",
       "3         294.144759\n",
       "4         286.089830\n",
       "5         315.718187\n",
       "6         315.713463"
      ]
     },
     "execution_count": 16,
     "metadata": {},
     "output_type": "execute_result"
    }
   ],
   "source": [
    "X_train[[\"consumption\", \"weekday\"]].groupby(\"weekday\").mean()"
   ]
  },
  {
   "cell_type": "code",
   "execution_count": 17,
   "metadata": {
    "ExecuteTime": {
     "end_time": "2020-03-10T16:40:44.034570Z",
     "start_time": "2020-03-10T16:40:43.717922Z"
    }
   },
   "outputs": [
    {
     "data": {
      "text/plain": [
       "<matplotlib.axes._subplots.AxesSubplot at 0x7f0013974b70>"
      ]
     },
     "execution_count": 17,
     "metadata": {},
     "output_type": "execute_result"
    },
    {
     "data": {
      "image/png": "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\n",
      "text/plain": [
       "<Figure size 432x288 with 1 Axes>"
      ]
     },
     "metadata": {
      "needs_background": "light"
     },
     "output_type": "display_data"
    }
   ],
   "source": [
    "sns.lineplot(x=np.arange(0,7), y=\"consumption\", data=X_train.groupby(\"weekday\").mean())"
   ]
  },
  {
   "cell_type": "markdown",
   "metadata": {},
   "source": [
    "month:"
   ]
  },
  {
   "cell_type": "code",
   "execution_count": 18,
   "metadata": {
    "ExecuteTime": {
     "end_time": "2020-03-10T16:40:44.057248Z",
     "start_time": "2020-03-10T16:40:44.037621Z"
    },
    "scrolled": false
   },
   "outputs": [
    {
     "data": {
      "text/html": [
       "<div>\n",
       "<style scoped>\n",
       "    .dataframe tbody tr th:only-of-type {\n",
       "        vertical-align: middle;\n",
       "    }\n",
       "\n",
       "    .dataframe tbody tr th {\n",
       "        vertical-align: top;\n",
       "    }\n",
       "\n",
       "    .dataframe thead th {\n",
       "        text-align: right;\n",
       "    }\n",
       "</style>\n",
       "<table border=\"1\" class=\"dataframe\">\n",
       "  <thead>\n",
       "    <tr style=\"text-align: right;\">\n",
       "      <th></th>\n",
       "      <th>consumption</th>\n",
       "    </tr>\n",
       "    <tr>\n",
       "      <th>month</th>\n",
       "      <th></th>\n",
       "    </tr>\n",
       "  </thead>\n",
       "  <tbody>\n",
       "    <tr>\n",
       "      <th>3</th>\n",
       "      <td>361.419421</td>\n",
       "    </tr>\n",
       "    <tr>\n",
       "      <th>4</th>\n",
       "      <td>296.177572</td>\n",
       "    </tr>\n",
       "    <tr>\n",
       "      <th>5</th>\n",
       "      <td>283.980685</td>\n",
       "    </tr>\n",
       "    <tr>\n",
       "      <th>6</th>\n",
       "      <td>274.367403</td>\n",
       "    </tr>\n",
       "    <tr>\n",
       "      <th>7</th>\n",
       "      <td>248.382001</td>\n",
       "    </tr>\n",
       "    <tr>\n",
       "      <th>8</th>\n",
       "      <td>223.994448</td>\n",
       "    </tr>\n",
       "    <tr>\n",
       "      <th>9</th>\n",
       "      <td>281.311602</td>\n",
       "    </tr>\n",
       "    <tr>\n",
       "      <th>10</th>\n",
       "      <td>363.227440</td>\n",
       "    </tr>\n",
       "    <tr>\n",
       "      <th>11</th>\n",
       "      <td>381.213867</td>\n",
       "    </tr>\n",
       "    <tr>\n",
       "      <th>12</th>\n",
       "      <td>350.701175</td>\n",
       "    </tr>\n",
       "  </tbody>\n",
       "</table>\n",
       "</div>"
      ],
      "text/plain": [
       "       consumption\n",
       "month             \n",
       "3       361.419421\n",
       "4       296.177572\n",
       "5       283.980685\n",
       "6       274.367403\n",
       "7       248.382001\n",
       "8       223.994448\n",
       "9       281.311602\n",
       "10      363.227440\n",
       "11      381.213867\n",
       "12      350.701175"
      ]
     },
     "execution_count": 18,
     "metadata": {},
     "output_type": "execute_result"
    }
   ],
   "source": [
    "X_train[[\"consumption\", \"month\"]].groupby(\"month\").mean()"
   ]
  },
  {
   "cell_type": "markdown",
   "metadata": {},
   "source": [
    "Significant drop in consumption over the summer! We do not have data for January, February. "
   ]
  },
  {
   "cell_type": "code",
   "execution_count": 19,
   "metadata": {
    "ExecuteTime": {
     "end_time": "2020-03-10T16:40:44.346356Z",
     "start_time": "2020-03-10T16:40:44.058845Z"
    }
   },
   "outputs": [
    {
     "data": {
      "text/plain": [
       "<matplotlib.axes._subplots.AxesSubplot at 0x7efff7288240>"
      ]
     },
     "execution_count": 19,
     "metadata": {},
     "output_type": "execute_result"
    },
    {
     "data": {
      "image/png": "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\n",
      "text/plain": [
       "<Figure size 432x288 with 1 Axes>"
      ]
     },
     "metadata": {
      "needs_background": "light"
     },
     "output_type": "display_data"
    }
   ],
   "source": [
    "sns.lineplot(x=np.arange(3,13), y=\"consumption\", data=X_train.groupby(\"month\").mean())"
   ]
  },
  {
   "cell_type": "markdown",
   "metadata": {},
   "source": [
    "In the afternoon, the most consumption."
   ]
  },
  {
   "cell_type": "code",
   "execution_count": 20,
   "metadata": {
    "ExecuteTime": {
     "end_time": "2020-03-10T16:40:44.673296Z",
     "start_time": "2020-03-10T16:40:44.349069Z"
    }
   },
   "outputs": [
    {
     "data": {
      "text/plain": [
       "<matplotlib.axes._subplots.AxesSubplot at 0x7f0013309278>"
      ]
     },
     "execution_count": 20,
     "metadata": {},
     "output_type": "execute_result"
    },
    {
     "data": {
      "image/png": "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\n",
      "text/plain": [
       "<Figure size 432x288 with 1 Axes>"
      ]
     },
     "metadata": {
      "needs_background": "light"
     },
     "output_type": "display_data"
    }
   ],
   "source": [
    "sns.lineplot(x=np.arange(0,24), y=\"consumption\", data=X_train.groupby(\"hour\").mean())"
   ]
  },
  {
   "cell_type": "markdown",
   "metadata": {},
   "source": [
    "Holidays:"
   ]
  },
  {
   "cell_type": "code",
   "execution_count": 21,
   "metadata": {
    "ExecuteTime": {
     "end_time": "2020-03-10T16:40:44.685412Z",
     "start_time": "2020-03-10T16:40:44.675882Z"
    }
   },
   "outputs": [
    {
     "data": {
      "text/plain": [
       "341.72554808943374"
      ]
     },
     "execution_count": 21,
     "metadata": {},
     "output_type": "execute_result"
    }
   ],
   "source": [
    "X_train.consumption.std()"
   ]
  },
  {
   "cell_type": "code",
   "execution_count": 22,
   "metadata": {
    "ExecuteTime": {
     "end_time": "2020-03-10T16:40:44.711030Z",
     "start_time": "2020-03-10T16:40:44.687673Z"
    }
   },
   "outputs": [
    {
     "data": {
      "text/html": [
       "<div>\n",
       "<style scoped>\n",
       "    .dataframe tbody tr th:only-of-type {\n",
       "        vertical-align: middle;\n",
       "    }\n",
       "\n",
       "    .dataframe tbody tr th {\n",
       "        vertical-align: top;\n",
       "    }\n",
       "\n",
       "    .dataframe thead th {\n",
       "        text-align: right;\n",
       "    }\n",
       "</style>\n",
       "<table border=\"1\" class=\"dataframe\">\n",
       "  <thead>\n",
       "    <tr style=\"text-align: right;\">\n",
       "      <th></th>\n",
       "      <th>consumption</th>\n",
       "    </tr>\n",
       "    <tr>\n",
       "      <th>is_holidays</th>\n",
       "      <th></th>\n",
       "    </tr>\n",
       "  </thead>\n",
       "  <tbody>\n",
       "    <tr>\n",
       "      <th>0</th>\n",
       "      <td>304.761141</td>\n",
       "    </tr>\n",
       "    <tr>\n",
       "      <th>1</th>\n",
       "      <td>265.910400</td>\n",
       "    </tr>\n",
       "  </tbody>\n",
       "</table>\n",
       "</div>"
      ],
      "text/plain": [
       "             consumption\n",
       "is_holidays             \n",
       "0             304.761141\n",
       "1             265.910400"
      ]
     },
     "execution_count": 22,
     "metadata": {},
     "output_type": "execute_result"
    }
   ],
   "source": [
    "X_train[[\"consumption\", \"is_holidays\"]].groupby(\"is_holidays\").mean()"
   ]
  },
  {
   "cell_type": "markdown",
   "metadata": {},
   "source": [
    "Due to the big difference in consumption, it looks like the data belongs to a city in France."
   ]
  },
  {
   "cell_type": "code",
   "execution_count": 23,
   "metadata": {
    "ExecuteTime": {
     "end_time": "2020-03-10T16:40:44.739159Z",
     "start_time": "2020-03-10T16:40:44.713513Z"
    }
   },
   "outputs": [
    {
     "data": {
      "text/html": [
       "<div>\n",
       "<style scoped>\n",
       "    .dataframe tbody tr th:only-of-type {\n",
       "        vertical-align: middle;\n",
       "    }\n",
       "\n",
       "    .dataframe tbody tr th {\n",
       "        vertical-align: top;\n",
       "    }\n",
       "\n",
       "    .dataframe thead th {\n",
       "        text-align: right;\n",
       "    }\n",
       "</style>\n",
       "<table border=\"1\" class=\"dataframe\">\n",
       "  <thead>\n",
       "    <tr style=\"text-align: right;\">\n",
       "      <th></th>\n",
       "      <th>consumption</th>\n",
       "    </tr>\n",
       "    <tr>\n",
       "      <th>is_holidays</th>\n",
       "      <th></th>\n",
       "    </tr>\n",
       "  </thead>\n",
       "  <tbody>\n",
       "    <tr>\n",
       "      <th>0</th>\n",
       "      <td>344.159031</td>\n",
       "    </tr>\n",
       "    <tr>\n",
       "      <th>1</th>\n",
       "      <td>261.896030</td>\n",
       "    </tr>\n",
       "  </tbody>\n",
       "</table>\n",
       "</div>"
      ],
      "text/plain": [
       "             consumption\n",
       "is_holidays             \n",
       "0             344.159031\n",
       "1             261.896030"
      ]
     },
     "execution_count": 23,
     "metadata": {},
     "output_type": "execute_result"
    }
   ],
   "source": [
    "X_train[[\"consumption\", \"is_holidays\"]].groupby(\"is_holidays\").std()"
   ]
  },
  {
   "cell_type": "markdown",
   "metadata": {},
   "source": [
    "Plots:"
   ]
  },
  {
   "cell_type": "code",
   "execution_count": 24,
   "metadata": {
    "ExecuteTime": {
     "end_time": "2020-03-10T16:40:44.743355Z",
     "start_time": "2020-03-10T16:40:44.741056Z"
    }
   },
   "outputs": [],
   "source": [
    "# fig, axs = plt.subplots(2,2, figsize=(15,15))\n",
    "# axs[0,0].scatter(X_train.consumption[Y_train.washing_machine > 0], Y_train.washing_machine[Y_train.washing_machine > 0], c=\"red\")\n",
    "# axs[0,0].scatter(X_train.consumption[Y_train.washing_machine == 0], Y_train.washing_machine[Y_train.washing_machine == 0], c=\"blue\")\n",
    "# axs[0,1].scatter(X_train.consumption, Y_train.fridge_freezer )\n",
    "# axs[1,0].scatter(X_train.consumption, Y_train.TV )\n",
    "# axs[1,1].scatter(X_train.consumption, Y_train.kettle)"
   ]
  },
  {
   "cell_type": "markdown",
   "metadata": {
    "cell_style": "center"
   },
   "source": [
    "### Analyzing the target"
   ]
  },
  {
   "cell_type": "markdown",
   "metadata": {},
   "source": [
    "Weekday:\n",
    "- People enjoy using the Washing Machine on Sunday"
   ]
  },
  {
   "cell_type": "code",
   "execution_count": 25,
   "metadata": {
    "ExecuteTime": {
     "end_time": "2020-03-10T16:40:44.767400Z",
     "start_time": "2020-03-10T16:40:44.745337Z"
    }
   },
   "outputs": [
    {
     "data": {
      "text/html": [
       "<div>\n",
       "<style scoped>\n",
       "    .dataframe tbody tr th:only-of-type {\n",
       "        vertical-align: middle;\n",
       "    }\n",
       "\n",
       "    .dataframe tbody tr th {\n",
       "        vertical-align: top;\n",
       "    }\n",
       "\n",
       "    .dataframe thead th {\n",
       "        text-align: right;\n",
       "    }\n",
       "</style>\n",
       "<table border=\"1\" class=\"dataframe\">\n",
       "  <thead>\n",
       "    <tr style=\"text-align: right;\">\n",
       "      <th></th>\n",
       "      <th>washing_machine</th>\n",
       "      <th>fridge_freezer</th>\n",
       "      <th>TV</th>\n",
       "      <th>kettle</th>\n",
       "    </tr>\n",
       "    <tr>\n",
       "      <th>weekday</th>\n",
       "      <th></th>\n",
       "      <th></th>\n",
       "      <th></th>\n",
       "      <th></th>\n",
       "    </tr>\n",
       "  </thead>\n",
       "  <tbody>\n",
       "    <tr>\n",
       "      <th>0</th>\n",
       "      <td>5.389439</td>\n",
       "      <td>50.851487</td>\n",
       "      <td>15.410679</td>\n",
       "      <td>4.351712</td>\n",
       "    </tr>\n",
       "    <tr>\n",
       "      <th>1</th>\n",
       "      <td>6.025031</td>\n",
       "      <td>51.412186</td>\n",
       "      <td>14.709467</td>\n",
       "      <td>4.785899</td>\n",
       "    </tr>\n",
       "    <tr>\n",
       "      <th>2</th>\n",
       "      <td>4.811761</td>\n",
       "      <td>49.394849</td>\n",
       "      <td>14.731168</td>\n",
       "      <td>5.213072</td>\n",
       "    </tr>\n",
       "    <tr>\n",
       "      <th>3</th>\n",
       "      <td>3.953032</td>\n",
       "      <td>50.350004</td>\n",
       "      <td>14.123652</td>\n",
       "      <td>5.451252</td>\n",
       "    </tr>\n",
       "    <tr>\n",
       "      <th>4</th>\n",
       "      <td>4.589050</td>\n",
       "      <td>49.389511</td>\n",
       "      <td>13.251122</td>\n",
       "      <td>4.933465</td>\n",
       "    </tr>\n",
       "    <tr>\n",
       "      <th>5</th>\n",
       "      <td>6.485284</td>\n",
       "      <td>48.443971</td>\n",
       "      <td>14.418012</td>\n",
       "      <td>5.497252</td>\n",
       "    </tr>\n",
       "    <tr>\n",
       "      <th>6</th>\n",
       "      <td>9.116859</td>\n",
       "      <td>49.695682</td>\n",
       "      <td>14.698118</td>\n",
       "      <td>4.786513</td>\n",
       "    </tr>\n",
       "  </tbody>\n",
       "</table>\n",
       "</div>"
      ],
      "text/plain": [
       "         washing_machine  fridge_freezer         TV    kettle\n",
       "weekday                                                      \n",
       "0               5.389439       50.851487  15.410679  4.351712\n",
       "1               6.025031       51.412186  14.709467  4.785899\n",
       "2               4.811761       49.394849  14.731168  5.213072\n",
       "3               3.953032       50.350004  14.123652  5.451252\n",
       "4               4.589050       49.389511  13.251122  4.933465\n",
       "5               6.485284       48.443971  14.418012  5.497252\n",
       "6               9.116859       49.695682  14.698118  4.786513"
      ]
     },
     "execution_count": 25,
     "metadata": {},
     "output_type": "execute_result"
    }
   ],
   "source": [
    "Y_train.groupby(X_train.weekday).mean()"
   ]
  },
  {
   "cell_type": "markdown",
   "metadata": {},
   "source": [
    "Month:\n",
    "- Significant increase in the use of the Washing Machine and the Kettle in November"
   ]
  },
  {
   "cell_type": "code",
   "execution_count": 26,
   "metadata": {
    "ExecuteTime": {
     "end_time": "2020-03-10T16:40:44.793085Z",
     "start_time": "2020-03-10T16:40:44.769158Z"
    }
   },
   "outputs": [
    {
     "data": {
      "text/html": [
       "<div>\n",
       "<style scoped>\n",
       "    .dataframe tbody tr th:only-of-type {\n",
       "        vertical-align: middle;\n",
       "    }\n",
       "\n",
       "    .dataframe tbody tr th {\n",
       "        vertical-align: top;\n",
       "    }\n",
       "\n",
       "    .dataframe thead th {\n",
       "        text-align: right;\n",
       "    }\n",
       "</style>\n",
       "<table border=\"1\" class=\"dataframe\">\n",
       "  <thead>\n",
       "    <tr style=\"text-align: right;\">\n",
       "      <th></th>\n",
       "      <th>washing_machine</th>\n",
       "      <th>fridge_freezer</th>\n",
       "      <th>TV</th>\n",
       "      <th>kettle</th>\n",
       "    </tr>\n",
       "    <tr>\n",
       "      <th>month</th>\n",
       "      <th></th>\n",
       "      <th></th>\n",
       "      <th></th>\n",
       "      <th></th>\n",
       "    </tr>\n",
       "  </thead>\n",
       "  <tbody>\n",
       "    <tr>\n",
       "      <th>3</th>\n",
       "      <td>5.556400</td>\n",
       "      <td>42.320846</td>\n",
       "      <td>20.017219</td>\n",
       "      <td>4.385925</td>\n",
       "    </tr>\n",
       "    <tr>\n",
       "      <th>4</th>\n",
       "      <td>5.215361</td>\n",
       "      <td>41.389061</td>\n",
       "      <td>16.551459</td>\n",
       "      <td>3.776446</td>\n",
       "    </tr>\n",
       "    <tr>\n",
       "      <th>5</th>\n",
       "      <td>6.178312</td>\n",
       "      <td>45.784497</td>\n",
       "      <td>15.429027</td>\n",
       "      <td>1.304619</td>\n",
       "    </tr>\n",
       "    <tr>\n",
       "      <th>6</th>\n",
       "      <td>6.618310</td>\n",
       "      <td>50.552661</td>\n",
       "      <td>12.813130</td>\n",
       "      <td>3.917128</td>\n",
       "    </tr>\n",
       "    <tr>\n",
       "      <th>7</th>\n",
       "      <td>4.715941</td>\n",
       "      <td>57.546494</td>\n",
       "      <td>13.594985</td>\n",
       "      <td>1.895366</td>\n",
       "    </tr>\n",
       "    <tr>\n",
       "      <th>8</th>\n",
       "      <td>4.043138</td>\n",
       "      <td>55.848900</td>\n",
       "      <td>11.844897</td>\n",
       "      <td>1.720263</td>\n",
       "    </tr>\n",
       "    <tr>\n",
       "      <th>9</th>\n",
       "      <td>6.441809</td>\n",
       "      <td>49.565837</td>\n",
       "      <td>13.093514</td>\n",
       "      <td>3.608603</td>\n",
       "    </tr>\n",
       "    <tr>\n",
       "      <th>10</th>\n",
       "      <td>5.468136</td>\n",
       "      <td>53.266371</td>\n",
       "      <td>14.699599</td>\n",
       "      <td>8.066695</td>\n",
       "    </tr>\n",
       "    <tr>\n",
       "      <th>11</th>\n",
       "      <td>8.539906</td>\n",
       "      <td>52.057606</td>\n",
       "      <td>15.446995</td>\n",
       "      <td>13.152962</td>\n",
       "    </tr>\n",
       "    <tr>\n",
       "      <th>12</th>\n",
       "      <td>5.010925</td>\n",
       "      <td>46.948316</td>\n",
       "      <td>14.187673</td>\n",
       "      <td>7.989399</td>\n",
       "    </tr>\n",
       "  </tbody>\n",
       "</table>\n",
       "</div>"
      ],
      "text/plain": [
       "       washing_machine  fridge_freezer         TV     kettle\n",
       "month                                                       \n",
       "3             5.556400       42.320846  20.017219   4.385925\n",
       "4             5.215361       41.389061  16.551459   3.776446\n",
       "5             6.178312       45.784497  15.429027   1.304619\n",
       "6             6.618310       50.552661  12.813130   3.917128\n",
       "7             4.715941       57.546494  13.594985   1.895366\n",
       "8             4.043138       55.848900  11.844897   1.720263\n",
       "9             6.441809       49.565837  13.093514   3.608603\n",
       "10            5.468136       53.266371  14.699599   8.066695\n",
       "11            8.539906       52.057606  15.446995  13.152962\n",
       "12            5.010925       46.948316  14.187673   7.989399"
      ]
     },
     "execution_count": 26,
     "metadata": {},
     "output_type": "execute_result"
    }
   ],
   "source": [
    "Y_train.groupby(X_train.month).mean()"
   ]
  },
  {
   "cell_type": "markdown",
   "metadata": {},
   "source": [
    "Weekend:"
   ]
  },
  {
   "cell_type": "code",
   "execution_count": 27,
   "metadata": {
    "ExecuteTime": {
     "end_time": "2020-03-10T16:40:44.834093Z",
     "start_time": "2020-03-10T16:40:44.795464Z"
    }
   },
   "outputs": [
    {
     "data": {
      "text/html": [
       "<div>\n",
       "<style scoped>\n",
       "    .dataframe tbody tr th:only-of-type {\n",
       "        vertical-align: middle;\n",
       "    }\n",
       "\n",
       "    .dataframe tbody tr th {\n",
       "        vertical-align: top;\n",
       "    }\n",
       "\n",
       "    .dataframe thead th {\n",
       "        text-align: right;\n",
       "    }\n",
       "</style>\n",
       "<table border=\"1\" class=\"dataframe\">\n",
       "  <thead>\n",
       "    <tr style=\"text-align: right;\">\n",
       "      <th></th>\n",
       "      <th>washing_machine</th>\n",
       "      <th>fridge_freezer</th>\n",
       "      <th>TV</th>\n",
       "      <th>kettle</th>\n",
       "    </tr>\n",
       "    <tr>\n",
       "      <th>is_weekend</th>\n",
       "      <th></th>\n",
       "      <th></th>\n",
       "      <th></th>\n",
       "      <th></th>\n",
       "    </tr>\n",
       "  </thead>\n",
       "  <tbody>\n",
       "    <tr>\n",
       "      <th>0</th>\n",
       "      <td>4.960944</td>\n",
       "      <td>50.287842</td>\n",
       "      <td>14.451158</td>\n",
       "      <td>4.943425</td>\n",
       "    </tr>\n",
       "    <tr>\n",
       "      <th>1</th>\n",
       "      <td>7.816913</td>\n",
       "      <td>49.077362</td>\n",
       "      <td>14.559751</td>\n",
       "      <td>5.137604</td>\n",
       "    </tr>\n",
       "  </tbody>\n",
       "</table>\n",
       "</div>"
      ],
      "text/plain": [
       "            washing_machine  fridge_freezer         TV    kettle\n",
       "is_weekend                                                      \n",
       "0                  4.960944       50.287842  14.451158  4.943425\n",
       "1                  7.816913       49.077362  14.559751  5.137604"
      ]
     },
     "execution_count": 27,
     "metadata": {},
     "output_type": "execute_result"
    }
   ],
   "source": [
    "Y_train.groupby(X_train.is_weekend).mean()"
   ]
  },
  {
   "cell_type": "markdown",
   "metadata": {},
   "source": [
    "Hour:\n",
    "- Washing Machine used late evening\n",
    "- TV from the evening\n",
    "- Kettle in the afternoon around Tea Time"
   ]
  },
  {
   "cell_type": "code",
   "execution_count": 28,
   "metadata": {
    "ExecuteTime": {
     "end_time": "2020-03-10T16:40:44.860074Z",
     "start_time": "2020-03-10T16:40:44.836473Z"
    }
   },
   "outputs": [
    {
     "data": {
      "text/html": [
       "<div>\n",
       "<style scoped>\n",
       "    .dataframe tbody tr th:only-of-type {\n",
       "        vertical-align: middle;\n",
       "    }\n",
       "\n",
       "    .dataframe tbody tr th {\n",
       "        vertical-align: top;\n",
       "    }\n",
       "\n",
       "    .dataframe thead th {\n",
       "        text-align: right;\n",
       "    }\n",
       "</style>\n",
       "<table border=\"1\" class=\"dataframe\">\n",
       "  <thead>\n",
       "    <tr style=\"text-align: right;\">\n",
       "      <th></th>\n",
       "      <th>washing_machine</th>\n",
       "      <th>fridge_freezer</th>\n",
       "      <th>TV</th>\n",
       "      <th>kettle</th>\n",
       "    </tr>\n",
       "    <tr>\n",
       "      <th>hour</th>\n",
       "      <th></th>\n",
       "      <th></th>\n",
       "      <th></th>\n",
       "      <th></th>\n",
       "    </tr>\n",
       "  </thead>\n",
       "  <tbody>\n",
       "    <tr>\n",
       "      <th>0</th>\n",
       "      <td>16.666658</td>\n",
       "      <td>50.053807</td>\n",
       "      <td>9.791535</td>\n",
       "      <td>0.002574</td>\n",
       "    </tr>\n",
       "    <tr>\n",
       "      <th>1</th>\n",
       "      <td>9.212207</td>\n",
       "      <td>45.895299</td>\n",
       "      <td>7.983519</td>\n",
       "      <td>0.204948</td>\n",
       "    </tr>\n",
       "    <tr>\n",
       "      <th>2</th>\n",
       "      <td>2.497133</td>\n",
       "      <td>46.245553</td>\n",
       "      <td>7.557325</td>\n",
       "      <td>0.000411</td>\n",
       "    </tr>\n",
       "    <tr>\n",
       "      <th>3</th>\n",
       "      <td>0.739735</td>\n",
       "      <td>46.918470</td>\n",
       "      <td>12.491593</td>\n",
       "      <td>0.002011</td>\n",
       "    </tr>\n",
       "    <tr>\n",
       "      <th>4</th>\n",
       "      <td>1.048046</td>\n",
       "      <td>45.620991</td>\n",
       "      <td>17.252390</td>\n",
       "      <td>0.001341</td>\n",
       "    </tr>\n",
       "    <tr>\n",
       "      <th>5</th>\n",
       "      <td>0.957351</td>\n",
       "      <td>45.490154</td>\n",
       "      <td>16.480414</td>\n",
       "      <td>0.633345</td>\n",
       "    </tr>\n",
       "    <tr>\n",
       "      <th>6</th>\n",
       "      <td>0.693797</td>\n",
       "      <td>48.001302</td>\n",
       "      <td>10.919961</td>\n",
       "      <td>3.925279</td>\n",
       "    </tr>\n",
       "    <tr>\n",
       "      <th>7</th>\n",
       "      <td>0.850718</td>\n",
       "      <td>48.469135</td>\n",
       "      <td>10.372863</td>\n",
       "      <td>8.616012</td>\n",
       "    </tr>\n",
       "    <tr>\n",
       "      <th>8</th>\n",
       "      <td>2.082198</td>\n",
       "      <td>51.687355</td>\n",
       "      <td>10.326209</td>\n",
       "      <td>9.599387</td>\n",
       "    </tr>\n",
       "    <tr>\n",
       "      <th>9</th>\n",
       "      <td>6.197119</td>\n",
       "      <td>46.764678</td>\n",
       "      <td>10.179847</td>\n",
       "      <td>2.484225</td>\n",
       "    </tr>\n",
       "    <tr>\n",
       "      <th>10</th>\n",
       "      <td>5.782570</td>\n",
       "      <td>50.744343</td>\n",
       "      <td>10.158513</td>\n",
       "      <td>1.244518</td>\n",
       "    </tr>\n",
       "    <tr>\n",
       "      <th>11</th>\n",
       "      <td>4.846053</td>\n",
       "      <td>49.182162</td>\n",
       "      <td>11.065142</td>\n",
       "      <td>1.693135</td>\n",
       "    </tr>\n",
       "    <tr>\n",
       "      <th>12</th>\n",
       "      <td>3.998880</td>\n",
       "      <td>50.087158</td>\n",
       "      <td>11.587598</td>\n",
       "      <td>4.860811</td>\n",
       "    </tr>\n",
       "    <tr>\n",
       "      <th>13</th>\n",
       "      <td>3.205264</td>\n",
       "      <td>53.099949</td>\n",
       "      <td>10.932386</td>\n",
       "      <td>2.333299</td>\n",
       "    </tr>\n",
       "    <tr>\n",
       "      <th>14</th>\n",
       "      <td>5.440037</td>\n",
       "      <td>50.797206</td>\n",
       "      <td>10.515872</td>\n",
       "      <td>1.499154</td>\n",
       "    </tr>\n",
       "    <tr>\n",
       "      <th>15</th>\n",
       "      <td>4.456495</td>\n",
       "      <td>53.356451</td>\n",
       "      <td>12.629307</td>\n",
       "      <td>2.221350</td>\n",
       "    </tr>\n",
       "    <tr>\n",
       "      <th>16</th>\n",
       "      <td>2.903084</td>\n",
       "      <td>50.987205</td>\n",
       "      <td>13.816884</td>\n",
       "      <td>8.042672</td>\n",
       "    </tr>\n",
       "    <tr>\n",
       "      <th>17</th>\n",
       "      <td>1.287543</td>\n",
       "      <td>55.930394</td>\n",
       "      <td>18.566461</td>\n",
       "      <td>20.007539</td>\n",
       "    </tr>\n",
       "    <tr>\n",
       "      <th>18</th>\n",
       "      <td>1.787472</td>\n",
       "      <td>55.589992</td>\n",
       "      <td>24.551957</td>\n",
       "      <td>23.580335</td>\n",
       "    </tr>\n",
       "    <tr>\n",
       "      <th>19</th>\n",
       "      <td>2.222372</td>\n",
       "      <td>53.271800</td>\n",
       "      <td>27.368533</td>\n",
       "      <td>12.322117</td>\n",
       "    </tr>\n",
       "    <tr>\n",
       "      <th>20</th>\n",
       "      <td>1.669516</td>\n",
       "      <td>51.788040</td>\n",
       "      <td>22.494583</td>\n",
       "      <td>7.798022</td>\n",
       "    </tr>\n",
       "    <tr>\n",
       "      <th>21</th>\n",
       "      <td>13.432117</td>\n",
       "      <td>50.287782</td>\n",
       "      <td>23.018214</td>\n",
       "      <td>5.191309</td>\n",
       "    </tr>\n",
       "    <tr>\n",
       "      <th>22</th>\n",
       "      <td>21.035765</td>\n",
       "      <td>52.085077</td>\n",
       "      <td>22.422872</td>\n",
       "      <td>3.437551</td>\n",
       "    </tr>\n",
       "    <tr>\n",
       "      <th>23</th>\n",
       "      <td>25.668586</td>\n",
       "      <td>46.239206</td>\n",
       "      <td>15.089468</td>\n",
       "      <td>0.274370</td>\n",
       "    </tr>\n",
       "  </tbody>\n",
       "</table>\n",
       "</div>"
      ],
      "text/plain": [
       "      washing_machine  fridge_freezer         TV     kettle\n",
       "hour                                                       \n",
       "0           16.666658       50.053807   9.791535   0.002574\n",
       "1            9.212207       45.895299   7.983519   0.204948\n",
       "2            2.497133       46.245553   7.557325   0.000411\n",
       "3            0.739735       46.918470  12.491593   0.002011\n",
       "4            1.048046       45.620991  17.252390   0.001341\n",
       "5            0.957351       45.490154  16.480414   0.633345\n",
       "6            0.693797       48.001302  10.919961   3.925279\n",
       "7            0.850718       48.469135  10.372863   8.616012\n",
       "8            2.082198       51.687355  10.326209   9.599387\n",
       "9            6.197119       46.764678  10.179847   2.484225\n",
       "10           5.782570       50.744343  10.158513   1.244518\n",
       "11           4.846053       49.182162  11.065142   1.693135\n",
       "12           3.998880       50.087158  11.587598   4.860811\n",
       "13           3.205264       53.099949  10.932386   2.333299\n",
       "14           5.440037       50.797206  10.515872   1.499154\n",
       "15           4.456495       53.356451  12.629307   2.221350\n",
       "16           2.903084       50.987205  13.816884   8.042672\n",
       "17           1.287543       55.930394  18.566461  20.007539\n",
       "18           1.787472       55.589992  24.551957  23.580335\n",
       "19           2.222372       53.271800  27.368533  12.322117\n",
       "20           1.669516       51.788040  22.494583   7.798022\n",
       "21          13.432117       50.287782  23.018214   5.191309\n",
       "22          21.035765       52.085077  22.422872   3.437551\n",
       "23          25.668586       46.239206  15.089468   0.274370"
      ]
     },
     "execution_count": 28,
     "metadata": {},
     "output_type": "execute_result"
    }
   ],
   "source": [
    "Y_train.groupby(X_train.hour).mean()"
   ]
  },
  {
   "cell_type": "markdown",
   "metadata": {},
   "source": [
    "Holidays:\n",
    "- Who wants to do a Washing Machine while on holidays?"
   ]
  },
  {
   "cell_type": "code",
   "execution_count": 29,
   "metadata": {
    "ExecuteTime": {
     "end_time": "2020-03-10T16:40:44.881298Z",
     "start_time": "2020-03-10T16:40:44.861819Z"
    }
   },
   "outputs": [
    {
     "data": {
      "text/html": [
       "<div>\n",
       "<style scoped>\n",
       "    .dataframe tbody tr th:only-of-type {\n",
       "        vertical-align: middle;\n",
       "    }\n",
       "\n",
       "    .dataframe tbody tr th {\n",
       "        vertical-align: top;\n",
       "    }\n",
       "\n",
       "    .dataframe thead th {\n",
       "        text-align: right;\n",
       "    }\n",
       "</style>\n",
       "<table border=\"1\" class=\"dataframe\">\n",
       "  <thead>\n",
       "    <tr style=\"text-align: right;\">\n",
       "      <th></th>\n",
       "      <th>washing_machine</th>\n",
       "      <th>fridge_freezer</th>\n",
       "      <th>TV</th>\n",
       "      <th>kettle</th>\n",
       "    </tr>\n",
       "    <tr>\n",
       "      <th>is_holidays</th>\n",
       "      <th></th>\n",
       "      <th></th>\n",
       "      <th></th>\n",
       "      <th></th>\n",
       "    </tr>\n",
       "  </thead>\n",
       "  <tbody>\n",
       "    <tr>\n",
       "      <th>0</th>\n",
       "      <td>5.875870</td>\n",
       "      <td>50.012378</td>\n",
       "      <td>14.517998</td>\n",
       "      <td>5.056063</td>\n",
       "    </tr>\n",
       "    <tr>\n",
       "      <th>1</th>\n",
       "      <td>3.047412</td>\n",
       "      <td>47.953892</td>\n",
       "      <td>13.480961</td>\n",
       "      <td>3.401253</td>\n",
       "    </tr>\n",
       "  </tbody>\n",
       "</table>\n",
       "</div>"
      ],
      "text/plain": [
       "             washing_machine  fridge_freezer         TV    kettle\n",
       "is_holidays                                                      \n",
       "0                   5.875870       50.012378  14.517998  5.056063\n",
       "1                   3.047412       47.953892  13.480961  3.401253"
      ]
     },
     "execution_count": 29,
     "metadata": {},
     "output_type": "execute_result"
    }
   ],
   "source": [
    "Y_train.groupby(X_train.is_holidays).mean()"
   ]
  },
  {
   "cell_type": "markdown",
   "metadata": {},
   "source": [
    "### Adding extra features"
   ]
  },
  {
   "cell_type": "markdown",
   "metadata": {},
   "source": [
    "By looking at the data, these features can be added:"
   ]
  },
  {
   "cell_type": "code",
   "execution_count": 30,
   "metadata": {
    "ExecuteTime": {
     "end_time": "2020-03-10T16:40:44.906462Z",
     "start_time": "2020-03-10T16:40:44.884856Z"
    }
   },
   "outputs": [],
   "source": [
    "X_train[\"is_breakfast\"] = ((X_train.hour>5) & (X_train.hour<9))*1 \n",
    "X_train[\"is_teatime\"] = ((X_train.hour>16) & (X_train.hour<20))*1 \n",
    "X_train[\"is_TVtime\"] = ((X_train.hour>17) & (X_train.hour<23))*1\n",
    "# X_train[\"is_working_hour\"] = ((X_train.hour>7) & (X_train.hour<19))*1\n",
    "X_train[\"is_night\"] = ((X_train.hour>0) & (X_train.hour<7))*1"
   ]
  },
  {
   "cell_type": "markdown",
   "metadata": {},
   "source": [
    "Let's put all in a transformer!"
   ]
  },
  {
   "cell_type": "code",
<<<<<<< HEAD
   "execution_count": 31,
   "metadata": {
    "ExecuteTime": {
     "end_time": "2020-03-10T16:40:44.918315Z",
     "start_time": "2020-03-10T16:40:44.908672Z"
    }
   },
=======
   "execution_count": null,
   "metadata": {},
>>>>>>> fca34dae68163f51a6787ae1b3f39a88a1989afc
   "outputs": [],
   "source": [
    "class DataAugmenter(BaseEstimator, TransformerMixin):\n",
    "    \n",
    "    def __init__(self):\n",
    "        self.X = None\n",
    "    \n",
    "    def fit(self, X, y=None):\n",
    "        return self\n",
    "    \n",
    "    def transform(self, X, y=None):\n",
    "        X[\"time_step\"] = pd.to_datetime(X[\"time_step\"])\n",
    "        X[\"weekday\"] = X.time_step.dt.dayofweek\n",
    "        X[\"month\"] = X.time_step.dt.month\n",
    "        X[\"hour\"] = X.time_step.dt.hour\n",
    "        X[\"is_weekend\"] = (X[\"weekday\"] > 4)*1  \n",
    "        X[\"is_holidays\"] = (X.time_step.dt.date.isin(fr_holidays))*1\n",
    "        \n",
    "        X[\"is_breakfast\"] = ((X.hour>5) & (X.hour<9))*1 \n",
    "        X[\"is_teatime\"] = ((X.hour>16) & (X.hour<20))*1 \n",
    "        X[\"is_TVtime\"] = ((X.hour>17) & (X.hour<23))*1\n",
    "        # X_train[\"is_working_hour\"] = ((X_train.hour>7) & (X_train.hour<19))*1\n",
    "        X[\"is_night\"] = ((X.hour>0) & (X.hour<7))*1\n",
    "        return X"
   ]
  },
  {
   "cell_type": "markdown",
   "metadata": {},
   "source": [
    "---\n",
    "---\n",
    "---"
   ]
  },
  {
   "cell_type": "markdown",
   "metadata": {},
   "source": [
    "## Modeling"
   ]
  },
  {
   "cell_type": "markdown",
   "metadata": {},
   "source": [
    "### Regression, a baseline model"
   ]
  },
  {
   "cell_type": "markdown",
   "metadata": {},
   "source": [
    "[MultiOutputRegressor](https://scikit-learn.org/stable/modules/generated/sklearn.multioutput.MultiOutputRegressor.html) consists of fitting one regressor per target. \n",
    "\n",
    "This is a simple strategy for extending regressors that do not natively support multi-target regression."
   ]
  },
  {
   "cell_type": "markdown",
   "metadata": {},
   "source": [
    "Test cold months only:"
   ]
  },
  {
   "cell_type": "code",
   "execution_count": 32,
   "metadata": {
    "ExecuteTime": {
     "end_time": "2020-03-10T16:40:44.926549Z",
     "start_time": "2020-03-10T16:40:44.920130Z"
    }
   },
   "outputs": [],
   "source": [
    "# Y_train = Y_train.loc[(X_train.month<4) | (X_train.month>8)]\n",
    "# X_train = X_train.loc[(X_train.month<4) | (X_train.month>8)]"
   ]
  },
  {
   "cell_type": "code",
   "execution_count": 33,
   "metadata": {
    "ExecuteTime": {
     "end_time": "2020-03-10T16:40:44.934180Z",
     "start_time": "2020-03-10T16:40:44.929179Z"
    }
   },
   "outputs": [],
   "source": [
    "regressor = MultiOutputRegressor(LinearRegression())"
   ]
  },
  {
   "cell_type": "code",
   "execution_count": 34,
   "metadata": {
    "ExecuteTime": {
     "end_time": "2020-03-10T16:40:44.955040Z",
     "start_time": "2020-03-10T16:40:44.937228Z"
    }
   },
   "outputs": [
    {
     "data": {
      "text/html": [
       "<div>\n",
       "<style scoped>\n",
       "    .dataframe tbody tr th:only-of-type {\n",
       "        vertical-align: middle;\n",
       "    }\n",
       "\n",
       "    .dataframe tbody tr th {\n",
       "        vertical-align: top;\n",
       "    }\n",
       "\n",
       "    .dataframe thead th {\n",
       "        text-align: right;\n",
       "    }\n",
       "</style>\n",
       "<table border=\"1\" class=\"dataframe\">\n",
       "  <thead>\n",
       "    <tr style=\"text-align: right;\">\n",
       "      <th></th>\n",
       "      <th>time_step</th>\n",
       "      <th>washing_machine</th>\n",
       "      <th>fridge_freezer</th>\n",
       "      <th>TV</th>\n",
       "      <th>kettle</th>\n",
       "    </tr>\n",
       "  </thead>\n",
       "  <tbody>\n",
       "    <tr>\n",
       "      <th>0</th>\n",
       "      <td>2013-03-17T00:01:00.0</td>\n",
       "      <td>0.0</td>\n",
       "      <td>79.2000</td>\n",
       "      <td>7.0</td>\n",
       "      <td>0.0</td>\n",
       "    </tr>\n",
       "    <tr>\n",
       "      <th>1</th>\n",
       "      <td>2013-03-17T00:02:00.0</td>\n",
       "      <td>0.0</td>\n",
       "      <td>78.0000</td>\n",
       "      <td>7.0</td>\n",
       "      <td>0.0</td>\n",
       "    </tr>\n",
       "    <tr>\n",
       "      <th>2</th>\n",
       "      <td>2013-03-17T00:03:00.0</td>\n",
       "      <td>0.0</td>\n",
       "      <td>76.9000</td>\n",
       "      <td>7.0</td>\n",
       "      <td>0.0</td>\n",
       "    </tr>\n",
       "    <tr>\n",
       "      <th>3</th>\n",
       "      <td>2013-03-17T00:04:00.0</td>\n",
       "      <td>0.0</td>\n",
       "      <td>76.1111</td>\n",
       "      <td>7.0</td>\n",
       "      <td>0.0</td>\n",
       "    </tr>\n",
       "    <tr>\n",
       "      <th>4</th>\n",
       "      <td>2013-03-17T00:05:00.0</td>\n",
       "      <td>0.0</td>\n",
       "      <td>75.2727</td>\n",
       "      <td>7.0</td>\n",
       "      <td>0.0</td>\n",
       "    </tr>\n",
       "  </tbody>\n",
       "</table>\n",
       "</div>"
      ],
      "text/plain": [
       "               time_step  washing_machine  fridge_freezer   TV  kettle\n",
       "0  2013-03-17T00:01:00.0              0.0         79.2000  7.0     0.0\n",
       "1  2013-03-17T00:02:00.0              0.0         78.0000  7.0     0.0\n",
       "2  2013-03-17T00:03:00.0              0.0         76.9000  7.0     0.0\n",
       "3  2013-03-17T00:04:00.0              0.0         76.1111  7.0     0.0\n",
       "4  2013-03-17T00:05:00.0              0.0         75.2727  7.0     0.0"
      ]
     },
     "execution_count": 34,
     "metadata": {},
     "output_type": "execute_result"
    }
   ],
   "source": [
    "Y_train.head()"
   ]
  },
  {
   "cell_type": "code",
   "execution_count": 35,
   "metadata": {
    "ExecuteTime": {
     "end_time": "2020-03-10T16:40:45.092516Z",
     "start_time": "2020-03-10T16:40:44.957449Z"
    }
   },
   "outputs": [],
   "source": [
    "x_train, x_valid, y_train, y_valid = train_test_split(\n",
    "    X_train.drop('time_step', axis=1), Y_train.drop('time_step', axis=1), test_size=0.33, random_state=42)"
   ]
  },
  {
   "cell_type": "code",
   "execution_count": 36,
   "metadata": {
    "ExecuteTime": {
     "end_time": "2020-03-10T16:40:45.665803Z",
     "start_time": "2020-03-10T16:40:45.094835Z"
    }
   },
   "outputs": [
    {
     "data": {
      "text/plain": [
       "MultiOutputRegressor(estimator=LinearRegression(copy_X=True, fit_intercept=True,\n",
       "                                                n_jobs=None, normalize=False),\n",
       "                     n_jobs=None)"
      ]
     },
     "execution_count": 36,
     "metadata": {},
     "output_type": "execute_result"
    }
   ],
   "source": [
    "regressor.fit(x_train, y_train)"
   ]
  },
  {
   "cell_type": "code",
   "execution_count": 37,
   "metadata": {
    "ExecuteTime": {
     "end_time": "2020-03-10T16:40:45.760224Z",
     "start_time": "2020-03-10T16:40:45.668090Z"
    }
   },
   "outputs": [
    {
     "data": {
      "text/plain": [
       "0.08838952117443302"
      ]
     },
     "execution_count": 37,
     "metadata": {},
     "output_type": "execute_result"
    }
   ],
   "source": [
    "regressor.score(x_train, y_train)"
   ]
  },
  {
   "cell_type": "code",
   "execution_count": 38,
   "metadata": {
    "ExecuteTime": {
     "end_time": "2020-03-10T16:40:45.810530Z",
     "start_time": "2020-03-10T16:40:45.763166Z"
    }
   },
   "outputs": [
    {
     "data": {
      "text/plain": [
       "0.08495411337922906"
      ]
     },
     "execution_count": 38,
     "metadata": {},
     "output_type": "execute_result"
    }
   ],
   "source": [
    "regressor.score(x_valid, y_valid)"
   ]
  },
  {
   "cell_type": "markdown",
   "metadata": {},
   "source": [
    "Have a look at all the coefficients:"
   ]
  },
  {
   "cell_type": "code",
   "execution_count": 39,
   "metadata": {
    "ExecuteTime": {
     "end_time": "2020-03-10T16:40:45.821918Z",
     "start_time": "2020-03-10T16:40:45.813443Z"
    }
   },
   "outputs": [],
   "source": [
    "df = pd.DataFrame([i.coef_ for i in regressor.estimators_], columns=X_train.columns[1:], index=Y_train.columns[1:])"
   ]
  },
  {
   "cell_type": "code",
   "execution_count": 40,
   "metadata": {
    "ExecuteTime": {
     "end_time": "2020-03-10T16:40:45.867850Z",
     "start_time": "2020-03-10T16:40:45.825467Z"
    }
   },
   "outputs": [
    {
     "data": {
      "text/html": [
       "<div>\n",
       "<style scoped>\n",
       "    .dataframe tbody tr th:only-of-type {\n",
       "        vertical-align: middle;\n",
       "    }\n",
       "\n",
       "    .dataframe tbody tr th {\n",
       "        vertical-align: top;\n",
       "    }\n",
       "\n",
       "    .dataframe thead th {\n",
       "        text-align: right;\n",
       "    }\n",
       "</style>\n",
       "<table border=\"1\" class=\"dataframe\">\n",
       "  <thead>\n",
       "    <tr style=\"text-align: right;\">\n",
       "      <th></th>\n",
       "      <th>consumption</th>\n",
       "      <th>visibility</th>\n",
       "      <th>temperature</th>\n",
       "      <th>humidity</th>\n",
       "      <th>humidex</th>\n",
       "      <th>windchill</th>\n",
       "      <th>wind</th>\n",
       "      <th>pressure</th>\n",
       "      <th>weekday</th>\n",
       "      <th>month</th>\n",
       "      <th>hour</th>\n",
       "      <th>is_weekend</th>\n",
       "      <th>is_holidays</th>\n",
       "      <th>is_breakfast</th>\n",
       "      <th>is_teatime</th>\n",
       "      <th>is_TVtime</th>\n",
       "      <th>is_night</th>\n",
       "    </tr>\n",
       "  </thead>\n",
       "  <tbody>\n",
       "    <tr>\n",
       "      <th>washing_machine</th>\n",
       "      <td>0.035839</td>\n",
       "      <td>-0.078356</td>\n",
       "      <td>0.404696</td>\n",
       "      <td>-0.017835</td>\n",
       "      <td>0.030613</td>\n",
       "      <td>-0.324145</td>\n",
       "      <td>-0.239177</td>\n",
       "      <td>-0.012111</td>\n",
       "      <td>-0.098189</td>\n",
       "      <td>-0.226438</td>\n",
       "      <td>0.163038</td>\n",
       "      <td>2.626042</td>\n",
       "      <td>-0.672401</td>\n",
       "      <td>-6.599574</td>\n",
       "      <td>-13.179530</td>\n",
       "      <td>0.061215</td>\n",
       "      <td>-1.960592</td>\n",
       "    </tr>\n",
       "    <tr>\n",
       "      <th>fridge_freezer</th>\n",
       "      <td>0.018693</td>\n",
       "      <td>-0.003251</td>\n",
       "      <td>-0.877135</td>\n",
       "      <td>0.100308</td>\n",
       "      <td>1.609948</td>\n",
       "      <td>0.171661</td>\n",
       "      <td>0.044558</td>\n",
       "      <td>-0.003985</td>\n",
       "      <td>-0.314997</td>\n",
       "      <td>0.887057</td>\n",
       "      <td>-0.129080</td>\n",
       "      <td>-0.302640</td>\n",
       "      <td>-0.202643</td>\n",
       "      <td>0.662717</td>\n",
       "      <td>1.052255</td>\n",
       "      <td>1.043819</td>\n",
       "      <td>-2.314463</td>\n",
       "    </tr>\n",
       "    <tr>\n",
       "      <th>TV</th>\n",
       "      <td>0.006667</td>\n",
       "      <td>-0.013430</td>\n",
       "      <td>0.023265</td>\n",
       "      <td>0.055420</td>\n",
       "      <td>0.360021</td>\n",
       "      <td>-0.588281</td>\n",
       "      <td>-0.064199</td>\n",
       "      <td>-0.002278</td>\n",
       "      <td>-0.462785</td>\n",
       "      <td>-0.527293</td>\n",
       "      <td>0.332914</td>\n",
       "      <td>1.519438</td>\n",
       "      <td>-1.725014</td>\n",
       "      <td>-1.880395</td>\n",
       "      <td>4.526632</td>\n",
       "      <td>7.199559</td>\n",
       "      <td>2.523622</td>\n",
       "    </tr>\n",
       "    <tr>\n",
       "      <th>kettle</th>\n",
       "      <td>0.124247</td>\n",
       "      <td>-0.008821</td>\n",
       "      <td>-0.618851</td>\n",
       "      <td>-0.035192</td>\n",
       "      <td>0.469523</td>\n",
       "      <td>0.494373</td>\n",
       "      <td>0.041046</td>\n",
       "      <td>0.015254</td>\n",
       "      <td>0.838682</td>\n",
       "      <td>0.182093</td>\n",
       "      <td>-0.465762</td>\n",
       "      <td>-4.236884</td>\n",
       "      <td>4.011358</td>\n",
       "      <td>0.730873</td>\n",
       "      <td>-1.010641</td>\n",
       "      <td>-2.293211</td>\n",
       "      <td>-0.062465</td>\n",
       "    </tr>\n",
       "  </tbody>\n",
       "</table>\n",
       "</div>"
      ],
      "text/plain": [
       "                 consumption  visibility  temperature  humidity   humidex  \\\n",
       "washing_machine     0.035839   -0.078356     0.404696 -0.017835  0.030613   \n",
       "fridge_freezer      0.018693   -0.003251    -0.877135  0.100308  1.609948   \n",
       "TV                  0.006667   -0.013430     0.023265  0.055420  0.360021   \n",
       "kettle              0.124247   -0.008821    -0.618851 -0.035192  0.469523   \n",
       "\n",
       "                 windchill      wind  pressure   weekday     month      hour  \\\n",
       "washing_machine  -0.324145 -0.239177 -0.012111 -0.098189 -0.226438  0.163038   \n",
       "fridge_freezer    0.171661  0.044558 -0.003985 -0.314997  0.887057 -0.129080   \n",
       "TV               -0.588281 -0.064199 -0.002278 -0.462785 -0.527293  0.332914   \n",
       "kettle            0.494373  0.041046  0.015254  0.838682  0.182093 -0.465762   \n",
       "\n",
       "                 is_weekend  is_holidays  is_breakfast  is_teatime  is_TVtime  \\\n",
       "washing_machine    2.626042    -0.672401     -6.599574  -13.179530   0.061215   \n",
       "fridge_freezer    -0.302640    -0.202643      0.662717    1.052255   1.043819   \n",
       "TV                 1.519438    -1.725014     -1.880395    4.526632   7.199559   \n",
       "kettle            -4.236884     4.011358      0.730873   -1.010641  -2.293211   \n",
       "\n",
       "                 is_night  \n",
       "washing_machine -1.960592  \n",
       "fridge_freezer  -2.314463  \n",
       "TV               2.523622  \n",
       "kettle          -0.062465  "
      ]
     },
     "execution_count": 40,
     "metadata": {},
     "output_type": "execute_result"
    }
   ],
   "source": [
    "df"
   ]
  },
  {
   "cell_type": "markdown",
   "metadata": {},
   "source": [
    "What about predictions?"
   ]
  },
  {
   "cell_type": "code",
   "execution_count": 41,
   "metadata": {
    "ExecuteTime": {
     "end_time": "2020-03-10T16:40:45.924878Z",
     "start_time": "2020-03-10T16:40:45.870731Z"
    }
   },
   "outputs": [],
   "source": [
    "y_pred = regressor.predict(x_valid)"
   ]
  },
  {
   "cell_type": "code",
   "execution_count": 43,
   "metadata": {
    "ExecuteTime": {
     "end_time": "2020-03-10T09:45:05.809252Z",
     "start_time": "2020-03-10T09:45:05.790931Z"
    }
   },
   "outputs": [],
   "source": [
    "pred = pd.DataFrame(y_pred, columns=y_train.columns)\n",
    "pred[\"time_step\"] = X_train.time_step"
   ]
  },
  {
   "cell_type": "code",
   "execution_count": 44,
   "metadata": {
    "ExecuteTime": {
     "end_time": "2020-03-10T09:45:05.839327Z",
     "start_time": "2020-03-10T09:45:05.814343Z"
    }
   },
   "outputs": [
    {
     "data": {
      "text/html": [
       "<div>\n",
       "<style scoped>\n",
       "    .dataframe tbody tr th:only-of-type {\n",
       "        vertical-align: middle;\n",
       "    }\n",
       "\n",
       "    .dataframe tbody tr th {\n",
       "        vertical-align: top;\n",
       "    }\n",
       "\n",
       "    .dataframe thead th {\n",
       "        text-align: right;\n",
       "    }\n",
       "</style>\n",
       "<table border=\"1\" class=\"dataframe\">\n",
       "  <thead>\n",
       "    <tr style=\"text-align: right;\">\n",
       "      <th></th>\n",
       "      <th>washing_machine</th>\n",
       "      <th>fridge_freezer</th>\n",
       "      <th>TV</th>\n",
       "      <th>kettle</th>\n",
       "      <th>time_step</th>\n",
       "    </tr>\n",
       "  </thead>\n",
       "  <tbody>\n",
       "    <tr>\n",
       "      <th>0</th>\n",
       "      <td>5.573694</td>\n",
       "      <td>54.720526</td>\n",
       "      <td>11.780158</td>\n",
       "      <td>1.903262</td>\n",
       "      <td>2013-03-17 00:01:00</td>\n",
       "    </tr>\n",
       "    <tr>\n",
       "      <th>1</th>\n",
       "      <td>-2.702450</td>\n",
       "      <td>48.960925</td>\n",
       "      <td>7.248687</td>\n",
       "      <td>-9.013223</td>\n",
       "      <td>2013-03-17 00:02:00</td>\n",
       "    </tr>\n",
       "    <tr>\n",
       "      <th>2</th>\n",
       "      <td>2.004707</td>\n",
       "      <td>56.514845</td>\n",
       "      <td>9.145050</td>\n",
       "      <td>-10.006413</td>\n",
       "      <td>2013-03-17 00:03:00</td>\n",
       "    </tr>\n",
       "    <tr>\n",
       "      <th>3</th>\n",
       "      <td>-0.419321</td>\n",
       "      <td>54.629279</td>\n",
       "      <td>10.738990</td>\n",
       "      <td>-8.756599</td>\n",
       "      <td>2013-03-17 00:04:00</td>\n",
       "    </tr>\n",
       "    <tr>\n",
       "      <th>4</th>\n",
       "      <td>-0.213901</td>\n",
       "      <td>41.879107</td>\n",
       "      <td>12.169366</td>\n",
       "      <td>-13.415032</td>\n",
       "      <td>2013-03-17 00:05:00</td>\n",
       "    </tr>\n",
       "  </tbody>\n",
       "</table>\n",
       "</div>"
      ],
      "text/plain": [
       "   washing_machine  fridge_freezer         TV     kettle           time_step\n",
       "0         5.573694       54.720526  11.780158   1.903262 2013-03-17 00:01:00\n",
       "1        -2.702450       48.960925   7.248687  -9.013223 2013-03-17 00:02:00\n",
       "2         2.004707       56.514845   9.145050 -10.006413 2013-03-17 00:03:00\n",
       "3        -0.419321       54.629279  10.738990  -8.756599 2013-03-17 00:04:00\n",
       "4        -0.213901       41.879107  12.169366 -13.415032 2013-03-17 00:05:00"
      ]
     },
     "execution_count": 44,
     "metadata": {},
     "output_type": "execute_result"
    }
   ],
   "source": [
    "pred.head()"
   ]
  },
  {
   "cell_type": "markdown",
   "metadata": {},
   "source": [
    "Metric used on the website:"
   ]
  },
  {
   "cell_type": "code",
   "execution_count": 45,
   "metadata": {
    "ExecuteTime": {
     "end_time": "2020-03-10T09:45:05.860930Z",
     "start_time": "2020-03-10T09:45:05.842921Z"
    }
   },
   "outputs": [],
   "source": [
    "def metric_nilm(dataframe_y_true, dataframe_y_pred):\n",
    "    score = 0.0\n",
    "    test = dataframe_y_true['washing_machine']\n",
    "    pred = dataframe_y_pred['washing_machine']\n",
    "    score += mt.sqrt(sum((pred.values - test.values)**2)/len(test))*5.55\n",
    "    test = dataframe_y_true['fridge_freezer']\n",
    "    pred = dataframe_y_pred['fridge_freezer']\n",
    "    score += mt.sqrt(sum((pred.values - test.values)**2)/len(test))*49.79\n",
    "    test = dataframe_y_true['TV']\n",
    "    pred = dataframe_y_pred['TV']\n",
    "    score += mt.sqrt(sum((pred.values - test.values)**2)/len(test))*14.57\n",
    "    test = dataframe_y_true['kettle']\n",
    "    pred = dataframe_y_pred['kettle']\n",
    "    score += mt.sqrt(sum((pred.values - test.values)**2)/len(test))*4.95\n",
    "    score /= 74.86\n",
    "    return score"
   ]
  },
  {
   "cell_type": "code",
   "execution_count": 46,
   "metadata": {
    "ExecuteTime": {
     "end_time": "2020-03-10T09:45:06.037724Z",
     "start_time": "2020-03-10T09:45:05.865888Z"
    }
   },
   "outputs": [
    {
     "data": {
      "text/plain": [
       "48.04492175166785"
      ]
     },
     "execution_count": 46,
     "metadata": {},
     "output_type": "execute_result"
    }
   ],
   "source": [
    "metric_nilm(y_valid, pred)"
   ]
  },
  {
   "cell_type": "markdown",
   "metadata": {},
   "source": [
    "##### Test Submission"
   ]
  },
  {
   "cell_type": "code",
   "execution_count": 47,
   "metadata": {
    "ExecuteTime": {
     "end_time": "2020-03-10T09:45:06.300992Z",
     "start_time": "2020-03-10T09:45:06.040072Z"
    }
   },
   "outputs": [],
   "source": [
    "X_test = pd.read_csv(\n",
    "    'provided_data_and_metric/X_test_c2uBt2s.csv', \n",
    ")\n",
    "X_test.drop('Unnamed: 9', axis = 1, inplace = True)"
   ]
  },
  {
   "cell_type": "markdown",
   "metadata": {},
   "source": [
    "Save time for later"
   ]
  },
  {
   "cell_type": "code",
   "execution_count": 48,
   "metadata": {
    "ExecuteTime": {
     "end_time": "2020-03-10T09:45:06.308037Z",
     "start_time": "2020-03-10T09:45:06.303455Z"
    }
   },
   "outputs": [],
   "source": [
    "time = X_test[\"time_step\"]"
   ]
  },
  {
   "cell_type": "code",
   "execution_count": 49,
   "metadata": {
    "ExecuteTime": {
     "end_time": "2020-03-10T09:45:21.787623Z",
     "start_time": "2020-03-10T09:45:06.311510Z"
    }
   },
   "outputs": [],
   "source": [
    "X_test = di.transform(X=X_test)\n",
    "ag = DataAugmenter()\n",
    "X_test = ag.transform(X=X_test)"
   ]
  },
  {
   "cell_type": "code",
   "execution_count": 50,
   "metadata": {
    "ExecuteTime": {
     "end_time": "2020-03-10T09:45:21.808361Z",
     "start_time": "2020-03-10T09:45:21.789238Z"
    }
   },
   "outputs": [
    {
     "data": {
      "text/html": [
       "<div>\n",
       "<style scoped>\n",
       "    .dataframe tbody tr th:only-of-type {\n",
       "        vertical-align: middle;\n",
       "    }\n",
       "\n",
       "    .dataframe tbody tr th {\n",
       "        vertical-align: top;\n",
       "    }\n",
       "\n",
       "    .dataframe thead th {\n",
       "        text-align: right;\n",
       "    }\n",
       "</style>\n",
       "<table border=\"1\" class=\"dataframe\">\n",
       "  <thead>\n",
       "    <tr style=\"text-align: right;\">\n",
       "      <th></th>\n",
       "      <th>time_step</th>\n",
       "      <th>consumption</th>\n",
       "      <th>visibility</th>\n",
       "      <th>temperature</th>\n",
       "      <th>humidity</th>\n",
       "      <th>humidex</th>\n",
       "      <th>windchill</th>\n",
       "      <th>wind</th>\n",
       "      <th>pressure</th>\n",
       "      <th>weekday</th>\n",
       "      <th>month</th>\n",
       "      <th>hour</th>\n",
       "      <th>is_weekend</th>\n",
       "      <th>is_holidays</th>\n",
       "      <th>is_breakfast</th>\n",
       "      <th>is_teatime</th>\n",
       "      <th>is_TVtime</th>\n",
       "      <th>is_night</th>\n",
       "    </tr>\n",
       "  </thead>\n",
       "  <tbody>\n",
       "    <tr>\n",
       "      <th>0</th>\n",
       "      <td>2014-01-01 00:00:00</td>\n",
       "      <td>312.2222</td>\n",
       "      <td>30.00</td>\n",
       "      <td>8.400000</td>\n",
       "      <td>86.000000</td>\n",
       "      <td>8.400000</td>\n",
       "      <td>5.600000</td>\n",
       "      <td>17.0</td>\n",
       "      <td>1016.600</td>\n",
       "      <td>2</td>\n",
       "      <td>1</td>\n",
       "      <td>0</td>\n",
       "      <td>0</td>\n",
       "      <td>0</td>\n",
       "      <td>0</td>\n",
       "      <td>0</td>\n",
       "      <td>0</td>\n",
       "      <td>0</td>\n",
       "    </tr>\n",
       "    <tr>\n",
       "      <th>1</th>\n",
       "      <td>2014-01-01 00:01:00</td>\n",
       "      <td>318.8750</td>\n",
       "      <td>29.95</td>\n",
       "      <td>8.401667</td>\n",
       "      <td>85.983333</td>\n",
       "      <td>8.401667</td>\n",
       "      <td>5.616667</td>\n",
       "      <td>16.9</td>\n",
       "      <td>1016.615</td>\n",
       "      <td>2</td>\n",
       "      <td>1</td>\n",
       "      <td>0</td>\n",
       "      <td>0</td>\n",
       "      <td>0</td>\n",
       "      <td>0</td>\n",
       "      <td>0</td>\n",
       "      <td>0</td>\n",
       "      <td>0</td>\n",
       "    </tr>\n",
       "    <tr>\n",
       "      <th>2</th>\n",
       "      <td>2014-01-01 00:02:00</td>\n",
       "      <td>314.3000</td>\n",
       "      <td>29.90</td>\n",
       "      <td>8.403333</td>\n",
       "      <td>85.966667</td>\n",
       "      <td>8.403333</td>\n",
       "      <td>5.633333</td>\n",
       "      <td>16.8</td>\n",
       "      <td>1016.630</td>\n",
       "      <td>2</td>\n",
       "      <td>1</td>\n",
       "      <td>0</td>\n",
       "      <td>0</td>\n",
       "      <td>0</td>\n",
       "      <td>0</td>\n",
       "      <td>0</td>\n",
       "      <td>0</td>\n",
       "      <td>0</td>\n",
       "    </tr>\n",
       "    <tr>\n",
       "      <th>3</th>\n",
       "      <td>2014-01-01 00:03:00</td>\n",
       "      <td>311.4444</td>\n",
       "      <td>29.85</td>\n",
       "      <td>8.405000</td>\n",
       "      <td>85.950000</td>\n",
       "      <td>8.405000</td>\n",
       "      <td>5.650000</td>\n",
       "      <td>16.7</td>\n",
       "      <td>1016.645</td>\n",
       "      <td>2</td>\n",
       "      <td>1</td>\n",
       "      <td>0</td>\n",
       "      <td>0</td>\n",
       "      <td>0</td>\n",
       "      <td>0</td>\n",
       "      <td>0</td>\n",
       "      <td>0</td>\n",
       "      <td>0</td>\n",
       "    </tr>\n",
       "    <tr>\n",
       "      <th>4</th>\n",
       "      <td>2014-01-01 00:04:00</td>\n",
       "      <td>310.0000</td>\n",
       "      <td>29.80</td>\n",
       "      <td>8.406667</td>\n",
       "      <td>85.933333</td>\n",
       "      <td>8.406667</td>\n",
       "      <td>5.666667</td>\n",
       "      <td>16.6</td>\n",
       "      <td>1016.660</td>\n",
       "      <td>2</td>\n",
       "      <td>1</td>\n",
       "      <td>0</td>\n",
       "      <td>0</td>\n",
       "      <td>0</td>\n",
       "      <td>0</td>\n",
       "      <td>0</td>\n",
       "      <td>0</td>\n",
       "      <td>0</td>\n",
       "    </tr>\n",
       "  </tbody>\n",
       "</table>\n",
       "</div>"
      ],
      "text/plain": [
       "            time_step  consumption  visibility  temperature   humidity  \\\n",
       "0 2014-01-01 00:00:00     312.2222       30.00     8.400000  86.000000   \n",
       "1 2014-01-01 00:01:00     318.8750       29.95     8.401667  85.983333   \n",
       "2 2014-01-01 00:02:00     314.3000       29.90     8.403333  85.966667   \n",
       "3 2014-01-01 00:03:00     311.4444       29.85     8.405000  85.950000   \n",
       "4 2014-01-01 00:04:00     310.0000       29.80     8.406667  85.933333   \n",
       "\n",
       "    humidex  windchill  wind  pressure  weekday  month  hour  is_weekend  \\\n",
       "0  8.400000   5.600000  17.0  1016.600        2      1     0           0   \n",
       "1  8.401667   5.616667  16.9  1016.615        2      1     0           0   \n",
       "2  8.403333   5.633333  16.8  1016.630        2      1     0           0   \n",
       "3  8.405000   5.650000  16.7  1016.645        2      1     0           0   \n",
       "4  8.406667   5.666667  16.6  1016.660        2      1     0           0   \n",
       "\n",
       "   is_holidays  is_breakfast  is_teatime  is_TVtime  is_night  \n",
       "0            0             0           0          0         0  \n",
       "1            0             0           0          0         0  \n",
       "2            0             0           0          0         0  \n",
       "3            0             0           0          0         0  \n",
       "4            0             0           0          0         0  "
      ]
     },
     "execution_count": 50,
     "metadata": {},
     "output_type": "execute_result"
    }
   ],
   "source": [
    "X_test.head()"
   ]
  },
  {
   "cell_type": "code",
   "execution_count": 51,
   "metadata": {
    "ExecuteTime": {
     "end_time": "2020-03-10T09:45:21.889939Z",
     "start_time": "2020-03-10T09:45:21.810007Z"
    }
   },
   "outputs": [],
   "source": [
    "y_pred = regressor.predict(X_test.iloc[:,1:])"
   ]
  },
  {
   "cell_type": "code",
   "execution_count": 52,
   "metadata": {
    "ExecuteTime": {
     "end_time": "2020-03-10T09:45:21.920422Z",
     "start_time": "2020-03-10T09:45:21.894395Z"
    }
   },
   "outputs": [],
   "source": [
    "pred = pd.DataFrame(y_pred, columns=Y_train.columns[1:])\n",
    "pred= pd.concat([time, pred], axis=1)"
   ]
  },
  {
   "cell_type": "code",
   "execution_count": 53,
   "metadata": {
    "ExecuteTime": {
     "end_time": "2020-03-10T09:45:21.966128Z",
     "start_time": "2020-03-10T09:45:21.933303Z"
    }
   },
   "outputs": [
    {
     "data": {
      "text/html": [
       "<div>\n",
       "<style scoped>\n",
       "    .dataframe tbody tr th:only-of-type {\n",
       "        vertical-align: middle;\n",
       "    }\n",
       "\n",
       "    .dataframe tbody tr th {\n",
       "        vertical-align: top;\n",
       "    }\n",
       "\n",
       "    .dataframe thead th {\n",
       "        text-align: right;\n",
       "    }\n",
       "</style>\n",
       "<table border=\"1\" class=\"dataframe\">\n",
       "  <thead>\n",
       "    <tr style=\"text-align: right;\">\n",
       "      <th></th>\n",
       "      <th>time_step</th>\n",
       "      <th>washing_machine</th>\n",
       "      <th>fridge_freezer</th>\n",
       "      <th>TV</th>\n",
       "      <th>kettle</th>\n",
       "    </tr>\n",
       "  </thead>\n",
       "  <tbody>\n",
       "    <tr>\n",
       "      <th>0</th>\n",
       "      <td>2014-01-01T00:00:00.0</td>\n",
       "      <td>6.670909</td>\n",
       "      <td>42.653683</td>\n",
       "      <td>12.640056</td>\n",
       "      <td>9.277171</td>\n",
       "    </tr>\n",
       "    <tr>\n",
       "      <th>1</th>\n",
       "      <td>2014-01-01T00:01:00.0</td>\n",
       "      <td>6.932611</td>\n",
       "      <td>42.776100</td>\n",
       "      <td>12.681377</td>\n",
       "      <td>10.108904</td>\n",
       "    </tr>\n",
       "    <tr>\n",
       "      <th>2</th>\n",
       "      <td>2014-01-01T00:02:00.0</td>\n",
       "      <td>6.791923</td>\n",
       "      <td>42.688638</td>\n",
       "      <td>12.647844</td>\n",
       "      <td>9.545616</td>\n",
       "    </tr>\n",
       "    <tr>\n",
       "      <th>3</th>\n",
       "      <td>2014-01-01T00:03:00.0</td>\n",
       "      <td>6.712856</td>\n",
       "      <td>42.633316</td>\n",
       "      <td>12.625773</td>\n",
       "      <td>9.195959</td>\n",
       "    </tr>\n",
       "    <tr>\n",
       "      <th>4</th>\n",
       "      <td>2014-01-01T00:04:00.0</td>\n",
       "      <td>6.684365</td>\n",
       "      <td>42.604374</td>\n",
       "      <td>12.613111</td>\n",
       "      <td>9.021639</td>\n",
       "    </tr>\n",
       "  </tbody>\n",
       "</table>\n",
       "</div>"
      ],
      "text/plain": [
       "               time_step  washing_machine  fridge_freezer         TV  \\\n",
       "0  2014-01-01T00:00:00.0         6.670909       42.653683  12.640056   \n",
       "1  2014-01-01T00:01:00.0         6.932611       42.776100  12.681377   \n",
       "2  2014-01-01T00:02:00.0         6.791923       42.688638  12.647844   \n",
       "3  2014-01-01T00:03:00.0         6.712856       42.633316  12.625773   \n",
       "4  2014-01-01T00:04:00.0         6.684365       42.604374  12.613111   \n",
       "\n",
       "      kettle  \n",
       "0   9.277171  \n",
       "1  10.108904  \n",
       "2   9.545616  \n",
       "3   9.195959  \n",
       "4   9.021639  "
      ]
     },
     "execution_count": 53,
     "metadata": {},
     "output_type": "execute_result"
    }
   ],
   "source": [
    "pred.head()"
   ]
  },
  {
   "cell_type": "code",
   "execution_count": 54,
   "metadata": {
    "ExecuteTime": {
     "end_time": "2020-03-10T09:45:24.484570Z",
     "start_time": "2020-03-10T09:45:21.973396Z"
    }
   },
   "outputs": [],
   "source": [
    "pred.to_csv(\"test_submission.csv\", index=False)"
   ]
  },
  {
   "cell_type": "markdown",
   "metadata": {},
   "source": [
    "### Random Forest, a look at feature importance"
   ]
  },
  {
   "cell_type": "code",
   "execution_count": 55,
   "metadata": {
    "ExecuteTime": {
     "end_time": "2020-03-10T09:45:24.557730Z",
     "start_time": "2020-03-10T09:45:24.487154Z"
    }
   },
   "outputs": [],
   "source": [
    "from sklearn.ensemble import RandomForestRegressor"
   ]
  },
  {
   "cell_type": "code",
   "execution_count": 56,
   "metadata": {
    "ExecuteTime": {
     "end_time": "2020-03-10T09:45:24.564389Z",
     "start_time": "2020-03-10T09:45:24.560187Z"
    }
   },
   "outputs": [],
   "source": [
    "regressor = MultiOutputRegressor(RandomForestRegressor())"
   ]
  },
  {
   "cell_type": "code",
   "execution_count": 57,
   "metadata": {
    "ExecuteTime": {
     "end_time": "2020-03-10T09:45:24.686533Z",
     "start_time": "2020-03-10T09:45:24.569299Z"
    }
   },
   "outputs": [],
   "source": [
    "x_train, x_valid, y_train, y_valid = train_test_split(\n",
    "    X_train.drop('time_step', axis=1), Y_train.drop('time_step', axis=1), test_size=0.33, random_state=42)"
   ]
  },
  {
   "cell_type": "code",
   "execution_count": 58,
   "metadata": {
    "ExecuteTime": {
     "end_time": "2020-03-10T09:45:24.691238Z",
     "start_time": "2020-03-10T09:45:24.688705Z"
    }
   },
   "outputs": [],
   "source": [
    "# regressor.fit(x_train, y_train)"
   ]
  },
  {
   "cell_type": "code",
   "execution_count": 59,
   "metadata": {
    "ExecuteTime": {
     "end_time": "2020-03-10T09:45:24.700054Z",
     "start_time": "2020-03-10T09:45:24.692724Z"
    }
   },
   "outputs": [],
   "source": [
    "# print(regr.feature_importances_)"
   ]
  },
  {
   "cell_type": "markdown",
   "metadata": {
    "ExecuteTime": {
     "end_time": "2020-03-07T16:37:38.675609Z",
     "start_time": "2020-03-07T16:37:38.669848Z"
    }
   },
   "source": [
    "### Preprocessing"
   ]
  },
  {
   "cell_type": "markdown",
   "metadata": {},
   "source": [
    "Build a custom OneHotEncoder"
   ]
  },
  {
   "cell_type": "code",
<<<<<<< HEAD
   "execution_count": 42,
   "metadata": {
    "ExecuteTime": {
     "end_time": "2020-03-10T16:41:51.993258Z",
     "start_time": "2020-03-10T16:41:51.951673Z"
    }
   },
=======
   "execution_count": null,
   "metadata": {},
>>>>>>> fca34dae68163f51a6787ae1b3f39a88a1989afc
   "outputs": [],
   "source": [
    "class MyOneHotEncoder(BaseEstimator, TransformerMixin):\n",
    "\n",
    "    def __init__(self):\n",
    "        self.all_possible_hours = np.arange(0, 24)\n",
    "        self.all_possible_weekdays = np.arange(0, 7)\n",
    "        self.all_possible_months = np.arange(1, 13)\n",
    "        self.ohe_hours = OneHotEncoder(drop=\"first\")\n",
    "        self.ohe_weekdays = OneHotEncoder(drop=\"first\")\n",
    "        self.ohe_months = OneHotEncoder(drop=\"first\")\n",
    "    \n",
    "    def fit(self, X, y=None):\n",
    "        self.ohe_hours.fit(self.all_possible_hours.reshape(-1,1))\n",
    "        self.ohe_weekdays.fit(self.all_possible_weekdays.reshape(-1,1))\n",
    "        self.ohe_months.fit(self.all_possible_months.reshape(-1,1))\n",
    "        return self\n",
    "\n",
    "    def transform(self, X, y=None):\n",
    "#         self.fit(X)\n",
    "        hours = pd.DataFrame(self.ohe_hours.transform(X.hour.values.reshape(-1,1)).toarray(), \n",
    "                             columns=[\"hour_\"+str(i) for i in range(1, 24)])\n",
    "        weekdays = pd.DataFrame(self.ohe_weekdays.transform(X.weekday.values.reshape(-1,1)).toarray(), \n",
    "                             columns=[\"weekday_\"+str(i) for i in range(1, 7)])\n",
    "        months = pd.DataFrame(self.ohe_months.transform(X.month.values.reshape(-1,1)).toarray(), \n",
    "                             columns=[\"month_\"+str(i) for i in range(2, 13)])\n",
    "        X = pd.concat([X, hours, weekdays, months], axis=1)\n",
    "        return X"
   ]
  },
  {
   "cell_type": "code",
   "execution_count": 43,
   "metadata": {
    "ExecuteTime": {
     "end_time": "2020-03-10T16:41:52.842619Z",
     "start_time": "2020-03-10T16:41:52.829204Z"
    }
   },
   "outputs": [
    {
     "data": {
      "text/plain": [
       "MyOneHotEncoder()"
      ]
     },
     "execution_count": 43,
     "metadata": {},
     "output_type": "execute_result"
    }
   ],
   "source": [
    "oh = MyOneHotEncoder()\n",
    "oh.fit(X_train)"
   ]
  },
  {
   "cell_type": "code",
   "execution_count": 44,
   "metadata": {
    "ExecuteTime": {
     "end_time": "2020-03-10T16:41:53.735563Z",
     "start_time": "2020-03-10T16:41:53.726566Z"
    }
   },
   "outputs": [],
   "source": [
    "pd.set_option('display.max_columns', None)"
   ]
  },
  {
   "cell_type": "code",
   "execution_count": 45,
   "metadata": {
    "ExecuteTime": {
     "end_time": "2020-03-10T16:41:54.936521Z",
     "start_time": "2020-03-10T16:41:54.364887Z"
    }
   },
   "outputs": [],
   "source": [
    "x_train = oh.transform(X_train)"
   ]
  },
  {
   "cell_type": "markdown",
   "metadata": {},
   "source": [
    "Testing Pipeline:"
   ]
  },
  {
   "cell_type": "code",
   "execution_count": 46,
   "metadata": {
    "ExecuteTime": {
     "end_time": "2020-03-10T16:42:09.097276Z",
     "start_time": "2020-03-10T16:42:08.380492Z"
    }
   },
   "outputs": [],
   "source": [
    "X_train = pd.read_csv(\n",
    "    'provided_data_and_metric/X_train_6GWGSxz.csv',\n",
    ")\n",
    "Y_train = pd.read_csv(\n",
    "    'provided_data_and_metric/y_train_2G60rOL.csv',\n",
    ")"
   ]
  },
  {
   "cell_type": "markdown",
   "metadata": {},
   "source": [
    "It doesn't work if I uncomment. Why?"
   ]
  },
  {
   "cell_type": "code",
<<<<<<< HEAD
   "execution_count": 47,
   "metadata": {
    "ExecuteTime": {
     "end_time": "2020-03-10T16:42:10.341845Z",
     "start_time": "2020-03-10T16:42:10.332180Z"
    }
   },
=======
   "execution_count": null,
   "metadata": {},
>>>>>>> fca34dae68163f51a6787ae1b3f39a88a1989afc
   "outputs": [],
   "source": [
    "p = Pipeline([\n",
    "    (\n",
    "        '1',\n",
    "        DataImputer()\n",
    "    ),\n",
    "    (\n",
    "        '2',\n",
    "        DataAugmenter()\n",
    "    ),\n",
    "    (\n",
    "        '3',\n",
    "        MyOneHotEncoder()\n",
    "    ),\n",
    "])"
   ]
  },
  {
   "cell_type": "code",
   "execution_count": 48,
   "metadata": {
    "ExecuteTime": {
     "end_time": "2020-03-10T16:42:33.760589Z",
     "start_time": "2020-03-10T16:42:11.488492Z"
    }
   },
   "outputs": [
    {
     "data": {
      "text/plain": [
       "Pipeline(memory=None,\n",
       "         steps=[('1', DataImputer()), ('2', DataAugmenter()),\n",
       "                ('3', MyOneHotEncoder())],\n",
       "         verbose=False)"
      ]
     },
     "execution_count": 48,
     "metadata": {},
     "output_type": "execute_result"
    }
   ],
   "source": [
    "p.fit(X_train)"
   ]
  },
  {
   "cell_type": "code",
   "execution_count": 49,
   "metadata": {
    "ExecuteTime": {
     "end_time": "2020-03-10T16:42:57.583466Z",
     "start_time": "2020-03-10T16:42:33.762226Z"
    }
   },
   "outputs": [
    {
     "data": {
      "text/html": [
       "<div>\n",
       "<style scoped>\n",
       "    .dataframe tbody tr th:only-of-type {\n",
       "        vertical-align: middle;\n",
       "    }\n",
       "\n",
       "    .dataframe tbody tr th {\n",
       "        vertical-align: top;\n",
       "    }\n",
       "\n",
       "    .dataframe thead th {\n",
       "        text-align: right;\n",
       "    }\n",
       "</style>\n",
       "<table border=\"1\" class=\"dataframe\">\n",
       "  <thead>\n",
       "    <tr style=\"text-align: right;\">\n",
       "      <th></th>\n",
       "      <th>time_step</th>\n",
       "      <th>consumption</th>\n",
       "      <th>visibility</th>\n",
       "      <th>temperature</th>\n",
       "      <th>humidity</th>\n",
       "      <th>humidex</th>\n",
       "      <th>windchill</th>\n",
       "      <th>wind</th>\n",
       "      <th>pressure</th>\n",
       "      <th>weekday</th>\n",
       "      <th>month</th>\n",
       "      <th>hour</th>\n",
       "      <th>is_weekend</th>\n",
       "      <th>is_holidays</th>\n",
       "      <th>is_breakfast</th>\n",
       "      <th>is_teatime</th>\n",
       "      <th>is_TVtime</th>\n",
       "      <th>is_night</th>\n",
       "      <th>hour_1</th>\n",
       "      <th>hour_2</th>\n",
       "      <th>hour_3</th>\n",
       "      <th>hour_4</th>\n",
       "      <th>hour_5</th>\n",
       "      <th>hour_6</th>\n",
       "      <th>hour_7</th>\n",
       "      <th>hour_8</th>\n",
       "      <th>hour_9</th>\n",
       "      <th>hour_10</th>\n",
       "      <th>hour_11</th>\n",
       "      <th>hour_12</th>\n",
       "      <th>hour_13</th>\n",
       "      <th>hour_14</th>\n",
       "      <th>hour_15</th>\n",
       "      <th>hour_16</th>\n",
       "      <th>hour_17</th>\n",
       "      <th>hour_18</th>\n",
       "      <th>hour_19</th>\n",
       "      <th>hour_20</th>\n",
       "      <th>hour_21</th>\n",
       "      <th>hour_22</th>\n",
       "      <th>hour_23</th>\n",
       "      <th>weekday_1</th>\n",
       "      <th>weekday_2</th>\n",
       "      <th>weekday_3</th>\n",
       "      <th>weekday_4</th>\n",
       "      <th>weekday_5</th>\n",
       "      <th>weekday_6</th>\n",
       "      <th>month_2</th>\n",
       "      <th>month_3</th>\n",
       "      <th>month_4</th>\n",
       "      <th>month_5</th>\n",
       "      <th>month_6</th>\n",
       "      <th>month_7</th>\n",
       "      <th>month_8</th>\n",
       "      <th>month_9</th>\n",
       "      <th>month_10</th>\n",
       "      <th>month_11</th>\n",
       "      <th>month_12</th>\n",
       "    </tr>\n",
       "  </thead>\n",
       "  <tbody>\n",
       "    <tr>\n",
       "      <th>0</th>\n",
       "      <td>2013-03-17 00:01:00</td>\n",
       "      <td>550.4000</td>\n",
       "      <td>35.0</td>\n",
       "      <td>8.9</td>\n",
       "      <td>86.0</td>\n",
       "      <td>8.9</td>\n",
       "      <td>6.0</td>\n",
       "      <td>19.0</td>\n",
       "      <td>1017.3</td>\n",
       "      <td>6</td>\n",
       "      <td>3</td>\n",
       "      <td>0</td>\n",
       "      <td>1</td>\n",
       "      <td>0</td>\n",
       "      <td>0</td>\n",
       "      <td>0</td>\n",
       "      <td>0</td>\n",
       "      <td>0</td>\n",
       "      <td>0.0</td>\n",
       "      <td>0.0</td>\n",
       "      <td>0.0</td>\n",
       "      <td>0.0</td>\n",
       "      <td>0.0</td>\n",
       "      <td>0.0</td>\n",
       "      <td>0.0</td>\n",
       "      <td>0.0</td>\n",
       "      <td>0.0</td>\n",
       "      <td>0.0</td>\n",
       "      <td>0.0</td>\n",
       "      <td>0.0</td>\n",
       "      <td>0.0</td>\n",
       "      <td>0.0</td>\n",
       "      <td>0.0</td>\n",
       "      <td>0.0</td>\n",
       "      <td>0.0</td>\n",
       "      <td>0.0</td>\n",
       "      <td>0.0</td>\n",
       "      <td>0.0</td>\n",
       "      <td>0.0</td>\n",
       "      <td>0.0</td>\n",
       "      <td>0.0</td>\n",
       "      <td>0.0</td>\n",
       "      <td>0.0</td>\n",
       "      <td>0.0</td>\n",
       "      <td>0.0</td>\n",
       "      <td>0.0</td>\n",
       "      <td>1.0</td>\n",
       "      <td>0.0</td>\n",
       "      <td>1.0</td>\n",
       "      <td>0.0</td>\n",
       "      <td>0.0</td>\n",
       "      <td>0.0</td>\n",
       "      <td>0.0</td>\n",
       "      <td>0.0</td>\n",
       "      <td>0.0</td>\n",
       "      <td>0.0</td>\n",
       "      <td>0.0</td>\n",
       "      <td>0.0</td>\n",
       "    </tr>\n",
       "    <tr>\n",
       "      <th>1</th>\n",
       "      <td>2013-03-17 00:02:00</td>\n",
       "      <td>548.6000</td>\n",
       "      <td>35.0</td>\n",
       "      <td>8.9</td>\n",
       "      <td>86.0</td>\n",
       "      <td>8.9</td>\n",
       "      <td>6.0</td>\n",
       "      <td>19.0</td>\n",
       "      <td>1017.3</td>\n",
       "      <td>6</td>\n",
       "      <td>3</td>\n",
       "      <td>0</td>\n",
       "      <td>1</td>\n",
       "      <td>0</td>\n",
       "      <td>0</td>\n",
       "      <td>0</td>\n",
       "      <td>0</td>\n",
       "      <td>0</td>\n",
       "      <td>0.0</td>\n",
       "      <td>0.0</td>\n",
       "      <td>0.0</td>\n",
       "      <td>0.0</td>\n",
       "      <td>0.0</td>\n",
       "      <td>0.0</td>\n",
       "      <td>0.0</td>\n",
       "      <td>0.0</td>\n",
       "      <td>0.0</td>\n",
       "      <td>0.0</td>\n",
       "      <td>0.0</td>\n",
       "      <td>0.0</td>\n",
       "      <td>0.0</td>\n",
       "      <td>0.0</td>\n",
       "      <td>0.0</td>\n",
       "      <td>0.0</td>\n",
       "      <td>0.0</td>\n",
       "      <td>0.0</td>\n",
       "      <td>0.0</td>\n",
       "      <td>0.0</td>\n",
       "      <td>0.0</td>\n",
       "      <td>0.0</td>\n",
       "      <td>0.0</td>\n",
       "      <td>0.0</td>\n",
       "      <td>0.0</td>\n",
       "      <td>0.0</td>\n",
       "      <td>0.0</td>\n",
       "      <td>0.0</td>\n",
       "      <td>1.0</td>\n",
       "      <td>0.0</td>\n",
       "      <td>1.0</td>\n",
       "      <td>0.0</td>\n",
       "      <td>0.0</td>\n",
       "      <td>0.0</td>\n",
       "      <td>0.0</td>\n",
       "      <td>0.0</td>\n",
       "      <td>0.0</td>\n",
       "      <td>0.0</td>\n",
       "      <td>0.0</td>\n",
       "      <td>0.0</td>\n",
       "    </tr>\n",
       "    <tr>\n",
       "      <th>2</th>\n",
       "      <td>2013-03-17 00:03:00</td>\n",
       "      <td>549.3000</td>\n",
       "      <td>35.0</td>\n",
       "      <td>8.9</td>\n",
       "      <td>86.0</td>\n",
       "      <td>8.9</td>\n",
       "      <td>6.0</td>\n",
       "      <td>19.0</td>\n",
       "      <td>1017.3</td>\n",
       "      <td>6</td>\n",
       "      <td>3</td>\n",
       "      <td>0</td>\n",
       "      <td>1</td>\n",
       "      <td>0</td>\n",
       "      <td>0</td>\n",
       "      <td>0</td>\n",
       "      <td>0</td>\n",
       "      <td>0</td>\n",
       "      <td>0.0</td>\n",
       "      <td>0.0</td>\n",
       "      <td>0.0</td>\n",
       "      <td>0.0</td>\n",
       "      <td>0.0</td>\n",
       "      <td>0.0</td>\n",
       "      <td>0.0</td>\n",
       "      <td>0.0</td>\n",
       "      <td>0.0</td>\n",
       "      <td>0.0</td>\n",
       "      <td>0.0</td>\n",
       "      <td>0.0</td>\n",
       "      <td>0.0</td>\n",
       "      <td>0.0</td>\n",
       "      <td>0.0</td>\n",
       "      <td>0.0</td>\n",
       "      <td>0.0</td>\n",
       "      <td>0.0</td>\n",
       "      <td>0.0</td>\n",
       "      <td>0.0</td>\n",
       "      <td>0.0</td>\n",
       "      <td>0.0</td>\n",
       "      <td>0.0</td>\n",
       "      <td>0.0</td>\n",
       "      <td>0.0</td>\n",
       "      <td>0.0</td>\n",
       "      <td>0.0</td>\n",
       "      <td>0.0</td>\n",
       "      <td>1.0</td>\n",
       "      <td>0.0</td>\n",
       "      <td>1.0</td>\n",
       "      <td>0.0</td>\n",
       "      <td>0.0</td>\n",
       "      <td>0.0</td>\n",
       "      <td>0.0</td>\n",
       "      <td>0.0</td>\n",
       "      <td>0.0</td>\n",
       "      <td>0.0</td>\n",
       "      <td>0.0</td>\n",
       "      <td>0.0</td>\n",
       "    </tr>\n",
       "    <tr>\n",
       "      <th>3</th>\n",
       "      <td>2013-03-17 00:04:00</td>\n",
       "      <td>549.3667</td>\n",
       "      <td>35.0</td>\n",
       "      <td>8.9</td>\n",
       "      <td>86.0</td>\n",
       "      <td>8.9</td>\n",
       "      <td>6.0</td>\n",
       "      <td>19.0</td>\n",
       "      <td>1017.3</td>\n",
       "      <td>6</td>\n",
       "      <td>3</td>\n",
       "      <td>0</td>\n",
       "      <td>1</td>\n",
       "      <td>0</td>\n",
       "      <td>0</td>\n",
       "      <td>0</td>\n",
       "      <td>0</td>\n",
       "      <td>0</td>\n",
       "      <td>0.0</td>\n",
       "      <td>0.0</td>\n",
       "      <td>0.0</td>\n",
       "      <td>0.0</td>\n",
       "      <td>0.0</td>\n",
       "      <td>0.0</td>\n",
       "      <td>0.0</td>\n",
       "      <td>0.0</td>\n",
       "      <td>0.0</td>\n",
       "      <td>0.0</td>\n",
       "      <td>0.0</td>\n",
       "      <td>0.0</td>\n",
       "      <td>0.0</td>\n",
       "      <td>0.0</td>\n",
       "      <td>0.0</td>\n",
       "      <td>0.0</td>\n",
       "      <td>0.0</td>\n",
       "      <td>0.0</td>\n",
       "      <td>0.0</td>\n",
       "      <td>0.0</td>\n",
       "      <td>0.0</td>\n",
       "      <td>0.0</td>\n",
       "      <td>0.0</td>\n",
       "      <td>0.0</td>\n",
       "      <td>0.0</td>\n",
       "      <td>0.0</td>\n",
       "      <td>0.0</td>\n",
       "      <td>0.0</td>\n",
       "      <td>1.0</td>\n",
       "      <td>0.0</td>\n",
       "      <td>1.0</td>\n",
       "      <td>0.0</td>\n",
       "      <td>0.0</td>\n",
       "      <td>0.0</td>\n",
       "      <td>0.0</td>\n",
       "      <td>0.0</td>\n",
       "      <td>0.0</td>\n",
       "      <td>0.0</td>\n",
       "      <td>0.0</td>\n",
       "      <td>0.0</td>\n",
       "    </tr>\n",
       "    <tr>\n",
       "      <th>4</th>\n",
       "      <td>2013-03-17 00:05:00</td>\n",
       "      <td>548.8909</td>\n",
       "      <td>35.0</td>\n",
       "      <td>8.9</td>\n",
       "      <td>86.0</td>\n",
       "      <td>8.9</td>\n",
       "      <td>6.0</td>\n",
       "      <td>19.0</td>\n",
       "      <td>1017.3</td>\n",
       "      <td>6</td>\n",
       "      <td>3</td>\n",
       "      <td>0</td>\n",
       "      <td>1</td>\n",
       "      <td>0</td>\n",
       "      <td>0</td>\n",
       "      <td>0</td>\n",
       "      <td>0</td>\n",
       "      <td>0</td>\n",
       "      <td>0.0</td>\n",
       "      <td>0.0</td>\n",
       "      <td>0.0</td>\n",
       "      <td>0.0</td>\n",
       "      <td>0.0</td>\n",
       "      <td>0.0</td>\n",
       "      <td>0.0</td>\n",
       "      <td>0.0</td>\n",
       "      <td>0.0</td>\n",
       "      <td>0.0</td>\n",
       "      <td>0.0</td>\n",
       "      <td>0.0</td>\n",
       "      <td>0.0</td>\n",
       "      <td>0.0</td>\n",
       "      <td>0.0</td>\n",
       "      <td>0.0</td>\n",
       "      <td>0.0</td>\n",
       "      <td>0.0</td>\n",
       "      <td>0.0</td>\n",
       "      <td>0.0</td>\n",
       "      <td>0.0</td>\n",
       "      <td>0.0</td>\n",
       "      <td>0.0</td>\n",
       "      <td>0.0</td>\n",
       "      <td>0.0</td>\n",
       "      <td>0.0</td>\n",
       "      <td>0.0</td>\n",
       "      <td>0.0</td>\n",
       "      <td>1.0</td>\n",
       "      <td>0.0</td>\n",
       "      <td>1.0</td>\n",
       "      <td>0.0</td>\n",
       "      <td>0.0</td>\n",
       "      <td>0.0</td>\n",
       "      <td>0.0</td>\n",
       "      <td>0.0</td>\n",
       "      <td>0.0</td>\n",
       "      <td>0.0</td>\n",
       "      <td>0.0</td>\n",
       "      <td>0.0</td>\n",
       "    </tr>\n",
       "    <tr>\n",
       "      <th>...</th>\n",
       "      <td>...</td>\n",
       "      <td>...</td>\n",
       "      <td>...</td>\n",
       "      <td>...</td>\n",
       "      <td>...</td>\n",
       "      <td>...</td>\n",
       "      <td>...</td>\n",
       "      <td>...</td>\n",
       "      <td>...</td>\n",
       "      <td>...</td>\n",
       "      <td>...</td>\n",
       "      <td>...</td>\n",
       "      <td>...</td>\n",
       "      <td>...</td>\n",
       "      <td>...</td>\n",
       "      <td>...</td>\n",
       "      <td>...</td>\n",
       "      <td>...</td>\n",
       "      <td>...</td>\n",
       "      <td>...</td>\n",
       "      <td>...</td>\n",
       "      <td>...</td>\n",
       "      <td>...</td>\n",
       "      <td>...</td>\n",
       "      <td>...</td>\n",
       "      <td>...</td>\n",
       "      <td>...</td>\n",
       "      <td>...</td>\n",
       "      <td>...</td>\n",
       "      <td>...</td>\n",
       "      <td>...</td>\n",
       "      <td>...</td>\n",
       "      <td>...</td>\n",
       "      <td>...</td>\n",
       "      <td>...</td>\n",
       "      <td>...</td>\n",
       "      <td>...</td>\n",
       "      <td>...</td>\n",
       "      <td>...</td>\n",
       "      <td>...</td>\n",
       "      <td>...</td>\n",
       "      <td>...</td>\n",
       "      <td>...</td>\n",
       "      <td>...</td>\n",
       "      <td>...</td>\n",
       "      <td>...</td>\n",
       "      <td>...</td>\n",
       "      <td>...</td>\n",
       "      <td>...</td>\n",
       "      <td>...</td>\n",
       "      <td>...</td>\n",
       "      <td>...</td>\n",
       "      <td>...</td>\n",
       "      <td>...</td>\n",
       "      <td>...</td>\n",
       "      <td>...</td>\n",
       "      <td>...</td>\n",
       "      <td>...</td>\n",
       "    </tr>\n",
       "    <tr>\n",
       "      <th>417594</th>\n",
       "      <td>2013-12-31 23:55:00</td>\n",
       "      <td>342.6667</td>\n",
       "      <td>8.0</td>\n",
       "      <td>9.6</td>\n",
       "      <td>92.0</td>\n",
       "      <td>10.1</td>\n",
       "      <td>5.7</td>\n",
       "      <td>33.0</td>\n",
       "      <td>1016.1</td>\n",
       "      <td>1</td>\n",
       "      <td>12</td>\n",
       "      <td>23</td>\n",
       "      <td>0</td>\n",
       "      <td>0</td>\n",
       "      <td>0</td>\n",
       "      <td>0</td>\n",
       "      <td>0</td>\n",
       "      <td>0</td>\n",
       "      <td>0.0</td>\n",
       "      <td>0.0</td>\n",
       "      <td>0.0</td>\n",
       "      <td>0.0</td>\n",
       "      <td>0.0</td>\n",
       "      <td>0.0</td>\n",
       "      <td>0.0</td>\n",
       "      <td>0.0</td>\n",
       "      <td>0.0</td>\n",
       "      <td>0.0</td>\n",
       "      <td>0.0</td>\n",
       "      <td>0.0</td>\n",
       "      <td>0.0</td>\n",
       "      <td>0.0</td>\n",
       "      <td>0.0</td>\n",
       "      <td>0.0</td>\n",
       "      <td>0.0</td>\n",
       "      <td>0.0</td>\n",
       "      <td>0.0</td>\n",
       "      <td>0.0</td>\n",
       "      <td>0.0</td>\n",
       "      <td>0.0</td>\n",
       "      <td>1.0</td>\n",
       "      <td>1.0</td>\n",
       "      <td>0.0</td>\n",
       "      <td>0.0</td>\n",
       "      <td>0.0</td>\n",
       "      <td>0.0</td>\n",
       "      <td>0.0</td>\n",
       "      <td>0.0</td>\n",
       "      <td>0.0</td>\n",
       "      <td>0.0</td>\n",
       "      <td>0.0</td>\n",
       "      <td>0.0</td>\n",
       "      <td>0.0</td>\n",
       "      <td>0.0</td>\n",
       "      <td>0.0</td>\n",
       "      <td>0.0</td>\n",
       "      <td>0.0</td>\n",
       "      <td>1.0</td>\n",
       "    </tr>\n",
       "    <tr>\n",
       "      <th>417595</th>\n",
       "      <td>2013-12-31 23:56:00</td>\n",
       "      <td>311.5556</td>\n",
       "      <td>8.0</td>\n",
       "      <td>9.6</td>\n",
       "      <td>92.0</td>\n",
       "      <td>10.1</td>\n",
       "      <td>5.7</td>\n",
       "      <td>33.0</td>\n",
       "      <td>1016.1</td>\n",
       "      <td>1</td>\n",
       "      <td>12</td>\n",
       "      <td>23</td>\n",
       "      <td>0</td>\n",
       "      <td>0</td>\n",
       "      <td>0</td>\n",
       "      <td>0</td>\n",
       "      <td>0</td>\n",
       "      <td>0</td>\n",
       "      <td>0.0</td>\n",
       "      <td>0.0</td>\n",
       "      <td>0.0</td>\n",
       "      <td>0.0</td>\n",
       "      <td>0.0</td>\n",
       "      <td>0.0</td>\n",
       "      <td>0.0</td>\n",
       "      <td>0.0</td>\n",
       "      <td>0.0</td>\n",
       "      <td>0.0</td>\n",
       "      <td>0.0</td>\n",
       "      <td>0.0</td>\n",
       "      <td>0.0</td>\n",
       "      <td>0.0</td>\n",
       "      <td>0.0</td>\n",
       "      <td>0.0</td>\n",
       "      <td>0.0</td>\n",
       "      <td>0.0</td>\n",
       "      <td>0.0</td>\n",
       "      <td>0.0</td>\n",
       "      <td>0.0</td>\n",
       "      <td>0.0</td>\n",
       "      <td>1.0</td>\n",
       "      <td>1.0</td>\n",
       "      <td>0.0</td>\n",
       "      <td>0.0</td>\n",
       "      <td>0.0</td>\n",
       "      <td>0.0</td>\n",
       "      <td>0.0</td>\n",
       "      <td>0.0</td>\n",
       "      <td>0.0</td>\n",
       "      <td>0.0</td>\n",
       "      <td>0.0</td>\n",
       "      <td>0.0</td>\n",
       "      <td>0.0</td>\n",
       "      <td>0.0</td>\n",
       "      <td>0.0</td>\n",
       "      <td>0.0</td>\n",
       "      <td>0.0</td>\n",
       "      <td>1.0</td>\n",
       "    </tr>\n",
       "    <tr>\n",
       "      <th>417596</th>\n",
       "      <td>2013-12-31 23:57:00</td>\n",
       "      <td>310.5000</td>\n",
       "      <td>8.0</td>\n",
       "      <td>9.6</td>\n",
       "      <td>92.0</td>\n",
       "      <td>10.1</td>\n",
       "      <td>5.7</td>\n",
       "      <td>33.0</td>\n",
       "      <td>1016.1</td>\n",
       "      <td>1</td>\n",
       "      <td>12</td>\n",
       "      <td>23</td>\n",
       "      <td>0</td>\n",
       "      <td>0</td>\n",
       "      <td>0</td>\n",
       "      <td>0</td>\n",
       "      <td>0</td>\n",
       "      <td>0</td>\n",
       "      <td>0.0</td>\n",
       "      <td>0.0</td>\n",
       "      <td>0.0</td>\n",
       "      <td>0.0</td>\n",
       "      <td>0.0</td>\n",
       "      <td>0.0</td>\n",
       "      <td>0.0</td>\n",
       "      <td>0.0</td>\n",
       "      <td>0.0</td>\n",
       "      <td>0.0</td>\n",
       "      <td>0.0</td>\n",
       "      <td>0.0</td>\n",
       "      <td>0.0</td>\n",
       "      <td>0.0</td>\n",
       "      <td>0.0</td>\n",
       "      <td>0.0</td>\n",
       "      <td>0.0</td>\n",
       "      <td>0.0</td>\n",
       "      <td>0.0</td>\n",
       "      <td>0.0</td>\n",
       "      <td>0.0</td>\n",
       "      <td>0.0</td>\n",
       "      <td>1.0</td>\n",
       "      <td>1.0</td>\n",
       "      <td>0.0</td>\n",
       "      <td>0.0</td>\n",
       "      <td>0.0</td>\n",
       "      <td>0.0</td>\n",
       "      <td>0.0</td>\n",
       "      <td>0.0</td>\n",
       "      <td>0.0</td>\n",
       "      <td>0.0</td>\n",
       "      <td>0.0</td>\n",
       "      <td>0.0</td>\n",
       "      <td>0.0</td>\n",
       "      <td>0.0</td>\n",
       "      <td>0.0</td>\n",
       "      <td>0.0</td>\n",
       "      <td>0.0</td>\n",
       "      <td>1.0</td>\n",
       "    </tr>\n",
       "    <tr>\n",
       "      <th>417597</th>\n",
       "      <td>2013-12-31 23:58:00</td>\n",
       "      <td>312.0000</td>\n",
       "      <td>8.0</td>\n",
       "      <td>9.6</td>\n",
       "      <td>92.0</td>\n",
       "      <td>10.1</td>\n",
       "      <td>5.7</td>\n",
       "      <td>33.0</td>\n",
       "      <td>1016.1</td>\n",
       "      <td>1</td>\n",
       "      <td>12</td>\n",
       "      <td>23</td>\n",
       "      <td>0</td>\n",
       "      <td>0</td>\n",
       "      <td>0</td>\n",
       "      <td>0</td>\n",
       "      <td>0</td>\n",
       "      <td>0</td>\n",
       "      <td>0.0</td>\n",
       "      <td>0.0</td>\n",
       "      <td>0.0</td>\n",
       "      <td>0.0</td>\n",
       "      <td>0.0</td>\n",
       "      <td>0.0</td>\n",
       "      <td>0.0</td>\n",
       "      <td>0.0</td>\n",
       "      <td>0.0</td>\n",
       "      <td>0.0</td>\n",
       "      <td>0.0</td>\n",
       "      <td>0.0</td>\n",
       "      <td>0.0</td>\n",
       "      <td>0.0</td>\n",
       "      <td>0.0</td>\n",
       "      <td>0.0</td>\n",
       "      <td>0.0</td>\n",
       "      <td>0.0</td>\n",
       "      <td>0.0</td>\n",
       "      <td>0.0</td>\n",
       "      <td>0.0</td>\n",
       "      <td>0.0</td>\n",
       "      <td>1.0</td>\n",
       "      <td>1.0</td>\n",
       "      <td>0.0</td>\n",
       "      <td>0.0</td>\n",
       "      <td>0.0</td>\n",
       "      <td>0.0</td>\n",
       "      <td>0.0</td>\n",
       "      <td>0.0</td>\n",
       "      <td>0.0</td>\n",
       "      <td>0.0</td>\n",
       "      <td>0.0</td>\n",
       "      <td>0.0</td>\n",
       "      <td>0.0</td>\n",
       "      <td>0.0</td>\n",
       "      <td>0.0</td>\n",
       "      <td>0.0</td>\n",
       "      <td>0.0</td>\n",
       "      <td>1.0</td>\n",
       "    </tr>\n",
       "    <tr>\n",
       "      <th>417598</th>\n",
       "      <td>2013-12-31 23:59:00</td>\n",
       "      <td>310.4444</td>\n",
       "      <td>8.0</td>\n",
       "      <td>9.6</td>\n",
       "      <td>92.0</td>\n",
       "      <td>10.1</td>\n",
       "      <td>5.7</td>\n",
       "      <td>33.0</td>\n",
       "      <td>1016.1</td>\n",
       "      <td>1</td>\n",
       "      <td>12</td>\n",
       "      <td>23</td>\n",
       "      <td>0</td>\n",
       "      <td>0</td>\n",
       "      <td>0</td>\n",
       "      <td>0</td>\n",
       "      <td>0</td>\n",
       "      <td>0</td>\n",
       "      <td>0.0</td>\n",
       "      <td>0.0</td>\n",
       "      <td>0.0</td>\n",
       "      <td>0.0</td>\n",
       "      <td>0.0</td>\n",
       "      <td>0.0</td>\n",
       "      <td>0.0</td>\n",
       "      <td>0.0</td>\n",
       "      <td>0.0</td>\n",
       "      <td>0.0</td>\n",
       "      <td>0.0</td>\n",
       "      <td>0.0</td>\n",
       "      <td>0.0</td>\n",
       "      <td>0.0</td>\n",
       "      <td>0.0</td>\n",
       "      <td>0.0</td>\n",
       "      <td>0.0</td>\n",
       "      <td>0.0</td>\n",
       "      <td>0.0</td>\n",
       "      <td>0.0</td>\n",
       "      <td>0.0</td>\n",
       "      <td>0.0</td>\n",
       "      <td>1.0</td>\n",
       "      <td>1.0</td>\n",
       "      <td>0.0</td>\n",
       "      <td>0.0</td>\n",
       "      <td>0.0</td>\n",
       "      <td>0.0</td>\n",
       "      <td>0.0</td>\n",
       "      <td>0.0</td>\n",
       "      <td>0.0</td>\n",
       "      <td>0.0</td>\n",
       "      <td>0.0</td>\n",
       "      <td>0.0</td>\n",
       "      <td>0.0</td>\n",
       "      <td>0.0</td>\n",
       "      <td>0.0</td>\n",
       "      <td>0.0</td>\n",
       "      <td>0.0</td>\n",
       "      <td>1.0</td>\n",
       "    </tr>\n",
       "  </tbody>\n",
       "</table>\n",
       "<p>417599 rows × 58 columns</p>\n",
       "</div>"
      ],
      "text/plain": [
       "                 time_step  consumption  visibility  temperature  humidity  \\\n",
       "0      2013-03-17 00:01:00     550.4000        35.0          8.9      86.0   \n",
       "1      2013-03-17 00:02:00     548.6000        35.0          8.9      86.0   \n",
       "2      2013-03-17 00:03:00     549.3000        35.0          8.9      86.0   \n",
       "3      2013-03-17 00:04:00     549.3667        35.0          8.9      86.0   \n",
       "4      2013-03-17 00:05:00     548.8909        35.0          8.9      86.0   \n",
       "...                    ...          ...         ...          ...       ...   \n",
       "417594 2013-12-31 23:55:00     342.6667         8.0          9.6      92.0   \n",
       "417595 2013-12-31 23:56:00     311.5556         8.0          9.6      92.0   \n",
       "417596 2013-12-31 23:57:00     310.5000         8.0          9.6      92.0   \n",
       "417597 2013-12-31 23:58:00     312.0000         8.0          9.6      92.0   \n",
       "417598 2013-12-31 23:59:00     310.4444         8.0          9.6      92.0   \n",
       "\n",
       "        humidex  windchill  wind  pressure  weekday  month  hour  is_weekend  \\\n",
       "0           8.9        6.0  19.0    1017.3        6      3     0           1   \n",
       "1           8.9        6.0  19.0    1017.3        6      3     0           1   \n",
       "2           8.9        6.0  19.0    1017.3        6      3     0           1   \n",
       "3           8.9        6.0  19.0    1017.3        6      3     0           1   \n",
       "4           8.9        6.0  19.0    1017.3        6      3     0           1   \n",
       "...         ...        ...   ...       ...      ...    ...   ...         ...   \n",
       "417594     10.1        5.7  33.0    1016.1        1     12    23           0   \n",
       "417595     10.1        5.7  33.0    1016.1        1     12    23           0   \n",
       "417596     10.1        5.7  33.0    1016.1        1     12    23           0   \n",
       "417597     10.1        5.7  33.0    1016.1        1     12    23           0   \n",
       "417598     10.1        5.7  33.0    1016.1        1     12    23           0   \n",
       "\n",
       "        is_holidays  is_breakfast  is_teatime  is_TVtime  is_night  hour_1  \\\n",
       "0                 0             0           0          0         0     0.0   \n",
       "1                 0             0           0          0         0     0.0   \n",
       "2                 0             0           0          0         0     0.0   \n",
       "3                 0             0           0          0         0     0.0   \n",
       "4                 0             0           0          0         0     0.0   \n",
       "...             ...           ...         ...        ...       ...     ...   \n",
       "417594            0             0           0          0         0     0.0   \n",
       "417595            0             0           0          0         0     0.0   \n",
       "417596            0             0           0          0         0     0.0   \n",
       "417597            0             0           0          0         0     0.0   \n",
       "417598            0             0           0          0         0     0.0   \n",
       "\n",
       "        hour_2  hour_3  hour_4  hour_5  hour_6  hour_7  hour_8  hour_9  \\\n",
       "0          0.0     0.0     0.0     0.0     0.0     0.0     0.0     0.0   \n",
       "1          0.0     0.0     0.0     0.0     0.0     0.0     0.0     0.0   \n",
       "2          0.0     0.0     0.0     0.0     0.0     0.0     0.0     0.0   \n",
       "3          0.0     0.0     0.0     0.0     0.0     0.0     0.0     0.0   \n",
       "4          0.0     0.0     0.0     0.0     0.0     0.0     0.0     0.0   \n",
       "...        ...     ...     ...     ...     ...     ...     ...     ...   \n",
       "417594     0.0     0.0     0.0     0.0     0.0     0.0     0.0     0.0   \n",
       "417595     0.0     0.0     0.0     0.0     0.0     0.0     0.0     0.0   \n",
       "417596     0.0     0.0     0.0     0.0     0.0     0.0     0.0     0.0   \n",
       "417597     0.0     0.0     0.0     0.0     0.0     0.0     0.0     0.0   \n",
       "417598     0.0     0.0     0.0     0.0     0.0     0.0     0.0     0.0   \n",
       "\n",
       "        hour_10  hour_11  hour_12  hour_13  hour_14  hour_15  hour_16  \\\n",
       "0           0.0      0.0      0.0      0.0      0.0      0.0      0.0   \n",
       "1           0.0      0.0      0.0      0.0      0.0      0.0      0.0   \n",
       "2           0.0      0.0      0.0      0.0      0.0      0.0      0.0   \n",
       "3           0.0      0.0      0.0      0.0      0.0      0.0      0.0   \n",
       "4           0.0      0.0      0.0      0.0      0.0      0.0      0.0   \n",
       "...         ...      ...      ...      ...      ...      ...      ...   \n",
       "417594      0.0      0.0      0.0      0.0      0.0      0.0      0.0   \n",
       "417595      0.0      0.0      0.0      0.0      0.0      0.0      0.0   \n",
       "417596      0.0      0.0      0.0      0.0      0.0      0.0      0.0   \n",
       "417597      0.0      0.0      0.0      0.0      0.0      0.0      0.0   \n",
       "417598      0.0      0.0      0.0      0.0      0.0      0.0      0.0   \n",
       "\n",
       "        hour_17  hour_18  hour_19  hour_20  hour_21  hour_22  hour_23  \\\n",
       "0           0.0      0.0      0.0      0.0      0.0      0.0      0.0   \n",
       "1           0.0      0.0      0.0      0.0      0.0      0.0      0.0   \n",
       "2           0.0      0.0      0.0      0.0      0.0      0.0      0.0   \n",
       "3           0.0      0.0      0.0      0.0      0.0      0.0      0.0   \n",
       "4           0.0      0.0      0.0      0.0      0.0      0.0      0.0   \n",
       "...         ...      ...      ...      ...      ...      ...      ...   \n",
       "417594      0.0      0.0      0.0      0.0      0.0      0.0      1.0   \n",
       "417595      0.0      0.0      0.0      0.0      0.0      0.0      1.0   \n",
       "417596      0.0      0.0      0.0      0.0      0.0      0.0      1.0   \n",
       "417597      0.0      0.0      0.0      0.0      0.0      0.0      1.0   \n",
       "417598      0.0      0.0      0.0      0.0      0.0      0.0      1.0   \n",
       "\n",
       "        weekday_1  weekday_2  weekday_3  weekday_4  weekday_5  weekday_6  \\\n",
       "0             0.0        0.0        0.0        0.0        0.0        1.0   \n",
       "1             0.0        0.0        0.0        0.0        0.0        1.0   \n",
       "2             0.0        0.0        0.0        0.0        0.0        1.0   \n",
       "3             0.0        0.0        0.0        0.0        0.0        1.0   \n",
       "4             0.0        0.0        0.0        0.0        0.0        1.0   \n",
       "...           ...        ...        ...        ...        ...        ...   \n",
       "417594        1.0        0.0        0.0        0.0        0.0        0.0   \n",
       "417595        1.0        0.0        0.0        0.0        0.0        0.0   \n",
       "417596        1.0        0.0        0.0        0.0        0.0        0.0   \n",
       "417597        1.0        0.0        0.0        0.0        0.0        0.0   \n",
       "417598        1.0        0.0        0.0        0.0        0.0        0.0   \n",
       "\n",
       "        month_2  month_3  month_4  month_5  month_6  month_7  month_8  \\\n",
       "0           0.0      1.0      0.0      0.0      0.0      0.0      0.0   \n",
       "1           0.0      1.0      0.0      0.0      0.0      0.0      0.0   \n",
       "2           0.0      1.0      0.0      0.0      0.0      0.0      0.0   \n",
       "3           0.0      1.0      0.0      0.0      0.0      0.0      0.0   \n",
       "4           0.0      1.0      0.0      0.0      0.0      0.0      0.0   \n",
       "...         ...      ...      ...      ...      ...      ...      ...   \n",
       "417594      0.0      0.0      0.0      0.0      0.0      0.0      0.0   \n",
       "417595      0.0      0.0      0.0      0.0      0.0      0.0      0.0   \n",
       "417596      0.0      0.0      0.0      0.0      0.0      0.0      0.0   \n",
       "417597      0.0      0.0      0.0      0.0      0.0      0.0      0.0   \n",
       "417598      0.0      0.0      0.0      0.0      0.0      0.0      0.0   \n",
       "\n",
       "        month_9  month_10  month_11  month_12  \n",
       "0           0.0       0.0       0.0       0.0  \n",
       "1           0.0       0.0       0.0       0.0  \n",
       "2           0.0       0.0       0.0       0.0  \n",
       "3           0.0       0.0       0.0       0.0  \n",
       "4           0.0       0.0       0.0       0.0  \n",
       "...         ...       ...       ...       ...  \n",
       "417594      0.0       0.0       0.0       1.0  \n",
       "417595      0.0       0.0       0.0       1.0  \n",
       "417596      0.0       0.0       0.0       1.0  \n",
       "417597      0.0       0.0       0.0       1.0  \n",
       "417598      0.0       0.0       0.0       1.0  \n",
       "\n",
       "[417599 rows x 58 columns]"
      ]
     },
     "execution_count": 49,
     "metadata": {},
     "output_type": "execute_result"
    }
   ],
   "source": [
    "p.transform(X_train)"
   ]
  },
  {
   "cell_type": "markdown",
   "metadata": {},
   "source": [
    "## Predicting if appliance is on or off\n",
    "There is a huge difference in consumption when an appliance is on or off."
   ]
  },
  {
   "cell_type": "markdown",
   "metadata": {
    "ExecuteTime": {
     "end_time": "2020-03-10T10:12:27.684938Z",
     "start_time": "2020-03-10T10:12:27.674969Z"
    }
   },
   "source": [
    "Fridge:"
   ]
  },
  {
   "cell_type": "code",
   "execution_count": 50,
   "metadata": {
    "ExecuteTime": {
     "end_time": "2020-03-10T16:44:46.863106Z",
     "start_time": "2020-03-10T16:44:46.840062Z"
    }
   },
   "outputs": [
    {
     "data": {
      "text/plain": [
       "92.08616971782708"
      ]
     },
     "execution_count": 50,
     "metadata": {},
     "output_type": "execute_result"
    }
   ],
   "source": [
    "Y_train.fridge_freezer[Y_train.fridge_freezer != 0].mean()"
   ]
  },
  {
   "cell_type": "code",
   "execution_count": 51,
   "metadata": {
    "ExecuteTime": {
     "end_time": "2020-03-10T16:44:48.324114Z",
     "start_time": "2020-03-10T16:44:48.306126Z"
    }
   },
   "outputs": [
    {
     "data": {
      "text/plain": [
       "49.788985171147466"
      ]
     },
     "execution_count": 51,
     "metadata": {},
     "output_type": "execute_result"
    }
   ],
   "source": [
    "Y_train.fridge_freezer.mean()"
   ]
  },
  {
   "cell_type": "markdown",
   "metadata": {},
   "source": [
    "Kettle:"
   ]
  },
  {
   "cell_type": "code",
   "execution_count": 52,
   "metadata": {
    "ExecuteTime": {
     "end_time": "2020-03-10T16:44:52.296507Z",
     "start_time": "2020-03-10T16:44:52.281424Z"
    }
   },
   "outputs": [
    {
     "data": {
      "text/plain": [
       "786.3687359484778"
      ]
     },
     "execution_count": 52,
     "metadata": {},
     "output_type": "execute_result"
    }
   ],
   "source": [
    "Y_train.kettle[Y_train.kettle != 0].mean()"
   ]
  },
  {
   "cell_type": "code",
   "execution_count": 53,
   "metadata": {
    "ExecuteTime": {
     "end_time": "2020-03-10T16:44:55.108931Z",
     "start_time": "2020-03-10T16:44:55.091417Z"
    }
   },
   "outputs": [
    {
     "data": {
      "text/plain": [
       "4.945593913856758"
      ]
     },
     "execution_count": 53,
     "metadata": {},
     "output_type": "execute_result"
    }
   ],
   "source": [
    "Y_train.kettle.mean()"
   ]
  },
  {
   "cell_type": "markdown",
   "metadata": {},
   "source": [
    "Washing Machine:"
   ]
  },
  {
   "cell_type": "code",
   "execution_count": 54,
   "metadata": {
    "ExecuteTime": {
     "end_time": "2020-03-10T16:44:56.660357Z",
     "start_time": "2020-03-10T16:44:56.639466Z"
    }
   },
   "outputs": [
    {
     "data": {
      "text/plain": [
       "45.29994242606396"
      ]
     },
     "execution_count": 54,
     "metadata": {},
     "output_type": "execute_result"
    }
   ],
   "source": [
    "Y_train.washing_machine[Y_train.washing_machine != 0].mean()"
   ]
  },
  {
   "cell_type": "code",
   "execution_count": 55,
   "metadata": {
    "ExecuteTime": {
     "end_time": "2020-03-10T16:44:57.936108Z",
     "start_time": "2020-03-10T16:44:57.917778Z"
    }
   },
   "outputs": [
    {
     "data": {
      "text/plain": [
       "5.549845659452877"
      ]
     },
     "execution_count": 55,
     "metadata": {},
     "output_type": "execute_result"
    }
   ],
   "source": [
    "Y_train.washing_machine.mean()"
   ]
  },
  {
   "cell_type": "markdown",
   "metadata": {},
   "source": [
    "The TV is always on:"
   ]
  },
  {
   "cell_type": "code",
   "execution_count": 56,
   "metadata": {
    "ExecuteTime": {
     "end_time": "2020-03-10T16:45:00.387736Z",
     "start_time": "2020-03-10T16:45:00.372097Z"
    }
   },
   "outputs": [
    {
     "data": {
      "text/plain": [
       "True"
      ]
     },
     "execution_count": 56,
     "metadata": {},
     "output_type": "execute_result"
    }
   ],
   "source": [
    "(Y_train.TV != 0).sum() == len(Y_train)"
   ]
  },
  {
   "cell_type": "code",
   "execution_count": 57,
   "metadata": {
    "ExecuteTime": {
     "end_time": "2020-03-10T16:45:01.049118Z",
     "start_time": "2020-03-10T16:45:01.036087Z"
    }
   },
   "outputs": [
    {
     "data": {
      "text/plain": [
       "17.51444532615103"
      ]
     },
     "execution_count": 57,
     "metadata": {},
     "output_type": "execute_result"
    }
   ],
   "source": [
    "Y_train.TV.std()"
   ]
  },
  {
   "cell_type": "code",
   "execution_count": 136,
   "metadata": {
    "ExecuteTime": {
     "end_time": "2020-03-10T10:21:12.216491Z",
     "start_time": "2020-03-10T10:20:57.017128Z"
    }
   },
   "outputs": [
    {
     "data": {
      "text/plain": [
       "<matplotlib.collections.PathCollection at 0x7f638625e940>"
      ]
     },
     "execution_count": 136,
     "metadata": {},
     "output_type": "execute_result"
    },
    {
     "data": {
      "image/png": "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\n",
      "text/plain": [
       "<Figure size 1080x1080 with 4 Axes>"
      ]
     },
     "metadata": {},
     "output_type": "display_data"
    }
   ],
   "source": [
    "fig, axs = plt.subplots(2,2, figsize=(15,15))\n",
    "axs[0,0].scatter(X_train.consumption[Y_train.washing_machine > 0], Y_train.washing_machine[Y_train.washing_machine > 0], c=\"red\")\n",
    "axs[0,0].scatter(X_train.consumption[Y_train.washing_machine == 0], Y_train.washing_machine[Y_train.washing_machine == 0], c=\"blue\")\n",
    "axs[0,1].scatter(X_train.consumption, Y_train.fridge_freezer )\n",
    "axs[1,0].scatter(X_train.consumption, Y_train.TV )\n",
    "axs[1,1].scatter(X_train.consumption, Y_train.kettle)"
   ]
  },
  {
   "cell_type": "markdown",
   "metadata": {},
   "source": [
    "---\n",
    "---\n",
    "---\n",
    "---\n",
    "---\n",
    "---\n",
    "---"
   ]
  },
  {
   "cell_type": "markdown",
   "metadata": {},
   "source": [
    "## RNN, testing"
   ]
  },
  {
   "cell_type": "code",
   "execution_count": 107,
   "metadata": {
    "ExecuteTime": {
     "end_time": "2020-03-04T10:37:43.618771Z",
     "start_time": "2020-03-04T10:37:43.001887Z"
    }
   },
   "outputs": [],
   "source": [
    "X_train = pd.read_csv(\n",
    "    'provided_data_and_metric/X_train_6GWGSxz.csv',\n",
    ")\n",
    "Y_train = pd.read_csv(\n",
    "    'provided_data_and_metric/y_train_2G60rOL.csv',\n",
    ")\n",
    "X_test = pd.read_csv(\n",
    "    'provided_data_and_metric/X_test_c2uBt2s.csv', \n",
    ")"
   ]
  },
  {
   "cell_type": "code",
   "execution_count": 50,
   "metadata": {
    "ExecuteTime": {
     "end_time": "2020-03-04T10:14:03.708512Z",
     "start_time": "2020-03-04T10:14:03.690375Z"
    }
   },
   "outputs": [],
   "source": [
    "X_train.set_index(\"time_step\", inplace=True)\n",
    "Y_train.set_index(\"time_step\", inplace=True)"
   ]
  },
  {
   "cell_type": "code",
   "execution_count": 51,
   "metadata": {
    "ExecuteTime": {
     "end_time": "2020-03-04T10:14:10.842289Z",
     "start_time": "2020-03-04T10:14:10.617973Z"
    }
   },
   "outputs": [],
   "source": [
    "X_train = X_train.append(X_train.iloc[-1, :])\n",
    "Y_train = Y_train.append(Y_train.iloc[-1, :])"
   ]
  },
  {
   "cell_type": "code",
   "execution_count": 58,
   "metadata": {
    "ExecuteTime": {
     "end_time": "2020-03-04T10:21:01.002756Z",
     "start_time": "2020-03-04T10:21:00.993394Z"
    }
   },
   "outputs": [],
   "source": [
    "class DataImputer(BaseEstimator, TransformerMixin):\n",
    "    \n",
    "    def __init__(self):\n",
    "        self.X = None\n",
    "    \n",
    "    def fit(self, X, y=None):\n",
    "        return X\n",
    "    \n",
    "    def transform(self, X, y=None):\n",
    "        try:\n",
    "            X.drop('Unnamed: 9', axis = 1, inplace = True)\n",
    "        except KeyError as e:\n",
    "            pass\n",
    "        X = X.interpolate(method='linear').fillna(method='bfill')\n",
    "        X.index = pd.to_datetime(X.index)\n",
    "        return X"
   ]
  },
  {
   "cell_type": "code",
   "execution_count": 108,
   "metadata": {
    "ExecuteTime": {
     "end_time": "2020-03-04T10:37:46.148815Z",
     "start_time": "2020-03-04T10:37:46.141715Z"
    }
   },
   "outputs": [],
   "source": [
    "class YImputer(BaseEstimator, TransformerMixin):\n",
    "    \n",
    "    def __init__(self):\n",
    "        self.X = None\n",
    "    \n",
    "    def fit(self, X, y=None):\n",
    "        return X\n",
    "    \n",
    "    def transform(self, X, y=None):\n",
    "        X = X.interpolate(method='linear').fillna(method='bfill')\n",
    "#         X.index = pd.to_datetime(X.index)\n",
    "        return X"
   ]
  },
  {
   "cell_type": "code",
   "execution_count": 157,
   "metadata": {
    "ExecuteTime": {
     "end_time": "2020-03-09T22:50:19.447978Z",
     "start_time": "2020-03-09T22:50:19.433762Z"
    }
   },
   "outputs": [],
   "source": [
    "class DataAugmenter(BaseEstimator, TransformerMixin):\n",
    "    \n",
    "    def __init__(self):\n",
    "        self.X = None\n",
    "    \n",
    "    def fit(self, X, y=None):\n",
    "        return X\n",
    "    \n",
    "    def transform(self, X, y=None):\n",
    "        X[\"time_step\"] = pd.to_datetime(X[\"time_step\"])\n",
    "        X[\"weekday\"] = X.time_step.dt.dayofweek\n",
    "        X[\"month\"] = X.time_step.dt.month\n",
    "        X[\"hour\"] = X.time_step.dt.hour\n",
    "        X[\"is_weekend\"] = (X[\"weekday\"] > 4)*1  \n",
    "        X[\"is_holidays\"] = (X.time_step.dt.date.isin(fr_holidays))*1\n",
    "        \n",
    "        X[\"is_breakfast\"] = ((X.hour>5) & (X.hour<9))*1 \n",
    "        X[\"is_teatime\"] = ((X.hour>16) & (X.hour<20))*1 \n",
    "        X[\"is_TVtime\"] = ((X.hour>17) & (X.hour<23))*1\n",
    "        # X_train[\"is_working_hour\"] = ((X_train.hour>7) & (X_train.hour<19))*1\n",
    "        X[\"is_night\"] = ((X.hour>0) & (X.hour<7))*1\n",
    "        return X"
   ]
  },
  {
   "cell_type": "code",
   "execution_count": 83,
   "metadata": {
    "ExecuteTime": {
     "end_time": "2020-03-04T10:28:01.671863Z",
     "start_time": "2020-03-04T10:28:01.658957Z"
    },
    "scrolled": true
   },
   "outputs": [],
   "source": [
    "class RNNDataFormatter(BaseEstimator, TransformerMixin):\n",
    "    \n",
    "    def __init__(self):\n",
    "        self.X = None\n",
    "    \n",
    "    def fit(self, X, y=None):\n",
    "        return X\n",
    "    \n",
    "    def transform(self, X, y=None):\n",
    "        X.set_index(\"time_step\", inplace=True)\n",
    "        X = X.append(X.iloc[-1, :])\n",
    "        nb_col = X.shape[1]\n",
    "        return X.values.reshape((int(X_rnn.shape[0]/60), 60, nb_col))"
   ]
  },
  {
   "cell_type": "code",
   "execution_count": 84,
   "metadata": {
    "ExecuteTime": {
     "end_time": "2020-03-04T10:28:03.928883Z",
     "start_time": "2020-03-04T10:28:03.913705Z"
    }
   },
   "outputs": [],
   "source": [
    "p1 = Pipeline([\n",
    "    (\n",
    "        '1',\n",
    "        DataImputer()\n",
    "    ),\n",
    "    (\n",
    "        '2',\n",
    "        DataAugmenter()\n",
    "    ),\n",
    "    (\n",
    "        '3',\n",
    "        RNNDataFormatter()\n",
    "    )\n",
    "])"
   ]
  },
  {
   "cell_type": "code",
   "execution_count": 110,
   "metadata": {
    "ExecuteTime": {
     "end_time": "2020-03-04T10:37:50.576727Z",
     "start_time": "2020-03-04T10:37:50.573276Z"
    }
   },
   "outputs": [],
   "source": [
    "p2 = Pipeline([\n",
    "    (\n",
    "        '1',\n",
    "        YImputer()\n",
    "    ),\n",
    "    (\n",
    "        '2',\n",
    "        RNNDataFormatter()\n",
    "    )\n",
    "])"
   ]
  },
  {
   "cell_type": "code",
   "execution_count": 85,
   "metadata": {
    "ExecuteTime": {
     "end_time": "2020-03-04T10:28:26.923388Z",
     "start_time": "2020-03-04T10:28:09.764694Z"
    }
   },
   "outputs": [],
   "source": [
    "X = p1.transform(X_train)"
   ]
  },
  {
   "cell_type": "code",
   "execution_count": 111,
   "metadata": {
    "ExecuteTime": {
     "end_time": "2020-03-04T10:38:10.717062Z",
     "start_time": "2020-03-04T10:37:53.137908Z"
    }
   },
   "outputs": [],
   "source": [
    "Y = p2.transform(Y_train)"
   ]
  },
  {
   "cell_type": "code",
   "execution_count": 86,
   "metadata": {
    "ExecuteTime": {
     "end_time": "2020-03-04T10:28:38.787281Z",
     "start_time": "2020-03-04T10:28:38.783067Z"
    }
   },
   "outputs": [
    {
     "data": {
      "text/plain": [
       "(6960, 60, 14)"
      ]
     },
     "execution_count": 86,
     "metadata": {},
     "output_type": "execute_result"
    }
   ],
   "source": [
    "X.shape"
   ]
  },
  {
   "cell_type": "code",
   "execution_count": 97,
   "metadata": {
    "ExecuteTime": {
     "end_time": "2020-03-04T10:30:36.640937Z",
     "start_time": "2020-03-04T10:30:36.636723Z"
    }
   },
   "outputs": [
    {
     "data": {
      "text/plain": [
       "(6960, 60, 4)"
      ]
     },
     "execution_count": 97,
     "metadata": {},
     "output_type": "execute_result"
    }
   ],
   "source": [
    "Y.shape"
   ]
  },
  {
   "cell_type": "code",
   "execution_count": 98,
   "metadata": {
    "ExecuteTime": {
     "end_time": "2020-03-04T10:30:36.660339Z",
     "start_time": "2020-03-04T10:30:36.642882Z"
    }
   },
   "outputs": [],
   "source": [
    "x_train, y_train = X[:6000, :], Y[:6000, :, :]\n",
    "x_valid, y_valid = X[6000:, :], Y[6000:, :, :]"
   ]
  },
  {
   "cell_type": "markdown",
   "metadata": {},
   "source": [
    "### Baseline Model"
   ]
  },
  {
   "cell_type": "code",
   "execution_count": 101,
   "metadata": {
    "ExecuteTime": {
     "end_time": "2020-03-04T10:32:47.130689Z",
     "start_time": "2020-03-04T10:32:02.897430Z"
    },
    "scrolled": true
   },
   "outputs": [
    {
     "name": "stdout",
     "output_type": "stream",
     "text": [
      "Train on 6000 samples, validate on 960 samples\n",
      "Epoch 1/10\n",
      "6000/6000 [==============================] - 5s 785us/step - loss: 4632.6749 - val_loss: 7174.6327\n",
      "Epoch 2/10\n",
      "6000/6000 [==============================] - 5s 786us/step - loss: 4624.3077 - val_loss: 7174.1336\n",
      "Epoch 3/10\n",
      "6000/6000 [==============================] - 5s 810us/step - loss: 4624.1049 - val_loss: 7173.9974\n",
      "Epoch 4/10\n",
      "6000/6000 [==============================] - 4s 733us/step - loss: 4624.0397 - val_loss: 7173.9672\n",
      "Epoch 5/10\n",
      "6000/6000 [==============================] - 5s 792us/step - loss: 4624.0103 - val_loss: 7173.9277\n",
      "Epoch 6/10\n",
      "6000/6000 [==============================] - 4s 629us/step - loss: 4623.9801 - val_loss: 7173.8861\n",
      "Epoch 7/10\n",
      "6000/6000 [==============================] - 5s 782us/step - loss: 4623.9694 - val_loss: 7173.8847\n",
      "Epoch 8/10\n",
      "6000/6000 [==============================] - 4s 626us/step - loss: 4623.9550 - val_loss: 7173.8725\n",
      "Epoch 9/10\n",
      "6000/6000 [==============================] - 4s 650us/step - loss: 4623.9451 - val_loss: 7173.8514\n",
      "Epoch 10/10\n",
      "6000/6000 [==============================] - 4s 645us/step - loss: 4623.9415 - val_loss: 7173.8402\n"
     ]
    }
   ],
   "source": [
    "np.random.seed(42)\n",
    "tf.random.set_seed(42)\n",
    "\n",
    "model = Sequential([\n",
    "    SimpleRNN(20, return_sequences=True, input_shape=[None, 14]),\n",
    "    SimpleRNN(20, return_sequences=True),\n",
    "    SimpleRNN(4, return_sequences=True)\n",
    "])\n",
    "\n",
    "model.compile(loss=\"mse\", optimizer=\"adam\")\n",
    "history = model.fit(x_train, y_train, epochs=10,\n",
    "                    validation_data=(x_valid, y_valid))"
   ]
  },
  {
   "cell_type": "code",
   "execution_count": 102,
   "metadata": {
    "ExecuteTime": {
     "end_time": "2020-03-04T10:32:50.861233Z",
     "start_time": "2020-03-04T10:32:50.628887Z"
    }
   },
   "outputs": [
    {
     "data": {
      "image/png": "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\n",
      "text/plain": [
       "<Figure size 576x396 with 1 Axes>"
      ]
     },
     "metadata": {},
     "output_type": "display_data"
    }
   ],
   "source": [
    "def plot_learning_curves(loss, val_loss):\n",
    "    plt.plot(np.arange(len(loss)) + 0.5, loss, \"b.-\", label=\"Training loss\")\n",
    "    plt.plot(np.arange(len(val_loss)) + 1, val_loss, \"r.-\", label=\"Validation loss\")\n",
    "    plt.gca().xaxis.set_major_locator(mpl.ticker.MaxNLocator(integer=True))\n",
    "#     plt.axis([1, 20, 0, 0.05])\n",
    "    plt.legend(fontsize=14)\n",
    "    plt.xlabel(\"Epochs\")\n",
    "    plt.ylabel(\"Loss\")\n",
    "    plt.grid(True)\n",
    "\n",
    "plot_learning_curves(history.history[\"loss\"], history.history[\"val_loss\"])\n",
    "plt.show()"
   ]
  },
  {
   "cell_type": "code",
   "execution_count": 104,
   "metadata": {
    "ExecuteTime": {
     "end_time": "2020-03-04T10:32:57.994588Z",
     "start_time": "2020-03-04T10:32:57.685511Z"
    }
   },
   "outputs": [
    {
     "data": {
      "text/plain": [
       "(960, 60, 4)"
      ]
     },
     "execution_count": 104,
     "metadata": {},
     "output_type": "execute_result"
    }
   ],
   "source": [
    "model.predict(x_valid).shape"
   ]
  },
  {
   "cell_type": "markdown",
   "metadata": {},
   "source": [
    "### Improvements"
   ]
  },
  {
   "cell_type": "markdown",
   "metadata": {},
   "source": [
    "**TO-DO** (before running code below):\n",
    "- Add ColumnTransformer, to avoid scaling categorical features.\n",
    "- Add DataAugmenter in the pipeline\n",
    "- Check if RNNDataFormatter still works"
   ]
  },
  {
   "cell_type": "markdown",
   "metadata": {},
   "source": [
    "**Issue**: The RNN returns output from sigmoid, hence between (-1, 1).\n",
    "\n",
    "**Idea**: Normalization"
   ]
  },
  {
   "cell_type": "markdown",
   "metadata": {},
   "source": [
    "Modify RNNDataFormatter to make it work with np.arrays:"
   ]
  },
  {
   "cell_type": "code",
   "execution_count": 108,
   "metadata": {
    "ExecuteTime": {
     "end_time": "2020-03-03T14:33:09.856021Z",
     "start_time": "2020-03-03T14:33:09.844501Z"
    }
   },
   "outputs": [],
   "source": [
    "class RNNDataFormatter(BaseEstimator, TransformerMixin):\n",
    "    \n",
    "    def __init__(self):\n",
    "        self.X = None\n",
    "    \n",
    "    def fit(self, X, y=None):\n",
    "        return X\n",
    "    \n",
    "    def transform(self, X, y=None):\n",
    "        X.set_index(\"time_step\", inplace=True)\n",
    "        X = X.append(X.iloc[-1, :])\n",
    "        nb_col = X.shape[1]\n",
    "        X = X.reshape((int(X.shape[0]/60), 60, nb_col))\n",
    "        return X"
   ]
  },
  {
   "cell_type": "markdown",
   "metadata": {},
   "source": [
    "Fit StandardScaler before, gives error in Pipeline"
   ]
  },
  {
   "cell_type": "code",
   "execution_count": 111,
   "metadata": {
    "ExecuteTime": {
     "end_time": "2020-03-03T14:33:45.583279Z",
     "start_time": "2020-03-03T14:33:45.513847Z"
    }
   },
   "outputs": [
    {
     "data": {
      "text/plain": [
       "StandardScaler(copy=True, with_mean=True, with_std=True)"
      ]
     },
     "execution_count": 111,
     "metadata": {},
     "output_type": "execute_result"
    }
   ],
   "source": [
    "scaler_x = StandardScaler()\n",
    "scaler_x.fit(X_train)"
   ]
  },
  {
   "cell_type": "code",
   "execution_count": 109,
   "metadata": {
    "ExecuteTime": {
     "end_time": "2020-03-03T14:33:34.394968Z",
     "start_time": "2020-03-03T14:33:34.351320Z"
    }
   },
   "outputs": [
    {
     "data": {
      "text/plain": [
       "StandardScaler(copy=True, with_mean=True, with_std=True)"
      ]
     },
     "execution_count": 109,
     "metadata": {},
     "output_type": "execute_result"
    }
   ],
   "source": [
    "scaler_y = StandardScaler()\n",
    "scaler_y.fit(Y_train)"
   ]
  },
  {
   "cell_type": "code",
   "execution_count": 112,
   "metadata": {
    "ExecuteTime": {
     "end_time": "2020-03-03T14:33:46.769288Z",
     "start_time": "2020-03-03T14:33:46.759132Z"
    }
   },
   "outputs": [],
   "source": [
    "p1 = Pipeline([\n",
    "        (\n",
    "        '1',\n",
    "        DataImputer()\n",
    "    ),\n",
    "    (\n",
    "        '2',\n",
    "        scaler_x\n",
    "    ),\n",
    "    (\n",
    "        '3',\n",
    "        RNNDataFormatter()\n",
    "    )\n",
    "])"
   ]
  },
  {
   "cell_type": "code",
   "execution_count": 113,
   "metadata": {
    "ExecuteTime": {
     "end_time": "2020-03-03T14:34:16.611326Z",
     "start_time": "2020-03-03T14:34:16.600791Z"
    }
   },
   "outputs": [],
   "source": [
    "p2 = Pipeline([\n",
    "    (\n",
    "        '1',\n",
    "        YImputer()\n",
    "    ),\n",
    "    (\n",
    "        '2',\n",
    "        scaler_y\n",
    "    ),\n",
    "    (\n",
    "        '3',\n",
    "        RNNDataFormatter()\n",
    "    )\n",
    "])"
   ]
  },
  {
   "cell_type": "code",
   "execution_count": 114,
   "metadata": {
    "ExecuteTime": {
     "end_time": "2020-03-03T14:34:33.026707Z",
     "start_time": "2020-03-03T14:34:32.353931Z"
    }
   },
   "outputs": [],
   "source": [
    "x_scaled = p1.transform(X_train)\n",
    "y_scaled = p2.transform(Y_train)"
   ]
  },
  {
   "cell_type": "code",
   "execution_count": 115,
   "metadata": {
    "ExecuteTime": {
     "end_time": "2020-03-03T14:35:40.610552Z",
     "start_time": "2020-03-03T14:35:40.600826Z"
    }
   },
   "outputs": [
    {
     "name": "stdout",
     "output_type": "stream",
     "text": [
      "x_scaled shape is (6960, 60, 8)\n",
      "y_scaled shape is (6960, 60, 4)\n"
     ]
    }
   ],
   "source": [
    "print(f\"x_scaled shape is {x_scaled.shape}\")\n",
    "print(f\"y_scaled shape is {y_scaled.shape}\")"
   ]
  },
  {
   "cell_type": "code",
   "execution_count": 121,
   "metadata": {
    "ExecuteTime": {
     "end_time": "2020-03-03T14:37:45.963830Z",
     "start_time": "2020-03-03T14:37:45.960235Z"
    }
   },
   "outputs": [],
   "source": [
    "x_train, y_train = x_scaled[:6000, :], y_scaled[:6000, :, :]\n",
    "x_valid, y_valid = x_scaled[6000:, :], y_scaled[6000:, :, :]"
   ]
  },
  {
   "cell_type": "code",
   "execution_count": 122,
   "metadata": {
    "ExecuteTime": {
     "end_time": "2020-03-03T14:38:57.308099Z",
     "start_time": "2020-03-03T14:37:47.109953Z"
    }
   },
   "outputs": [
    {
     "name": "stdout",
     "output_type": "stream",
     "text": [
      "Train on 6000 samples, validate on 960 samples\n",
      "Epoch 1/20\n",
      "6000/6000 [==============================] - 4s 667us/step - loss: 1.0509 - val_loss: 1.1132\n",
      "Epoch 2/20\n",
      "6000/6000 [==============================] - 3s 563us/step - loss: 0.9354 - val_loss: 1.0808\n",
      "Epoch 3/20\n",
      "6000/6000 [==============================] - 3s 551us/step - loss: 0.9145 - val_loss: 1.0765\n",
      "Epoch 4/20\n",
      "6000/6000 [==============================] - 3s 559us/step - loss: 0.9036 - val_loss: 1.0752\n",
      "Epoch 5/20\n",
      "6000/6000 [==============================] - 3s 556us/step - loss: 0.8989 - val_loss: 1.0753\n",
      "Epoch 6/20\n",
      "6000/6000 [==============================] - 3s 558us/step - loss: 0.8942 - val_loss: 1.0747\n",
      "Epoch 7/20\n",
      "6000/6000 [==============================] - 3s 553us/step - loss: 0.8909 - val_loss: 1.0743\n",
      "Epoch 8/20\n",
      "6000/6000 [==============================] - 3s 565us/step - loss: 0.8874 - val_loss: 1.0733\n",
      "Epoch 9/20\n",
      "6000/6000 [==============================] - 3s 556us/step - loss: 0.8848 - val_loss: 1.0612\n",
      "Epoch 10/20\n",
      "6000/6000 [==============================] - 3s 558us/step - loss: 0.8830 - val_loss: 1.0690\n",
      "Epoch 11/20\n",
      "6000/6000 [==============================] - 3s 557us/step - loss: 0.8798 - val_loss: 1.0552\n",
      "Epoch 12/20\n",
      "6000/6000 [==============================] - 3s 563us/step - loss: 0.8785 - val_loss: 1.0588\n",
      "Epoch 13/20\n",
      "6000/6000 [==============================] - 3s 561us/step - loss: 0.8772 - val_loss: 1.0581\n",
      "Epoch 14/20\n",
      "6000/6000 [==============================] - 3s 561us/step - loss: 0.8741 - val_loss: 1.0635\n",
      "Epoch 15/20\n",
      "6000/6000 [==============================] - 3s 555us/step - loss: 0.8749 - val_loss: 1.0613\n",
      "Epoch 16/20\n",
      "6000/6000 [==============================] - 3s 558us/step - loss: 0.8735 - val_loss: 1.0652\n",
      "Epoch 17/20\n",
      "6000/6000 [==============================] - 3s 578us/step - loss: 0.8718 - val_loss: 1.0603\n",
      "Epoch 18/20\n",
      "6000/6000 [==============================] - 3s 548us/step - loss: 0.8702 - val_loss: 1.0658\n",
      "Epoch 19/20\n",
      "6000/6000 [==============================] - 4s 702us/step - loss: 0.8723 - val_loss: 1.0524\n",
      "Epoch 20/20\n",
      "6000/6000 [==============================] - 4s 698us/step - loss: 0.8745 - val_loss: 1.0664\n"
     ]
    }
   ],
   "source": [
    "np.random.seed(42)\n",
    "tf.random.set_seed(42)\n",
    "\n",
    "model = Sequential([\n",
    "    SimpleRNN(20, return_sequences=True, input_shape=[None, 8]),\n",
    "    SimpleRNN(20, return_sequences=True),\n",
    "    SimpleRNN(4, return_sequences=True)\n",
    "])\n",
    "\n",
    "model.compile(loss=\"mse\", optimizer=\"adam\")\n",
    "history = model.fit(x_train, y_train, epochs=20,\n",
    "                    validation_data=(x_valid, y_valid))"
   ]
  },
  {
   "cell_type": "code",
   "execution_count": 131,
   "metadata": {
    "ExecuteTime": {
     "end_time": "2020-03-03T14:46:42.819394Z",
     "start_time": "2020-03-03T14:46:42.048442Z"
    }
   },
   "outputs": [],
   "source": [
    "y_pred = model.predict(x_train)"
   ]
  },
  {
   "cell_type": "code",
   "execution_count": 137,
   "metadata": {
    "ExecuteTime": {
     "end_time": "2020-03-03T14:47:50.239788Z",
     "start_time": "2020-03-03T14:47:50.206433Z"
    }
   },
   "outputs": [],
   "source": [
    "y_pred = scaler_y.inverse_transform(y_pred.reshape(-1, 4)) #shape is now (360000, 4)"
   ]
  },
  {
   "cell_type": "code",
   "execution_count": 146,
   "metadata": {
    "ExecuteTime": {
     "end_time": "2020-03-03T14:50:41.711753Z",
     "start_time": "2020-03-03T14:50:41.677496Z"
    }
   },
   "outputs": [
    {
     "data": {
      "text/plain": [
       "3657.4934961083286"
      ]
     },
     "execution_count": 146,
     "metadata": {},
     "output_type": "execute_result"
    }
   ],
   "source": [
    "mean_squared_error(y_trans.iloc[:360000, :], y_pred)"
   ]
  },
  {
   "cell_type": "code",
   "execution_count": 150,
   "metadata": {
    "ExecuteTime": {
     "end_time": "2020-03-03T14:51:19.761627Z",
     "start_time": "2020-03-03T14:51:19.741808Z"
    }
   },
   "outputs": [
    {
     "data": {
      "text/html": [
       "<div>\n",
       "<style scoped>\n",
       "    .dataframe tbody tr th:only-of-type {\n",
       "        vertical-align: middle;\n",
       "    }\n",
       "\n",
       "    .dataframe tbody tr th {\n",
       "        vertical-align: top;\n",
       "    }\n",
       "\n",
       "    .dataframe thead th {\n",
       "        text-align: right;\n",
       "    }\n",
       "</style>\n",
       "<table border=\"1\" class=\"dataframe\">\n",
       "  <thead>\n",
       "    <tr style=\"text-align: right;\">\n",
       "      <th></th>\n",
       "      <th>washing_machine</th>\n",
       "      <th>fridge_freezer</th>\n",
       "      <th>TV</th>\n",
       "      <th>kettle</th>\n",
       "    </tr>\n",
       "    <tr>\n",
       "      <th>time_step</th>\n",
       "      <th></th>\n",
       "      <th></th>\n",
       "      <th></th>\n",
       "      <th></th>\n",
       "    </tr>\n",
       "  </thead>\n",
       "  <tbody>\n",
       "    <tr>\n",
       "      <th>2013-03-17 00:01:00</th>\n",
       "      <td>0.0</td>\n",
       "      <td>79.2000</td>\n",
       "      <td>7.0</td>\n",
       "      <td>0.0</td>\n",
       "    </tr>\n",
       "    <tr>\n",
       "      <th>2013-03-17 00:02:00</th>\n",
       "      <td>0.0</td>\n",
       "      <td>78.0000</td>\n",
       "      <td>7.0</td>\n",
       "      <td>0.0</td>\n",
       "    </tr>\n",
       "    <tr>\n",
       "      <th>2013-03-17 00:03:00</th>\n",
       "      <td>0.0</td>\n",
       "      <td>76.9000</td>\n",
       "      <td>7.0</td>\n",
       "      <td>0.0</td>\n",
       "    </tr>\n",
       "    <tr>\n",
       "      <th>2013-03-17 00:04:00</th>\n",
       "      <td>0.0</td>\n",
       "      <td>76.1111</td>\n",
       "      <td>7.0</td>\n",
       "      <td>0.0</td>\n",
       "    </tr>\n",
       "    <tr>\n",
       "      <th>2013-03-17 00:05:00</th>\n",
       "      <td>0.0</td>\n",
       "      <td>75.2727</td>\n",
       "      <td>7.0</td>\n",
       "      <td>0.0</td>\n",
       "    </tr>\n",
       "  </tbody>\n",
       "</table>\n",
       "</div>"
      ],
      "text/plain": [
       "                     washing_machine  fridge_freezer   TV  kettle\n",
       "time_step                                                        \n",
       "2013-03-17 00:01:00              0.0         79.2000  7.0     0.0\n",
       "2013-03-17 00:02:00              0.0         78.0000  7.0     0.0\n",
       "2013-03-17 00:03:00              0.0         76.9000  7.0     0.0\n",
       "2013-03-17 00:04:00              0.0         76.1111  7.0     0.0\n",
       "2013-03-17 00:05:00              0.0         75.2727  7.0     0.0"
      ]
     },
     "execution_count": 150,
     "metadata": {},
     "output_type": "execute_result"
    }
   ],
   "source": [
    "y_trans.head()"
   ]
  },
  {
   "cell_type": "code",
   "execution_count": 149,
   "metadata": {
    "ExecuteTime": {
     "end_time": "2020-03-03T14:51:14.864242Z",
     "start_time": "2020-03-03T14:51:14.850871Z"
    }
   },
   "outputs": [
    {
     "data": {
      "text/plain": [
       "array([[26.523247  , 61.06809   , 23.307926  , 27.156101  ],\n",
       "       [23.64833   , 62.587288  , 22.924911  , 14.299338  ],\n",
       "       [ 9.996213  , 64.81369   , 20.986378  , -5.4952693 ],\n",
       "       [17.948616  , 62.94709   , 20.563185  ,  0.09354291],\n",
       "       [21.558722  , 64.6189    , 19.27715   ,  5.711498  ]],\n",
       "      dtype=float32)"
      ]
     },
     "execution_count": 149,
     "metadata": {},
     "output_type": "execute_result"
    }
   ],
   "source": [
    "y_pred[:5, :]"
   ]
  }
 ],
 "metadata": {
  "jupytext": {
   "formats": "ipynb,md"
  },
  "kernelspec": {
   "display_name": "Python 3",
   "language": "python",
   "name": "python3"
  },
  "language_info": {
   "codemirror_mode": {
    "name": "ipython",
    "version": 3
   },
   "file_extension": ".py",
   "mimetype": "text/x-python",
   "name": "python",
   "nbconvert_exporter": "python",
   "pygments_lexer": "ipython3",
   "version": "3.7.3"
  },
  "toc": {
   "base_numbering": 1,
   "nav_menu": {},
   "number_sections": true,
   "sideBar": true,
   "skip_h1_title": true,
   "title_cell": "Table of Contents",
   "title_sidebar": "Contents",
   "toc_cell": false,
   "toc_position": {
    "height": "calc(100% - 180px)",
    "left": "10px",
    "top": "150px",
    "width": "284.661px"
   },
   "toc_section_display": true,
   "toc_window_display": false
  }
 },
 "nbformat": 4,
 "nbformat_minor": 2
}
