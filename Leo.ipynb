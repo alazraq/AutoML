{
 "cells": [
  {
   "cell_type": "markdown",
   "metadata": {},
   "source": [
    "# Data Challenge: Smart meter is coming\n",
    "by BCM Energy - Planète OUI"
   ]
  },
  {
   "cell_type": "code",
   "execution_count": 4,
   "metadata": {},
   "outputs": [
    {
     "name": "stderr",
     "output_type": "stream",
     "text": [
      "Using TensorFlow backend.\n"
     ]
    }
   ],
   "source": [
    "import pandas as pd\n",
    "# import pandas_profiling\n",
    "import numpy as np\n",
    "import matplotlib.pyplot as plt\n",
    "import matplotlib as mpl\n",
    "import seaborn as sns\n",
    "import holidays\n",
    "import math as mt\n",
    "\n",
    "import tensorflow as tf\n",
    "import keras\n",
    "from keras.layers import LSTM, Dense, Flatten, Dropout, Activation, SimpleRNN\n",
    "from keras.models import Sequential\n",
    "\n",
    "from sklearn.base import BaseEstimator, TransformerMixin\n",
    "from sklearn.pipeline import Pipeline\n",
    "from sklearn.preprocessing import StandardScaler, OneHotEncoder\n",
    "from sklearn.metrics import mean_squared_error\n",
    "from sklearn.multioutput import MultiOutputRegressor\n",
    "from sklearn.linear_model import LinearRegression\n",
    "from sklearn.model_selection import train_test_split\n",
    "\n",
    "import datetime"
   ]
  },
  {
   "cell_type": "code",
   "execution_count": 5,
   "metadata": {},
   "outputs": [],
   "source": [
    "X_train = pd.read_csv(\n",
    "    'provided_data_and_metric/X_train_6GWGSxz.csv',\n",
    ")\n",
    "Y_train = pd.read_csv(\n",
    "    'provided_data_and_metric/y_train_2G60rOL.csv',\n",
    ")"
   ]
  },
  {
   "cell_type": "markdown",
   "metadata": {},
   "source": [
    "## Data Exploration"
   ]
  },
  {
   "cell_type": "code",
   "execution_count": 6,
   "metadata": {},
   "outputs": [
    {
     "data": {
      "text/html": [
       "<div>\n",
       "<style scoped>\n",
       "    .dataframe tbody tr th:only-of-type {\n",
       "        vertical-align: middle;\n",
       "    }\n",
       "\n",
       "    .dataframe tbody tr th {\n",
       "        vertical-align: top;\n",
       "    }\n",
       "\n",
       "    .dataframe thead th {\n",
       "        text-align: right;\n",
       "    }\n",
       "</style>\n",
       "<table border=\"1\" class=\"dataframe\">\n",
       "  <thead>\n",
       "    <tr style=\"text-align: right;\">\n",
       "      <th></th>\n",
       "      <th>time_step</th>\n",
       "      <th>consumption</th>\n",
       "      <th>visibility</th>\n",
       "      <th>temperature</th>\n",
       "      <th>humidity</th>\n",
       "      <th>humidex</th>\n",
       "      <th>windchill</th>\n",
       "      <th>wind</th>\n",
       "      <th>pressure</th>\n",
       "      <th>Unnamed: 9</th>\n",
       "    </tr>\n",
       "  </thead>\n",
       "  <tbody>\n",
       "    <tr>\n",
       "      <th>0</th>\n",
       "      <td>2013-03-17T00:01:00.0</td>\n",
       "      <td>550.4000</td>\n",
       "      <td>NaN</td>\n",
       "      <td>NaN</td>\n",
       "      <td>NaN</td>\n",
       "      <td>NaN</td>\n",
       "      <td>NaN</td>\n",
       "      <td>NaN</td>\n",
       "      <td>NaN</td>\n",
       "      <td>NaN</td>\n",
       "    </tr>\n",
       "    <tr>\n",
       "      <th>1</th>\n",
       "      <td>2013-03-17T00:02:00.0</td>\n",
       "      <td>548.6000</td>\n",
       "      <td>NaN</td>\n",
       "      <td>NaN</td>\n",
       "      <td>NaN</td>\n",
       "      <td>NaN</td>\n",
       "      <td>NaN</td>\n",
       "      <td>NaN</td>\n",
       "      <td>NaN</td>\n",
       "      <td>NaN</td>\n",
       "    </tr>\n",
       "    <tr>\n",
       "      <th>2</th>\n",
       "      <td>2013-03-17T00:03:00.0</td>\n",
       "      <td>549.3000</td>\n",
       "      <td>NaN</td>\n",
       "      <td>NaN</td>\n",
       "      <td>NaN</td>\n",
       "      <td>NaN</td>\n",
       "      <td>NaN</td>\n",
       "      <td>NaN</td>\n",
       "      <td>NaN</td>\n",
       "      <td>NaN</td>\n",
       "    </tr>\n",
       "    <tr>\n",
       "      <th>3</th>\n",
       "      <td>2013-03-17T00:04:00.0</td>\n",
       "      <td>549.3667</td>\n",
       "      <td>NaN</td>\n",
       "      <td>NaN</td>\n",
       "      <td>NaN</td>\n",
       "      <td>NaN</td>\n",
       "      <td>NaN</td>\n",
       "      <td>NaN</td>\n",
       "      <td>NaN</td>\n",
       "      <td>NaN</td>\n",
       "    </tr>\n",
       "    <tr>\n",
       "      <th>4</th>\n",
       "      <td>2013-03-17T00:05:00.0</td>\n",
       "      <td>548.8909</td>\n",
       "      <td>NaN</td>\n",
       "      <td>NaN</td>\n",
       "      <td>NaN</td>\n",
       "      <td>NaN</td>\n",
       "      <td>NaN</td>\n",
       "      <td>NaN</td>\n",
       "      <td>NaN</td>\n",
       "      <td>NaN</td>\n",
       "    </tr>\n",
       "  </tbody>\n",
       "</table>\n",
       "</div>"
      ],
      "text/plain": [
       "               time_step  consumption  visibility  temperature  humidity  \\\n",
       "0  2013-03-17T00:01:00.0     550.4000         NaN          NaN       NaN   \n",
       "1  2013-03-17T00:02:00.0     548.6000         NaN          NaN       NaN   \n",
       "2  2013-03-17T00:03:00.0     549.3000         NaN          NaN       NaN   \n",
       "3  2013-03-17T00:04:00.0     549.3667         NaN          NaN       NaN   \n",
       "4  2013-03-17T00:05:00.0     548.8909         NaN          NaN       NaN   \n",
       "\n",
       "   humidex  windchill  wind  pressure  Unnamed: 9  \n",
       "0      NaN        NaN   NaN       NaN         NaN  \n",
       "1      NaN        NaN   NaN       NaN         NaN  \n",
       "2      NaN        NaN   NaN       NaN         NaN  \n",
       "3      NaN        NaN   NaN       NaN         NaN  \n",
       "4      NaN        NaN   NaN       NaN         NaN  "
      ]
     },
     "execution_count": 6,
     "metadata": {},
     "output_type": "execute_result"
    }
   ],
   "source": [
    "X_train.head()"
   ]
  },
  {
   "cell_type": "markdown",
   "metadata": {},
   "source": [
    "### Dealing with NaN"
   ]
  },
  {
   "cell_type": "code",
   "execution_count": 7,
   "metadata": {},
   "outputs": [
    {
     "data": {
      "text/plain": [
       "433      NaN\n",
       "613      NaN\n",
       "614      NaN\n",
       "615      NaN\n",
       "617      NaN\n",
       "          ..\n",
       "405868   NaN\n",
       "414108   NaN\n",
       "414690   NaN\n",
       "415189   NaN\n",
       "417516   NaN\n",
       "Name: consumption, Length: 10231, dtype: float64"
      ]
     },
     "execution_count": 7,
     "metadata": {},
     "output_type": "execute_result"
    }
   ],
   "source": [
    "X_train.consumption[X_train.consumption.isna()]"
   ]
  },
  {
   "cell_type": "markdown",
   "metadata": {},
   "source": [
    "DataImputer and YImputer are custom trasformers we have built to deal with NaNs."
   ]
  },
  {
   "cell_type": "code",
   "execution_count": 8,
   "metadata": {},
   "outputs": [],
   "source": [
    "class DataImputer(BaseEstimator, TransformerMixin):\n",
    "    \n",
    "    def __init__(self):\n",
    "        self.X = None\n",
    "    \n",
    "    def fit(self, X, y=None):\n",
    "        return self\n",
    "    \n",
    "    def transform(self, X, y=None):\n",
    "        try:\n",
    "            X.drop('Unnamed: 9', axis = 1, inplace = True)\n",
    "        except KeyError as e:\n",
    "            pass\n",
    "        X = X.interpolate(method='linear').fillna(method='bfill')\n",
    "        X.time_step = pd.to_datetime(X.time_step)\n",
    "        return X"
   ]
  },
  {
   "cell_type": "code",
   "execution_count": 9,
   "metadata": {},
   "outputs": [],
   "source": [
    "class YImputer(BaseEstimator, TransformerMixin):\n",
    "    \n",
    "    def __init__(self):\n",
    "        self.X = None\n",
    "    \n",
    "    def fit(self, X, y=None):\n",
    "        return X\n",
    "    \n",
    "    def transform(self, X, y=None):\n",
    "        X = X.interpolate(method='linear').fillna(method='bfill')\n",
    "#         X.index = pd.to_datetime(X.index)\n",
    "        return X"
   ]
  },
  {
   "cell_type": "code",
   "execution_count": 10,
   "metadata": {},
   "outputs": [],
   "source": [
    "di = DataImputer()\n",
    "yi = YImputer()\n",
    "X_train = di.transform(X=X_train)\n",
    "Y_train = yi.transform(X=Y_train)"
   ]
  },
  {
   "cell_type": "code",
   "execution_count": 11,
   "metadata": {},
   "outputs": [
    {
     "data": {
      "text/html": [
       "<div>\n",
       "<style scoped>\n",
       "    .dataframe tbody tr th:only-of-type {\n",
       "        vertical-align: middle;\n",
       "    }\n",
       "\n",
       "    .dataframe tbody tr th {\n",
       "        vertical-align: top;\n",
       "    }\n",
       "\n",
       "    .dataframe thead th {\n",
       "        text-align: right;\n",
       "    }\n",
       "</style>\n",
       "<table border=\"1\" class=\"dataframe\">\n",
       "  <thead>\n",
       "    <tr style=\"text-align: right;\">\n",
       "      <th></th>\n",
       "      <th>time_step</th>\n",
       "      <th>consumption</th>\n",
       "      <th>visibility</th>\n",
       "      <th>temperature</th>\n",
       "      <th>humidity</th>\n",
       "      <th>humidex</th>\n",
       "      <th>windchill</th>\n",
       "      <th>wind</th>\n",
       "      <th>pressure</th>\n",
       "    </tr>\n",
       "  </thead>\n",
       "  <tbody>\n",
       "    <tr>\n",
       "      <th>0</th>\n",
       "      <td>2013-03-17 00:01:00</td>\n",
       "      <td>550.4000</td>\n",
       "      <td>35.0</td>\n",
       "      <td>8.9</td>\n",
       "      <td>86.0</td>\n",
       "      <td>8.9</td>\n",
       "      <td>6.0</td>\n",
       "      <td>19.0</td>\n",
       "      <td>1017.3</td>\n",
       "    </tr>\n",
       "    <tr>\n",
       "      <th>1</th>\n",
       "      <td>2013-03-17 00:02:00</td>\n",
       "      <td>548.6000</td>\n",
       "      <td>35.0</td>\n",
       "      <td>8.9</td>\n",
       "      <td>86.0</td>\n",
       "      <td>8.9</td>\n",
       "      <td>6.0</td>\n",
       "      <td>19.0</td>\n",
       "      <td>1017.3</td>\n",
       "    </tr>\n",
       "    <tr>\n",
       "      <th>2</th>\n",
       "      <td>2013-03-17 00:03:00</td>\n",
       "      <td>549.3000</td>\n",
       "      <td>35.0</td>\n",
       "      <td>8.9</td>\n",
       "      <td>86.0</td>\n",
       "      <td>8.9</td>\n",
       "      <td>6.0</td>\n",
       "      <td>19.0</td>\n",
       "      <td>1017.3</td>\n",
       "    </tr>\n",
       "    <tr>\n",
       "      <th>3</th>\n",
       "      <td>2013-03-17 00:04:00</td>\n",
       "      <td>549.3667</td>\n",
       "      <td>35.0</td>\n",
       "      <td>8.9</td>\n",
       "      <td>86.0</td>\n",
       "      <td>8.9</td>\n",
       "      <td>6.0</td>\n",
       "      <td>19.0</td>\n",
       "      <td>1017.3</td>\n",
       "    </tr>\n",
       "    <tr>\n",
       "      <th>4</th>\n",
       "      <td>2013-03-17 00:05:00</td>\n",
       "      <td>548.8909</td>\n",
       "      <td>35.0</td>\n",
       "      <td>8.9</td>\n",
       "      <td>86.0</td>\n",
       "      <td>8.9</td>\n",
       "      <td>6.0</td>\n",
       "      <td>19.0</td>\n",
       "      <td>1017.3</td>\n",
       "    </tr>\n",
       "  </tbody>\n",
       "</table>\n",
       "</div>"
      ],
      "text/plain": [
       "            time_step  consumption  visibility  temperature  humidity  \\\n",
       "0 2013-03-17 00:01:00     550.4000        35.0          8.9      86.0   \n",
       "1 2013-03-17 00:02:00     548.6000        35.0          8.9      86.0   \n",
       "2 2013-03-17 00:03:00     549.3000        35.0          8.9      86.0   \n",
       "3 2013-03-17 00:04:00     549.3667        35.0          8.9      86.0   \n",
       "4 2013-03-17 00:05:00     548.8909        35.0          8.9      86.0   \n",
       "\n",
       "   humidex  windchill  wind  pressure  \n",
       "0      8.9        6.0  19.0    1017.3  \n",
       "1      8.9        6.0  19.0    1017.3  \n",
       "2      8.9        6.0  19.0    1017.3  \n",
       "3      8.9        6.0  19.0    1017.3  \n",
       "4      8.9        6.0  19.0    1017.3  "
      ]
     },
     "execution_count": 11,
     "metadata": {},
     "output_type": "execute_result"
    }
   ],
   "source": [
    "X_train.head()"
   ]
  },
  {
   "cell_type": "code",
   "execution_count": 12,
   "metadata": {},
   "outputs": [],
   "source": [
    "# X_train.consumption.fillna(method=\"ffill\", inplace=True)\n",
    "# X_test.consumption.fillna(method=\"ffill\", inplace=True)\n",
    "# Y_train.fillna(method=\"ffill\", inplace=True)"
   ]
  },
  {
   "cell_type": "code",
   "execution_count": 13,
   "metadata": {},
   "outputs": [],
   "source": [
    "X_train[\"time_step\"] = pd.to_datetime(X_train[\"time_step\"])"
   ]
  },
  {
   "cell_type": "code",
   "execution_count": 14,
   "metadata": {},
   "outputs": [],
   "source": [
    "fr_holidays = holidays.France()"
   ]
  },
  {
   "cell_type": "markdown",
   "metadata": {},
   "source": [
    "DO NOT DELETE THIS PLEASE OR WE DO NOT GET IS_HOLIDAYS WORKING!"
   ]
  },
  {
   "cell_type": "code",
   "execution_count": 15,
   "metadata": {},
   "outputs": [
    {
     "name": "stdout",
     "output_type": "stream",
     "text": [
      "14400\n"
     ]
    }
   ],
   "source": [
    "c = 0\n",
    "for i in X_train.time_step.dt.date:\n",
    "    if i in fr_holidays:\n",
    "        c+=1\n",
    "        \n",
    "print(c)"
   ]
  },
  {
   "cell_type": "markdown",
   "metadata": {},
   "source": [
    "Adding extra features:"
   ]
  },
  {
   "cell_type": "markdown",
   "metadata": {},
   "source": [
    "Do we also want to add day of the month?"
   ]
  },
  {
   "cell_type": "code",
   "execution_count": 16,
   "metadata": {},
   "outputs": [],
   "source": [
    "X_train[\"weekday\"] = X_train.time_step.dt.dayofweek\n",
    "X_train[\"month\"] = X_train.time_step.dt.month\n",
    "X_train[\"hour\"] = X_train.time_step.dt.hour\n",
    "X_train[\"is_weekend\"] = (X_train[\"weekday\"] > 4)*1  \n",
    "X_train[\"is_holidays\"] = (X_train.time_step.dt.date.isin(fr_holidays))*1"
   ]
  },
  {
   "cell_type": "markdown",
   "metadata": {},
   "source": [
    "### Visualizing the Data"
   ]
  },
  {
   "cell_type": "markdown",
   "metadata": {},
   "source": [
    "There is on average more consumption during weekends, as expected."
   ]
  },
  {
   "cell_type": "code",
   "execution_count": 17,
   "metadata": {},
   "outputs": [
    {
     "data": {
      "text/html": [
       "<div>\n",
       "<style scoped>\n",
       "    .dataframe tbody tr th:only-of-type {\n",
       "        vertical-align: middle;\n",
       "    }\n",
       "\n",
       "    .dataframe tbody tr th {\n",
       "        vertical-align: top;\n",
       "    }\n",
       "\n",
       "    .dataframe thead th {\n",
       "        text-align: right;\n",
       "    }\n",
       "</style>\n",
       "<table border=\"1\" class=\"dataframe\">\n",
       "  <thead>\n",
       "    <tr style=\"text-align: right;\">\n",
       "      <th></th>\n",
       "      <th>consumption</th>\n",
       "    </tr>\n",
       "    <tr>\n",
       "      <th>is_weekend</th>\n",
       "      <th></th>\n",
       "    </tr>\n",
       "  </thead>\n",
       "  <tbody>\n",
       "    <tr>\n",
       "      <th>0</th>\n",
       "      <td>298.491884</td>\n",
       "    </tr>\n",
       "    <tr>\n",
       "      <th>1</th>\n",
       "      <td>315.715797</td>\n",
       "    </tr>\n",
       "  </tbody>\n",
       "</table>\n",
       "</div>"
      ],
      "text/plain": [
       "            consumption\n",
       "is_weekend             \n",
       "0            298.491884\n",
       "1            315.715797"
      ]
     },
     "execution_count": 17,
     "metadata": {},
     "output_type": "execute_result"
    }
   ],
   "source": [
    "X_train[[\"consumption\", \"is_weekend\"]].groupby(\"is_weekend\").mean()"
   ]
  },
  {
   "cell_type": "markdown",
   "metadata": {},
   "source": [
    "---"
   ]
  },
  {
   "cell_type": "markdown",
   "metadata": {},
   "source": [
    "Weekday:"
   ]
  },
  {
   "cell_type": "code",
   "execution_count": 18,
   "metadata": {},
   "outputs": [
    {
     "data": {
      "text/html": [
       "<div>\n",
       "<style scoped>\n",
       "    .dataframe tbody tr th:only-of-type {\n",
       "        vertical-align: middle;\n",
       "    }\n",
       "\n",
       "    .dataframe tbody tr th {\n",
       "        vertical-align: top;\n",
       "    }\n",
       "\n",
       "    .dataframe thead th {\n",
       "        text-align: right;\n",
       "    }\n",
       "</style>\n",
       "<table border=\"1\" class=\"dataframe\">\n",
       "  <thead>\n",
       "    <tr style=\"text-align: right;\">\n",
       "      <th></th>\n",
       "      <th>consumption</th>\n",
       "    </tr>\n",
       "    <tr>\n",
       "      <th>weekday</th>\n",
       "      <th></th>\n",
       "    </tr>\n",
       "  </thead>\n",
       "  <tbody>\n",
       "    <tr>\n",
       "      <th>0</th>\n",
       "      <td>302.595452</td>\n",
       "    </tr>\n",
       "    <tr>\n",
       "      <th>1</th>\n",
       "      <td>314.806979</td>\n",
       "    </tr>\n",
       "    <tr>\n",
       "      <th>2</th>\n",
       "      <td>294.324385</td>\n",
       "    </tr>\n",
       "    <tr>\n",
       "      <th>3</th>\n",
       "      <td>294.144759</td>\n",
       "    </tr>\n",
       "    <tr>\n",
       "      <th>4</th>\n",
       "      <td>286.089830</td>\n",
       "    </tr>\n",
       "    <tr>\n",
       "      <th>5</th>\n",
       "      <td>315.718187</td>\n",
       "    </tr>\n",
       "    <tr>\n",
       "      <th>6</th>\n",
       "      <td>315.713463</td>\n",
       "    </tr>\n",
       "  </tbody>\n",
       "</table>\n",
       "</div>"
      ],
      "text/plain": [
       "         consumption\n",
       "weekday             \n",
       "0         302.595452\n",
       "1         314.806979\n",
       "2         294.324385\n",
       "3         294.144759\n",
       "4         286.089830\n",
       "5         315.718187\n",
       "6         315.713463"
      ]
     },
     "execution_count": 18,
     "metadata": {},
     "output_type": "execute_result"
    }
   ],
   "source": [
    "X_train[[\"consumption\", \"weekday\"]].groupby(\"weekday\").mean()"
   ]
  },
  {
   "cell_type": "code",
   "execution_count": 19,
   "metadata": {},
   "outputs": [
    {
     "data": {
      "text/plain": [
       "<matplotlib.axes._subplots.AxesSubplot at 0x7efc6ecf7780>"
      ]
     },
     "execution_count": 19,
     "metadata": {},
     "output_type": "execute_result"
    },
    {
     "data": {
      "image/png": "[encoded data removed]",
      "text/plain": [
       "<Figure size 432x288 with 1 Axes>"
      ]
     },
     "metadata": {
      "needs_background": "light"
     },
     "output_type": "display_data"
    }
   ],
   "source": [
    "sns.lineplot(x=np.arange(0,7), y=\"consumption\", data=X_train.groupby(\"weekday\").mean())"
   ]
  },
  {
   "cell_type": "markdown",
   "metadata": {},
   "source": [
    "month:"
   ]
  },
  {
   "cell_type": "code",
   "execution_count": 20,
   "metadata": {},
   "outputs": [
    {
     "data": {
      "text/html": [
       "<div>\n",
       "<style scoped>\n",
       "    .dataframe tbody tr th:only-of-type {\n",
       "        vertical-align: middle;\n",
       "    }\n",
       "\n",
       "    .dataframe tbody tr th {\n",
       "        vertical-align: top;\n",
       "    }\n",
       "\n",
       "    .dataframe thead th {\n",
       "        text-align: right;\n",
       "    }\n",
       "</style>\n",
       "<table border=\"1\" class=\"dataframe\">\n",
       "  <thead>\n",
       "    <tr style=\"text-align: right;\">\n",
       "      <th></th>\n",
       "      <th>consumption</th>\n",
       "    </tr>\n",
       "    <tr>\n",
       "      <th>month</th>\n",
       "      <th></th>\n",
       "    </tr>\n",
       "  </thead>\n",
       "  <tbody>\n",
       "    <tr>\n",
       "      <th>3</th>\n",
       "      <td>361.419421</td>\n",
       "    </tr>\n",
       "    <tr>\n",
       "      <th>4</th>\n",
       "      <td>296.177572</td>\n",
       "    </tr>\n",
       "    <tr>\n",
       "      <th>5</th>\n",
       "      <td>283.980685</td>\n",
       "    </tr>\n",
       "    <tr>\n",
       "      <th>6</th>\n",
       "      <td>274.367403</td>\n",
       "    </tr>\n",
       "    <tr>\n",
       "      <th>7</th>\n",
       "      <td>248.382001</td>\n",
       "    </tr>\n",
       "    <tr>\n",
       "      <th>8</th>\n",
       "      <td>223.994448</td>\n",
       "    </tr>\n",
       "    <tr>\n",
       "      <th>9</th>\n",
       "      <td>281.311602</td>\n",
       "    </tr>\n",
       "    <tr>\n",
       "      <th>10</th>\n",
       "      <td>363.227440</td>\n",
       "    </tr>\n",
       "    <tr>\n",
       "      <th>11</th>\n",
       "      <td>381.213867</td>\n",
       "    </tr>\n",
       "    <tr>\n",
       "      <th>12</th>\n",
       "      <td>350.701175</td>\n",
       "    </tr>\n",
       "  </tbody>\n",
       "</table>\n",
       "</div>"
      ],
      "text/plain": [
       "       consumption\n",
       "month             \n",
       "3       361.419421\n",
       "4       296.177572\n",
       "5       283.980685\n",
       "6       274.367403\n",
       "7       248.382001\n",
       "8       223.994448\n",
       "9       281.311602\n",
       "10      363.227440\n",
       "11      381.213867\n",
       "12      350.701175"
      ]
     },
     "execution_count": 20,
     "metadata": {},
     "output_type": "execute_result"
    }
   ],
   "source": [
    "X_train[[\"consumption\", \"month\"]].groupby(\"month\").mean()"
   ]
  },
  {
   "cell_type": "markdown",
   "metadata": {},
   "source": [
    "Significant drop in consumption over the summer! We do not have data for January, February. "
   ]
  },
  {
   "cell_type": "code",
   "execution_count": 21,
   "metadata": {},
   "outputs": [
    {
     "data": {
      "text/plain": [
       "<matplotlib.axes._subplots.AxesSubplot at 0x7efc84310080>"
      ]
     },
     "execution_count": 21,
     "metadata": {},
     "output_type": "execute_result"
    },
    {
     "data": {
      "image/png": "[encoded data removed]",
      "text/plain": [
       "<Figure size 432x288 with 1 Axes>"
      ]
     },
     "metadata": {
      "needs_background": "light"
     },
     "output_type": "display_data"
    }
   ],
   "source": [
    "sns.lineplot(x=np.arange(3,13), y=\"consumption\", data=X_train.groupby(\"month\").mean())"
   ]
  },
  {
   "cell_type": "markdown",
   "metadata": {},
   "source": [
    "In the afternoon, the most consumption."
   ]
  },
  {
   "cell_type": "code",
   "execution_count": 22,
   "metadata": {},
   "outputs": [
    {
     "data": {
      "text/plain": [
       "<matplotlib.axes._subplots.AxesSubplot at 0x7efc7e53f0b8>"
      ]
     },
     "execution_count": 22,
     "metadata": {},
     "output_type": "execute_result"
    },
    {
     "data": {
      "image/png": "[encoded data removed]",
      "text/plain": [
       "<Figure size 432x288 with 1 Axes>"
      ]
     },
     "metadata": {
      "needs_background": "light"
     },
     "output_type": "display_data"
    }
   ],
   "source": [
    "sns.lineplot(x=np.arange(0,24), y=\"consumption\", data=X_train.groupby(\"hour\").mean())"
   ]
  },
  {
   "cell_type": "markdown",
   "metadata": {},
   "source": [
    "Holidays:"
   ]
  },
  {
   "cell_type": "code",
   "execution_count": 23,
   "metadata": {},
   "outputs": [
    {
     "data": {
      "text/plain": [
       "341.72554808943374"
      ]
     },
     "execution_count": 23,
     "metadata": {},
     "output_type": "execute_result"
    }
   ],
   "source": [
    "X_train.consumption.std()"
   ]
  },
  {
   "cell_type": "code",
   "execution_count": 24,
   "metadata": {},
   "outputs": [
    {
     "data": {
      "text/html": [
       "<div>\n",
       "<style scoped>\n",
       "    .dataframe tbody tr th:only-of-type {\n",
       "        vertical-align: middle;\n",
       "    }\n",
       "\n",
       "    .dataframe tbody tr th {\n",
       "        vertical-align: top;\n",
       "    }\n",
       "\n",
       "    .dataframe thead th {\n",
       "        text-align: right;\n",
       "    }\n",
       "</style>\n",
       "<table border=\"1\" class=\"dataframe\">\n",
       "  <thead>\n",
       "    <tr style=\"text-align: right;\">\n",
       "      <th></th>\n",
       "      <th>consumption</th>\n",
       "    </tr>\n",
       "    <tr>\n",
       "      <th>is_holidays</th>\n",
       "      <th></th>\n",
       "    </tr>\n",
       "  </thead>\n",
       "  <tbody>\n",
       "    <tr>\n",
       "      <th>0</th>\n",
       "      <td>304.761141</td>\n",
       "    </tr>\n",
       "    <tr>\n",
       "      <th>1</th>\n",
       "      <td>265.910400</td>\n",
       "    </tr>\n",
       "  </tbody>\n",
       "</table>\n",
       "</div>"
      ],
      "text/plain": [
       "             consumption\n",
       "is_holidays             \n",
       "0             304.761141\n",
       "1             265.910400"
      ]
     },
     "execution_count": 24,
     "metadata": {},
     "output_type": "execute_result"
    }
   ],
   "source": [
    "X_train[[\"consumption\", \"is_holidays\"]].groupby(\"is_holidays\").mean()"
   ]
  },
  {
   "cell_type": "markdown",
   "metadata": {},
   "source": [
    "Due to the big difference in consumption, it looks like the data belongs to a city in France."
   ]
  },
  {
   "cell_type": "code",
   "execution_count": 25,
   "metadata": {},
   "outputs": [
    {
     "data": {
      "text/html": [
       "<div>\n",
       "<style scoped>\n",
       "    .dataframe tbody tr th:only-of-type {\n",
       "        vertical-align: middle;\n",
       "    }\n",
       "\n",
       "    .dataframe tbody tr th {\n",
       "        vertical-align: top;\n",
       "    }\n",
       "\n",
       "    .dataframe thead th {\n",
       "        text-align: right;\n",
       "    }\n",
       "</style>\n",
       "<table border=\"1\" class=\"dataframe\">\n",
       "  <thead>\n",
       "    <tr style=\"text-align: right;\">\n",
       "      <th></th>\n",
       "      <th>consumption</th>\n",
       "    </tr>\n",
       "    <tr>\n",
       "      <th>is_holidays</th>\n",
       "      <th></th>\n",
       "    </tr>\n",
       "  </thead>\n",
       "  <tbody>\n",
       "    <tr>\n",
       "      <th>0</th>\n",
       "      <td>344.159031</td>\n",
       "    </tr>\n",
       "    <tr>\n",
       "      <th>1</th>\n",
       "      <td>261.896030</td>\n",
       "    </tr>\n",
       "  </tbody>\n",
       "</table>\n",
       "</div>"
      ],
      "text/plain": [
       "             consumption\n",
       "is_holidays             \n",
       "0             344.159031\n",
       "1             261.896030"
      ]
     },
     "execution_count": 25,
     "metadata": {},
     "output_type": "execute_result"
    }
   ],
   "source": [
    "X_train[[\"consumption\", \"is_holidays\"]].groupby(\"is_holidays\").std()"
   ]
  },
  {
   "cell_type": "markdown",
   "metadata": {},
   "source": [
    "Plots:"
   ]
  },
  {
   "cell_type": "code",
   "execution_count": 26,
   "metadata": {},
   "outputs": [],
   "source": [
    "# fig, axs = plt.subplots(2,2, figsize=(15,15))\n",
    "# axs[0,0].scatter(X_train.consumption[Y_train.washing_machine > 0], Y_train.washing_machine[Y_train.washing_machine > 0], c=\"red\")\n",
    "# axs[0,0].scatter(X_train.consumption[Y_train.washing_machine == 0], Y_train.washing_machine[Y_train.washing_machine == 0], c=\"blue\")\n",
    "# axs[0,1].scatter(X_train.consumption, Y_train.fridge_freezer )\n",
    "# axs[1,0].scatter(X_train.consumption, Y_train.TV )\n",
    "# axs[1,1].scatter(X_train.consumption, Y_train.kettle)"
   ]
  },
  {
   "cell_type": "markdown",
   "metadata": {
    "cell_style": "center"
   },
   "source": [
    "### Analyzing the target"
   ]
  },
  {
   "cell_type": "markdown",
   "metadata": {},
   "source": [
    "Weekday:\n",
    "- People enjoy using the Washing Machine on Sunday"
   ]
  },
  {
   "cell_type": "code",
   "execution_count": 27,
   "metadata": {},
   "outputs": [
    {
     "data": {
      "text/html": [
       "<div>\n",
       "<style scoped>\n",
       "    .dataframe tbody tr th:only-of-type {\n",
       "        vertical-align: middle;\n",
       "    }\n",
       "\n",
       "    .dataframe tbody tr th {\n",
       "        vertical-align: top;\n",
       "    }\n",
       "\n",
       "    .dataframe thead th {\n",
       "        text-align: right;\n",
       "    }\n",
       "</style>\n",
       "<table border=\"1\" class=\"dataframe\">\n",
       "  <thead>\n",
       "    <tr style=\"text-align: right;\">\n",
       "      <th></th>\n",
       "      <th>washing_machine</th>\n",
       "      <th>fridge_freezer</th>\n",
       "      <th>TV</th>\n",
       "      <th>kettle</th>\n",
       "    </tr>\n",
       "    <tr>\n",
       "      <th>weekday</th>\n",
       "      <th></th>\n",
       "      <th></th>\n",
       "      <th></th>\n",
       "      <th></th>\n",
       "    </tr>\n",
       "  </thead>\n",
       "  <tbody>\n",
       "    <tr>\n",
       "      <th>0</th>\n",
       "      <td>5.389439</td>\n",
       "      <td>50.851487</td>\n",
       "      <td>15.410679</td>\n",
       "      <td>4.351712</td>\n",
       "    </tr>\n",
       "    <tr>\n",
       "      <th>1</th>\n",
       "      <td>6.025031</td>\n",
       "      <td>51.412186</td>\n",
       "      <td>14.709467</td>\n",
       "      <td>4.785899</td>\n",
       "    </tr>\n",
       "    <tr>\n",
       "      <th>2</th>\n",
       "      <td>4.811761</td>\n",
       "      <td>49.394849</td>\n",
       "      <td>14.731168</td>\n",
       "      <td>5.213072</td>\n",
       "    </tr>\n",
       "    <tr>\n",
       "      <th>3</th>\n",
       "      <td>3.953032</td>\n",
       "      <td>50.350004</td>\n",
       "      <td>14.123652</td>\n",
       "      <td>5.451252</td>\n",
       "    </tr>\n",
       "    <tr>\n",
       "      <th>4</th>\n",
       "      <td>4.589050</td>\n",
       "      <td>49.389511</td>\n",
       "      <td>13.251122</td>\n",
       "      <td>4.933465</td>\n",
       "    </tr>\n",
       "    <tr>\n",
       "      <th>5</th>\n",
       "      <td>6.485284</td>\n",
       "      <td>48.443971</td>\n",
       "      <td>14.418012</td>\n",
       "      <td>5.497252</td>\n",
       "    </tr>\n",
       "    <tr>\n",
       "      <th>6</th>\n",
       "      <td>9.116859</td>\n",
       "      <td>49.695682</td>\n",
       "      <td>14.698118</td>\n",
       "      <td>4.786513</td>\n",
       "    </tr>\n",
       "  </tbody>\n",
       "</table>\n",
       "</div>"
      ],
      "text/plain": [
       "         washing_machine  fridge_freezer         TV    kettle\n",
       "weekday                                                      \n",
       "0               5.389439       50.851487  15.410679  4.351712\n",
       "1               6.025031       51.412186  14.709467  4.785899\n",
       "2               4.811761       49.394849  14.731168  5.213072\n",
       "3               3.953032       50.350004  14.123652  5.451252\n",
       "4               4.589050       49.389511  13.251122  4.933465\n",
       "5               6.485284       48.443971  14.418012  5.497252\n",
       "6               9.116859       49.695682  14.698118  4.786513"
      ]
     },
     "execution_count": 27,
     "metadata": {},
     "output_type": "execute_result"
    }
   ],
   "source": [
    "Y_train.groupby(X_train.weekday).mean()"
   ]
  },
  {
   "cell_type": "markdown",
   "metadata": {},
   "source": [
    "Month:\n",
    "- Significant increase in the use of the Washing Machine and the Kettle in November"
   ]
  },
  {
   "cell_type": "code",
   "execution_count": 28,
   "metadata": {},
   "outputs": [
    {
     "data": {
      "text/html": [
       "<div>\n",
       "<style scoped>\n",
       "    .dataframe tbody tr th:only-of-type {\n",
       "        vertical-align: middle;\n",
       "    }\n",
       "\n",
       "    .dataframe tbody tr th {\n",
       "        vertical-align: top;\n",
       "    }\n",
       "\n",
       "    .dataframe thead th {\n",
       "        text-align: right;\n",
       "    }\n",
       "</style>\n",
       "<table border=\"1\" class=\"dataframe\">\n",
       "  <thead>\n",
       "    <tr style=\"text-align: right;\">\n",
       "      <th></th>\n",
       "      <th>washing_machine</th>\n",
       "      <th>fridge_freezer</th>\n",
       "      <th>TV</th>\n",
       "      <th>kettle</th>\n",
       "    </tr>\n",
       "    <tr>\n",
       "      <th>month</th>\n",
       "      <th></th>\n",
       "      <th></th>\n",
       "      <th></th>\n",
       "      <th></th>\n",
       "    </tr>\n",
       "  </thead>\n",
       "  <tbody>\n",
       "    <tr>\n",
       "      <th>3</th>\n",
       "      <td>5.556400</td>\n",
       "      <td>42.320846</td>\n",
       "      <td>20.017219</td>\n",
       "      <td>4.385925</td>\n",
       "    </tr>\n",
       "    <tr>\n",
       "      <th>4</th>\n",
       "      <td>5.215361</td>\n",
       "      <td>41.389061</td>\n",
       "      <td>16.551459</td>\n",
       "      <td>3.776446</td>\n",
       "    </tr>\n",
       "    <tr>\n",
       "      <th>5</th>\n",
       "      <td>6.178312</td>\n",
       "      <td>45.784497</td>\n",
       "      <td>15.429027</td>\n",
       "      <td>1.304619</td>\n",
       "    </tr>\n",
       "    <tr>\n",
       "      <th>6</th>\n",
       "      <td>6.618310</td>\n",
       "      <td>50.552661</td>\n",
       "      <td>12.813130</td>\n",
       "      <td>3.917128</td>\n",
       "    </tr>\n",
       "    <tr>\n",
       "      <th>7</th>\n",
       "      <td>4.715941</td>\n",
       "      <td>57.546494</td>\n",
       "      <td>13.594985</td>\n",
       "      <td>1.895366</td>\n",
       "    </tr>\n",
       "    <tr>\n",
       "      <th>8</th>\n",
       "      <td>4.043138</td>\n",
       "      <td>55.848900</td>\n",
       "      <td>11.844897</td>\n",
       "      <td>1.720263</td>\n",
       "    </tr>\n",
       "    <tr>\n",
       "      <th>9</th>\n",
       "      <td>6.441809</td>\n",
       "      <td>49.565837</td>\n",
       "      <td>13.093514</td>\n",
       "      <td>3.608603</td>\n",
       "    </tr>\n",
       "    <tr>\n",
       "      <th>10</th>\n",
       "      <td>5.468136</td>\n",
       "      <td>53.266371</td>\n",
       "      <td>14.699599</td>\n",
       "      <td>8.066695</td>\n",
       "    </tr>\n",
       "    <tr>\n",
       "      <th>11</th>\n",
       "      <td>8.539906</td>\n",
       "      <td>52.057606</td>\n",
       "      <td>15.446995</td>\n",
       "      <td>13.152962</td>\n",
       "    </tr>\n",
       "    <tr>\n",
       "      <th>12</th>\n",
       "      <td>5.010925</td>\n",
       "      <td>46.948316</td>\n",
       "      <td>14.187673</td>\n",
       "      <td>7.989399</td>\n",
       "    </tr>\n",
       "  </tbody>\n",
       "</table>\n",
       "</div>"
      ],
      "text/plain": [
       "       washing_machine  fridge_freezer         TV     kettle\n",
       "month                                                       \n",
       "3             5.556400       42.320846  20.017219   4.385925\n",
       "4             5.215361       41.389061  16.551459   3.776446\n",
       "5             6.178312       45.784497  15.429027   1.304619\n",
       "6             6.618310       50.552661  12.813130   3.917128\n",
       "7             4.715941       57.546494  13.594985   1.895366\n",
       "8             4.043138       55.848900  11.844897   1.720263\n",
       "9             6.441809       49.565837  13.093514   3.608603\n",
       "10            5.468136       53.266371  14.699599   8.066695\n",
       "11            8.539906       52.057606  15.446995  13.152962\n",
       "12            5.010925       46.948316  14.187673   7.989399"
      ]
     },
     "execution_count": 28,
     "metadata": {},
     "output_type": "execute_result"
    }
   ],
   "source": [
    "Y_train.groupby(X_train.month).mean()"
   ]
  },
  {
   "cell_type": "markdown",
   "metadata": {},
   "source": [
    "Weekend:"
   ]
  },
  {
   "cell_type": "code",
   "execution_count": 29,
   "metadata": {},
   "outputs": [
    {
     "data": {
      "text/html": [
       "<div>\n",
       "<style scoped>\n",
       "    .dataframe tbody tr th:only-of-type {\n",
       "        vertical-align: middle;\n",
       "    }\n",
       "\n",
       "    .dataframe tbody tr th {\n",
       "        vertical-align: top;\n",
       "    }\n",
       "\n",
       "    .dataframe thead th {\n",
       "        text-align: right;\n",
       "    }\n",
       "</style>\n",
       "<table border=\"1\" class=\"dataframe\">\n",
       "  <thead>\n",
       "    <tr style=\"text-align: right;\">\n",
       "      <th></th>\n",
       "      <th>washing_machine</th>\n",
       "      <th>fridge_freezer</th>\n",
       "      <th>TV</th>\n",
       "      <th>kettle</th>\n",
       "    </tr>\n",
       "    <tr>\n",
       "      <th>is_weekend</th>\n",
       "      <th></th>\n",
       "      <th></th>\n",
       "      <th></th>\n",
       "      <th></th>\n",
       "    </tr>\n",
       "  </thead>\n",
       "  <tbody>\n",
       "    <tr>\n",
       "      <th>0</th>\n",
       "      <td>4.960944</td>\n",
       "      <td>50.287842</td>\n",
       "      <td>14.451158</td>\n",
       "      <td>4.943425</td>\n",
       "    </tr>\n",
       "    <tr>\n",
       "      <th>1</th>\n",
       "      <td>7.816913</td>\n",
       "      <td>49.077362</td>\n",
       "      <td>14.559751</td>\n",
       "      <td>5.137604</td>\n",
       "    </tr>\n",
       "  </tbody>\n",
       "</table>\n",
       "</div>"
      ],
      "text/plain": [
       "            washing_machine  fridge_freezer         TV    kettle\n",
       "is_weekend                                                      \n",
       "0                  4.960944       50.287842  14.451158  4.943425\n",
       "1                  7.816913       49.077362  14.559751  5.137604"
      ]
     },
     "execution_count": 29,
     "metadata": {},
     "output_type": "execute_result"
    }
   ],
   "source": [
    "Y_train.groupby(X_train.is_weekend).mean()"
   ]
  },
  {
   "cell_type": "markdown",
   "metadata": {},
   "source": [
    "Hour:\n",
    "- Washing Machine used late evening\n",
    "- TV from the evening\n",
    "- Kettle in the afternoon around Tea Time"
   ]
  },
  {
   "cell_type": "code",
   "execution_count": 1,
   "metadata": {},
   "outputs": [
    {
     "ename": "NameError",
     "evalue": "name 'Y_train' is not defined",
     "output_type": "error",
     "traceback": [
      "\u001b[0;31m---------------------------------------------------------------------------\u001b[0m",
      "\u001b[0;31mNameError\u001b[0m                                 Traceback (most recent call last)",
      "\u001b[0;32m<ipython-input-1-79cb6985ee1d>\u001b[0m in \u001b[0;36m<module>\u001b[0;34m\u001b[0m\n\u001b[0;32m----> 1\u001b[0;31m \u001b[0mY_train\u001b[0m\u001b[0;34m.\u001b[0m\u001b[0mgroupby\u001b[0m\u001b[0;34m(\u001b[0m\u001b[0mX_train\u001b[0m\u001b[0;34m.\u001b[0m\u001b[0mhour\u001b[0m\u001b[0;34m)\u001b[0m\u001b[0;34m.\u001b[0m\u001b[0mmean\u001b[0m\u001b[0;34m(\u001b[0m\u001b[0;34m)\u001b[0m\u001b[0;34m\u001b[0m\u001b[0;34m\u001b[0m\u001b[0m\n\u001b[0m",
      "\u001b[0;31mNameError\u001b[0m: name 'Y_train' is not defined"
     ]
    }
   ],
   "source": [
    "Y_train.groupby(X_train.hour).mean()"
   ]
  },
  {
   "cell_type": "markdown",
   "metadata": {},
   "source": [
    "Holidays:\n",
    "- Who wants to do a Washing Machine while on holidays?"
   ]
  },
  {
   "cell_type": "code",
   "execution_count": 31,
   "metadata": {},
   "outputs": [
    {
     "data": {
      "text/html": [
       "<div>\n",
       "<style scoped>\n",
       "    .dataframe tbody tr th:only-of-type {\n",
       "        vertical-align: middle;\n",
       "    }\n",
       "\n",
       "    .dataframe tbody tr th {\n",
       "        vertical-align: top;\n",
       "    }\n",
       "\n",
       "    .dataframe thead th {\n",
       "        text-align: right;\n",
       "    }\n",
       "</style>\n",
       "<table border=\"1\" class=\"dataframe\">\n",
       "  <thead>\n",
       "    <tr style=\"text-align: right;\">\n",
       "      <th></th>\n",
       "      <th>washing_machine</th>\n",
       "      <th>fridge_freezer</th>\n",
       "      <th>TV</th>\n",
       "      <th>kettle</th>\n",
       "    </tr>\n",
       "    <tr>\n",
       "      <th>is_holidays</th>\n",
       "      <th></th>\n",
       "      <th></th>\n",
       "      <th></th>\n",
       "      <th></th>\n",
       "    </tr>\n",
       "  </thead>\n",
       "  <tbody>\n",
       "    <tr>\n",
       "      <th>0</th>\n",
       "      <td>5.875870</td>\n",
       "      <td>50.012378</td>\n",
       "      <td>14.517998</td>\n",
       "      <td>5.056063</td>\n",
       "    </tr>\n",
       "    <tr>\n",
       "      <th>1</th>\n",
       "      <td>3.047412</td>\n",
       "      <td>47.953892</td>\n",
       "      <td>13.480961</td>\n",
       "      <td>3.401253</td>\n",
       "    </tr>\n",
       "  </tbody>\n",
       "</table>\n",
       "</div>"
      ],
      "text/plain": [
       "             washing_machine  fridge_freezer         TV    kettle\n",
       "is_holidays                                                      \n",
       "0                   5.875870       50.012378  14.517998  5.056063\n",
       "1                   3.047412       47.953892  13.480961  3.401253"
      ]
     },
     "execution_count": 31,
     "metadata": {},
     "output_type": "execute_result"
    }
   ],
   "source": [
    "Y_train.groupby(X_train.is_holidays).mean()"
   ]
  },
  {
   "cell_type": "markdown",
   "metadata": {},
   "source": [
    "### Adding extra features"
   ]
  },
  {
   "cell_type": "markdown",
   "metadata": {},
   "source": [
    "By looking at the data, these features can be added:"
   ]
  },
  {
   "cell_type": "code",
   "execution_count": 32,
   "metadata": {},
   "outputs": [],
   "source": [
    "X_train[\"is_breakfast\"] = ((X_train.hour>5) & (X_train.hour<9))*1 \n",
    "X_train[\"is_teatime\"] = ((X_train.hour>16) & (X_train.hour<20))*1 \n",
    "X_train[\"is_TVtime\"] = ((X_train.hour>17) & (X_train.hour<23))*1\n",
    "# X_train[\"is_working_hour\"] = ((X_train.hour>7) & (X_train.hour<19))*1\n",
    "X_train[\"is_night\"] = ((X_train.hour>0) & (X_train.hour<7))*1"
   ]
  },
  {
   "cell_type": "markdown",
   "metadata": {},
   "source": [
    "Let's put all in a transformer!"
   ]
  },
  {
   "cell_type": "code",
   "execution_count": 33,
   "metadata": {},
   "outputs": [],
   "source": [
    "class DataAugmenter(BaseEstimator, TransformerMixin):\n",
    "    \n",
    "    def __init__(self):\n",
    "        self.X = None\n",
    "    \n",
    "    def fit(self, X, y=None):\n",
    "        return self\n",
    "    \n",
    "    def transform(self, X, y=None):\n",
    "        X[\"time_step\"] = pd.to_datetime(X[\"time_step\"])\n",
    "        X[\"weekday\"] = X.time_step.dt.dayofweek\n",
    "        X[\"month\"] = X.time_step.dt.month\n",
    "        X[\"hour\"] = X.time_step.dt.hour\n",
    "        X[\"is_weekend\"] = (X[\"weekday\"] > 4)*1  \n",
    "        X[\"is_holidays\"] = (X.time_step.dt.date.isin(fr_holidays))*1\n",
    "        \n",
    "        X[\"is_breakfast\"] = ((X.hour>5) & (X.hour<9))*1 \n",
    "        X[\"is_teatime\"] = ((X.hour>16) & (X.hour<20))*1 \n",
    "        X[\"is_TVtime\"] = ((X.hour>17) & (X.hour<23))*1\n",
    "        # X_train[\"is_working_hour\"] = ((X_train.hour>7) & (X_train.hour<19))*1\n",
    "        X[\"is_night\"] = ((X.hour>0) & (X.hour<7))*1\n",
    "        return X"
   ]
  },
  {
   "cell_type": "markdown",
   "metadata": {},
   "source": [
    "---\n",
    "---\n",
    "---"
   ]
  },
  {
   "cell_type": "markdown",
   "metadata": {},
   "source": [
    "## Modeling"
   ]
  },
  {
   "cell_type": "markdown",
   "metadata": {},
   "source": [
    "### Regression, a baseline model"
   ]
  },
  {
   "cell_type": "markdown",
   "metadata": {},
   "source": [
    "[MultiOutputRegressor](https://scikit-learn.org/stable/modules/generated/sklearn.multioutput.MultiOutputRegressor.html) consists of fitting one regressor per target. \n",
    "\n",
    "This is a simple strategy for extending regressors that do not natively support multi-target regression."
   ]
  },
  {
   "cell_type": "markdown",
   "metadata": {},
   "source": [
    "Test cold months only:"
   ]
  },
  {
   "cell_type": "code",
   "execution_count": null,
   "metadata": {},
   "outputs": [],
   "source": [
    "# Y_train = Y_train.loc[(X_train.month<4) | (X_train.month>8)]\n",
    "# X_train = X_train.loc[(X_train.month<4) | (X_train.month>8)]"
   ]
  },
  {
   "cell_type": "code",
   "execution_count": 61,
   "metadata": {},
   "outputs": [],
   "source": [
    "regressor = MultiOutputRegressor(LinearRegression())"
   ]
  },
  {
   "cell_type": "code",
   "execution_count": 62,
   "metadata": {},
   "outputs": [
    {
     "data": {
      "text/html": [
       "<div>\n",
       "<style scoped>\n",
       "    .dataframe tbody tr th:only-of-type {\n",
       "        vertical-align: middle;\n",
       "    }\n",
       "\n",
       "    .dataframe tbody tr th {\n",
       "        vertical-align: top;\n",
       "    }\n",
       "\n",
       "    .dataframe thead th {\n",
       "        text-align: right;\n",
       "    }\n",
       "</style>\n",
       "<table border=\"1\" class=\"dataframe\">\n",
       "  <thead>\n",
       "    <tr style=\"text-align: right;\">\n",
       "      <th></th>\n",
       "      <th>time_step</th>\n",
       "      <th>washing_machine</th>\n",
       "      <th>fridge_freezer</th>\n",
       "      <th>TV</th>\n",
       "      <th>kettle</th>\n",
       "    </tr>\n",
       "  </thead>\n",
       "  <tbody>\n",
       "    <tr>\n",
       "      <th>0</th>\n",
       "      <td>2013-03-17T00:01:00.0</td>\n",
       "      <td>0.0</td>\n",
       "      <td>79.2000</td>\n",
       "      <td>7.0</td>\n",
       "      <td>0.0</td>\n",
       "    </tr>\n",
       "    <tr>\n",
       "      <th>1</th>\n",
       "      <td>2013-03-17T00:02:00.0</td>\n",
       "      <td>0.0</td>\n",
       "      <td>78.0000</td>\n",
       "      <td>7.0</td>\n",
       "      <td>0.0</td>\n",
       "    </tr>\n",
       "    <tr>\n",
       "      <th>2</th>\n",
       "      <td>2013-03-17T00:03:00.0</td>\n",
       "      <td>0.0</td>\n",
       "      <td>76.9000</td>\n",
       "      <td>7.0</td>\n",
       "      <td>0.0</td>\n",
       "    </tr>\n",
       "    <tr>\n",
       "      <th>3</th>\n",
       "      <td>2013-03-17T00:04:00.0</td>\n",
       "      <td>0.0</td>\n",
       "      <td>76.1111</td>\n",
       "      <td>7.0</td>\n",
       "      <td>0.0</td>\n",
       "    </tr>\n",
       "    <tr>\n",
       "      <th>4</th>\n",
       "      <td>2013-03-17T00:05:00.0</td>\n",
       "      <td>0.0</td>\n",
       "      <td>75.2727</td>\n",
       "      <td>7.0</td>\n",
       "      <td>0.0</td>\n",
       "    </tr>\n",
       "  </tbody>\n",
       "</table>\n",
       "</div>"
      ],
      "text/plain": [
       "               time_step  washing_machine  fridge_freezer   TV  kettle\n",
       "0  2013-03-17T00:01:00.0              0.0         79.2000  7.0     0.0\n",
       "1  2013-03-17T00:02:00.0              0.0         78.0000  7.0     0.0\n",
       "2  2013-03-17T00:03:00.0              0.0         76.9000  7.0     0.0\n",
       "3  2013-03-17T00:04:00.0              0.0         76.1111  7.0     0.0\n",
       "4  2013-03-17T00:05:00.0              0.0         75.2727  7.0     0.0"
      ]
     },
     "execution_count": 62,
     "metadata": {},
     "output_type": "execute_result"
    }
   ],
   "source": [
    "Y_train.head()"
   ]
  },
  {
   "cell_type": "code",
   "execution_count": 63,
   "metadata": {},
   "outputs": [],
   "source": [
    "x_train, x_valid, y_train, y_valid = train_test_split(\n",
    "    X_train.drop('time_step', axis=1), Y_train.drop('time_step', axis=1), test_size=0.33, random_state=42)"
   ]
  },
  {
   "cell_type": "code",
   "execution_count": 64,
   "metadata": {},
   "outputs": [
    {
     "data": {
      "text/plain": [
       "MultiOutputRegressor(estimator=LinearRegression(copy_X=True, fit_intercept=True,\n",
       "                                                n_jobs=None, normalize=False),\n",
       "                     n_jobs=None)"
      ]
     },
     "execution_count": 64,
     "metadata": {},
     "output_type": "execute_result"
    }
   ],
   "source": [
    "regressor.fit(x_train, y_train)"
   ]
  },
  {
   "cell_type": "code",
   "execution_count": 65,
   "metadata": {},
   "outputs": [
    {
     "data": {
      "text/plain": [
       "0.08838952117443302"
      ]
     },
     "execution_count": 65,
     "metadata": {},
     "output_type": "execute_result"
    }
   ],
   "source": [
    "regressor.score(x_train, y_train)"
   ]
  },
  {
   "cell_type": "code",
   "execution_count": 66,
   "metadata": {},
   "outputs": [
    {
     "data": {
      "text/plain": [
       "0.08495411337922906"
      ]
     },
     "execution_count": 66,
     "metadata": {},
     "output_type": "execute_result"
    }
   ],
   "source": [
    "regressor.score(x_valid, y_valid)"
   ]
  },
  {
   "cell_type": "markdown",
   "metadata": {},
   "source": [
    "Have a look at all the coefficients:"
   ]
  },
  {
   "cell_type": "code",
   "execution_count": 67,
   "metadata": {},
   "outputs": [],
   "source": [
    "df = pd.DataFrame([i.coef_ for i in regressor.estimators_], columns=X_train.columns[1:], index=Y_train.columns[1:])"
   ]
  },
  {
   "cell_type": "code",
   "execution_count": 68,
   "metadata": {},
   "outputs": [
    {
     "data": {
      "text/html": [
       "<div>\n",
       "<style scoped>\n",
       "    .dataframe tbody tr th:only-of-type {\n",
       "        vertical-align: middle;\n",
       "    }\n",
       "\n",
       "    .dataframe tbody tr th {\n",
       "        vertical-align: top;\n",
       "    }\n",
       "\n",
       "    .dataframe thead th {\n",
       "        text-align: right;\n",
       "    }\n",
       "</style>\n",
       "<table border=\"1\" class=\"dataframe\">\n",
       "  <thead>\n",
       "    <tr style=\"text-align: right;\">\n",
       "      <th></th>\n",
       "      <th>consumption</th>\n",
       "      <th>visibility</th>\n",
       "      <th>temperature</th>\n",
       "      <th>humidity</th>\n",
       "      <th>humidex</th>\n",
       "      <th>windchill</th>\n",
       "      <th>wind</th>\n",
       "      <th>pressure</th>\n",
       "      <th>weekday</th>\n",
       "      <th>month</th>\n",
       "      <th>hour</th>\n",
       "      <th>is_weekend</th>\n",
       "      <th>is_holidays</th>\n",
       "      <th>is_breakfast</th>\n",
       "      <th>is_teatime</th>\n",
       "      <th>is_TVtime</th>\n",
       "      <th>is_night</th>\n",
       "    </tr>\n",
       "  </thead>\n",
       "  <tbody>\n",
       "    <tr>\n",
       "      <th>washing_machine</th>\n",
       "      <td>0.035839</td>\n",
       "      <td>-0.078356</td>\n",
       "      <td>0.404696</td>\n",
       "      <td>-0.017835</td>\n",
       "      <td>0.030613</td>\n",
       "      <td>-0.324145</td>\n",
       "      <td>-0.239177</td>\n",
       "      <td>-0.012111</td>\n",
       "      <td>-0.098189</td>\n",
       "      <td>-0.226438</td>\n",
       "      <td>0.163038</td>\n",
       "      <td>2.626042</td>\n",
       "      <td>-0.672401</td>\n",
       "      <td>-6.599574</td>\n",
       "      <td>-13.179530</td>\n",
       "      <td>0.061215</td>\n",
       "      <td>-1.960592</td>\n",
       "    </tr>\n",
       "    <tr>\n",
       "      <th>fridge_freezer</th>\n",
       "      <td>0.018693</td>\n",
       "      <td>-0.003251</td>\n",
       "      <td>-0.877135</td>\n",
       "      <td>0.100308</td>\n",
       "      <td>1.609948</td>\n",
       "      <td>0.171661</td>\n",
       "      <td>0.044558</td>\n",
       "      <td>-0.003985</td>\n",
       "      <td>-0.314997</td>\n",
       "      <td>0.887057</td>\n",
       "      <td>-0.129080</td>\n",
       "      <td>-0.302640</td>\n",
       "      <td>-0.202643</td>\n",
       "      <td>0.662717</td>\n",
       "      <td>1.052255</td>\n",
       "      <td>1.043819</td>\n",
       "      <td>-2.314463</td>\n",
       "    </tr>\n",
       "    <tr>\n",
       "      <th>TV</th>\n",
       "      <td>0.006667</td>\n",
       "      <td>-0.013430</td>\n",
       "      <td>0.023265</td>\n",
       "      <td>0.055420</td>\n",
       "      <td>0.360021</td>\n",
       "      <td>-0.588281</td>\n",
       "      <td>-0.064199</td>\n",
       "      <td>-0.002278</td>\n",
       "      <td>-0.462785</td>\n",
       "      <td>-0.527293</td>\n",
       "      <td>0.332914</td>\n",
       "      <td>1.519438</td>\n",
       "      <td>-1.725014</td>\n",
       "      <td>-1.880395</td>\n",
       "      <td>4.526632</td>\n",
       "      <td>7.199559</td>\n",
       "      <td>2.523622</td>\n",
       "    </tr>\n",
       "    <tr>\n",
       "      <th>kettle</th>\n",
       "      <td>0.124247</td>\n",
       "      <td>-0.008821</td>\n",
       "      <td>-0.618851</td>\n",
       "      <td>-0.035192</td>\n",
       "      <td>0.469523</td>\n",
       "      <td>0.494373</td>\n",
       "      <td>0.041046</td>\n",
       "      <td>0.015254</td>\n",
       "      <td>0.838682</td>\n",
       "      <td>0.182093</td>\n",
       "      <td>-0.465762</td>\n",
       "      <td>-4.236884</td>\n",
       "      <td>4.011358</td>\n",
       "      <td>0.730873</td>\n",
       "      <td>-1.010641</td>\n",
       "      <td>-2.293211</td>\n",
       "      <td>-0.062465</td>\n",
       "    </tr>\n",
       "  </tbody>\n",
       "</table>\n",
       "</div>"
      ],
      "text/plain": [
       "                 consumption  visibility  temperature  humidity   humidex  \\\n",
       "washing_machine     0.035839   -0.078356     0.404696 -0.017835  0.030613   \n",
       "fridge_freezer      0.018693   -0.003251    -0.877135  0.100308  1.609948   \n",
       "TV                  0.006667   -0.013430     0.023265  0.055420  0.360021   \n",
       "kettle              0.124247   -0.008821    -0.618851 -0.035192  0.469523   \n",
       "\n",
       "                 windchill      wind  pressure   weekday     month      hour  \\\n",
       "washing_machine  -0.324145 -0.239177 -0.012111 -0.098189 -0.226438  0.163038   \n",
       "fridge_freezer    0.171661  0.044558 -0.003985 -0.314997  0.887057 -0.129080   \n",
       "TV               -0.588281 -0.064199 -0.002278 -0.462785 -0.527293  0.332914   \n",
       "kettle            0.494373  0.041046  0.015254  0.838682  0.182093 -0.465762   \n",
       "\n",
       "                 is_weekend  is_holidays  is_breakfast  is_teatime  is_TVtime  \\\n",
       "washing_machine    2.626042    -0.672401     -6.599574  -13.179530   0.061215   \n",
       "fridge_freezer    -0.302640    -0.202643      0.662717    1.052255   1.043819   \n",
       "TV                 1.519438    -1.725014     -1.880395    4.526632   7.199559   \n",
       "kettle            -4.236884     4.011358      0.730873   -1.010641  -2.293211   \n",
       "\n",
       "                 is_night  \n",
       "washing_machine -1.960592  \n",
       "fridge_freezer  -2.314463  \n",
       "TV               2.523622  \n",
       "kettle          -0.062465  "
      ]
     },
     "execution_count": 68,
     "metadata": {},
     "output_type": "execute_result"
    }
   ],
   "source": [
    "df"
   ]
  },
  {
   "cell_type": "markdown",
   "metadata": {},
   "source": [
    "What about predictions?"
   ]
  },
  {
   "cell_type": "code",
   "execution_count": 69,
   "metadata": {},
   "outputs": [],
   "source": [
    "y_pred = regressor.predict(x_valid)"
   ]
  },
  {
   "cell_type": "code",
   "execution_count": 70,
   "metadata": {},
   "outputs": [],
   "source": [
    "pred = pd.DataFrame(y_pred, columns=y_train.columns)\n",
    "pred[\"time_step\"] = X_train.time_step"
   ]
  },
  {
   "cell_type": "code",
   "execution_count": 71,
   "metadata": {},
   "outputs": [
    {
     "data": {
      "text/html": [
       "<div>\n",
       "<style scoped>\n",
       "    .dataframe tbody tr th:only-of-type {\n",
       "        vertical-align: middle;\n",
       "    }\n",
       "\n",
       "    .dataframe tbody tr th {\n",
       "        vertical-align: top;\n",
       "    }\n",
       "\n",
       "    .dataframe thead th {\n",
       "        text-align: right;\n",
       "    }\n",
       "</style>\n",
       "<table border=\"1\" class=\"dataframe\">\n",
       "  <thead>\n",
       "    <tr style=\"text-align: right;\">\n",
       "      <th></th>\n",
       "      <th>washing_machine</th>\n",
       "      <th>fridge_freezer</th>\n",
       "      <th>TV</th>\n",
       "      <th>kettle</th>\n",
       "      <th>time_step</th>\n",
       "    </tr>\n",
       "  </thead>\n",
       "  <tbody>\n",
       "    <tr>\n",
       "      <th>0</th>\n",
       "      <td>5.573694</td>\n",
       "      <td>54.720526</td>\n",
       "      <td>11.780158</td>\n",
       "      <td>1.903262</td>\n",
       "      <td>2013-03-17 00:01:00</td>\n",
       "    </tr>\n",
       "    <tr>\n",
       "      <th>1</th>\n",
       "      <td>-2.702450</td>\n",
       "      <td>48.960925</td>\n",
       "      <td>7.248687</td>\n",
       "      <td>-9.013223</td>\n",
       "      <td>2013-03-17 00:02:00</td>\n",
       "    </tr>\n",
       "    <tr>\n",
       "      <th>2</th>\n",
       "      <td>2.004707</td>\n",
       "      <td>56.514845</td>\n",
       "      <td>9.145050</td>\n",
       "      <td>-10.006413</td>\n",
       "      <td>2013-03-17 00:03:00</td>\n",
       "    </tr>\n",
       "    <tr>\n",
       "      <th>3</th>\n",
       "      <td>-0.419321</td>\n",
       "      <td>54.629279</td>\n",
       "      <td>10.738990</td>\n",
       "      <td>-8.756599</td>\n",
       "      <td>2013-03-17 00:04:00</td>\n",
       "    </tr>\n",
       "    <tr>\n",
       "      <th>4</th>\n",
       "      <td>-0.213901</td>\n",
       "      <td>41.879107</td>\n",
       "      <td>12.169366</td>\n",
       "      <td>-13.415032</td>\n",
       "      <td>2013-03-17 00:05:00</td>\n",
       "    </tr>\n",
       "  </tbody>\n",
       "</table>\n",
       "</div>"
      ],
      "text/plain": [
       "   washing_machine  fridge_freezer         TV     kettle           time_step\n",
       "0         5.573694       54.720526  11.780158   1.903262 2013-03-17 00:01:00\n",
       "1        -2.702450       48.960925   7.248687  -9.013223 2013-03-17 00:02:00\n",
       "2         2.004707       56.514845   9.145050 -10.006413 2013-03-17 00:03:00\n",
       "3        -0.419321       54.629279  10.738990  -8.756599 2013-03-17 00:04:00\n",
       "4        -0.213901       41.879107  12.169366 -13.415032 2013-03-17 00:05:00"
      ]
     },
     "execution_count": 71,
     "metadata": {},
     "output_type": "execute_result"
    }
   ],
   "source": [
    "pred.head()"
   ]
  },
  {
   "cell_type": "markdown",
   "metadata": {},
   "source": [
    "Metric used on the website:"
   ]
  },
  {
   "cell_type": "code",
   "execution_count": 72,
   "metadata": {},
   "outputs": [],
   "source": [
    "def metric_nilm(dataframe_y_true, dataframe_y_pred):\n",
    "    score = 0.0\n",
    "    test = dataframe_y_true['washing_machine']\n",
    "    pred = dataframe_y_pred['washing_machine']\n",
    "    score += mt.sqrt(sum((pred.values - test.values)**2)/len(test))*5.55\n",
    "    test = dataframe_y_true['fridge_freezer']\n",
    "    pred = dataframe_y_pred['fridge_freezer']\n",
    "    score += mt.sqrt(sum((pred.values - test.values)**2)/len(test))*49.79\n",
    "    test = dataframe_y_true['TV']\n",
    "    pred = dataframe_y_pred['TV']\n",
    "    score += mt.sqrt(sum((pred.values - test.values)**2)/len(test))*14.57\n",
    "    test = dataframe_y_true['kettle']\n",
    "    pred = dataframe_y_pred['kettle']\n",
    "    score += mt.sqrt(sum((pred.values - test.values)**2)/len(test))*4.95\n",
    "    score /= 74.86\n",
    "    return score"
   ]
  },
  {
   "cell_type": "code",
   "execution_count": 73,
   "metadata": {},
   "outputs": [
    {
     "data": {
      "text/plain": [
       "48.04492175166785"
      ]
     },
     "execution_count": 73,
     "metadata": {},
     "output_type": "execute_result"
    }
   ],
   "source": [
    "metric_nilm(y_valid, pred)"
   ]
  },
  {
   "cell_type": "markdown",
   "metadata": {},
   "source": [
    "##### Test Submission"
   ]
  },
  {
   "cell_type": "code",
   "execution_count": 74,
   "metadata": {},
   "outputs": [],
   "source": [
    "X_test = pd.read_csv(\n",
    "    'provided_data_and_metric/X_test_c2uBt2s.csv', \n",
    ")\n",
    "X_test.drop('Unnamed: 9', axis = 1, inplace = True)"
   ]
  },
  {
   "cell_type": "markdown",
   "metadata": {},
   "source": [
    "Save time for later"
   ]
  },
  {
   "cell_type": "code",
   "execution_count": 75,
   "metadata": {},
   "outputs": [],
   "source": [
    "time = X_test[\"time_step\"]"
   ]
  },
  {
   "cell_type": "code",
   "execution_count": 76,
   "metadata": {},
   "outputs": [],
   "source": [
    "X_test = di.transform(X=X_test)\n",
    "ag = DataAugmenter()\n",
    "X_test = ag.transform(X=X_test)"
   ]
  },
  {
   "cell_type": "code",
   "execution_count": 77,
   "metadata": {},
   "outputs": [
    {
     "data": {
      "text/html": [
       "<div>\n",
       "<style scoped>\n",
       "    .dataframe tbody tr th:only-of-type {\n",
       "        vertical-align: middle;\n",
       "    }\n",
       "\n",
       "    .dataframe tbody tr th {\n",
       "        vertical-align: top;\n",
       "    }\n",
       "\n",
       "    .dataframe thead th {\n",
       "        text-align: right;\n",
       "    }\n",
       "</style>\n",
       "<table border=\"1\" class=\"dataframe\">\n",
       "  <thead>\n",
       "    <tr style=\"text-align: right;\">\n",
       "      <th></th>\n",
       "      <th>time_step</th>\n",
       "      <th>consumption</th>\n",
       "      <th>visibility</th>\n",
       "      <th>temperature</th>\n",
       "      <th>humidity</th>\n",
       "      <th>humidex</th>\n",
       "      <th>windchill</th>\n",
       "      <th>wind</th>\n",
       "      <th>pressure</th>\n",
       "      <th>weekday</th>\n",
       "      <th>month</th>\n",
       "      <th>hour</th>\n",
       "      <th>is_weekend</th>\n",
       "      <th>is_holidays</th>\n",
       "      <th>is_breakfast</th>\n",
       "      <th>is_teatime</th>\n",
       "      <th>is_TVtime</th>\n",
       "      <th>is_night</th>\n",
       "    </tr>\n",
       "  </thead>\n",
       "  <tbody>\n",
       "    <tr>\n",
       "      <th>0</th>\n",
       "      <td>2014-01-01 00:00:00</td>\n",
       "      <td>312.2222</td>\n",
       "      <td>30.00</td>\n",
       "      <td>8.400000</td>\n",
       "      <td>86.000000</td>\n",
       "      <td>8.400000</td>\n",
       "      <td>5.600000</td>\n",
       "      <td>17.0</td>\n",
       "      <td>1016.600</td>\n",
       "      <td>2</td>\n",
       "      <td>1</td>\n",
       "      <td>0</td>\n",
       "      <td>0</td>\n",
       "      <td>0</td>\n",
       "      <td>0</td>\n",
       "      <td>0</td>\n",
       "      <td>0</td>\n",
       "      <td>0</td>\n",
       "    </tr>\n",
       "    <tr>\n",
       "      <th>1</th>\n",
       "      <td>2014-01-01 00:01:00</td>\n",
       "      <td>318.8750</td>\n",
       "      <td>29.95</td>\n",
       "      <td>8.401667</td>\n",
       "      <td>85.983333</td>\n",
       "      <td>8.401667</td>\n",
       "      <td>5.616667</td>\n",
       "      <td>16.9</td>\n",
       "      <td>1016.615</td>\n",
       "      <td>2</td>\n",
       "      <td>1</td>\n",
       "      <td>0</td>\n",
       "      <td>0</td>\n",
       "      <td>0</td>\n",
       "      <td>0</td>\n",
       "      <td>0</td>\n",
       "      <td>0</td>\n",
       "      <td>0</td>\n",
       "    </tr>\n",
       "    <tr>\n",
       "      <th>2</th>\n",
       "      <td>2014-01-01 00:02:00</td>\n",
       "      <td>314.3000</td>\n",
       "      <td>29.90</td>\n",
       "      <td>8.403333</td>\n",
       "      <td>85.966667</td>\n",
       "      <td>8.403333</td>\n",
       "      <td>5.633333</td>\n",
       "      <td>16.8</td>\n",
       "      <td>1016.630</td>\n",
       "      <td>2</td>\n",
       "      <td>1</td>\n",
       "      <td>0</td>\n",
       "      <td>0</td>\n",
       "      <td>0</td>\n",
       "      <td>0</td>\n",
       "      <td>0</td>\n",
       "      <td>0</td>\n",
       "      <td>0</td>\n",
       "    </tr>\n",
       "    <tr>\n",
       "      <th>3</th>\n",
       "      <td>2014-01-01 00:03:00</td>\n",
       "      <td>311.4444</td>\n",
       "      <td>29.85</td>\n",
       "      <td>8.405000</td>\n",
       "      <td>85.950000</td>\n",
       "      <td>8.405000</td>\n",
       "      <td>5.650000</td>\n",
       "      <td>16.7</td>\n",
       "      <td>1016.645</td>\n",
       "      <td>2</td>\n",
       "      <td>1</td>\n",
       "      <td>0</td>\n",
       "      <td>0</td>\n",
       "      <td>0</td>\n",
       "      <td>0</td>\n",
       "      <td>0</td>\n",
       "      <td>0</td>\n",
       "      <td>0</td>\n",
       "    </tr>\n",
       "    <tr>\n",
       "      <th>4</th>\n",
       "      <td>2014-01-01 00:04:00</td>\n",
       "      <td>310.0000</td>\n",
       "      <td>29.80</td>\n",
       "      <td>8.406667</td>\n",
       "      <td>85.933333</td>\n",
       "      <td>8.406667</td>\n",
       "      <td>5.666667</td>\n",
       "      <td>16.6</td>\n",
       "      <td>1016.660</td>\n",
       "      <td>2</td>\n",
       "      <td>1</td>\n",
       "      <td>0</td>\n",
       "      <td>0</td>\n",
       "      <td>0</td>\n",
       "      <td>0</td>\n",
       "      <td>0</td>\n",
       "      <td>0</td>\n",
       "      <td>0</td>\n",
       "    </tr>\n",
       "  </tbody>\n",
       "</table>\n",
       "</div>"
      ],
      "text/plain": [
       "            time_step  consumption  visibility  temperature   humidity  \\\n",
       "0 2014-01-01 00:00:00     312.2222       30.00     8.400000  86.000000   \n",
       "1 2014-01-01 00:01:00     318.8750       29.95     8.401667  85.983333   \n",
       "2 2014-01-01 00:02:00     314.3000       29.90     8.403333  85.966667   \n",
       "3 2014-01-01 00:03:00     311.4444       29.85     8.405000  85.950000   \n",
       "4 2014-01-01 00:04:00     310.0000       29.80     8.406667  85.933333   \n",
       "\n",
       "    humidex  windchill  wind  pressure  weekday  month  hour  is_weekend  \\\n",
       "0  8.400000   5.600000  17.0  1016.600        2      1     0           0   \n",
       "1  8.401667   5.616667  16.9  1016.615        2      1     0           0   \n",
       "2  8.403333   5.633333  16.8  1016.630        2      1     0           0   \n",
       "3  8.405000   5.650000  16.7  1016.645        2      1     0           0   \n",
       "4  8.406667   5.666667  16.6  1016.660        2      1     0           0   \n",
       "\n",
       "   is_holidays  is_breakfast  is_teatime  is_TVtime  is_night  \n",
       "0            0             0           0          0         0  \n",
       "1            0             0           0          0         0  \n",
       "2            0             0           0          0         0  \n",
       "3            0             0           0          0         0  \n",
       "4            0             0           0          0         0  "
      ]
     },
     "execution_count": 77,
     "metadata": {},
     "output_type": "execute_result"
    }
   ],
   "source": [
    "X_test.head()"
   ]
  },
  {
   "cell_type": "code",
   "execution_count": 78,
   "metadata": {},
   "outputs": [],
   "source": [
    "y_pred = regressor.predict(X_test.iloc[:,1:])"
   ]
  },
  {
   "cell_type": "code",
   "execution_count": 79,
   "metadata": {},
   "outputs": [],
   "source": [
    "pred = pd.DataFrame(y_pred, columns=Y_train.columns[1:])\n",
    "pred= pd.concat([time, pred], axis=1)"
   ]
  },
  {
   "cell_type": "code",
   "execution_count": 80,
   "metadata": {},
   "outputs": [
    {
     "data": {
      "text/html": [
       "<div>\n",
       "<style scoped>\n",
       "    .dataframe tbody tr th:only-of-type {\n",
       "        vertical-align: middle;\n",
       "    }\n",
       "\n",
       "    .dataframe tbody tr th {\n",
       "        vertical-align: top;\n",
       "    }\n",
       "\n",
       "    .dataframe thead th {\n",
       "        text-align: right;\n",
       "    }\n",
       "</style>\n",
       "<table border=\"1\" class=\"dataframe\">\n",
       "  <thead>\n",
       "    <tr style=\"text-align: right;\">\n",
       "      <th></th>\n",
       "      <th>time_step</th>\n",
       "      <th>washing_machine</th>\n",
       "      <th>fridge_freezer</th>\n",
       "      <th>TV</th>\n",
       "      <th>kettle</th>\n",
       "    </tr>\n",
       "  </thead>\n",
       "  <tbody>\n",
       "    <tr>\n",
       "      <th>0</th>\n",
       "      <td>2014-01-01T00:00:00.0</td>\n",
       "      <td>6.670909</td>\n",
       "      <td>42.653683</td>\n",
       "      <td>12.640056</td>\n",
       "      <td>9.277171</td>\n",
       "    </tr>\n",
       "    <tr>\n",
       "      <th>1</th>\n",
       "      <td>2014-01-01T00:01:00.0</td>\n",
       "      <td>6.932611</td>\n",
       "      <td>42.776100</td>\n",
       "      <td>12.681377</td>\n",
       "      <td>10.108904</td>\n",
       "    </tr>\n",
       "    <tr>\n",
       "      <th>2</th>\n",
       "      <td>2014-01-01T00:02:00.0</td>\n",
       "      <td>6.791923</td>\n",
       "      <td>42.688638</td>\n",
       "      <td>12.647844</td>\n",
       "      <td>9.545616</td>\n",
       "    </tr>\n",
       "    <tr>\n",
       "      <th>3</th>\n",
       "      <td>2014-01-01T00:03:00.0</td>\n",
       "      <td>6.712856</td>\n",
       "      <td>42.633316</td>\n",
       "      <td>12.625773</td>\n",
       "      <td>9.195959</td>\n",
       "    </tr>\n",
       "    <tr>\n",
       "      <th>4</th>\n",
       "      <td>2014-01-01T00:04:00.0</td>\n",
       "      <td>6.684365</td>\n",
       "      <td>42.604374</td>\n",
       "      <td>12.613111</td>\n",
       "      <td>9.021639</td>\n",
       "    </tr>\n",
       "  </tbody>\n",
       "</table>\n",
       "</div>"
      ],
      "text/plain": [
       "               time_step  washing_machine  fridge_freezer         TV  \\\n",
       "0  2014-01-01T00:00:00.0         6.670909       42.653683  12.640056   \n",
       "1  2014-01-01T00:01:00.0         6.932611       42.776100  12.681377   \n",
       "2  2014-01-01T00:02:00.0         6.791923       42.688638  12.647844   \n",
       "3  2014-01-01T00:03:00.0         6.712856       42.633316  12.625773   \n",
       "4  2014-01-01T00:04:00.0         6.684365       42.604374  12.613111   \n",
       "\n",
       "      kettle  \n",
       "0   9.277171  \n",
       "1  10.108904  \n",
       "2   9.545616  \n",
       "3   9.195959  \n",
       "4   9.021639  "
      ]
     },
     "execution_count": 80,
     "metadata": {},
     "output_type": "execute_result"
    }
   ],
   "source": [
    "pred.head()"
   ]
  },
  {
   "cell_type": "code",
   "execution_count": null,
   "metadata": {},
   "outputs": [],
   "source": [
    "pred.to_csv(\"test_submission.csv\", index=False)"
   ]
  },
  {
   "cell_type": "markdown",
   "metadata": {},
   "source": [
    "### Preprocessing"
   ]
  },
  {
   "cell_type": "markdown",
   "metadata": {},
   "source": [
    "Build a custom OneHotEncoder"
   ]
  },
  {
   "cell_type": "code",
   "execution_count": null,
   "metadata": {},
   "outputs": [],
   "source": [
    "class MyOneHotEncoder(BaseEstimator, TransformerMixin):\n",
    "\n",
    "    def __init__(self):\n",
    "        self.all_possible_hours = np.arange(0, 24)\n",
    "        self.all_possible_weekdays = np.arange(0, 7)\n",
    "        self.all_possible_months = np.arange(1, 13)\n",
    "        self.ohe_hours = OneHotEncoder(drop=\"first\")\n",
    "        self.ohe_weekdays = OneHotEncoder(drop=\"first\")\n",
    "        self.ohe_months = OneHotEncoder(drop=\"first\")\n",
    "    \n",
    "    def fit(self, X, y=None):\n",
    "        self.ohe_hours.fit(self.all_possible_hours.reshape(-1,1))\n",
    "        self.ohe_weekdays.fit(self.all_possible_weekdays.reshape(-1,1))\n",
    "        self.ohe_months.fit(self.all_possible_months.reshape(-1,1))\n",
    "        return self\n",
    "\n",
    "    def transform(self, X, y=None):\n",
    "        hours = pd.DataFrame(self.ohe_hours.transform(X.hour.values.reshape(-1,1)).toarray(), \n",
    "                             columns=[\"hour_\"+str(i) for i in range(1, 24)])\n",
    "        weekdays = pd.DataFrame(self.ohe_weekdays.transform(X.weekday.values.reshape(-1,1)).toarray(), \n",
    "                             columns=[\"weekday_\"+str(i) for i in range(1, 7)])\n",
    "        months = pd.DataFrame(self.ohe_months.transform(X.month.values.reshape(-1,1)).toarray(), \n",
    "                             columns=[\"month_\"+str(i) for i in range(2, 13)])\n",
    "        X = pd.concat([X, hours, weekdays, months], axis=1)\n",
    "        return X"
   ]
  },
  {
   "cell_type": "code",
   "execution_count": null,
   "metadata": {},
   "outputs": [],
   "source": [
    "oh = MyOneHotEncoder()\n",
    "oh.fit(X_train)"
   ]
  },
  {
   "cell_type": "code",
   "execution_count": null,
   "metadata": {},
   "outputs": [],
   "source": [
    "pd.set_option('display.max_columns', None)"
   ]
  },
  {
   "cell_type": "code",
   "execution_count": null,
   "metadata": {},
   "outputs": [],
   "source": [
    "x_train = oh.transform(X_train)"
   ]
  },
  {
   "cell_type": "markdown",
   "metadata": {},
   "source": [
    "Testing Pipeline:"
   ]
  },
  {
   "cell_type": "code",
   "execution_count": null,
   "metadata": {},
   "outputs": [],
   "source": [
    "X_train = pd.read_csv(\n",
    "    'provided_data_and_metric/X_train_6GWGSxz.csv',\n",
    ")\n",
    "Y_train = pd.read_csv(\n",
    "    'provided_data_and_metric/y_train_2G60rOL.csv',\n",
    ")"
   ]
  },
  {
   "cell_type": "markdown",
   "metadata": {},
   "source": [
    "It doesn't work if I uncomment. Why?"
   ]
  },
  {
   "cell_type": "code",
   "execution_count": null,
   "metadata": {},
   "outputs": [],
   "source": [
    "p = Pipeline([\n",
    "    (\n",
    "        '1',\n",
    "        DataImputer()\n",
    "    ),\n",
    "    (\n",
    "        '2',\n",
    "        DataAugmenter()\n",
    "    ),\n",
    "    (\n",
    "        '3',\n",
    "        MyOneHotEncoder()\n",
    "    ),\n",
    "])"
   ]
  },
  {
   "cell_type": "code",
   "execution_count": null,
   "metadata": {},
   "outputs": [],
   "source": [
    "p.fit(X_train)"
   ]
  },
  {
   "cell_type": "code",
   "execution_count": null,
   "metadata": {},
   "outputs": [],
   "source": [
    "p.transform(X_train)"
   ]
  },
  {
   "cell_type": "markdown",
   "metadata": {},
   "source": [
    "## Predicting if appliance is on or off\n",
    "There is a huge difference in consumption when an appliance is on or off."
   ]
  },
  {
   "cell_type": "markdown",
   "metadata": {},
   "source": [
    "Fridge:"
   ]
  },
  {
   "cell_type": "code",
   "execution_count": null,
   "metadata": {},
   "outputs": [],
   "source": [
    "Y_train.fridge_freezer[Y_train.fridge_freezer != 0].mean()"
   ]
  },
  {
   "cell_type": "code",
   "execution_count": null,
   "metadata": {},
   "outputs": [],
   "source": [
    "Y_train.fridge_freezer.mean()"
   ]
  },
  {
   "cell_type": "markdown",
   "metadata": {},
   "source": [
    "Kettle:"
   ]
  },
  {
   "cell_type": "code",
   "execution_count": null,
   "metadata": {},
   "outputs": [],
   "source": [
    "Y_train.kettle[Y_train.kettle != 0].mean()"
   ]
  },
  {
   "cell_type": "code",
   "execution_count": null,
   "metadata": {},
   "outputs": [],
   "source": [
    "Y_train.kettle.mean()"
   ]
  },
  {
   "cell_type": "markdown",
   "metadata": {},
   "source": [
    "Washing Machine:"
   ]
  },
  {
   "cell_type": "code",
   "execution_count": null,
   "metadata": {},
   "outputs": [],
   "source": [
    "Y_train.washing_machine[Y_train.washing_machine != 0].mean()"
   ]
  },
  {
   "cell_type": "code",
   "execution_count": null,
   "metadata": {},
   "outputs": [],
   "source": [
    "Y_train.washing_machine.mean()"
   ]
  },
  {
   "cell_type": "markdown",
   "metadata": {},
   "source": [
    "The TV is always on:"
   ]
  },
  {
   "cell_type": "code",
   "execution_count": null,
   "metadata": {},
   "outputs": [],
   "source": [
    "(Y_train.TV != 0).sum() == len(Y_train)"
   ]
  },
  {
   "cell_type": "code",
   "execution_count": null,
   "metadata": {},
   "outputs": [],
   "source": [
    "Y_train.TV.std()"
   ]
  },
  {
   "cell_type": "code",
   "execution_count": null,
   "metadata": {},
   "outputs": [],
   "source": [
    "fig, axs = plt.subplots(2,2, figsize=(15,15))\n",
    "axs[0,0].scatter(X_train.consumption[Y_train.washing_machine > 0], Y_train.washing_machine[Y_train.washing_machine > 0], c=\"red\")\n",
    "axs[0,0].scatter(X_train.consumption[Y_train.washing_machine == 0], Y_train.washing_machine[Y_train.washing_machine == 0], c=\"blue\")\n",
    "axs[0,1].scatter(X_train.consumption, Y_train.fridge_freezer )\n",
    "axs[1,0].scatter(X_train.consumption, Y_train.TV )\n",
    "axs[1,1].scatter(X_train.consumption, Y_train.kettle)"
   ]
  },
  {
   "cell_type": "markdown",
   "metadata": {},
   "source": [
    "---\n",
    "---\n",
    "---\n",
    "---\n",
    "---\n",
    "---\n",
    "---"
   ]
  },
  {
   "cell_type": "markdown",
   "metadata": {},
   "source": [
    "## RNN, testing"
   ]
  },
  {
   "cell_type": "code",
   "execution_count": null,
   "metadata": {},
   "outputs": [],
   "source": [
    "X_train = pd.read_csv(\n",
    "    'provided_data_and_metric/X_train_6GWGSxz.csv',\n",
    ")\n",
    "Y_train = pd.read_csv(\n",
    "    'provided_data_and_metric/y_train_2G60rOL.csv',\n",
    ")\n",
    "X_test = pd.read_csv(\n",
    "    'provided_data_and_metric/X_test_c2uBt2s.csv', \n",
    ")"
   ]
  },
  {
   "cell_type": "code",
   "execution_count": null,
   "metadata": {},
   "outputs": [],
   "source": [
    "X_train.set_index(\"time_step\", inplace=True)\n",
    "Y_train.set_index(\"time_step\", inplace=True)"
   ]
  },
  {
   "cell_type": "code",
   "execution_count": null,
   "metadata": {},
   "outputs": [],
   "source": [
    "X_train = X_train.append(X_train.iloc[-1, :])\n",
    "Y_train = Y_train.append(Y_train.iloc[-1, :])"
   ]
  },
  {
   "cell_type": "code",
   "execution_count": null,
   "metadata": {},
   "outputs": [],
   "source": [
    "class DataImputer(BaseEstimator, TransformerMixin):\n",
    "    \n",
    "    def __init__(self):\n",
    "        self.X = None\n",
    "    \n",
    "    def fit(self, X, y=None):\n",
    "        return X\n",
    "    \n",
    "    def transform(self, X, y=None):\n",
    "        try:\n",
    "            X.drop('Unnamed: 9', axis = 1, inplace = True)\n",
    "        except KeyError as e:\n",
    "            pass\n",
    "        X = X.interpolate(method='linear').fillna(method='bfill')\n",
    "        X.index = pd.to_datetime(X.index)\n",
    "        return X"
   ]
  },
  {
   "cell_type": "code",
   "execution_count": null,
   "metadata": {},
   "outputs": [],
   "source": [
    "class YImputer(BaseEstimator, TransformerMixin):\n",
    "    \n",
    "    def __init__(self):\n",
    "        self.X = None\n",
    "    \n",
    "    def fit(self, X, y=None):\n",
    "        return X\n",
    "    \n",
    "    def transform(self, X, y=None):\n",
    "        X = X.interpolate(method='linear').fillna(method='bfill')\n",
    "#         X.index = pd.to_datetime(X.index)\n",
    "        return X"
   ]
  },
  {
   "cell_type": "code",
   "execution_count": null,
   "metadata": {},
   "outputs": [],
   "source": [
    "class DataAugmenter(BaseEstimator, TransformerMixin):\n",
    "    \n",
    "    def __init__(self):\n",
    "        self.X = None\n",
    "    \n",
    "    def fit(self, X, y=None):\n",
    "        return X\n",
    "    \n",
    "    def transform(self, X, y=None):\n",
    "        X[\"time_step\"] = pd.to_datetime(X[\"time_step\"])\n",
    "        X[\"weekday\"] = X.time_step.dt.dayofweek\n",
    "        X[\"month\"] = X.time_step.dt.month\n",
    "        X[\"hour\"] = X.time_step.dt.hour\n",
    "        X[\"is_weekend\"] = (X[\"weekday\"] > 4)*1  \n",
    "        X[\"is_holidays\"] = (X.time_step.dt.date.isin(fr_holidays))*1\n",
    "        \n",
    "        X[\"is_breakfast\"] = ((X.hour>5) & (X.hour<9))*1 \n",
    "        X[\"is_teatime\"] = ((X.hour>16) & (X.hour<20))*1 \n",
    "        X[\"is_TVtime\"] = ((X.hour>17) & (X.hour<23))*1\n",
    "        # X_train[\"is_working_hour\"] = ((X_train.hour>7) & (X_train.hour<19))*1\n",
    "        X[\"is_night\"] = ((X.hour>0) & (X.hour<7))*1\n",
    "        return X"
   ]
  },
  {
   "cell_type": "code",
   "execution_count": null,
   "metadata": {},
   "outputs": [],
   "source": [
    "class RNNDataFormatter(BaseEstimator, TransformerMixin):\n",
    "    \n",
    "    def __init__(self):\n",
    "        self.X = None\n",
    "    \n",
    "    def fit(self, X, y=None):\n",
    "        return X\n",
    "    \n",
    "    def transform(self, X, y=None):\n",
    "        X.set_index(\"time_step\", inplace=True)\n",
    "        X = X.append(X.iloc[-1, :])\n",
    "        nb_col = X.shape[1]\n",
    "        return X.values.reshape((int(X_rnn.shape[0]/60), 60, nb_col))"
   ]
  },
  {
   "cell_type": "code",
   "execution_count": null,
   "metadata": {},
   "outputs": [],
   "source": [
    "p1 = Pipeline([\n",
    "    (\n",
    "        '1',\n",
    "        DataImputer()\n",
    "    ),\n",
    "    (\n",
    "        '2',\n",
    "        DataAugmenter()\n",
    "    ),\n",
    "    (\n",
    "        '3',\n",
    "        RNNDataFormatter()\n",
    "    )\n",
    "])"
   ]
  },
  {
   "cell_type": "code",
   "execution_count": null,
   "metadata": {},
   "outputs": [],
   "source": [
    "p2 = Pipeline([\n",
    "    (\n",
    "        '1',\n",
    "        YImputer()\n",
    "    ),\n",
    "    (\n",
    "        '2',\n",
    "        RNNDataFormatter()\n",
    "    )\n",
    "])"
   ]
  },
  {
   "cell_type": "code",
   "execution_count": null,
   "metadata": {},
   "outputs": [],
   "source": [
    "X = p1.transform(X_train)"
   ]
  },
  {
   "cell_type": "code",
   "execution_count": null,
   "metadata": {},
   "outputs": [],
   "source": [
    "Y = p2.transform(Y_train)"
   ]
  },
  {
   "cell_type": "code",
   "execution_count": null,
   "metadata": {},
   "outputs": [],
   "source": [
    "X.shape"
   ]
  },
  {
   "cell_type": "code",
   "execution_count": null,
   "metadata": {},
   "outputs": [],
   "source": [
    "Y.shape"
   ]
  },
  {
   "cell_type": "code",
   "execution_count": null,
   "metadata": {},
   "outputs": [],
   "source": [
    "x_train, y_train = X[:6000, :], Y[:6000, :, :]\n",
    "x_valid, y_valid = X[6000:, :], Y[6000:, :, :]"
   ]
  },
  {
   "cell_type": "markdown",
   "metadata": {},
   "source": [
    "### Baseline Model"
   ]
  },
  {
   "cell_type": "code",
   "execution_count": null,
   "metadata": {},
   "outputs": [],
   "source": [
    "np.random.seed(42)\n",
    "tf.random.set_seed(42)\n",
    "\n",
    "model = Sequential([\n",
    "    SimpleRNN(20, return_sequences=True, input_shape=[None, 14]),\n",
    "    SimpleRNN(20, return_sequences=True),\n",
    "    SimpleRNN(4, return_sequences=True)\n",
    "])\n",
    "\n",
    "model.compile(loss=\"mse\", optimizer=\"adam\")\n",
    "history = model.fit(x_train, y_train, epochs=10,\n",
    "                    validation_data=(x_valid, y_valid))"
   ]
  },
  {
   "cell_type": "code",
   "execution_count": null,
   "metadata": {},
   "outputs": [],
   "source": [
    "def plot_learning_curves(loss, val_loss):\n",
    "    plt.plot(np.arange(len(loss)) + 0.5, loss, \"b.-\", label=\"Training loss\")\n",
    "    plt.plot(np.arange(len(val_loss)) + 1, val_loss, \"r.-\", label=\"Validation loss\")\n",
    "    plt.gca().xaxis.set_major_locator(mpl.ticker.MaxNLocator(integer=True))\n",
    "#     plt.axis([1, 20, 0, 0.05])\n",
    "    plt.legend(fontsize=14)\n",
    "    plt.xlabel(\"Epochs\")\n",
    "    plt.ylabel(\"Loss\")\n",
    "    plt.grid(True)\n",
    "\n",
    "plot_learning_curves(history.history[\"loss\"], history.history[\"val_loss\"])\n",
    "plt.show()"
   ]
  },
  {
   "cell_type": "code",
   "execution_count": null,
   "metadata": {},
   "outputs": [],
   "source": [
    "model.predict(x_valid).shape"
   ]
  },
  {
   "cell_type": "markdown",
   "metadata": {},
   "source": [
    "### Improvements"
   ]
  },
  {
   "cell_type": "markdown",
   "metadata": {},
   "source": [
    "**TO-DO** (before running code below):\n",
    "- Add ColumnTransformer, to avoid scaling categorical features.\n",
    "- Add DataAugmenter in the pipeline\n",
    "- Check if RNNDataFormatter still works"
   ]
  },
  {
   "cell_type": "markdown",
   "metadata": {},
   "source": [
    "**Issue**: The RNN returns output from sigmoid, hence between (-1, 1).\n",
    "\n",
    "**Idea**: Normalization"
   ]
  },
  {
   "cell_type": "markdown",
   "metadata": {},
   "source": [
    "Modify RNNDataFormatter to make it work with np.arrays:"
   ]
  },
  {
   "cell_type": "code",
   "execution_count": null,
   "metadata": {},
   "outputs": [],
   "source": [
    "class RNNDataFormatter(BaseEstimator, TransformerMixin):\n",
    "    \n",
    "    def __init__(self):\n",
    "        self.X = None\n",
    "    \n",
    "    def fit(self, X, y=None):\n",
    "        return X\n",
    "    \n",
    "    def transform(self, X, y=None):\n",
    "        X.set_index(\"time_step\", inplace=True)\n",
    "        X = X.append(X.iloc[-1, :])\n",
    "        nb_col = X.shape[1]\n",
    "        X = X.reshape((int(X.shape[0]/60), 60, nb_col))\n",
    "        return X"
   ]
  },
  {
   "cell_type": "markdown",
   "metadata": {},
   "source": [
    "Fit StandardScaler before, gives error in Pipeline"
   ]
  },
  {
   "cell_type": "code",
   "execution_count": null,
   "metadata": {},
   "outputs": [],
   "source": [
    "scaler_x = StandardScaler()\n",
    "scaler_x.fit(X_train)"
   ]
  },
  {
   "cell_type": "code",
   "execution_count": null,
   "metadata": {},
   "outputs": [],
   "source": [
    "scaler_y = StandardScaler()\n",
    "scaler_y.fit(Y_train)"
   ]
  },
  {
   "cell_type": "code",
   "execution_count": null,
   "metadata": {},
   "outputs": [],
   "source": [
    "p1 = Pipeline([\n",
    "        (\n",
    "        '1',\n",
    "        DataImputer()\n",
    "    ),\n",
    "    (\n",
    "        '2',\n",
    "        scaler_x\n",
    "    ),\n",
    "    (\n",
    "        '3',\n",
    "        RNNDataFormatter()\n",
    "    )\n",
    "])"
   ]
  },
  {
   "cell_type": "code",
   "execution_count": null,
   "metadata": {},
   "outputs": [],
   "source": [
    "p2 = Pipeline([\n",
    "    (\n",
    "        '1',\n",
    "        YImputer()\n",
    "    ),\n",
    "    (\n",
    "        '2',\n",
    "        scaler_y\n",
    "    ),\n",
    "    (\n",
    "        '3',\n",
    "        RNNDataFormatter()\n",
    "    )\n",
    "])"
   ]
  },
  {
   "cell_type": "code",
   "execution_count": null,
   "metadata": {},
   "outputs": [],
   "source": [
    "x_scaled = p1.transform(X_train)\n",
    "y_scaled = p2.transform(Y_train)"
   ]
  },
  {
   "cell_type": "code",
   "execution_count": null,
   "metadata": {},
   "outputs": [],
   "source": [
    "print(f\"x_scaled shape is {x_scaled.shape}\")\n",
    "print(f\"y_scaled shape is {y_scaled.shape}\")"
   ]
  },
  {
   "cell_type": "code",
   "execution_count": null,
   "metadata": {},
   "outputs": [],
   "source": [
    "x_train, y_train = x_scaled[:6000, :], y_scaled[:6000, :, :]\n",
    "x_valid, y_valid = x_scaled[6000:, :], y_scaled[6000:, :, :]"
   ]
  },
  {
   "cell_type": "code",
   "execution_count": null,
   "metadata": {},
   "outputs": [],
   "source": [
    "np.random.seed(42)\n",
    "tf.random.set_seed(42)\n",
    "\n",
    "model = Sequential([\n",
    "    SimpleRNN(20, return_sequences=True, input_shape=[None, 8]),\n",
    "    SimpleRNN(20, return_sequences=True),\n",
    "    SimpleRNN(4, return_sequences=True)\n",
    "])\n",
    "\n",
    "model.compile(loss=\"mse\", optimizer=\"adam\")\n",
    "history = model.fit(x_train, y_train, epochs=20,\n",
    "                    validation_data=(x_valid, y_valid))"
   ]
  },
  {
   "cell_type": "code",
   "execution_count": null,
   "metadata": {},
   "outputs": [],
   "source": [
    "y_pred = model.predict(x_train)"
   ]
  },
  {
   "cell_type": "code",
   "execution_count": null,
   "metadata": {},
   "outputs": [],
   "source": [
    "y_pred = scaler_y.inverse_transform(y_pred.reshape(-1, 4)) #shape is now (360000, 4)"
   ]
  },
  {
   "cell_type": "code",
   "execution_count": null,
   "metadata": {},
   "outputs": [],
   "source": [
    "mean_squared_error(y_trans.iloc[:360000, :], y_pred)"
   ]
  },
  {
   "cell_type": "code",
   "execution_count": null,
   "metadata": {},
   "outputs": [],
   "source": [
    "y_trans.head()"
   ]
  },
  {
   "cell_type": "code",
   "execution_count": null,
   "metadata": {
    "lines_to_next_cell": 0
   },
   "outputs": [],
   "source": [
    "y_pred[:5, :]"
   ]
  },
  {
   "cell_type": "markdown",
   "metadata": {},
   "source": []
  }
 ],
 "metadata": {
  "jupytext": {
   "formats": "ipynb,md"
  },
  "kernelspec": {
   "display_name": "Python 3",
   "language": "python",
   "name": "python3"
  },
  "language_info": {
   "codemirror_mode": {
    "name": "ipython",
    "version": 3
   },
   "file_extension": ".py",
   "mimetype": "text/x-python",
   "name": "python",
   "nbconvert_exporter": "python",
   "pygments_lexer": "ipython3",
   "version": "3.7.3"
  }
 },
 "nbformat": 4,
 "nbformat_minor": 4
}
