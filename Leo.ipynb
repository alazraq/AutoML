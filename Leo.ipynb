{
 "cells": [
  {
   "cell_type": "markdown",
   "metadata": {},
   "source": [
    "# Data Challenge: Smart meter is coming\n",
    "by BCM Energy - Planète OUI"
   ]
  },
  {
   "cell_type": "code",
   "execution_count": 124,
   "metadata": {
    "ExecuteTime": {
     "end_time": "2020-03-04T10:49:11.231129Z",
     "start_time": "2020-03-04T10:49:11.222327Z"
    }
   },
   "outputs": [],
   "source": [
    "import pandas as pd\n",
    "import pandas_profiling\n",
    "import numpy as np\n",
    "import matplotlib.pyplot as plt\n",
    "import matplotlib as mpl\n",
    "import seaborn as sns\n",
    "import holidays\n",
    "import math as mt\n",
    "\n",
    "import tensorflow as tf\n",
    "import keras\n",
    "from keras.layers import LSTM, Dense, Flatten, Dropout, Activation, SimpleRNN\n",
    "from keras.models import Sequential\n",
    "\n",
    "from sklearn.base import BaseEstimator, TransformerMixin\n",
    "from sklearn.pipeline import Pipeline\n",
    "from sklearn.preprocessing import StandardScaler\n",
    "from sklearn.metrics import mean_squared_error\n",
    "from sklearn.multioutput import MultiOutputRegressor\n",
    "from sklearn.linear_model import LinearRegression\n",
    "from sklearn.model_selection import train_test_split\n",
    "\n",
    "import datetime"
   ]
  },
  {
   "cell_type": "code",
   "execution_count": 125,
   "metadata": {
    "ExecuteTime": {
     "end_time": "2020-03-04T10:49:12.141889Z",
     "start_time": "2020-03-04T10:49:11.376907Z"
    }
   },
   "outputs": [],
   "source": [
    "X_train = pd.read_csv(\n",
    "    'provided_data_and_metric/X_train_6GWGSxz.csv',\n",
    ")\n",
    "Y_train = pd.read_csv(\n",
    "    'provided_data_and_metric/y_train_2G60rOL.csv',\n",
    ")"
   ]
  },
  {
   "cell_type": "markdown",
   "metadata": {},
   "source": [
    "## Exploring Data"
   ]
  },
  {
   "cell_type": "code",
   "execution_count": 127,
   "metadata": {
    "ExecuteTime": {
     "end_time": "2020-03-04T10:49:12.716365Z",
     "start_time": "2020-03-04T10:49:12.693209Z"
    }
   },
   "outputs": [
    {
     "data": {
      "text/html": [
       "<div>\n",
       "<style scoped>\n",
       "    .dataframe tbody tr th:only-of-type {\n",
       "        vertical-align: middle;\n",
       "    }\n",
       "\n",
       "    .dataframe tbody tr th {\n",
       "        vertical-align: top;\n",
       "    }\n",
       "\n",
       "    .dataframe thead th {\n",
       "        text-align: right;\n",
       "    }\n",
       "</style>\n",
       "<table border=\"1\" class=\"dataframe\">\n",
       "  <thead>\n",
       "    <tr style=\"text-align: right;\">\n",
       "      <th></th>\n",
       "      <th>time_step</th>\n",
       "      <th>consumption</th>\n",
       "      <th>visibility</th>\n",
       "      <th>temperature</th>\n",
       "      <th>humidity</th>\n",
       "      <th>humidex</th>\n",
       "      <th>windchill</th>\n",
       "      <th>wind</th>\n",
       "      <th>pressure</th>\n",
       "      <th>Unnamed: 9</th>\n",
       "    </tr>\n",
       "  </thead>\n",
       "  <tbody>\n",
       "    <tr>\n",
       "      <th>0</th>\n",
       "      <td>2013-03-17T00:01:00.0</td>\n",
       "      <td>550.4000</td>\n",
       "      <td>NaN</td>\n",
       "      <td>NaN</td>\n",
       "      <td>NaN</td>\n",
       "      <td>NaN</td>\n",
       "      <td>NaN</td>\n",
       "      <td>NaN</td>\n",
       "      <td>NaN</td>\n",
       "      <td>NaN</td>\n",
       "    </tr>\n",
       "    <tr>\n",
       "      <th>1</th>\n",
       "      <td>2013-03-17T00:02:00.0</td>\n",
       "      <td>548.6000</td>\n",
       "      <td>NaN</td>\n",
       "      <td>NaN</td>\n",
       "      <td>NaN</td>\n",
       "      <td>NaN</td>\n",
       "      <td>NaN</td>\n",
       "      <td>NaN</td>\n",
       "      <td>NaN</td>\n",
       "      <td>NaN</td>\n",
       "    </tr>\n",
       "    <tr>\n",
       "      <th>2</th>\n",
       "      <td>2013-03-17T00:03:00.0</td>\n",
       "      <td>549.3000</td>\n",
       "      <td>NaN</td>\n",
       "      <td>NaN</td>\n",
       "      <td>NaN</td>\n",
       "      <td>NaN</td>\n",
       "      <td>NaN</td>\n",
       "      <td>NaN</td>\n",
       "      <td>NaN</td>\n",
       "      <td>NaN</td>\n",
       "    </tr>\n",
       "    <tr>\n",
       "      <th>3</th>\n",
       "      <td>2013-03-17T00:04:00.0</td>\n",
       "      <td>549.3667</td>\n",
       "      <td>NaN</td>\n",
       "      <td>NaN</td>\n",
       "      <td>NaN</td>\n",
       "      <td>NaN</td>\n",
       "      <td>NaN</td>\n",
       "      <td>NaN</td>\n",
       "      <td>NaN</td>\n",
       "      <td>NaN</td>\n",
       "    </tr>\n",
       "    <tr>\n",
       "      <th>4</th>\n",
       "      <td>2013-03-17T00:05:00.0</td>\n",
       "      <td>548.8909</td>\n",
       "      <td>NaN</td>\n",
       "      <td>NaN</td>\n",
       "      <td>NaN</td>\n",
       "      <td>NaN</td>\n",
       "      <td>NaN</td>\n",
       "      <td>NaN</td>\n",
       "      <td>NaN</td>\n",
       "      <td>NaN</td>\n",
       "    </tr>\n",
       "  </tbody>\n",
       "</table>\n",
       "</div>"
      ],
      "text/plain": [
       "               time_step  consumption  visibility  temperature  humidity  \\\n",
       "0  2013-03-17T00:01:00.0     550.4000         NaN          NaN       NaN   \n",
       "1  2013-03-17T00:02:00.0     548.6000         NaN          NaN       NaN   \n",
       "2  2013-03-17T00:03:00.0     549.3000         NaN          NaN       NaN   \n",
       "3  2013-03-17T00:04:00.0     549.3667         NaN          NaN       NaN   \n",
       "4  2013-03-17T00:05:00.0     548.8909         NaN          NaN       NaN   \n",
       "\n",
       "   humidex  windchill  wind  pressure  Unnamed: 9  \n",
       "0      NaN        NaN   NaN       NaN         NaN  \n",
       "1      NaN        NaN   NaN       NaN         NaN  \n",
       "2      NaN        NaN   NaN       NaN         NaN  \n",
       "3      NaN        NaN   NaN       NaN         NaN  \n",
       "4      NaN        NaN   NaN       NaN         NaN  "
      ]
     },
     "execution_count": 127,
     "metadata": {},
     "output_type": "execute_result"
    }
   ],
   "source": [
    "X_train.head()"
   ]
  },
  {
   "cell_type": "code",
   "execution_count": 128,
   "metadata": {
    "ExecuteTime": {
     "end_time": "2020-03-04T10:49:12.865891Z",
     "start_time": "2020-03-04T10:49:12.828318Z"
    }
   },
   "outputs": [],
   "source": [
    "X_train.drop(\"Unnamed: 9\", axis=1, inplace=True)\n",
    "X_test.drop(\"Unnamed: 9\", axis=1, inplace=True)"
   ]
  },
  {
   "cell_type": "code",
   "execution_count": 129,
   "metadata": {
    "ExecuteTime": {
     "end_time": "2020-03-04T10:49:12.980262Z",
     "start_time": "2020-03-04T10:49:12.976791Z"
    }
   },
   "outputs": [],
   "source": [
    "# train_index = pd.to_datetime(X_train.index)\n",
    "# X_train.index = train_index\n",
    "# Y_train.index = train_index\n",
    "# X_test.index = pd.to_datetime(X_test.index)"
   ]
  },
  {
   "cell_type": "markdown",
   "metadata": {},
   "source": [
    "### Dealing with NaN"
   ]
  },
  {
   "cell_type": "code",
   "execution_count": 130,
   "metadata": {
    "ExecuteTime": {
     "end_time": "2020-03-04T10:49:13.236436Z",
     "start_time": "2020-03-04T10:49:13.221266Z"
    }
   },
   "outputs": [
    {
     "data": {
      "text/plain": [
       "433      NaN\n",
       "613      NaN\n",
       "614      NaN\n",
       "615      NaN\n",
       "617      NaN\n",
       "          ..\n",
       "405868   NaN\n",
       "414108   NaN\n",
       "414690   NaN\n",
       "415189   NaN\n",
       "417516   NaN\n",
       "Name: consumption, Length: 10231, dtype: float64"
      ]
     },
     "execution_count": 130,
     "metadata": {},
     "output_type": "execute_result"
    }
   ],
   "source": [
    "X_train.consumption[X_train.consumption.isna()]"
   ]
  },
  {
   "cell_type": "markdown",
   "metadata": {},
   "source": [
    "DataImputer and YImputer are custom trasformers we have built to deal with NaNs."
   ]
  },
  {
   "cell_type": "code",
   "execution_count": 131,
   "metadata": {
    "ExecuteTime": {
     "end_time": "2020-03-04T10:49:13.502766Z",
     "start_time": "2020-03-04T10:49:13.494144Z"
    }
   },
   "outputs": [],
   "source": [
    "class DataImputer(BaseEstimator, TransformerMixin):\n",
    "    \n",
    "    def __init__(self):\n",
    "        self.X = None\n",
    "    \n",
    "    def fit(self, X, y=None):\n",
    "        return X\n",
    "    \n",
    "    def transform(self, X, y=None):\n",
    "        X = X.interpolate(method='linear').fillna(method='bfill')\n",
    "#         X.index = pd.to_datetime(X.index)\n",
    "        return X"
   ]
  },
  {
   "cell_type": "code",
   "execution_count": 132,
   "metadata": {
    "ExecuteTime": {
     "end_time": "2020-03-04T10:49:13.635803Z",
     "start_time": "2020-03-04T10:49:13.630167Z"
    }
   },
   "outputs": [],
   "source": [
    "class YImputer(BaseEstimator, TransformerMixin):\n",
    "    \n",
    "    def __init__(self):\n",
    "        self.X = None\n",
    "    \n",
    "    def fit(self, X, y=None):\n",
    "        return X\n",
    "    \n",
    "    def transform(self, X, y=None):\n",
    "        X = X.interpolate(method='linear').fillna(method='bfill')\n",
    "#         X.index = pd.to_datetime(X.index)\n",
    "        return X"
   ]
  },
  {
   "cell_type": "code",
   "execution_count": 133,
   "metadata": {
    "ExecuteTime": {
     "end_time": "2020-03-04T10:49:49.980639Z",
     "start_time": "2020-03-04T10:49:13.749079Z"
    }
   },
   "outputs": [],
   "source": [
    "di = DataImputer()\n",
    "yi = YImputer()\n",
    "X_train = di.transform(X=X_train)\n",
    "Y_train = yi.transform(X=Y_train)"
   ]
  },
  {
   "cell_type": "code",
   "execution_count": 134,
   "metadata": {
    "ExecuteTime": {
     "end_time": "2020-03-04T10:49:49.994932Z",
     "start_time": "2020-03-04T10:49:49.982158Z"
    }
   },
   "outputs": [
    {
     "data": {
      "text/html": [
       "<div>\n",
       "<style scoped>\n",
       "    .dataframe tbody tr th:only-of-type {\n",
       "        vertical-align: middle;\n",
       "    }\n",
       "\n",
       "    .dataframe tbody tr th {\n",
       "        vertical-align: top;\n",
       "    }\n",
       "\n",
       "    .dataframe thead th {\n",
       "        text-align: right;\n",
       "    }\n",
       "</style>\n",
       "<table border=\"1\" class=\"dataframe\">\n",
       "  <thead>\n",
       "    <tr style=\"text-align: right;\">\n",
       "      <th></th>\n",
       "      <th>time_step</th>\n",
       "      <th>consumption</th>\n",
       "      <th>visibility</th>\n",
       "      <th>temperature</th>\n",
       "      <th>humidity</th>\n",
       "      <th>humidex</th>\n",
       "      <th>windchill</th>\n",
       "      <th>wind</th>\n",
       "      <th>pressure</th>\n",
       "    </tr>\n",
       "  </thead>\n",
       "  <tbody>\n",
       "    <tr>\n",
       "      <th>0</th>\n",
       "      <td>2013-03-17T00:01:00.0</td>\n",
       "      <td>550.4000</td>\n",
       "      <td>35.0</td>\n",
       "      <td>8.9</td>\n",
       "      <td>86.0</td>\n",
       "      <td>8.9</td>\n",
       "      <td>6.0</td>\n",
       "      <td>19.0</td>\n",
       "      <td>1017.3</td>\n",
       "    </tr>\n",
       "    <tr>\n",
       "      <th>1</th>\n",
       "      <td>2013-03-17T00:02:00.0</td>\n",
       "      <td>548.6000</td>\n",
       "      <td>35.0</td>\n",
       "      <td>8.9</td>\n",
       "      <td>86.0</td>\n",
       "      <td>8.9</td>\n",
       "      <td>6.0</td>\n",
       "      <td>19.0</td>\n",
       "      <td>1017.3</td>\n",
       "    </tr>\n",
       "    <tr>\n",
       "      <th>2</th>\n",
       "      <td>2013-03-17T00:03:00.0</td>\n",
       "      <td>549.3000</td>\n",
       "      <td>35.0</td>\n",
       "      <td>8.9</td>\n",
       "      <td>86.0</td>\n",
       "      <td>8.9</td>\n",
       "      <td>6.0</td>\n",
       "      <td>19.0</td>\n",
       "      <td>1017.3</td>\n",
       "    </tr>\n",
       "    <tr>\n",
       "      <th>3</th>\n",
       "      <td>2013-03-17T00:04:00.0</td>\n",
       "      <td>549.3667</td>\n",
       "      <td>35.0</td>\n",
       "      <td>8.9</td>\n",
       "      <td>86.0</td>\n",
       "      <td>8.9</td>\n",
       "      <td>6.0</td>\n",
       "      <td>19.0</td>\n",
       "      <td>1017.3</td>\n",
       "    </tr>\n",
       "    <tr>\n",
       "      <th>4</th>\n",
       "      <td>2013-03-17T00:05:00.0</td>\n",
       "      <td>548.8909</td>\n",
       "      <td>35.0</td>\n",
       "      <td>8.9</td>\n",
       "      <td>86.0</td>\n",
       "      <td>8.9</td>\n",
       "      <td>6.0</td>\n",
       "      <td>19.0</td>\n",
       "      <td>1017.3</td>\n",
       "    </tr>\n",
       "  </tbody>\n",
       "</table>\n",
       "</div>"
      ],
      "text/plain": [
       "               time_step  consumption  visibility  temperature  humidity  \\\n",
       "0  2013-03-17T00:01:00.0     550.4000        35.0          8.9      86.0   \n",
       "1  2013-03-17T00:02:00.0     548.6000        35.0          8.9      86.0   \n",
       "2  2013-03-17T00:03:00.0     549.3000        35.0          8.9      86.0   \n",
       "3  2013-03-17T00:04:00.0     549.3667        35.0          8.9      86.0   \n",
       "4  2013-03-17T00:05:00.0     548.8909        35.0          8.9      86.0   \n",
       "\n",
       "   humidex  windchill  wind  pressure  \n",
       "0      8.9        6.0  19.0    1017.3  \n",
       "1      8.9        6.0  19.0    1017.3  \n",
       "2      8.9        6.0  19.0    1017.3  \n",
       "3      8.9        6.0  19.0    1017.3  \n",
       "4      8.9        6.0  19.0    1017.3  "
      ]
     },
     "execution_count": 134,
     "metadata": {},
     "output_type": "execute_result"
    }
   ],
   "source": [
    "X_train.head()"
   ]
  },
  {
   "cell_type": "code",
   "execution_count": 135,
   "metadata": {
    "ExecuteTime": {
     "end_time": "2020-03-04T10:49:50.007367Z",
     "start_time": "2020-03-04T10:49:49.997530Z"
    }
   },
   "outputs": [],
   "source": [
    "# X_train.consumption.fillna(method=\"ffill\", inplace=True)\n",
    "# X_test.consumption.fillna(method=\"ffill\", inplace=True)\n",
    "# Y_train.fillna(method=\"ffill\", inplace=True)"
   ]
  },
  {
   "cell_type": "code",
   "execution_count": 136,
   "metadata": {
    "ExecuteTime": {
     "end_time": "2020-03-04T10:49:50.109032Z",
     "start_time": "2020-03-04T10:49:50.010578Z"
    }
   },
   "outputs": [],
   "source": [
    "X_train[\"time_step\"] = pd.to_datetime(X_train[\"time_step\"])"
   ]
  },
  {
   "cell_type": "code",
   "execution_count": 137,
   "metadata": {
    "ExecuteTime": {
     "end_time": "2020-03-04T10:49:50.116454Z",
     "start_time": "2020-03-04T10:49:50.110428Z"
    }
   },
   "outputs": [],
   "source": [
    "fr_holidays = holidays.France()"
   ]
  },
  {
   "cell_type": "code",
   "execution_count": 138,
   "metadata": {
    "ExecuteTime": {
     "end_time": "2020-03-04T10:49:50.706801Z",
     "start_time": "2020-03-04T10:49:50.117716Z"
    }
   },
   "outputs": [
    {
     "name": "stdout",
     "output_type": "stream",
     "text": [
      "14400\n"
     ]
    }
   ],
   "source": [
    "c = 0\n",
    "for i in X_train.time_step.dt.date:\n",
    "    if i in fr_holidays:\n",
    "        c+=1\n",
    "        \n",
    "print(c)"
   ]
  },
  {
   "cell_type": "markdown",
   "metadata": {},
   "source": [
    "Adding extra features:"
   ]
  },
  {
   "cell_type": "code",
   "execution_count": 139,
   "metadata": {
    "ExecuteTime": {
     "end_time": "2020-03-04T10:49:51.155457Z",
     "start_time": "2020-03-04T10:49:50.707936Z"
    }
   },
   "outputs": [],
   "source": [
    "X_train[\"weekday\"] = X_train.time_step.dt.dayofweek\n",
    "X_train[\"week\"] = X_train.time_step.dt.week\n",
    "X_train[\"month\"] = X_train.time_step.dt.month\n",
    "X_train[\"hour\"] = X_train.time_step.dt.hour\n",
    "X_train[\"is_weekend\"] = np.zeros(X_train.shape[0])  \n",
    "X_train.loc[X_train[\"weekday\"] > 4, \"is_weekend\"] = 1\n",
    "X_train[\"is_holidays\"] = np.zeros(X_train.shape[0])  \n",
    "X_train.loc[X_train.time_step.dt.date.isin(fr_holidays), \"is_holidays\"] = 1"
   ]
  },
  {
   "cell_type": "markdown",
   "metadata": {},
   "source": [
    "Let's put all in a transformer!"
   ]
  },
  {
   "cell_type": "code",
   "execution_count": 140,
   "metadata": {
    "ExecuteTime": {
     "end_time": "2020-03-04T10:49:51.170518Z",
     "start_time": "2020-03-04T10:49:51.160184Z"
    }
   },
   "outputs": [],
   "source": [
    "class DataAugmenter(BaseEstimator, TransformerMixin):\n",
    "    \n",
    "    def __init__(self):\n",
    "        self.X = None\n",
    "    \n",
    "    def fit(self, X, y=None):\n",
    "        return X\n",
    "    \n",
    "    def transform(self, X, y=None):\n",
    "        X[\"time_step\"] = pd.to_datetime(X[\"time_step\"])\n",
    "        X[\"weekday\"] = X.time_step.dt.dayofweek\n",
    "        X[\"week\"] = X.time_step.dt.week\n",
    "        X[\"month\"] = X.time_step.dt.month\n",
    "        X[\"hour\"] = X.time_step.dt.hour\n",
    "        X[\"is_weekend\"] = np.zeros(X.shape[0])  \n",
    "        X.loc[X[\"weekday\"] > 4, \"is_weekend\"] = 1\n",
    "        X[\"is_holidays\"] = np.zeros(X.shape[0])  \n",
    "        X.loc[X.time_step.dt.date.isin(fr_holidays), \"is_holidays\"] = 1\n",
    "        return X"
   ]
  },
  {
   "cell_type": "markdown",
   "metadata": {},
   "source": [
    "There is on average more consumption during weekends, as expected."
   ]
  },
  {
   "cell_type": "code",
   "execution_count": 141,
   "metadata": {
    "ExecuteTime": {
     "end_time": "2020-03-04T10:49:51.204463Z",
     "start_time": "2020-03-04T10:49:51.172776Z"
    }
   },
   "outputs": [
    {
     "data": {
      "text/html": [
       "<div>\n",
       "<style scoped>\n",
       "    .dataframe tbody tr th:only-of-type {\n",
       "        vertical-align: middle;\n",
       "    }\n",
       "\n",
       "    .dataframe tbody tr th {\n",
       "        vertical-align: top;\n",
       "    }\n",
       "\n",
       "    .dataframe thead th {\n",
       "        text-align: right;\n",
       "    }\n",
       "</style>\n",
       "<table border=\"1\" class=\"dataframe\">\n",
       "  <thead>\n",
       "    <tr style=\"text-align: right;\">\n",
       "      <th></th>\n",
       "      <th>consumption</th>\n",
       "    </tr>\n",
       "    <tr>\n",
       "      <th>is_weekend</th>\n",
       "      <th></th>\n",
       "    </tr>\n",
       "  </thead>\n",
       "  <tbody>\n",
       "    <tr>\n",
       "      <th>0.0</th>\n",
       "      <td>298.491884</td>\n",
       "    </tr>\n",
       "    <tr>\n",
       "      <th>1.0</th>\n",
       "      <td>315.715797</td>\n",
       "    </tr>\n",
       "  </tbody>\n",
       "</table>\n",
       "</div>"
      ],
      "text/plain": [
       "            consumption\n",
       "is_weekend             \n",
       "0.0          298.491884\n",
       "1.0          315.715797"
      ]
     },
     "execution_count": 141,
     "metadata": {},
     "output_type": "execute_result"
    }
   ],
   "source": [
    "X_train[[\"consumption\", \"is_weekend\"]].groupby(\"is_weekend\").mean()"
   ]
  },
  {
   "cell_type": "markdown",
   "metadata": {},
   "source": [
    "---"
   ]
  },
  {
   "cell_type": "markdown",
   "metadata": {},
   "source": [
    "Weekday:"
   ]
  },
  {
   "cell_type": "code",
   "execution_count": 142,
   "metadata": {
    "ExecuteTime": {
     "end_time": "2020-03-04T10:49:51.234934Z",
     "start_time": "2020-03-04T10:49:51.206278Z"
    }
   },
   "outputs": [
    {
     "data": {
      "text/html": [
       "<div>\n",
       "<style scoped>\n",
       "    .dataframe tbody tr th:only-of-type {\n",
       "        vertical-align: middle;\n",
       "    }\n",
       "\n",
       "    .dataframe tbody tr th {\n",
       "        vertical-align: top;\n",
       "    }\n",
       "\n",
       "    .dataframe thead th {\n",
       "        text-align: right;\n",
       "    }\n",
       "</style>\n",
       "<table border=\"1\" class=\"dataframe\">\n",
       "  <thead>\n",
       "    <tr style=\"text-align: right;\">\n",
       "      <th></th>\n",
       "      <th>consumption</th>\n",
       "    </tr>\n",
       "    <tr>\n",
       "      <th>weekday</th>\n",
       "      <th></th>\n",
       "    </tr>\n",
       "  </thead>\n",
       "  <tbody>\n",
       "    <tr>\n",
       "      <th>0</th>\n",
       "      <td>302.595452</td>\n",
       "    </tr>\n",
       "    <tr>\n",
       "      <th>1</th>\n",
       "      <td>314.806979</td>\n",
       "    </tr>\n",
       "    <tr>\n",
       "      <th>2</th>\n",
       "      <td>294.324385</td>\n",
       "    </tr>\n",
       "    <tr>\n",
       "      <th>3</th>\n",
       "      <td>294.144759</td>\n",
       "    </tr>\n",
       "    <tr>\n",
       "      <th>4</th>\n",
       "      <td>286.089830</td>\n",
       "    </tr>\n",
       "    <tr>\n",
       "      <th>5</th>\n",
       "      <td>315.718187</td>\n",
       "    </tr>\n",
       "    <tr>\n",
       "      <th>6</th>\n",
       "      <td>315.713463</td>\n",
       "    </tr>\n",
       "  </tbody>\n",
       "</table>\n",
       "</div>"
      ],
      "text/plain": [
       "         consumption\n",
       "weekday             \n",
       "0         302.595452\n",
       "1         314.806979\n",
       "2         294.324385\n",
       "3         294.144759\n",
       "4         286.089830\n",
       "5         315.718187\n",
       "6         315.713463"
      ]
     },
     "execution_count": 142,
     "metadata": {},
     "output_type": "execute_result"
    }
   ],
   "source": [
    "X_train[[\"consumption\", \"weekday\"]].groupby(\"weekday\").mean()"
   ]
  },
  {
   "cell_type": "code",
   "execution_count": 143,
   "metadata": {
    "ExecuteTime": {
     "end_time": "2020-03-04T10:49:51.816276Z",
     "start_time": "2020-03-04T10:49:51.238161Z"
    }
   },
   "outputs": [
    {
     "data": {
      "text/plain": [
       "<matplotlib.axes._subplots.AxesSubplot at 0x7ff0847a8d68>"
      ]
     },
     "execution_count": 143,
     "metadata": {},
     "output_type": "execute_result"
    },
    {
     "data": {
      "image/png": "[encoded data removed]",
      "text/plain": [
       "<Figure size 576x396 with 1 Axes>"
      ]
     },
     "metadata": {},
     "output_type": "display_data"
    }
   ],
   "source": [
    "sns.lineplot(x=np.arange(0,7), y=\"consumption\", data=X_train.groupby(\"weekday\").mean())"
   ]
  },
  {
   "cell_type": "markdown",
   "metadata": {},
   "source": [
    "month:"
   ]
  },
  {
   "cell_type": "code",
   "execution_count": 144,
   "metadata": {
    "ExecuteTime": {
     "end_time": "2020-03-04T10:49:51.849286Z",
     "start_time": "2020-03-04T10:49:51.818694Z"
    },
    "scrolled": false
   },
   "outputs": [
    {
     "data": {
      "text/html": [
       "<div>\n",
       "<style scoped>\n",
       "    .dataframe tbody tr th:only-of-type {\n",
       "        vertical-align: middle;\n",
       "    }\n",
       "\n",
       "    .dataframe tbody tr th {\n",
       "        vertical-align: top;\n",
       "    }\n",
       "\n",
       "    .dataframe thead th {\n",
       "        text-align: right;\n",
       "    }\n",
       "</style>\n",
       "<table border=\"1\" class=\"dataframe\">\n",
       "  <thead>\n",
       "    <tr style=\"text-align: right;\">\n",
       "      <th></th>\n",
       "      <th>consumption</th>\n",
       "    </tr>\n",
       "    <tr>\n",
       "      <th>month</th>\n",
       "      <th></th>\n",
       "    </tr>\n",
       "  </thead>\n",
       "  <tbody>\n",
       "    <tr>\n",
       "      <th>3</th>\n",
       "      <td>361.419421</td>\n",
       "    </tr>\n",
       "    <tr>\n",
       "      <th>4</th>\n",
       "      <td>296.177572</td>\n",
       "    </tr>\n",
       "    <tr>\n",
       "      <th>5</th>\n",
       "      <td>283.980685</td>\n",
       "    </tr>\n",
       "    <tr>\n",
       "      <th>6</th>\n",
       "      <td>274.367403</td>\n",
       "    </tr>\n",
       "    <tr>\n",
       "      <th>7</th>\n",
       "      <td>248.382001</td>\n",
       "    </tr>\n",
       "    <tr>\n",
       "      <th>8</th>\n",
       "      <td>223.994448</td>\n",
       "    </tr>\n",
       "    <tr>\n",
       "      <th>9</th>\n",
       "      <td>281.311602</td>\n",
       "    </tr>\n",
       "    <tr>\n",
       "      <th>10</th>\n",
       "      <td>363.227440</td>\n",
       "    </tr>\n",
       "    <tr>\n",
       "      <th>11</th>\n",
       "      <td>381.213867</td>\n",
       "    </tr>\n",
       "    <tr>\n",
       "      <th>12</th>\n",
       "      <td>350.701175</td>\n",
       "    </tr>\n",
       "  </tbody>\n",
       "</table>\n",
       "</div>"
      ],
      "text/plain": [
       "       consumption\n",
       "month             \n",
       "3       361.419421\n",
       "4       296.177572\n",
       "5       283.980685\n",
       "6       274.367403\n",
       "7       248.382001\n",
       "8       223.994448\n",
       "9       281.311602\n",
       "10      363.227440\n",
       "11      381.213867\n",
       "12      350.701175"
      ]
     },
     "execution_count": 144,
     "metadata": {},
     "output_type": "execute_result"
    }
   ],
   "source": [
    "X_train[[\"consumption\", \"month\"]].groupby(\"month\").mean()"
   ]
  },
  {
   "cell_type": "markdown",
   "metadata": {},
   "source": [
    "Significant drop in consumption over the summer! We do not have data for January, February. "
   ]
  },
  {
   "cell_type": "code",
   "execution_count": 145,
   "metadata": {
    "ExecuteTime": {
     "end_time": "2020-03-04T10:49:52.442401Z",
     "start_time": "2020-03-04T10:49:51.852139Z"
    }
   },
   "outputs": [
    {
     "data": {
      "text/plain": [
       "<matplotlib.axes._subplots.AxesSubplot at 0x7ff08aa35fd0>"
      ]
     },
     "execution_count": 145,
     "metadata": {},
     "output_type": "execute_result"
    },
    {
     "data": {
      "image/png": "[encoded data removed]",
      "text/plain": [
       "<Figure size 576x396 with 1 Axes>"
      ]
     },
     "metadata": {},
     "output_type": "display_data"
    }
   ],
   "source": [
    "sns.lineplot(x=np.arange(3,13), y=\"consumption\", data=X_train.groupby(\"month\").mean())"
   ]
  },
  {
   "cell_type": "markdown",
   "metadata": {},
   "source": [
    "In the afternoon, the most consumption."
   ]
  },
  {
   "cell_type": "code",
   "execution_count": 146,
   "metadata": {
    "ExecuteTime": {
     "end_time": "2020-03-04T10:49:52.974324Z",
     "start_time": "2020-03-04T10:49:52.446013Z"
    }
   },
   "outputs": [
    {
     "data": {
      "text/plain": [
       "<matplotlib.axes._subplots.AxesSubplot at 0x7ff06f55ac88>"
      ]
     },
     "execution_count": 146,
     "metadata": {},
     "output_type": "execute_result"
    },
    {
     "data": {
      "image/png": "[encoded data removed]",
      "text/plain": [
       "<Figure size 576x396 with 1 Axes>"
      ]
     },
     "metadata": {},
     "output_type": "display_data"
    }
   ],
   "source": [
    "sns.lineplot(x=np.arange(0,24), y=\"consumption\", data=X_train.groupby(\"hour\").mean())"
   ]
  },
  {
   "cell_type": "markdown",
   "metadata": {},
   "source": [
    "Holidays:"
   ]
  },
  {
   "cell_type": "code",
   "execution_count": 147,
   "metadata": {
    "ExecuteTime": {
     "end_time": "2020-03-04T10:49:52.989145Z",
     "start_time": "2020-03-04T10:49:52.977986Z"
    }
   },
   "outputs": [
    {
     "data": {
      "text/plain": [
       "341.72554808943374"
      ]
     },
     "execution_count": 147,
     "metadata": {},
     "output_type": "execute_result"
    }
   ],
   "source": [
    "X_train.consumption.std()"
   ]
  },
  {
   "cell_type": "code",
   "execution_count": 148,
   "metadata": {
    "ExecuteTime": {
     "end_time": "2020-03-04T10:49:53.030687Z",
     "start_time": "2020-03-04T10:49:52.992037Z"
    }
   },
   "outputs": [
    {
     "data": {
      "text/html": [
       "<div>\n",
       "<style scoped>\n",
       "    .dataframe tbody tr th:only-of-type {\n",
       "        vertical-align: middle;\n",
       "    }\n",
       "\n",
       "    .dataframe tbody tr th {\n",
       "        vertical-align: top;\n",
       "    }\n",
       "\n",
       "    .dataframe thead th {\n",
       "        text-align: right;\n",
       "    }\n",
       "</style>\n",
       "<table border=\"1\" class=\"dataframe\">\n",
       "  <thead>\n",
       "    <tr style=\"text-align: right;\">\n",
       "      <th></th>\n",
       "      <th>consumption</th>\n",
       "    </tr>\n",
       "    <tr>\n",
       "      <th>is_holidays</th>\n",
       "      <th></th>\n",
       "    </tr>\n",
       "  </thead>\n",
       "  <tbody>\n",
       "    <tr>\n",
       "      <th>0.0</th>\n",
       "      <td>304.761141</td>\n",
       "    </tr>\n",
       "    <tr>\n",
       "      <th>1.0</th>\n",
       "      <td>265.910400</td>\n",
       "    </tr>\n",
       "  </tbody>\n",
       "</table>\n",
       "</div>"
      ],
      "text/plain": [
       "             consumption\n",
       "is_holidays             \n",
       "0.0           304.761141\n",
       "1.0           265.910400"
      ]
     },
     "execution_count": 148,
     "metadata": {},
     "output_type": "execute_result"
    }
   ],
   "source": [
    "X_train[[\"consumption\", \"is_holidays\"]].groupby(\"is_holidays\").mean()"
   ]
  },
  {
   "cell_type": "markdown",
   "metadata": {},
   "source": [
    "Due to the big difference in consumption, it looks like the data belongs to a city in France."
   ]
  },
  {
   "cell_type": "code",
   "execution_count": 149,
   "metadata": {
    "ExecuteTime": {
     "end_time": "2020-03-04T10:49:53.054607Z",
     "start_time": "2020-03-04T10:49:53.033340Z"
    }
   },
   "outputs": [
    {
     "data": {
      "text/html": [
       "<div>\n",
       "<style scoped>\n",
       "    .dataframe tbody tr th:only-of-type {\n",
       "        vertical-align: middle;\n",
       "    }\n",
       "\n",
       "    .dataframe tbody tr th {\n",
       "        vertical-align: top;\n",
       "    }\n",
       "\n",
       "    .dataframe thead th {\n",
       "        text-align: right;\n",
       "    }\n",
       "</style>\n",
       "<table border=\"1\" class=\"dataframe\">\n",
       "  <thead>\n",
       "    <tr style=\"text-align: right;\">\n",
       "      <th></th>\n",
       "      <th>consumption</th>\n",
       "    </tr>\n",
       "    <tr>\n",
       "      <th>is_holidays</th>\n",
       "      <th></th>\n",
       "    </tr>\n",
       "  </thead>\n",
       "  <tbody>\n",
       "    <tr>\n",
       "      <th>0.0</th>\n",
       "      <td>344.159031</td>\n",
       "    </tr>\n",
       "    <tr>\n",
       "      <th>1.0</th>\n",
       "      <td>261.896030</td>\n",
       "    </tr>\n",
       "  </tbody>\n",
       "</table>\n",
       "</div>"
      ],
      "text/plain": [
       "             consumption\n",
       "is_holidays             \n",
       "0.0           344.159031\n",
       "1.0           261.896030"
      ]
     },
     "execution_count": 149,
     "metadata": {},
     "output_type": "execute_result"
    }
   ],
   "source": [
    "X_train[[\"consumption\", \"is_holidays\"]].groupby(\"is_holidays\").std()"
   ]
  },
  {
   "cell_type": "markdown",
   "metadata": {},
   "source": [
    "Plots:"
   ]
  },
  {
   "cell_type": "code",
   "execution_count": 150,
   "metadata": {
    "ExecuteTime": {
     "end_time": "2020-03-04T10:49:53.058305Z",
     "start_time": "2020-03-04T10:49:53.056096Z"
    }
   },
   "outputs": [],
   "source": [
    "# fig, axs = plt.subplots(2,2, figsize=(15,15))\n",
    "# axs[0,0].scatter(X_train.consumption[Y_train.washing_machine > 0], Y_train.washing_machine[Y_train.washing_machine > 0], c=\"red\")\n",
    "# axs[0,0].scatter(X_train.consumption[Y_train.washing_machine == 0], Y_train.washing_machine[Y_train.washing_machine == 0], c=\"blue\")\n",
    "# axs[0,1].scatter(X_train.consumption, Y_train.fridge_freezer )\n",
    "# axs[1,0].scatter(X_train.consumption, Y_train.TV )\n",
    "# axs[1,1].scatter(X_train.consumption, Y_train.kettle)"
   ]
  },
  {
   "cell_type": "markdown",
   "metadata": {
    "cell_style": "center"
   },
   "source": [
    "### Analyzing the target"
   ]
  },
  {
   "cell_type": "markdown",
   "metadata": {},
   "source": [
    "Weekday:\n",
    "- People enjoy using the Washing Machine on Sunday"
   ]
  },
  {
   "cell_type": "code",
   "execution_count": 151,
   "metadata": {
    "ExecuteTime": {
     "end_time": "2020-03-04T10:49:53.080283Z",
     "start_time": "2020-03-04T10:49:53.060161Z"
    }
   },
   "outputs": [
    {
     "data": {
      "text/html": [
       "<div>\n",
       "<style scoped>\n",
       "    .dataframe tbody tr th:only-of-type {\n",
       "        vertical-align: middle;\n",
       "    }\n",
       "\n",
       "    .dataframe tbody tr th {\n",
       "        vertical-align: top;\n",
       "    }\n",
       "\n",
       "    .dataframe thead th {\n",
       "        text-align: right;\n",
       "    }\n",
       "</style>\n",
       "<table border=\"1\" class=\"dataframe\">\n",
       "  <thead>\n",
       "    <tr style=\"text-align: right;\">\n",
       "      <th></th>\n",
       "      <th>washing_machine</th>\n",
       "      <th>fridge_freezer</th>\n",
       "      <th>TV</th>\n",
       "      <th>kettle</th>\n",
       "    </tr>\n",
       "    <tr>\n",
       "      <th>weekday</th>\n",
       "      <th></th>\n",
       "      <th></th>\n",
       "      <th></th>\n",
       "      <th></th>\n",
       "    </tr>\n",
       "  </thead>\n",
       "  <tbody>\n",
       "    <tr>\n",
       "      <th>0</th>\n",
       "      <td>5.389439</td>\n",
       "      <td>50.851487</td>\n",
       "      <td>15.410679</td>\n",
       "      <td>4.351712</td>\n",
       "    </tr>\n",
       "    <tr>\n",
       "      <th>1</th>\n",
       "      <td>6.025031</td>\n",
       "      <td>51.412186</td>\n",
       "      <td>14.709467</td>\n",
       "      <td>4.785899</td>\n",
       "    </tr>\n",
       "    <tr>\n",
       "      <th>2</th>\n",
       "      <td>4.811761</td>\n",
       "      <td>49.394849</td>\n",
       "      <td>14.731168</td>\n",
       "      <td>5.213072</td>\n",
       "    </tr>\n",
       "    <tr>\n",
       "      <th>3</th>\n",
       "      <td>3.953032</td>\n",
       "      <td>50.350004</td>\n",
       "      <td>14.123652</td>\n",
       "      <td>5.451252</td>\n",
       "    </tr>\n",
       "    <tr>\n",
       "      <th>4</th>\n",
       "      <td>4.589050</td>\n",
       "      <td>49.389511</td>\n",
       "      <td>13.251122</td>\n",
       "      <td>4.933465</td>\n",
       "    </tr>\n",
       "    <tr>\n",
       "      <th>5</th>\n",
       "      <td>6.485284</td>\n",
       "      <td>48.443971</td>\n",
       "      <td>14.418012</td>\n",
       "      <td>5.497252</td>\n",
       "    </tr>\n",
       "    <tr>\n",
       "      <th>6</th>\n",
       "      <td>9.116859</td>\n",
       "      <td>49.695682</td>\n",
       "      <td>14.698118</td>\n",
       "      <td>4.786513</td>\n",
       "    </tr>\n",
       "  </tbody>\n",
       "</table>\n",
       "</div>"
      ],
      "text/plain": [
       "         washing_machine  fridge_freezer         TV    kettle\n",
       "weekday                                                      \n",
       "0               5.389439       50.851487  15.410679  4.351712\n",
       "1               6.025031       51.412186  14.709467  4.785899\n",
       "2               4.811761       49.394849  14.731168  5.213072\n",
       "3               3.953032       50.350004  14.123652  5.451252\n",
       "4               4.589050       49.389511  13.251122  4.933465\n",
       "5               6.485284       48.443971  14.418012  5.497252\n",
       "6               9.116859       49.695682  14.698118  4.786513"
      ]
     },
     "execution_count": 151,
     "metadata": {},
     "output_type": "execute_result"
    }
   ],
   "source": [
    "Y_train.groupby(X_train.weekday).mean()"
   ]
  },
  {
   "cell_type": "markdown",
   "metadata": {},
   "source": [
    "Month:\n",
    "- Significant increase in the use of the Washing Machine and the Kettle in November"
   ]
  },
  {
   "cell_type": "code",
   "execution_count": 152,
   "metadata": {
    "ExecuteTime": {
     "end_time": "2020-03-04T10:49:53.112555Z",
     "start_time": "2020-03-04T10:49:53.082325Z"
    }
   },
   "outputs": [
    {
     "data": {
      "text/html": [
       "<div>\n",
       "<style scoped>\n",
       "    .dataframe tbody tr th:only-of-type {\n",
       "        vertical-align: middle;\n",
       "    }\n",
       "\n",
       "    .dataframe tbody tr th {\n",
       "        vertical-align: top;\n",
       "    }\n",
       "\n",
       "    .dataframe thead th {\n",
       "        text-align: right;\n",
       "    }\n",
       "</style>\n",
       "<table border=\"1\" class=\"dataframe\">\n",
       "  <thead>\n",
       "    <tr style=\"text-align: right;\">\n",
       "      <th></th>\n",
       "      <th>washing_machine</th>\n",
       "      <th>fridge_freezer</th>\n",
       "      <th>TV</th>\n",
       "      <th>kettle</th>\n",
       "    </tr>\n",
       "    <tr>\n",
       "      <th>month</th>\n",
       "      <th></th>\n",
       "      <th></th>\n",
       "      <th></th>\n",
       "      <th></th>\n",
       "    </tr>\n",
       "  </thead>\n",
       "  <tbody>\n",
       "    <tr>\n",
       "      <th>3</th>\n",
       "      <td>5.556400</td>\n",
       "      <td>42.320846</td>\n",
       "      <td>20.017219</td>\n",
       "      <td>4.385925</td>\n",
       "    </tr>\n",
       "    <tr>\n",
       "      <th>4</th>\n",
       "      <td>5.215361</td>\n",
       "      <td>41.389061</td>\n",
       "      <td>16.551459</td>\n",
       "      <td>3.776446</td>\n",
       "    </tr>\n",
       "    <tr>\n",
       "      <th>5</th>\n",
       "      <td>6.178312</td>\n",
       "      <td>45.784497</td>\n",
       "      <td>15.429027</td>\n",
       "      <td>1.304619</td>\n",
       "    </tr>\n",
       "    <tr>\n",
       "      <th>6</th>\n",
       "      <td>6.618310</td>\n",
       "      <td>50.552661</td>\n",
       "      <td>12.813130</td>\n",
       "      <td>3.917128</td>\n",
       "    </tr>\n",
       "    <tr>\n",
       "      <th>7</th>\n",
       "      <td>4.715941</td>\n",
       "      <td>57.546494</td>\n",
       "      <td>13.594985</td>\n",
       "      <td>1.895366</td>\n",
       "    </tr>\n",
       "    <tr>\n",
       "      <th>8</th>\n",
       "      <td>4.043138</td>\n",
       "      <td>55.848900</td>\n",
       "      <td>11.844897</td>\n",
       "      <td>1.720263</td>\n",
       "    </tr>\n",
       "    <tr>\n",
       "      <th>9</th>\n",
       "      <td>6.441809</td>\n",
       "      <td>49.565837</td>\n",
       "      <td>13.093514</td>\n",
       "      <td>3.608603</td>\n",
       "    </tr>\n",
       "    <tr>\n",
       "      <th>10</th>\n",
       "      <td>5.468136</td>\n",
       "      <td>53.266371</td>\n",
       "      <td>14.699599</td>\n",
       "      <td>8.066695</td>\n",
       "    </tr>\n",
       "    <tr>\n",
       "      <th>11</th>\n",
       "      <td>8.539906</td>\n",
       "      <td>52.057606</td>\n",
       "      <td>15.446995</td>\n",
       "      <td>13.152962</td>\n",
       "    </tr>\n",
       "    <tr>\n",
       "      <th>12</th>\n",
       "      <td>5.010925</td>\n",
       "      <td>46.948316</td>\n",
       "      <td>14.187673</td>\n",
       "      <td>7.989399</td>\n",
       "    </tr>\n",
       "  </tbody>\n",
       "</table>\n",
       "</div>"
      ],
      "text/plain": [
       "       washing_machine  fridge_freezer         TV     kettle\n",
       "month                                                       \n",
       "3             5.556400       42.320846  20.017219   4.385925\n",
       "4             5.215361       41.389061  16.551459   3.776446\n",
       "5             6.178312       45.784497  15.429027   1.304619\n",
       "6             6.618310       50.552661  12.813130   3.917128\n",
       "7             4.715941       57.546494  13.594985   1.895366\n",
       "8             4.043138       55.848900  11.844897   1.720263\n",
       "9             6.441809       49.565837  13.093514   3.608603\n",
       "10            5.468136       53.266371  14.699599   8.066695\n",
       "11            8.539906       52.057606  15.446995  13.152962\n",
       "12            5.010925       46.948316  14.187673   7.989399"
      ]
     },
     "execution_count": 152,
     "metadata": {},
     "output_type": "execute_result"
    }
   ],
   "source": [
    "Y_train.groupby(X_train.month).mean()"
   ]
  },
  {
   "cell_type": "markdown",
   "metadata": {},
   "source": [
    "Weekend:"
   ]
  },
  {
   "cell_type": "code",
   "execution_count": 153,
   "metadata": {
    "ExecuteTime": {
     "end_time": "2020-03-04T10:49:53.139854Z",
     "start_time": "2020-03-04T10:49:53.114751Z"
    }
   },
   "outputs": [
    {
     "data": {
      "text/html": [
       "<div>\n",
       "<style scoped>\n",
       "    .dataframe tbody tr th:only-of-type {\n",
       "        vertical-align: middle;\n",
       "    }\n",
       "\n",
       "    .dataframe tbody tr th {\n",
       "        vertical-align: top;\n",
       "    }\n",
       "\n",
       "    .dataframe thead th {\n",
       "        text-align: right;\n",
       "    }\n",
       "</style>\n",
       "<table border=\"1\" class=\"dataframe\">\n",
       "  <thead>\n",
       "    <tr style=\"text-align: right;\">\n",
       "      <th></th>\n",
       "      <th>washing_machine</th>\n",
       "      <th>fridge_freezer</th>\n",
       "      <th>TV</th>\n",
       "      <th>kettle</th>\n",
       "    </tr>\n",
       "    <tr>\n",
       "      <th>is_weekend</th>\n",
       "      <th></th>\n",
       "      <th></th>\n",
       "      <th></th>\n",
       "      <th></th>\n",
       "    </tr>\n",
       "  </thead>\n",
       "  <tbody>\n",
       "    <tr>\n",
       "      <th>0.0</th>\n",
       "      <td>4.960944</td>\n",
       "      <td>50.287842</td>\n",
       "      <td>14.451158</td>\n",
       "      <td>4.943425</td>\n",
       "    </tr>\n",
       "    <tr>\n",
       "      <th>1.0</th>\n",
       "      <td>7.816913</td>\n",
       "      <td>49.077362</td>\n",
       "      <td>14.559751</td>\n",
       "      <td>5.137604</td>\n",
       "    </tr>\n",
       "  </tbody>\n",
       "</table>\n",
       "</div>"
      ],
      "text/plain": [
       "            washing_machine  fridge_freezer         TV    kettle\n",
       "is_weekend                                                      \n",
       "0.0                4.960944       50.287842  14.451158  4.943425\n",
       "1.0                7.816913       49.077362  14.559751  5.137604"
      ]
     },
     "execution_count": 153,
     "metadata": {},
     "output_type": "execute_result"
    }
   ],
   "source": [
    "Y_train.groupby(X_train.is_weekend).mean()"
   ]
  },
  {
   "cell_type": "markdown",
   "metadata": {},
   "source": [
    "Hour:\n",
    "- Washing Machine used late evening\n",
    "- TV from the evening\n",
    "- Kettle in the afternoon around Tea Time"
   ]
  },
  {
   "cell_type": "code",
   "execution_count": 154,
   "metadata": {
    "ExecuteTime": {
     "end_time": "2020-03-04T10:49:53.166707Z",
     "start_time": "2020-03-04T10:49:53.142010Z"
    }
   },
   "outputs": [
    {
     "data": {
      "text/html": [
       "<div>\n",
       "<style scoped>\n",
       "    .dataframe tbody tr th:only-of-type {\n",
       "        vertical-align: middle;\n",
       "    }\n",
       "\n",
       "    .dataframe tbody tr th {\n",
       "        vertical-align: top;\n",
       "    }\n",
       "\n",
       "    .dataframe thead th {\n",
       "        text-align: right;\n",
       "    }\n",
       "</style>\n",
       "<table border=\"1\" class=\"dataframe\">\n",
       "  <thead>\n",
       "    <tr style=\"text-align: right;\">\n",
       "      <th></th>\n",
       "      <th>washing_machine</th>\n",
       "      <th>fridge_freezer</th>\n",
       "      <th>TV</th>\n",
       "      <th>kettle</th>\n",
       "    </tr>\n",
       "    <tr>\n",
       "      <th>hour</th>\n",
       "      <th></th>\n",
       "      <th></th>\n",
       "      <th></th>\n",
       "      <th></th>\n",
       "    </tr>\n",
       "  </thead>\n",
       "  <tbody>\n",
       "    <tr>\n",
       "      <th>0</th>\n",
       "      <td>16.666658</td>\n",
       "      <td>50.053807</td>\n",
       "      <td>9.791535</td>\n",
       "      <td>0.002574</td>\n",
       "    </tr>\n",
       "    <tr>\n",
       "      <th>1</th>\n",
       "      <td>9.212207</td>\n",
       "      <td>45.895299</td>\n",
       "      <td>7.983519</td>\n",
       "      <td>0.204948</td>\n",
       "    </tr>\n",
       "    <tr>\n",
       "      <th>2</th>\n",
       "      <td>2.497133</td>\n",
       "      <td>46.245553</td>\n",
       "      <td>7.557325</td>\n",
       "      <td>0.000411</td>\n",
       "    </tr>\n",
       "    <tr>\n",
       "      <th>3</th>\n",
       "      <td>0.739735</td>\n",
       "      <td>46.918470</td>\n",
       "      <td>12.491593</td>\n",
       "      <td>0.002011</td>\n",
       "    </tr>\n",
       "    <tr>\n",
       "      <th>4</th>\n",
       "      <td>1.048046</td>\n",
       "      <td>45.620991</td>\n",
       "      <td>17.252390</td>\n",
       "      <td>0.001341</td>\n",
       "    </tr>\n",
       "    <tr>\n",
       "      <th>5</th>\n",
       "      <td>0.957351</td>\n",
       "      <td>45.490154</td>\n",
       "      <td>16.480414</td>\n",
       "      <td>0.633345</td>\n",
       "    </tr>\n",
       "    <tr>\n",
       "      <th>6</th>\n",
       "      <td>0.693797</td>\n",
       "      <td>48.001302</td>\n",
       "      <td>10.919961</td>\n",
       "      <td>3.925279</td>\n",
       "    </tr>\n",
       "    <tr>\n",
       "      <th>7</th>\n",
       "      <td>0.850718</td>\n",
       "      <td>48.469135</td>\n",
       "      <td>10.372863</td>\n",
       "      <td>8.616012</td>\n",
       "    </tr>\n",
       "    <tr>\n",
       "      <th>8</th>\n",
       "      <td>2.082198</td>\n",
       "      <td>51.687355</td>\n",
       "      <td>10.326209</td>\n",
       "      <td>9.599387</td>\n",
       "    </tr>\n",
       "    <tr>\n",
       "      <th>9</th>\n",
       "      <td>6.197119</td>\n",
       "      <td>46.764678</td>\n",
       "      <td>10.179847</td>\n",
       "      <td>2.484225</td>\n",
       "    </tr>\n",
       "    <tr>\n",
       "      <th>10</th>\n",
       "      <td>5.782570</td>\n",
       "      <td>50.744343</td>\n",
       "      <td>10.158513</td>\n",
       "      <td>1.244518</td>\n",
       "    </tr>\n",
       "    <tr>\n",
       "      <th>11</th>\n",
       "      <td>4.846053</td>\n",
       "      <td>49.182162</td>\n",
       "      <td>11.065142</td>\n",
       "      <td>1.693135</td>\n",
       "    </tr>\n",
       "    <tr>\n",
       "      <th>12</th>\n",
       "      <td>3.998880</td>\n",
       "      <td>50.087158</td>\n",
       "      <td>11.587598</td>\n",
       "      <td>4.860811</td>\n",
       "    </tr>\n",
       "    <tr>\n",
       "      <th>13</th>\n",
       "      <td>3.205264</td>\n",
       "      <td>53.099949</td>\n",
       "      <td>10.932386</td>\n",
       "      <td>2.333299</td>\n",
       "    </tr>\n",
       "    <tr>\n",
       "      <th>14</th>\n",
       "      <td>5.440037</td>\n",
       "      <td>50.797206</td>\n",
       "      <td>10.515872</td>\n",
       "      <td>1.499154</td>\n",
       "    </tr>\n",
       "    <tr>\n",
       "      <th>15</th>\n",
       "      <td>4.456495</td>\n",
       "      <td>53.356451</td>\n",
       "      <td>12.629307</td>\n",
       "      <td>2.221350</td>\n",
       "    </tr>\n",
       "    <tr>\n",
       "      <th>16</th>\n",
       "      <td>2.903084</td>\n",
       "      <td>50.987205</td>\n",
       "      <td>13.816884</td>\n",
       "      <td>8.042672</td>\n",
       "    </tr>\n",
       "    <tr>\n",
       "      <th>17</th>\n",
       "      <td>1.287543</td>\n",
       "      <td>55.930394</td>\n",
       "      <td>18.566461</td>\n",
       "      <td>20.007539</td>\n",
       "    </tr>\n",
       "    <tr>\n",
       "      <th>18</th>\n",
       "      <td>1.787472</td>\n",
       "      <td>55.589992</td>\n",
       "      <td>24.551957</td>\n",
       "      <td>23.580335</td>\n",
       "    </tr>\n",
       "    <tr>\n",
       "      <th>19</th>\n",
       "      <td>2.222372</td>\n",
       "      <td>53.271800</td>\n",
       "      <td>27.368533</td>\n",
       "      <td>12.322117</td>\n",
       "    </tr>\n",
       "    <tr>\n",
       "      <th>20</th>\n",
       "      <td>1.669516</td>\n",
       "      <td>51.788040</td>\n",
       "      <td>22.494583</td>\n",
       "      <td>7.798022</td>\n",
       "    </tr>\n",
       "    <tr>\n",
       "      <th>21</th>\n",
       "      <td>13.432117</td>\n",
       "      <td>50.287782</td>\n",
       "      <td>23.018214</td>\n",
       "      <td>5.191309</td>\n",
       "    </tr>\n",
       "    <tr>\n",
       "      <th>22</th>\n",
       "      <td>21.035765</td>\n",
       "      <td>52.085077</td>\n",
       "      <td>22.422872</td>\n",
       "      <td>3.437551</td>\n",
       "    </tr>\n",
       "    <tr>\n",
       "      <th>23</th>\n",
       "      <td>25.668586</td>\n",
       "      <td>46.239206</td>\n",
       "      <td>15.089468</td>\n",
       "      <td>0.274370</td>\n",
       "    </tr>\n",
       "  </tbody>\n",
       "</table>\n",
       "</div>"
      ],
      "text/plain": [
       "      washing_machine  fridge_freezer         TV     kettle\n",
       "hour                                                       \n",
       "0           16.666658       50.053807   9.791535   0.002574\n",
       "1            9.212207       45.895299   7.983519   0.204948\n",
       "2            2.497133       46.245553   7.557325   0.000411\n",
       "3            0.739735       46.918470  12.491593   0.002011\n",
       "4            1.048046       45.620991  17.252390   0.001341\n",
       "5            0.957351       45.490154  16.480414   0.633345\n",
       "6            0.693797       48.001302  10.919961   3.925279\n",
       "7            0.850718       48.469135  10.372863   8.616012\n",
       "8            2.082198       51.687355  10.326209   9.599387\n",
       "9            6.197119       46.764678  10.179847   2.484225\n",
       "10           5.782570       50.744343  10.158513   1.244518\n",
       "11           4.846053       49.182162  11.065142   1.693135\n",
       "12           3.998880       50.087158  11.587598   4.860811\n",
       "13           3.205264       53.099949  10.932386   2.333299\n",
       "14           5.440037       50.797206  10.515872   1.499154\n",
       "15           4.456495       53.356451  12.629307   2.221350\n",
       "16           2.903084       50.987205  13.816884   8.042672\n",
       "17           1.287543       55.930394  18.566461  20.007539\n",
       "18           1.787472       55.589992  24.551957  23.580335\n",
       "19           2.222372       53.271800  27.368533  12.322117\n",
       "20           1.669516       51.788040  22.494583   7.798022\n",
       "21          13.432117       50.287782  23.018214   5.191309\n",
       "22          21.035765       52.085077  22.422872   3.437551\n",
       "23          25.668586       46.239206  15.089468   0.274370"
      ]
     },
     "execution_count": 154,
     "metadata": {},
     "output_type": "execute_result"
    }
   ],
   "source": [
    "Y_train.groupby(X_train.hour).mean()"
   ]
  },
  {
   "cell_type": "markdown",
   "metadata": {},
   "source": [
    "Holidays:\n",
    "- Who wants to do a Washing Machine while on holidays?"
   ]
  },
  {
   "cell_type": "code",
   "execution_count": 155,
   "metadata": {
    "ExecuteTime": {
     "end_time": "2020-03-04T10:49:53.201656Z",
     "start_time": "2020-03-04T10:49:53.170986Z"
    }
   },
   "outputs": [
    {
     "data": {
      "text/html": [
       "<div>\n",
       "<style scoped>\n",
       "    .dataframe tbody tr th:only-of-type {\n",
       "        vertical-align: middle;\n",
       "    }\n",
       "\n",
       "    .dataframe tbody tr th {\n",
       "        vertical-align: top;\n",
       "    }\n",
       "\n",
       "    .dataframe thead th {\n",
       "        text-align: right;\n",
       "    }\n",
       "</style>\n",
       "<table border=\"1\" class=\"dataframe\">\n",
       "  <thead>\n",
       "    <tr style=\"text-align: right;\">\n",
       "      <th></th>\n",
       "      <th>washing_machine</th>\n",
       "      <th>fridge_freezer</th>\n",
       "      <th>TV</th>\n",
       "      <th>kettle</th>\n",
       "    </tr>\n",
       "    <tr>\n",
       "      <th>is_holidays</th>\n",
       "      <th></th>\n",
       "      <th></th>\n",
       "      <th></th>\n",
       "      <th></th>\n",
       "    </tr>\n",
       "  </thead>\n",
       "  <tbody>\n",
       "    <tr>\n",
       "      <th>0.0</th>\n",
       "      <td>5.875870</td>\n",
       "      <td>50.012378</td>\n",
       "      <td>14.517998</td>\n",
       "      <td>5.056063</td>\n",
       "    </tr>\n",
       "    <tr>\n",
       "      <th>1.0</th>\n",
       "      <td>3.047412</td>\n",
       "      <td>47.953892</td>\n",
       "      <td>13.480961</td>\n",
       "      <td>3.401253</td>\n",
       "    </tr>\n",
       "  </tbody>\n",
       "</table>\n",
       "</div>"
      ],
      "text/plain": [
       "             washing_machine  fridge_freezer         TV    kettle\n",
       "is_holidays                                                      \n",
       "0.0                 5.875870       50.012378  14.517998  5.056063\n",
       "1.0                 3.047412       47.953892  13.480961  3.401253"
      ]
     },
     "execution_count": 155,
     "metadata": {},
     "output_type": "execute_result"
    }
   ],
   "source": [
    "Y_train.groupby(X_train.is_holidays).mean()"
   ]
  },
  {
   "cell_type": "markdown",
   "metadata": {},
   "source": [
    "---\n",
    "---\n",
    "---"
   ]
  },
  {
   "cell_type": "markdown",
   "metadata": {},
   "source": [
    "## Regression, a baseline model"
   ]
  },
  {
   "cell_type": "markdown",
   "metadata": {},
   "source": [
    "[MultiOutputRegressor](https://scikit-learn.org/stable/modules/generated/sklearn.multioutput.MultiOutputRegressor.html) consists of fitting one regressor per target. \n",
    "\n",
    "This is a simple strategy for extending regressors that do not natively support multi-target regression."
   ]
  },
  {
   "cell_type": "code",
   "execution_count": 156,
   "metadata": {
    "ExecuteTime": {
     "end_time": "2020-03-04T10:49:53.209181Z",
     "start_time": "2020-03-04T10:49:53.204176Z"
    }
   },
   "outputs": [],
   "source": [
    "regressor = MultiOutputRegressor(LinearRegression())"
   ]
  },
  {
   "cell_type": "code",
   "execution_count": 157,
   "metadata": {
    "ExecuteTime": {
     "end_time": "2020-03-04T10:49:53.228148Z",
     "start_time": "2020-03-04T10:49:53.212975Z"
    }
   },
   "outputs": [
    {
     "data": {
      "text/html": [
       "<div>\n",
       "<style scoped>\n",
       "    .dataframe tbody tr th:only-of-type {\n",
       "        vertical-align: middle;\n",
       "    }\n",
       "\n",
       "    .dataframe tbody tr th {\n",
       "        vertical-align: top;\n",
       "    }\n",
       "\n",
       "    .dataframe thead th {\n",
       "        text-align: right;\n",
       "    }\n",
       "</style>\n",
       "<table border=\"1\" class=\"dataframe\">\n",
       "  <thead>\n",
       "    <tr style=\"text-align: right;\">\n",
       "      <th></th>\n",
       "      <th>time_step</th>\n",
       "      <th>washing_machine</th>\n",
       "      <th>fridge_freezer</th>\n",
       "      <th>TV</th>\n",
       "      <th>kettle</th>\n",
       "    </tr>\n",
       "  </thead>\n",
       "  <tbody>\n",
       "    <tr>\n",
       "      <th>0</th>\n",
       "      <td>2013-03-17T00:01:00.0</td>\n",
       "      <td>0.0</td>\n",
       "      <td>79.2000</td>\n",
       "      <td>7.0</td>\n",
       "      <td>0.0</td>\n",
       "    </tr>\n",
       "    <tr>\n",
       "      <th>1</th>\n",
       "      <td>2013-03-17T00:02:00.0</td>\n",
       "      <td>0.0</td>\n",
       "      <td>78.0000</td>\n",
       "      <td>7.0</td>\n",
       "      <td>0.0</td>\n",
       "    </tr>\n",
       "    <tr>\n",
       "      <th>2</th>\n",
       "      <td>2013-03-17T00:03:00.0</td>\n",
       "      <td>0.0</td>\n",
       "      <td>76.9000</td>\n",
       "      <td>7.0</td>\n",
       "      <td>0.0</td>\n",
       "    </tr>\n",
       "    <tr>\n",
       "      <th>3</th>\n",
       "      <td>2013-03-17T00:04:00.0</td>\n",
       "      <td>0.0</td>\n",
       "      <td>76.1111</td>\n",
       "      <td>7.0</td>\n",
       "      <td>0.0</td>\n",
       "    </tr>\n",
       "    <tr>\n",
       "      <th>4</th>\n",
       "      <td>2013-03-17T00:05:00.0</td>\n",
       "      <td>0.0</td>\n",
       "      <td>75.2727</td>\n",
       "      <td>7.0</td>\n",
       "      <td>0.0</td>\n",
       "    </tr>\n",
       "  </tbody>\n",
       "</table>\n",
       "</div>"
      ],
      "text/plain": [
       "               time_step  washing_machine  fridge_freezer   TV  kettle\n",
       "0  2013-03-17T00:01:00.0              0.0         79.2000  7.0     0.0\n",
       "1  2013-03-17T00:02:00.0              0.0         78.0000  7.0     0.0\n",
       "2  2013-03-17T00:03:00.0              0.0         76.9000  7.0     0.0\n",
       "3  2013-03-17T00:04:00.0              0.0         76.1111  7.0     0.0\n",
       "4  2013-03-17T00:05:00.0              0.0         75.2727  7.0     0.0"
      ]
     },
     "execution_count": 157,
     "metadata": {},
     "output_type": "execute_result"
    }
   ],
   "source": [
    "Y_train.head()"
   ]
  },
  {
   "cell_type": "code",
   "execution_count": 158,
   "metadata": {
    "ExecuteTime": {
     "end_time": "2020-03-04T10:49:53.333931Z",
     "start_time": "2020-03-04T10:49:53.231007Z"
    }
   },
   "outputs": [],
   "source": [
    "x_train, x_valid, y_train, y_valid = train_test_split(\n",
    "    X_train.drop('time_step', axis=1), Y_train.drop('time_step', axis=1), test_size=0.33, random_state=42)"
   ]
  },
  {
   "cell_type": "code",
   "execution_count": 159,
   "metadata": {
    "ExecuteTime": {
     "end_time": "2020-03-04T10:49:53.720831Z",
     "start_time": "2020-03-04T10:49:53.335712Z"
    }
   },
   "outputs": [
    {
     "data": {
      "text/plain": [
       "MultiOutputRegressor(estimator=LinearRegression(copy_X=True, fit_intercept=True,\n",
       "                                                n_jobs=None, normalize=False),\n",
       "                     n_jobs=None)"
      ]
     },
     "execution_count": 159,
     "metadata": {},
     "output_type": "execute_result"
    }
   ],
   "source": [
    "regressor.fit(x_train, y_train)"
   ]
  },
  {
   "cell_type": "code",
   "execution_count": 160,
   "metadata": {
    "ExecuteTime": {
     "end_time": "2020-03-04T10:49:58.481006Z",
     "start_time": "2020-03-04T10:49:58.418164Z"
    }
   },
   "outputs": [
    {
     "data": {
      "text/plain": [
       "0.07772531788680967"
      ]
     },
     "execution_count": 160,
     "metadata": {},
     "output_type": "execute_result"
    }
   ],
   "source": [
    "regressor.score(x_train, y_train)"
   ]
  },
  {
   "cell_type": "code",
   "execution_count": 161,
   "metadata": {
    "ExecuteTime": {
     "end_time": "2020-03-04T10:50:00.169327Z",
     "start_time": "2020-03-04T10:50:00.133079Z"
    }
   },
   "outputs": [
    {
     "data": {
      "text/plain": [
       "0.07451683253589483"
      ]
     },
     "execution_count": 161,
     "metadata": {},
     "output_type": "execute_result"
    }
   ],
   "source": [
    "regressor.score(x_valid, y_valid)"
   ]
  },
  {
   "cell_type": "markdown",
   "metadata": {},
   "source": [
    "Have a look at all the coefficients:"
   ]
  },
  {
   "cell_type": "code",
   "execution_count": 162,
   "metadata": {
    "ExecuteTime": {
     "end_time": "2020-03-04T10:50:01.150867Z",
     "start_time": "2020-03-04T10:50:01.145892Z"
    }
   },
   "outputs": [],
   "source": [
    "df = pd.DataFrame([i.coef_ for i in regressor.estimators_], columns=X_train.columns[1:], index=Y_train.columns[1:])"
   ]
  },
  {
   "cell_type": "code",
   "execution_count": 163,
   "metadata": {
    "ExecuteTime": {
     "end_time": "2020-03-04T10:50:01.909742Z",
     "start_time": "2020-03-04T10:50:01.883700Z"
    }
   },
   "outputs": [
    {
     "data": {
      "text/html": [
       "<div>\n",
       "<style scoped>\n",
       "    .dataframe tbody tr th:only-of-type {\n",
       "        vertical-align: middle;\n",
       "    }\n",
       "\n",
       "    .dataframe tbody tr th {\n",
       "        vertical-align: top;\n",
       "    }\n",
       "\n",
       "    .dataframe thead th {\n",
       "        text-align: right;\n",
       "    }\n",
       "</style>\n",
       "<table border=\"1\" class=\"dataframe\">\n",
       "  <thead>\n",
       "    <tr style=\"text-align: right;\">\n",
       "      <th></th>\n",
       "      <th>consumption</th>\n",
       "      <th>visibility</th>\n",
       "      <th>temperature</th>\n",
       "      <th>humidity</th>\n",
       "      <th>humidex</th>\n",
       "      <th>windchill</th>\n",
       "      <th>wind</th>\n",
       "      <th>pressure</th>\n",
       "      <th>weekday</th>\n",
       "      <th>week</th>\n",
       "      <th>month</th>\n",
       "      <th>hour</th>\n",
       "      <th>is_weekend</th>\n",
       "      <th>is_holidays</th>\n",
       "    </tr>\n",
       "  </thead>\n",
       "  <tbody>\n",
       "    <tr>\n",
       "      <th>washing_machine</th>\n",
       "      <td>0.034108</td>\n",
       "      <td>-0.071917</td>\n",
       "      <td>0.679810</td>\n",
       "      <td>-0.009927</td>\n",
       "      <td>0.182366</td>\n",
       "      <td>-0.728421</td>\n",
       "      <td>-0.296534</td>\n",
       "      <td>-0.011302</td>\n",
       "      <td>-0.127618</td>\n",
       "      <td>0.043758</td>\n",
       "      <td>-0.418191</td>\n",
       "      <td>0.123134</td>\n",
       "      <td>2.760531</td>\n",
       "      <td>-0.824601</td>\n",
       "    </tr>\n",
       "    <tr>\n",
       "      <th>fridge_freezer</th>\n",
       "      <td>0.018926</td>\n",
       "      <td>-0.006292</td>\n",
       "      <td>-0.862133</td>\n",
       "      <td>0.093264</td>\n",
       "      <td>1.617068</td>\n",
       "      <td>0.155738</td>\n",
       "      <td>0.045596</td>\n",
       "      <td>-0.003965</td>\n",
       "      <td>-0.317798</td>\n",
       "      <td>0.036417</td>\n",
       "      <td>0.747756</td>\n",
       "      <td>0.009143</td>\n",
       "      <td>-0.284077</td>\n",
       "      <td>-0.135680</td>\n",
       "    </tr>\n",
       "    <tr>\n",
       "      <th>TV</th>\n",
       "      <td>0.007512</td>\n",
       "      <td>-0.004963</td>\n",
       "      <td>0.130315</td>\n",
       "      <td>0.060282</td>\n",
       "      <td>0.291660</td>\n",
       "      <td>-0.614573</td>\n",
       "      <td>-0.075669</td>\n",
       "      <td>-0.001533</td>\n",
       "      <td>-0.461333</td>\n",
       "      <td>0.004925</td>\n",
       "      <td>-0.559520</td>\n",
       "      <td>0.588994</td>\n",
       "      <td>1.494431</td>\n",
       "      <td>-1.681744</td>\n",
       "    </tr>\n",
       "    <tr>\n",
       "      <th>kettle</th>\n",
       "      <td>0.124019</td>\n",
       "      <td>-0.011206</td>\n",
       "      <td>-0.648341</td>\n",
       "      <td>-0.034576</td>\n",
       "      <td>0.475879</td>\n",
       "      <td>0.512150</td>\n",
       "      <td>0.045495</td>\n",
       "      <td>0.015087</td>\n",
       "      <td>0.832758</td>\n",
       "      <td>0.018792</td>\n",
       "      <td>0.104542</td>\n",
       "      <td>-0.571143</td>\n",
       "      <td>-4.215352</td>\n",
       "      <td>3.997177</td>\n",
       "    </tr>\n",
       "  </tbody>\n",
       "</table>\n",
       "</div>"
      ],
      "text/plain": [
       "                 consumption  visibility  temperature  humidity   humidex  \\\n",
       "washing_machine     0.034108   -0.071917     0.679810 -0.009927  0.182366   \n",
       "fridge_freezer      0.018926   -0.006292    -0.862133  0.093264  1.617068   \n",
       "TV                  0.007512   -0.004963     0.130315  0.060282  0.291660   \n",
       "kettle              0.124019   -0.011206    -0.648341 -0.034576  0.475879   \n",
       "\n",
       "                 windchill      wind  pressure   weekday      week     month  \\\n",
       "washing_machine  -0.728421 -0.296534 -0.011302 -0.127618  0.043758 -0.418191   \n",
       "fridge_freezer    0.155738  0.045596 -0.003965 -0.317798  0.036417  0.747756   \n",
       "TV               -0.614573 -0.075669 -0.001533 -0.461333  0.004925 -0.559520   \n",
       "kettle            0.512150  0.045495  0.015087  0.832758  0.018792  0.104542   \n",
       "\n",
       "                     hour  is_weekend  is_holidays  \n",
       "washing_machine  0.123134    2.760531    -0.824601  \n",
       "fridge_freezer   0.009143   -0.284077    -0.135680  \n",
       "TV               0.588994    1.494431    -1.681744  \n",
       "kettle          -0.571143   -4.215352     3.997177  "
      ]
     },
     "execution_count": 163,
     "metadata": {},
     "output_type": "execute_result"
    }
   ],
   "source": [
    "df"
   ]
  },
  {
   "cell_type": "markdown",
   "metadata": {},
   "source": [
    "What about predictions?"
   ]
  },
  {
   "cell_type": "code",
   "execution_count": 215,
   "metadata": {
    "ExecuteTime": {
     "end_time": "2020-03-04T09:38:16.996165Z",
     "start_time": "2020-03-04T09:38:16.977135Z"
    }
   },
   "outputs": [],
   "source": [
    "y_pred = regressor.predict(x_valid)"
   ]
  },
  {
   "cell_type": "code",
   "execution_count": 216,
   "metadata": {
    "ExecuteTime": {
     "end_time": "2020-03-04T09:38:17.590279Z",
     "start_time": "2020-03-04T09:38:17.579911Z"
    }
   },
   "outputs": [],
   "source": [
    "pred = pd.DataFrame(y_pred, columns=train_y.columns)\n",
    "pred[\"time_step\"] = X_train.time_step"
   ]
  },
  {
   "cell_type": "code",
   "execution_count": 218,
   "metadata": {
    "ExecuteTime": {
     "end_time": "2020-03-04T09:38:33.066132Z",
     "start_time": "2020-03-04T09:38:33.046073Z"
    }
   },
   "outputs": [
    {
     "data": {
      "text/html": [
       "<div>\n",
       "<style scoped>\n",
       "    .dataframe tbody tr th:only-of-type {\n",
       "        vertical-align: middle;\n",
       "    }\n",
       "\n",
       "    .dataframe tbody tr th {\n",
       "        vertical-align: top;\n",
       "    }\n",
       "\n",
       "    .dataframe thead th {\n",
       "        text-align: right;\n",
       "    }\n",
       "</style>\n",
       "<table border=\"1\" class=\"dataframe\">\n",
       "  <thead>\n",
       "    <tr style=\"text-align: right;\">\n",
       "      <th></th>\n",
       "      <th>washing_machine</th>\n",
       "      <th>fridge_freezer</th>\n",
       "      <th>TV</th>\n",
       "      <th>kettle</th>\n",
       "      <th>time_step</th>\n",
       "    </tr>\n",
       "  </thead>\n",
       "  <tbody>\n",
       "    <tr>\n",
       "      <th>0</th>\n",
       "      <td>2.550461</td>\n",
       "      <td>54.911142</td>\n",
       "      <td>14.690534</td>\n",
       "      <td>1.159184</td>\n",
       "      <td>2013-03-17 00:01:00</td>\n",
       "    </tr>\n",
       "    <tr>\n",
       "      <th>1</th>\n",
       "      <td>1.026841</td>\n",
       "      <td>47.683656</td>\n",
       "      <td>10.547872</td>\n",
       "      <td>-9.909797</td>\n",
       "      <td>2013-03-17 00:02:00</td>\n",
       "    </tr>\n",
       "    <tr>\n",
       "      <th>2</th>\n",
       "      <td>-1.249715</td>\n",
       "      <td>56.841302</td>\n",
       "      <td>11.970285</td>\n",
       "      <td>-10.760807</td>\n",
       "      <td>2013-03-17 00:03:00</td>\n",
       "    </tr>\n",
       "    <tr>\n",
       "      <th>3</th>\n",
       "      <td>-0.791474</td>\n",
       "      <td>55.932534</td>\n",
       "      <td>8.628718</td>\n",
       "      <td>-8.397066</td>\n",
       "      <td>2013-03-17 00:04:00</td>\n",
       "    </tr>\n",
       "    <tr>\n",
       "      <th>4</th>\n",
       "      <td>-0.653993</td>\n",
       "      <td>42.835660</td>\n",
       "      <td>10.070333</td>\n",
       "      <td>-13.013423</td>\n",
       "      <td>2013-03-17 00:05:00</td>\n",
       "    </tr>\n",
       "  </tbody>\n",
       "</table>\n",
       "</div>"
      ],
      "text/plain": [
       "   washing_machine  fridge_freezer         TV     kettle           time_step\n",
       "0         2.550461       54.911142  14.690534   1.159184 2013-03-17 00:01:00\n",
       "1         1.026841       47.683656  10.547872  -9.909797 2013-03-17 00:02:00\n",
       "2        -1.249715       56.841302  11.970285 -10.760807 2013-03-17 00:03:00\n",
       "3        -0.791474       55.932534   8.628718  -8.397066 2013-03-17 00:04:00\n",
       "4        -0.653993       42.835660  10.070333 -13.013423 2013-03-17 00:05:00"
      ]
     },
     "execution_count": 218,
     "metadata": {},
     "output_type": "execute_result"
    }
   ],
   "source": [
    "pred.head()"
   ]
  },
  {
   "cell_type": "markdown",
   "metadata": {},
   "source": [
    "Metric used on the website:"
   ]
  },
  {
   "cell_type": "code",
   "execution_count": 219,
   "metadata": {
    "ExecuteTime": {
     "end_time": "2020-03-04T09:38:38.313596Z",
     "start_time": "2020-03-04T09:38:38.297063Z"
    }
   },
   "outputs": [],
   "source": [
    "def metric_nilm(dataframe_y_true, dataframe_y_pred):\n",
    "    score = 0.0\n",
    "    test = dataframe_y_true['washing_machine']\n",
    "    pred = dataframe_y_pred['washing_machine']\n",
    "    score += mt.sqrt(sum((pred.values - test.values)**2)/len(test))*5.55\n",
    "    test = dataframe_y_true['fridge_freezer']\n",
    "    pred = dataframe_y_pred['fridge_freezer']\n",
    "    score += mt.sqrt(sum((pred.values - test.values)**2)/len(test))*49.79\n",
    "    test = dataframe_y_true['TV']\n",
    "    pred = dataframe_y_pred['TV']\n",
    "    score += mt.sqrt(sum((pred.values - test.values)**2)/len(test))*14.57\n",
    "    test = dataframe_y_true['kettle']\n",
    "    pred = dataframe_y_pred['kettle']\n",
    "    score += mt.sqrt(sum((pred.values - test.values)**2)/len(test))*4.95\n",
    "    score /= 74.86\n",
    "    return score"
   ]
  },
  {
   "cell_type": "code",
   "execution_count": 220,
   "metadata": {
    "ExecuteTime": {
     "end_time": "2020-03-04T09:38:39.797637Z",
     "start_time": "2020-03-04T09:38:39.681204Z"
    }
   },
   "outputs": [
    {
     "data": {
      "text/plain": [
       "48.126419921731824"
      ]
     },
     "execution_count": 220,
     "metadata": {},
     "output_type": "execute_result"
    }
   ],
   "source": [
    "metric_nilm(y_valid, pred)"
   ]
  },
  {
   "cell_type": "markdown",
   "metadata": {},
   "source": [
    "### Test Submission"
   ]
  },
  {
   "cell_type": "code",
   "execution_count": 180,
   "metadata": {
    "ExecuteTime": {
     "end_time": "2020-03-04T14:33:53.347431Z",
     "start_time": "2020-03-04T14:33:53.173107Z"
    }
   },
   "outputs": [],
   "source": [
    "X_test = pd.read_csv(\n",
    "    'provided_data_and_metric/X_test_c2uBt2s.csv', \n",
    ")\n",
    "X_test.drop('Unnamed: 9', axis = 1, inplace = True)"
   ]
  },
  {
   "cell_type": "markdown",
   "metadata": {},
   "source": [
    "Save time for later"
   ]
  },
  {
   "cell_type": "code",
   "execution_count": 181,
   "metadata": {
    "ExecuteTime": {
     "end_time": "2020-03-04T14:34:13.760586Z",
     "start_time": "2020-03-04T14:34:13.754170Z"
    }
   },
   "outputs": [],
   "source": [
    "time = X_test[\"time_step\"]"
   ]
  },
  {
   "cell_type": "code",
   "execution_count": 182,
   "metadata": {
    "ExecuteTime": {
     "end_time": "2020-03-04T14:34:23.986072Z",
     "start_time": "2020-03-04T14:34:14.846755Z"
    }
   },
   "outputs": [],
   "source": [
    "X_test = di.transform(X=X_test)\n",
    "ag = DataAugmenter()\n",
    "X_test = ag.transform(X=X_test)"
   ]
  },
  {
   "cell_type": "code",
   "execution_count": 183,
   "metadata": {
    "ExecuteTime": {
     "end_time": "2020-03-04T14:34:24.001424Z",
     "start_time": "2020-03-04T14:34:23.987495Z"
    }
   },
   "outputs": [
    {
     "data": {
      "text/html": [
       "<div>\n",
       "<style scoped>\n",
       "    .dataframe tbody tr th:only-of-type {\n",
       "        vertical-align: middle;\n",
       "    }\n",
       "\n",
       "    .dataframe tbody tr th {\n",
       "        vertical-align: top;\n",
       "    }\n",
       "\n",
       "    .dataframe thead th {\n",
       "        text-align: right;\n",
       "    }\n",
       "</style>\n",
       "<table border=\"1\" class=\"dataframe\">\n",
       "  <thead>\n",
       "    <tr style=\"text-align: right;\">\n",
       "      <th></th>\n",
       "      <th>time_step</th>\n",
       "      <th>consumption</th>\n",
       "      <th>visibility</th>\n",
       "      <th>temperature</th>\n",
       "      <th>humidity</th>\n",
       "      <th>humidex</th>\n",
       "      <th>windchill</th>\n",
       "      <th>wind</th>\n",
       "      <th>pressure</th>\n",
       "      <th>weekday</th>\n",
       "      <th>week</th>\n",
       "      <th>month</th>\n",
       "      <th>hour</th>\n",
       "      <th>is_weekend</th>\n",
       "      <th>is_holidays</th>\n",
       "    </tr>\n",
       "  </thead>\n",
       "  <tbody>\n",
       "    <tr>\n",
       "      <th>0</th>\n",
       "      <td>2014-01-01 00:00:00</td>\n",
       "      <td>312.2222</td>\n",
       "      <td>30.00</td>\n",
       "      <td>8.400000</td>\n",
       "      <td>86.000000</td>\n",
       "      <td>8.400000</td>\n",
       "      <td>5.600000</td>\n",
       "      <td>17.0</td>\n",
       "      <td>1016.600</td>\n",
       "      <td>2</td>\n",
       "      <td>1</td>\n",
       "      <td>1</td>\n",
       "      <td>0</td>\n",
       "      <td>0.0</td>\n",
       "      <td>0.0</td>\n",
       "    </tr>\n",
       "    <tr>\n",
       "      <th>1</th>\n",
       "      <td>2014-01-01 00:01:00</td>\n",
       "      <td>318.8750</td>\n",
       "      <td>29.95</td>\n",
       "      <td>8.401667</td>\n",
       "      <td>85.983333</td>\n",
       "      <td>8.401667</td>\n",
       "      <td>5.616667</td>\n",
       "      <td>16.9</td>\n",
       "      <td>1016.615</td>\n",
       "      <td>2</td>\n",
       "      <td>1</td>\n",
       "      <td>1</td>\n",
       "      <td>0</td>\n",
       "      <td>0.0</td>\n",
       "      <td>0.0</td>\n",
       "    </tr>\n",
       "    <tr>\n",
       "      <th>2</th>\n",
       "      <td>2014-01-01 00:02:00</td>\n",
       "      <td>314.3000</td>\n",
       "      <td>29.90</td>\n",
       "      <td>8.403333</td>\n",
       "      <td>85.966667</td>\n",
       "      <td>8.403333</td>\n",
       "      <td>5.633333</td>\n",
       "      <td>16.8</td>\n",
       "      <td>1016.630</td>\n",
       "      <td>2</td>\n",
       "      <td>1</td>\n",
       "      <td>1</td>\n",
       "      <td>0</td>\n",
       "      <td>0.0</td>\n",
       "      <td>0.0</td>\n",
       "    </tr>\n",
       "    <tr>\n",
       "      <th>3</th>\n",
       "      <td>2014-01-01 00:03:00</td>\n",
       "      <td>311.4444</td>\n",
       "      <td>29.85</td>\n",
       "      <td>8.405000</td>\n",
       "      <td>85.950000</td>\n",
       "      <td>8.405000</td>\n",
       "      <td>5.650000</td>\n",
       "      <td>16.7</td>\n",
       "      <td>1016.645</td>\n",
       "      <td>2</td>\n",
       "      <td>1</td>\n",
       "      <td>1</td>\n",
       "      <td>0</td>\n",
       "      <td>0.0</td>\n",
       "      <td>0.0</td>\n",
       "    </tr>\n",
       "    <tr>\n",
       "      <th>4</th>\n",
       "      <td>2014-01-01 00:04:00</td>\n",
       "      <td>310.0000</td>\n",
       "      <td>29.80</td>\n",
       "      <td>8.406667</td>\n",
       "      <td>85.933333</td>\n",
       "      <td>8.406667</td>\n",
       "      <td>5.666667</td>\n",
       "      <td>16.6</td>\n",
       "      <td>1016.660</td>\n",
       "      <td>2</td>\n",
       "      <td>1</td>\n",
       "      <td>1</td>\n",
       "      <td>0</td>\n",
       "      <td>0.0</td>\n",
       "      <td>0.0</td>\n",
       "    </tr>\n",
       "  </tbody>\n",
       "</table>\n",
       "</div>"
      ],
      "text/plain": [
       "            time_step  consumption  visibility  temperature   humidity  \\\n",
       "0 2014-01-01 00:00:00     312.2222       30.00     8.400000  86.000000   \n",
       "1 2014-01-01 00:01:00     318.8750       29.95     8.401667  85.983333   \n",
       "2 2014-01-01 00:02:00     314.3000       29.90     8.403333  85.966667   \n",
       "3 2014-01-01 00:03:00     311.4444       29.85     8.405000  85.950000   \n",
       "4 2014-01-01 00:04:00     310.0000       29.80     8.406667  85.933333   \n",
       "\n",
       "    humidex  windchill  wind  pressure  weekday  week  month  hour  \\\n",
       "0  8.400000   5.600000  17.0  1016.600        2     1      1     0   \n",
       "1  8.401667   5.616667  16.9  1016.615        2     1      1     0   \n",
       "2  8.403333   5.633333  16.8  1016.630        2     1      1     0   \n",
       "3  8.405000   5.650000  16.7  1016.645        2     1      1     0   \n",
       "4  8.406667   5.666667  16.6  1016.660        2     1      1     0   \n",
       "\n",
       "   is_weekend  is_holidays  \n",
       "0         0.0          0.0  \n",
       "1         0.0          0.0  \n",
       "2         0.0          0.0  \n",
       "3         0.0          0.0  \n",
       "4         0.0          0.0  "
      ]
     },
     "execution_count": 183,
     "metadata": {},
     "output_type": "execute_result"
    }
   ],
   "source": [
    "X_test.head()"
   ]
  },
  {
   "cell_type": "code",
   "execution_count": 184,
   "metadata": {
    "ExecuteTime": {
     "end_time": "2020-03-04T14:34:28.381292Z",
     "start_time": "2020-03-04T14:34:28.334477Z"
    }
   },
   "outputs": [],
   "source": [
    "y_pred = regressor.predict(X_test.iloc[:,1:])"
   ]
  },
  {
   "cell_type": "code",
   "execution_count": 188,
   "metadata": {
    "ExecuteTime": {
     "end_time": "2020-03-04T14:38:08.081040Z",
     "start_time": "2020-03-04T14:38:08.061273Z"
    }
   },
   "outputs": [],
   "source": [
    "pred = pd.DataFrame(y_pred, columns=Y_train.columns[1:])\n",
    "pred= pd.concat([time, pred], axis=1)"
   ]
  },
  {
   "cell_type": "code",
   "execution_count": 189,
   "metadata": {
    "ExecuteTime": {
     "end_time": "2020-03-04T14:38:12.952305Z",
     "start_time": "2020-03-04T14:38:12.934749Z"
    }
   },
   "outputs": [
    {
     "data": {
      "text/html": [
       "<div>\n",
       "<style scoped>\n",
       "    .dataframe tbody tr th:only-of-type {\n",
       "        vertical-align: middle;\n",
       "    }\n",
       "\n",
       "    .dataframe tbody tr th {\n",
       "        vertical-align: top;\n",
       "    }\n",
       "\n",
       "    .dataframe thead th {\n",
       "        text-align: right;\n",
       "    }\n",
       "</style>\n",
       "<table border=\"1\" class=\"dataframe\">\n",
       "  <thead>\n",
       "    <tr style=\"text-align: right;\">\n",
       "      <th></th>\n",
       "      <th>time_step</th>\n",
       "      <th>washing_machine</th>\n",
       "      <th>fridge_freezer</th>\n",
       "      <th>TV</th>\n",
       "      <th>kettle</th>\n",
       "    </tr>\n",
       "  </thead>\n",
       "  <tbody>\n",
       "    <tr>\n",
       "      <th>0</th>\n",
       "      <td>2014-01-01T00:00:00.0</td>\n",
       "      <td>4.287796</td>\n",
       "      <td>40.700562</td>\n",
       "      <td>12.330871</td>\n",
       "      <td>9.891409</td>\n",
       "    </tr>\n",
       "    <tr>\n",
       "      <th>1</th>\n",
       "      <td>2014-01-01T00:01:00.0</td>\n",
       "      <td>4.537249</td>\n",
       "      <td>40.824470</td>\n",
       "      <td>12.378098</td>\n",
       "      <td>10.721543</td>\n",
       "    </tr>\n",
       "    <tr>\n",
       "      <th>2</th>\n",
       "      <td>2014-01-01T00:02:00.0</td>\n",
       "      <td>4.403749</td>\n",
       "      <td>40.735877</td>\n",
       "      <td>12.340976</td>\n",
       "      <td>10.159218</td>\n",
       "    </tr>\n",
       "    <tr>\n",
       "      <th>3</th>\n",
       "      <td>2014-01-01T00:03:00.0</td>\n",
       "      <td>4.328893</td>\n",
       "      <td>40.679826</td>\n",
       "      <td>12.316772</td>\n",
       "      <td>9.810132</td>\n",
       "    </tr>\n",
       "    <tr>\n",
       "      <th>4</th>\n",
       "      <td>2014-01-01T00:04:00.0</td>\n",
       "      <td>4.302169</td>\n",
       "      <td>40.650483</td>\n",
       "      <td>12.303168</td>\n",
       "      <td>9.636061</td>\n",
       "    </tr>\n",
       "  </tbody>\n",
       "</table>\n",
       "</div>"
      ],
      "text/plain": [
       "               time_step  washing_machine  fridge_freezer         TV  \\\n",
       "0  2014-01-01T00:00:00.0         4.287796       40.700562  12.330871   \n",
       "1  2014-01-01T00:01:00.0         4.537249       40.824470  12.378098   \n",
       "2  2014-01-01T00:02:00.0         4.403749       40.735877  12.340976   \n",
       "3  2014-01-01T00:03:00.0         4.328893       40.679826  12.316772   \n",
       "4  2014-01-01T00:04:00.0         4.302169       40.650483  12.303168   \n",
       "\n",
       "      kettle  \n",
       "0   9.891409  \n",
       "1  10.721543  \n",
       "2  10.159218  \n",
       "3   9.810132  \n",
       "4   9.636061  "
      ]
     },
     "execution_count": 189,
     "metadata": {},
     "output_type": "execute_result"
    }
   ],
   "source": [
    "pred_t.head()"
   ]
  },
  {
   "cell_type": "code",
   "execution_count": 191,
   "metadata": {
    "ExecuteTime": {
     "end_time": "2020-03-04T14:40:10.946092Z",
     "start_time": "2020-03-04T14:40:09.521939Z"
    }
   },
   "outputs": [],
   "source": [
    "pred.to_csv(\"test_submission.csv\", index=False)"
   ]
  },
  {
   "cell_type": "markdown",
   "metadata": {},
   "source": [
    "## RNN, testing"
   ]
  },
  {
   "cell_type": "code",
   "execution_count": 107,
   "metadata": {
    "ExecuteTime": {
     "end_time": "2020-03-04T10:37:43.618771Z",
     "start_time": "2020-03-04T10:37:43.001887Z"
    }
   },
   "outputs": [],
   "source": [
    "X_train = pd.read_csv(\n",
    "    'provided_data_and_metric/X_train_6GWGSxz.csv',\n",
    ")\n",
    "Y_train = pd.read_csv(\n",
    "    'provided_data_and_metric/y_train_2G60rOL.csv',\n",
    ")\n",
    "X_test = pd.read_csv(\n",
    "    'provided_data_and_metric/X_test_c2uBt2s.csv', \n",
    ")"
   ]
  },
  {
   "cell_type": "code",
   "execution_count": 50,
   "metadata": {
    "ExecuteTime": {
     "end_time": "2020-03-04T10:14:03.708512Z",
     "start_time": "2020-03-04T10:14:03.690375Z"
    }
   },
   "outputs": [],
   "source": [
    "X_train.set_index(\"time_step\", inplace=True)\n",
    "Y_train.set_index(\"time_step\", inplace=True)"
   ]
  },
  {
   "cell_type": "code",
   "execution_count": 51,
   "metadata": {
    "ExecuteTime": {
     "end_time": "2020-03-04T10:14:10.842289Z",
     "start_time": "2020-03-04T10:14:10.617973Z"
    }
   },
   "outputs": [],
   "source": [
    "X_train = X_train.append(X_train.iloc[-1, :])\n",
    "Y_train = Y_train.append(Y_train.iloc[-1, :])"
   ]
  },
  {
   "cell_type": "code",
   "execution_count": 58,
   "metadata": {
    "ExecuteTime": {
     "end_time": "2020-03-04T10:21:01.002756Z",
     "start_time": "2020-03-04T10:21:00.993394Z"
    }
   },
   "outputs": [],
   "source": [
    "class DataImputer(BaseEstimator, TransformerMixin):\n",
    "    \n",
    "    def __init__(self):\n",
    "        self.X = None\n",
    "    \n",
    "    def fit(self, X, y=None):\n",
    "        return X\n",
    "    \n",
    "    def transform(self, X, y=None):\n",
    "        try:\n",
    "            X.drop('Unnamed: 9', axis = 1, inplace = True)\n",
    "        except KeyError as e:\n",
    "            pass\n",
    "        X = X.interpolate(method='linear').fillna(method='bfill')\n",
    "#         X.index = pd.to_datetime(X.index)\n",
    "        return X"
   ]
  },
  {
   "cell_type": "code",
   "execution_count": 108,
   "metadata": {
    "ExecuteTime": {
     "end_time": "2020-03-04T10:37:46.148815Z",
     "start_time": "2020-03-04T10:37:46.141715Z"
    }
   },
   "outputs": [],
   "source": [
    "class YImputer(BaseEstimator, TransformerMixin):\n",
    "    \n",
    "    def __init__(self):\n",
    "        self.X = None\n",
    "    \n",
    "    def fit(self, X, y=None):\n",
    "        return X\n",
    "    \n",
    "    def transform(self, X, y=None):\n",
    "        X = X.interpolate(method='linear').fillna(method='bfill')\n",
    "#         X.index = pd.to_datetime(X.index)\n",
    "        return X"
   ]
  },
  {
   "cell_type": "code",
   "execution_count": 109,
   "metadata": {
    "ExecuteTime": {
     "end_time": "2020-03-04T10:37:47.825385Z",
     "start_time": "2020-03-04T10:37:47.817487Z"
    }
   },
   "outputs": [],
   "source": [
    "class DataAugmenter(BaseEstimator, TransformerMixin):\n",
    "    \n",
    "    def __init__(self):\n",
    "        self.X = None\n",
    "    \n",
    "    def fit(self, X, y=None):\n",
    "        return X\n",
    "    \n",
    "    def transform(self, X, y=None):\n",
    "        X[\"time_step\"] = pd.to_datetime(X[\"time_step\"])\n",
    "        X[\"weekday\"] = X.time_step.dt.dayofweek\n",
    "        X[\"week\"] = X.time_step.dt.week\n",
    "        X[\"month\"] = X.time_step.dt.month\n",
    "        X[\"hour\"] = X.time_step.dt.hour\n",
    "        X[\"is_weekend\"] = np.zeros(X.shape[0])  \n",
    "        X.loc[X[\"weekday\"] > 4, \"is_weekend\"] = 1\n",
    "        X[\"is_holidays\"] = np.zeros(X.shape[0])  \n",
    "        X.loc[X.time_step.dt.date.isin(fr_holidays), \"is_holidays\"] = 1\n",
    "        return X"
   ]
  },
  {
   "cell_type": "code",
   "execution_count": 83,
   "metadata": {
    "ExecuteTime": {
     "end_time": "2020-03-04T10:28:01.671863Z",
     "start_time": "2020-03-04T10:28:01.658957Z"
    },
    "scrolled": true
   },
   "outputs": [],
   "source": [
    "class RNNDataFormatter(BaseEstimator, TransformerMixin):\n",
    "    \n",
    "    def __init__(self):\n",
    "        self.X = None\n",
    "    \n",
    "    def fit(self, X, y=None):\n",
    "        return X\n",
    "    \n",
    "    def transform(self, X, y=None):\n",
    "        X.set_index(\"time_step\", inplace=True)\n",
    "        X = X.append(X.iloc[-1, :])\n",
    "        nb_col = X.shape[1]\n",
    "        return X.values.reshape((int(X_rnn.shape[0]/60), 60, nb_col))"
   ]
  },
  {
   "cell_type": "code",
   "execution_count": 84,
   "metadata": {
    "ExecuteTime": {
     "end_time": "2020-03-04T10:28:03.928883Z",
     "start_time": "2020-03-04T10:28:03.913705Z"
    }
   },
   "outputs": [],
   "source": [
    "p1 = Pipeline([\n",
    "    (\n",
    "        '1',\n",
    "        DataImputer()\n",
    "    ),\n",
    "    (\n",
    "        '2',\n",
    "        DataAugmenter()\n",
    "    ),\n",
    "    (\n",
    "        '3',\n",
    "        RNNDataFormatter()\n",
    "    )\n",
    "])"
   ]
  },
  {
   "cell_type": "code",
   "execution_count": 110,
   "metadata": {
    "ExecuteTime": {
     "end_time": "2020-03-04T10:37:50.576727Z",
     "start_time": "2020-03-04T10:37:50.573276Z"
    }
   },
   "outputs": [],
   "source": [
    "p2 = Pipeline([\n",
    "    (\n",
    "        '1',\n",
    "        YImputer()\n",
    "    ),\n",
    "    (\n",
    "        '2',\n",
    "        RNNDataFormatter()\n",
    "    )\n",
    "])"
   ]
  },
  {
   "cell_type": "code",
   "execution_count": 85,
   "metadata": {
    "ExecuteTime": {
     "end_time": "2020-03-04T10:28:26.923388Z",
     "start_time": "2020-03-04T10:28:09.764694Z"
    }
   },
   "outputs": [],
   "source": [
    "X = p1.transform(X_train)"
   ]
  },
  {
   "cell_type": "code",
   "execution_count": 111,
   "metadata": {
    "ExecuteTime": {
     "end_time": "2020-03-04T10:38:10.717062Z",
     "start_time": "2020-03-04T10:37:53.137908Z"
    }
   },
   "outputs": [],
   "source": [
    "Y = p2.transform(Y_train)"
   ]
  },
  {
   "cell_type": "code",
   "execution_count": 86,
   "metadata": {
    "ExecuteTime": {
     "end_time": "2020-03-04T10:28:38.787281Z",
     "start_time": "2020-03-04T10:28:38.783067Z"
    }
   },
   "outputs": [
    {
     "data": {
      "text/plain": [
       "(6960, 60, 14)"
      ]
     },
     "execution_count": 86,
     "metadata": {},
     "output_type": "execute_result"
    }
   ],
   "source": [
    "X.shape"
   ]
  },
  {
   "cell_type": "code",
   "execution_count": 97,
   "metadata": {
    "ExecuteTime": {
     "end_time": "2020-03-04T10:30:36.640937Z",
     "start_time": "2020-03-04T10:30:36.636723Z"
    }
   },
   "outputs": [
    {
     "data": {
      "text/plain": [
       "(6960, 60, 4)"
      ]
     },
     "execution_count": 97,
     "metadata": {},
     "output_type": "execute_result"
    }
   ],
   "source": [
    "Y.shape"
   ]
  },
  {
   "cell_type": "code",
   "execution_count": 98,
   "metadata": {
    "ExecuteTime": {
     "end_time": "2020-03-04T10:30:36.660339Z",
     "start_time": "2020-03-04T10:30:36.642882Z"
    }
   },
   "outputs": [],
   "source": [
    "x_train, y_train = X[:6000, :], Y[:6000, :, :]\n",
    "x_valid, y_valid = X[6000:, :], Y[6000:, :, :]"
   ]
  },
  {
   "cell_type": "markdown",
   "metadata": {},
   "source": [
    "### Baseline Model"
   ]
  },
  {
   "cell_type": "code",
   "execution_count": 101,
   "metadata": {
    "ExecuteTime": {
     "end_time": "2020-03-04T10:32:47.130689Z",
     "start_time": "2020-03-04T10:32:02.897430Z"
    },
    "scrolled": true
   },
   "outputs": [
    {
     "name": "stdout",
     "output_type": "stream",
     "text": [
      "Train on 6000 samples, validate on 960 samples\n",
      "Epoch 1/10\n",
      "6000/6000 [==============================] - 5s 785us/step - loss: 4632.6749 - val_loss: 7174.6327\n",
      "Epoch 2/10\n",
      "6000/6000 [==============================] - 5s 786us/step - loss: 4624.3077 - val_loss: 7174.1336\n",
      "Epoch 3/10\n",
      "6000/6000 [==============================] - 5s 810us/step - loss: 4624.1049 - val_loss: 7173.9974\n",
      "Epoch 4/10\n",
      "6000/6000 [==============================] - 4s 733us/step - loss: 4624.0397 - val_loss: 7173.9672\n",
      "Epoch 5/10\n",
      "6000/6000 [==============================] - 5s 792us/step - loss: 4624.0103 - val_loss: 7173.9277\n",
      "Epoch 6/10\n",
      "6000/6000 [==============================] - 4s 629us/step - loss: 4623.9801 - val_loss: 7173.8861\n",
      "Epoch 7/10\n",
      "6000/6000 [==============================] - 5s 782us/step - loss: 4623.9694 - val_loss: 7173.8847\n",
      "Epoch 8/10\n",
      "6000/6000 [==============================] - 4s 626us/step - loss: 4623.9550 - val_loss: 7173.8725\n",
      "Epoch 9/10\n",
      "6000/6000 [==============================] - 4s 650us/step - loss: 4623.9451 - val_loss: 7173.8514\n",
      "Epoch 10/10\n",
      "6000/6000 [==============================] - 4s 645us/step - loss: 4623.9415 - val_loss: 7173.8402\n"
     ]
    }
   ],
   "source": [
    "np.random.seed(42)\n",
    "tf.random.set_seed(42)\n",
    "\n",
    "model = Sequential([\n",
    "    SimpleRNN(20, return_sequences=True, input_shape=[None, 14]),\n",
    "    SimpleRNN(20, return_sequences=True),\n",
    "    SimpleRNN(4, return_sequences=True)\n",
    "])\n",
    "\n",
    "model.compile(loss=\"mse\", optimizer=\"adam\")\n",
    "history = model.fit(x_train, y_train, epochs=10,\n",
    "                    validation_data=(x_valid, y_valid))"
   ]
  },
  {
   "cell_type": "code",
   "execution_count": 102,
   "metadata": {
    "ExecuteTime": {
     "end_time": "2020-03-04T10:32:50.861233Z",
     "start_time": "2020-03-04T10:32:50.628887Z"
    }
   },
   "outputs": [
    {
     "data": {
      "image/png": "[encoded data removed]",
      "text/plain": [
       "<Figure size 576x396 with 1 Axes>"
      ]
     },
     "metadata": {},
     "output_type": "display_data"
    }
   ],
   "source": [
    "def plot_learning_curves(loss, val_loss):\n",
    "    plt.plot(np.arange(len(loss)) + 0.5, loss, \"b.-\", label=\"Training loss\")\n",
    "    plt.plot(np.arange(len(val_loss)) + 1, val_loss, \"r.-\", label=\"Validation loss\")\n",
    "    plt.gca().xaxis.set_major_locator(mpl.ticker.MaxNLocator(integer=True))\n",
    "#     plt.axis([1, 20, 0, 0.05])\n",
    "    plt.legend(fontsize=14)\n",
    "    plt.xlabel(\"Epochs\")\n",
    "    plt.ylabel(\"Loss\")\n",
    "    plt.grid(True)\n",
    "\n",
    "plot_learning_curves(history.history[\"loss\"], history.history[\"val_loss\"])\n",
    "plt.show()"
   ]
  },
  {
   "cell_type": "code",
   "execution_count": 104,
   "metadata": {
    "ExecuteTime": {
     "end_time": "2020-03-04T10:32:57.994588Z",
     "start_time": "2020-03-04T10:32:57.685511Z"
    }
   },
   "outputs": [
    {
     "data": {
      "text/plain": [
       "(960, 60, 4)"
      ]
     },
     "execution_count": 104,
     "metadata": {},
     "output_type": "execute_result"
    }
   ],
   "source": [
    "model.predict(x_valid).shape"
   ]
  },
  {
   "cell_type": "markdown",
   "metadata": {},
   "source": [
    "### Improvements"
   ]
  },
  {
   "cell_type": "markdown",
   "metadata": {},
   "source": [
    "**TO-DO** (before running code below):\n",
    "- Add ColumnTransformer, to avoid scaling categorical features.\n",
    "- Add DataAugmenter in the pipeline\n",
    "- Check if RNNDataFormatter still works"
   ]
  },
  {
   "cell_type": "markdown",
   "metadata": {},
   "source": [
    "**Issue**: The RNN returns output from sigmoid, hence between (-1, 1).\n",
    "\n",
    "**Idea**: Normalization"
   ]
  },
  {
   "cell_type": "markdown",
   "metadata": {},
   "source": [
    "Modify RNNDataFormatter to make it work with np.arrays:"
   ]
  },
  {
   "cell_type": "code",
   "execution_count": 108,
   "metadata": {
    "ExecuteTime": {
     "end_time": "2020-03-03T14:33:09.856021Z",
     "start_time": "2020-03-03T14:33:09.844501Z"
    }
   },
   "outputs": [],
   "source": [
    "class RNNDataFormatter(BaseEstimator, TransformerMixin):\n",
    "    \n",
    "    def __init__(self):\n",
    "        self.X = None\n",
    "    \n",
    "    def fit(self, X, y=None):\n",
    "        return X\n",
    "    \n",
    "    def transform(self, X, y=None):\n",
    "        X.set_index(\"time_step\", inplace=True)\n",
    "        X = X.append(X.iloc[-1, :])\n",
    "        nb_col = X.shape[1]\n",
    "        X = X.reshape((int(X.shape[0]/60), 60, nb_col))\n",
    "        return X"
   ]
  },
  {
   "cell_type": "markdown",
   "metadata": {},
   "source": [
    "Fit StandardScaler before, gives error in Pipeline"
   ]
  },
  {
   "cell_type": "code",
   "execution_count": 111,
   "metadata": {
    "ExecuteTime": {
     "end_time": "2020-03-03T14:33:45.583279Z",
     "start_time": "2020-03-03T14:33:45.513847Z"
    }
   },
   "outputs": [
    {
     "data": {
      "text/plain": [
       "StandardScaler(copy=True, with_mean=True, with_std=True)"
      ]
     },
     "execution_count": 111,
     "metadata": {},
     "output_type": "execute_result"
    }
   ],
   "source": [
    "scaler_x = StandardScaler()\n",
    "scaler_x.fit(X_train)"
   ]
  },
  {
   "cell_type": "code",
   "execution_count": 109,
   "metadata": {
    "ExecuteTime": {
     "end_time": "2020-03-03T14:33:34.394968Z",
     "start_time": "2020-03-03T14:33:34.351320Z"
    }
   },
   "outputs": [
    {
     "data": {
      "text/plain": [
       "StandardScaler(copy=True, with_mean=True, with_std=True)"
      ]
     },
     "execution_count": 109,
     "metadata": {},
     "output_type": "execute_result"
    }
   ],
   "source": [
    "scaler_y = StandardScaler()\n",
    "scaler_y.fit(Y_train)"
   ]
  },
  {
   "cell_type": "code",
   "execution_count": 112,
   "metadata": {
    "ExecuteTime": {
     "end_time": "2020-03-03T14:33:46.769288Z",
     "start_time": "2020-03-03T14:33:46.759132Z"
    }
   },
   "outputs": [],
   "source": [
    "p1 = Pipeline([\n",
    "        (\n",
    "        '1',\n",
    "        DataImputer()\n",
    "    ),\n",
    "    (\n",
    "        '2',\n",
    "        scaler_x\n",
    "    ),\n",
    "    (\n",
    "        '3',\n",
    "        RNNDataFormatter()\n",
    "    )\n",
    "])"
   ]
  },
  {
   "cell_type": "code",
   "execution_count": 113,
   "metadata": {
    "ExecuteTime": {
     "end_time": "2020-03-03T14:34:16.611326Z",
     "start_time": "2020-03-03T14:34:16.600791Z"
    }
   },
   "outputs": [],
   "source": [
    "p2 = Pipeline([\n",
    "    (\n",
    "        '1',\n",
    "        YImputer()\n",
    "    ),\n",
    "    (\n",
    "        '2',\n",
    "        scaler_y\n",
    "    ),\n",
    "    (\n",
    "        '3',\n",
    "        RNNDataFormatter()\n",
    "    )\n",
    "])"
   ]
  },
  {
   "cell_type": "code",
   "execution_count": 114,
   "metadata": {
    "ExecuteTime": {
     "end_time": "2020-03-03T14:34:33.026707Z",
     "start_time": "2020-03-03T14:34:32.353931Z"
    }
   },
   "outputs": [],
   "source": [
    "x_scaled = p1.transform(X_train)\n",
    "y_scaled = p2.transform(Y_train)"
   ]
  },
  {
   "cell_type": "code",
   "execution_count": 115,
   "metadata": {
    "ExecuteTime": {
     "end_time": "2020-03-03T14:35:40.610552Z",
     "start_time": "2020-03-03T14:35:40.600826Z"
    }
   },
   "outputs": [
    {
     "name": "stdout",
     "output_type": "stream",
     "text": [
      "x_scaled shape is (6960, 60, 8)\n",
      "y_scaled shape is (6960, 60, 4)\n"
     ]
    }
   ],
   "source": [
    "print(f\"x_scaled shape is {x_scaled.shape}\")\n",
    "print(f\"y_scaled shape is {y_scaled.shape}\")"
   ]
  },
  {
   "cell_type": "code",
   "execution_count": 121,
   "metadata": {
    "ExecuteTime": {
     "end_time": "2020-03-03T14:37:45.963830Z",
     "start_time": "2020-03-03T14:37:45.960235Z"
    }
   },
   "outputs": [],
   "source": [
    "x_train, y_train = x_scaled[:6000, :], y_scaled[:6000, :, :]\n",
    "x_valid, y_valid = x_scaled[6000:, :], y_scaled[6000:, :, :]"
   ]
  },
  {
   "cell_type": "code",
   "execution_count": 122,
   "metadata": {
    "ExecuteTime": {
     "end_time": "2020-03-03T14:38:57.308099Z",
     "start_time": "2020-03-03T14:37:47.109953Z"
    }
   },
   "outputs": [
    {
     "name": "stdout",
     "output_type": "stream",
     "text": [
      "Train on 6000 samples, validate on 960 samples\n",
      "Epoch 1/20\n",
      "6000/6000 [==============================] - 4s 667us/step - loss: 1.0509 - val_loss: 1.1132\n",
      "Epoch 2/20\n",
      "6000/6000 [==============================] - 3s 563us/step - loss: 0.9354 - val_loss: 1.0808\n",
      "Epoch 3/20\n",
      "6000/6000 [==============================] - 3s 551us/step - loss: 0.9145 - val_loss: 1.0765\n",
      "Epoch 4/20\n",
      "6000/6000 [==============================] - 3s 559us/step - loss: 0.9036 - val_loss: 1.0752\n",
      "Epoch 5/20\n",
      "6000/6000 [==============================] - 3s 556us/step - loss: 0.8989 - val_loss: 1.0753\n",
      "Epoch 6/20\n",
      "6000/6000 [==============================] - 3s 558us/step - loss: 0.8942 - val_loss: 1.0747\n",
      "Epoch 7/20\n",
      "6000/6000 [==============================] - 3s 553us/step - loss: 0.8909 - val_loss: 1.0743\n",
      "Epoch 8/20\n",
      "6000/6000 [==============================] - 3s 565us/step - loss: 0.8874 - val_loss: 1.0733\n",
      "Epoch 9/20\n",
      "6000/6000 [==============================] - 3s 556us/step - loss: 0.8848 - val_loss: 1.0612\n",
      "Epoch 10/20\n",
      "6000/6000 [==============================] - 3s 558us/step - loss: 0.8830 - val_loss: 1.0690\n",
      "Epoch 11/20\n",
      "6000/6000 [==============================] - 3s 557us/step - loss: 0.8798 - val_loss: 1.0552\n",
      "Epoch 12/20\n",
      "6000/6000 [==============================] - 3s 563us/step - loss: 0.8785 - val_loss: 1.0588\n",
      "Epoch 13/20\n",
      "6000/6000 [==============================] - 3s 561us/step - loss: 0.8772 - val_loss: 1.0581\n",
      "Epoch 14/20\n",
      "6000/6000 [==============================] - 3s 561us/step - loss: 0.8741 - val_loss: 1.0635\n",
      "Epoch 15/20\n",
      "6000/6000 [==============================] - 3s 555us/step - loss: 0.8749 - val_loss: 1.0613\n",
      "Epoch 16/20\n",
      "6000/6000 [==============================] - 3s 558us/step - loss: 0.8735 - val_loss: 1.0652\n",
      "Epoch 17/20\n",
      "6000/6000 [==============================] - 3s 578us/step - loss: 0.8718 - val_loss: 1.0603\n",
      "Epoch 18/20\n",
      "6000/6000 [==============================] - 3s 548us/step - loss: 0.8702 - val_loss: 1.0658\n",
      "Epoch 19/20\n",
      "6000/6000 [==============================] - 4s 702us/step - loss: 0.8723 - val_loss: 1.0524\n",
      "Epoch 20/20\n",
      "6000/6000 [==============================] - 4s 698us/step - loss: 0.8745 - val_loss: 1.0664\n"
     ]
    }
   ],
   "source": [
    "np.random.seed(42)\n",
    "tf.random.set_seed(42)\n",
    "\n",
    "model = Sequential([\n",
    "    SimpleRNN(20, return_sequences=True, input_shape=[None, 8]),\n",
    "    SimpleRNN(20, return_sequences=True),\n",
    "    SimpleRNN(4, return_sequences=True)\n",
    "])\n",
    "\n",
    "model.compile(loss=\"mse\", optimizer=\"adam\")\n",
    "history = model.fit(x_train, y_train, epochs=20,\n",
    "                    validation_data=(x_valid, y_valid))"
   ]
  },
  {
   "cell_type": "code",
   "execution_count": 131,
   "metadata": {
    "ExecuteTime": {
     "end_time": "2020-03-03T14:46:42.819394Z",
     "start_time": "2020-03-03T14:46:42.048442Z"
    }
   },
   "outputs": [],
   "source": [
    "y_pred = model.predict(x_train)"
   ]
  },
  {
   "cell_type": "code",
   "execution_count": 137,
   "metadata": {
    "ExecuteTime": {
     "end_time": "2020-03-03T14:47:50.239788Z",
     "start_time": "2020-03-03T14:47:50.206433Z"
    }
   },
   "outputs": [],
   "source": [
    "y_pred = scaler_y.inverse_transform(y_pred.reshape(-1, 4)) #shape is now (360000, 4)"
   ]
  },
  {
   "cell_type": "code",
   "execution_count": 146,
   "metadata": {
    "ExecuteTime": {
     "end_time": "2020-03-03T14:50:41.711753Z",
     "start_time": "2020-03-03T14:50:41.677496Z"
    }
   },
   "outputs": [
    {
     "data": {
      "text/plain": [
       "3657.4934961083286"
      ]
     },
     "execution_count": 146,
     "metadata": {},
     "output_type": "execute_result"
    }
   ],
   "source": [
    "mean_squared_error(y_trans.iloc[:360000, :], y_pred)"
   ]
  },
  {
   "cell_type": "code",
   "execution_count": 150,
   "metadata": {
    "ExecuteTime": {
     "end_time": "2020-03-03T14:51:19.761627Z",
     "start_time": "2020-03-03T14:51:19.741808Z"
    }
   },
   "outputs": [
    {
     "data": {
      "text/html": [
       "<div>\n",
       "<style scoped>\n",
       "    .dataframe tbody tr th:only-of-type {\n",
       "        vertical-align: middle;\n",
       "    }\n",
       "\n",
       "    .dataframe tbody tr th {\n",
       "        vertical-align: top;\n",
       "    }\n",
       "\n",
       "    .dataframe thead th {\n",
       "        text-align: right;\n",
       "    }\n",
       "</style>\n",
       "<table border=\"1\" class=\"dataframe\">\n",
       "  <thead>\n",
       "    <tr style=\"text-align: right;\">\n",
       "      <th></th>\n",
       "      <th>washing_machine</th>\n",
       "      <th>fridge_freezer</th>\n",
       "      <th>TV</th>\n",
       "      <th>kettle</th>\n",
       "    </tr>\n",
       "    <tr>\n",
       "      <th>time_step</th>\n",
       "      <th></th>\n",
       "      <th></th>\n",
       "      <th></th>\n",
       "      <th></th>\n",
       "    </tr>\n",
       "  </thead>\n",
       "  <tbody>\n",
       "    <tr>\n",
       "      <th>2013-03-17 00:01:00</th>\n",
       "      <td>0.0</td>\n",
       "      <td>79.2000</td>\n",
       "      <td>7.0</td>\n",
       "      <td>0.0</td>\n",
       "    </tr>\n",
       "    <tr>\n",
       "      <th>2013-03-17 00:02:00</th>\n",
       "      <td>0.0</td>\n",
       "      <td>78.0000</td>\n",
       "      <td>7.0</td>\n",
       "      <td>0.0</td>\n",
       "    </tr>\n",
       "    <tr>\n",
       "      <th>2013-03-17 00:03:00</th>\n",
       "      <td>0.0</td>\n",
       "      <td>76.9000</td>\n",
       "      <td>7.0</td>\n",
       "      <td>0.0</td>\n",
       "    </tr>\n",
       "    <tr>\n",
       "      <th>2013-03-17 00:04:00</th>\n",
       "      <td>0.0</td>\n",
       "      <td>76.1111</td>\n",
       "      <td>7.0</td>\n",
       "      <td>0.0</td>\n",
       "    </tr>\n",
       "    <tr>\n",
       "      <th>2013-03-17 00:05:00</th>\n",
       "      <td>0.0</td>\n",
       "      <td>75.2727</td>\n",
       "      <td>7.0</td>\n",
       "      <td>0.0</td>\n",
       "    </tr>\n",
       "  </tbody>\n",
       "</table>\n",
       "</div>"
      ],
      "text/plain": [
       "                     washing_machine  fridge_freezer   TV  kettle\n",
       "time_step                                                        \n",
       "2013-03-17 00:01:00              0.0         79.2000  7.0     0.0\n",
       "2013-03-17 00:02:00              0.0         78.0000  7.0     0.0\n",
       "2013-03-17 00:03:00              0.0         76.9000  7.0     0.0\n",
       "2013-03-17 00:04:00              0.0         76.1111  7.0     0.0\n",
       "2013-03-17 00:05:00              0.0         75.2727  7.0     0.0"
      ]
     },
     "execution_count": 150,
     "metadata": {},
     "output_type": "execute_result"
    }
   ],
   "source": [
    "y_trans.head()"
   ]
  },
  {
   "cell_type": "code",
   "execution_count": 149,
   "metadata": {
    "ExecuteTime": {
     "end_time": "2020-03-03T14:51:14.864242Z",
     "start_time": "2020-03-03T14:51:14.850871Z"
    }
   },
   "outputs": [
    {
     "data": {
      "text/plain": [
       "array([[26.523247  , 61.06809   , 23.307926  , 27.156101  ],\n",
       "       [23.64833   , 62.587288  , 22.924911  , 14.299338  ],\n",
       "       [ 9.996213  , 64.81369   , 20.986378  , -5.4952693 ],\n",
       "       [17.948616  , 62.94709   , 20.563185  ,  0.09354291],\n",
       "       [21.558722  , 64.6189    , 19.27715   ,  5.711498  ]],\n",
       "      dtype=float32)"
      ]
     },
     "execution_count": 149,
     "metadata": {},
     "output_type": "execute_result"
    }
   ],
   "source": [
    "y_pred[:5, :]"
   ]
  }
 ],
 "metadata": {
  "jupytext": {
   "formats": "ipynb,md"
  },
  "kernelspec": {
   "display_name": ".venv",
   "language": "python",
   "name": ".venv"
  },
  "language_info": {
   "codemirror_mode": {
    "name": "ipython",
    "version": 3
   },
   "file_extension": ".py",
   "mimetype": "text/x-python",
   "name": "python",
   "nbconvert_exporter": "python",
   "pygments_lexer": "ipython3",
   "version": "3.7.0"
  },
  "toc": {
   "base_numbering": 1,
   "nav_menu": {},
   "number_sections": true,
   "sideBar": true,
   "skip_h1_title": true,
   "title_cell": "Table of Contents",
   "title_sidebar": "Contents",
   "toc_cell": false,
   "toc_position": {
    "height": "calc(100% - 180px)",
    "left": "10px",
    "top": "150px",
    "width": "284.661px"
   },
   "toc_section_display": true,
   "toc_window_display": true
  }
 },
 "nbformat": 4,
 "nbformat_minor": 2
}
