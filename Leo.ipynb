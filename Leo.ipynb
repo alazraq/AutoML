{
 "cells": [
  {
   "cell_type": "markdown",
   "metadata": {},
   "source": [
    "# Data Challenge: Smart meter is coming\n",
    "by BCM Energy - Planète OUI"
   ]
  },
  {
   "cell_type": "code",
   "execution_count": 1,
   "metadata": {
    "ExecuteTime": {
     "end_time": "2020-02-26T10:57:42.043266Z",
     "start_time": "2020-02-26T10:57:39.741457Z"
    }
   },
   "outputs": [
    {
     "name": "stderr",
     "output_type": "stream",
     "text": [
      "/home/leonardo/Documents/University/X/Courses/MAP541/AutoML/venv/lib/python3.7/site-packages/pandas/compat/__init__.py:85: UserWarning: Could not import the lzma module. Your installed Python is incomplete. Attempting to use lzma compression will result in a RuntimeError.\n",
      "  warnings.warn(msg)\n",
      "/home/leonardo/Documents/University/X/Courses/MAP541/AutoML/venv/lib/python3.7/site-packages/pandas/compat/__init__.py:85: UserWarning: Could not import the lzma module. Your installed Python is incomplete. Attempting to use lzma compression will result in a RuntimeError.\n",
      "  warnings.warn(msg)\n",
      "Using TensorFlow backend.\n"
     ]
    }
   ],
   "source": [
    "import pandas as pd\n",
    "import pandas_profiling\n",
    "import numpy as np\n",
    "import matplotlib.pyplot as plt\n",
    "import matplotlib as mpl\n",
    "\n",
    "import tensorflow as tf\n",
    "import keras\n",
    "from keras.layers import LSTM, Dense, Flatten, Dropout, Activation, SimpleRNN\n",
    "from keras.models import Sequential\n",
    "\n",
    "from sklearn.base import BaseEstimator, TransformerMixin\n",
    "from sklearn.pipeline import Pipeline\n",
    "from sklearn.preprocessing import StandardScaler\n",
    "\n",
    "import datetime"
   ]
  },
  {
   "cell_type": "code",
   "execution_count": 2,
   "metadata": {
    "ExecuteTime": {
     "end_time": "2020-02-26T10:57:42.887556Z",
     "start_time": "2020-02-26T10:57:42.044971Z"
    }
   },
   "outputs": [],
   "source": [
    "X_train = pd.read_csv(\n",
    "    'provided_data_and_metric/X_train_6GWGSxz.csv',\n",
    "     index_col=0\n",
    ")\n",
    "Y_train = pd.read_csv(\n",
    "    'provided_data_and_metric/y_train_2G60rOL.csv',\n",
    "     index_col=0 \n",
    ")\n",
    "X_test = pd.read_csv(\n",
    "    'provided_data_and_metric/X_test_c2uBt2s.csv', \n",
    "     index_col=0 \n",
    ")"
   ]
  },
  {
   "cell_type": "markdown",
   "metadata": {},
   "source": [
    "## Data Exploration"
   ]
  },
  {
   "cell_type": "code",
   "execution_count": 3,
   "metadata": {
    "ExecuteTime": {
     "end_time": "2020-02-26T10:57:42.901880Z",
     "start_time": "2020-02-26T10:57:42.889158Z"
    }
   },
   "outputs": [
    {
     "data": {
      "text/html": [
       "<div>\n",
       "<style scoped>\n",
       "    .dataframe tbody tr th:only-of-type {\n",
       "        vertical-align: middle;\n",
       "    }\n",
       "\n",
       "    .dataframe tbody tr th {\n",
       "        vertical-align: top;\n",
       "    }\n",
       "\n",
       "    .dataframe thead th {\n",
       "        text-align: right;\n",
       "    }\n",
       "</style>\n",
       "<table border=\"1\" class=\"dataframe\">\n",
       "  <thead>\n",
       "    <tr style=\"text-align: right;\">\n",
       "      <th></th>\n",
       "      <th>consumption</th>\n",
       "      <th>visibility</th>\n",
       "      <th>temperature</th>\n",
       "      <th>humidity</th>\n",
       "      <th>humidex</th>\n",
       "      <th>windchill</th>\n",
       "      <th>wind</th>\n",
       "      <th>pressure</th>\n",
       "      <th>Unnamed: 9</th>\n",
       "    </tr>\n",
       "    <tr>\n",
       "      <th>time_step</th>\n",
       "      <th></th>\n",
       "      <th></th>\n",
       "      <th></th>\n",
       "      <th></th>\n",
       "      <th></th>\n",
       "      <th></th>\n",
       "      <th></th>\n",
       "      <th></th>\n",
       "      <th></th>\n",
       "    </tr>\n",
       "  </thead>\n",
       "  <tbody>\n",
       "    <tr>\n",
       "      <th>2013-03-17T00:01:00.0</th>\n",
       "      <td>550.4000</td>\n",
       "      <td>NaN</td>\n",
       "      <td>NaN</td>\n",
       "      <td>NaN</td>\n",
       "      <td>NaN</td>\n",
       "      <td>NaN</td>\n",
       "      <td>NaN</td>\n",
       "      <td>NaN</td>\n",
       "      <td>NaN</td>\n",
       "    </tr>\n",
       "    <tr>\n",
       "      <th>2013-03-17T00:02:00.0</th>\n",
       "      <td>548.6000</td>\n",
       "      <td>NaN</td>\n",
       "      <td>NaN</td>\n",
       "      <td>NaN</td>\n",
       "      <td>NaN</td>\n",
       "      <td>NaN</td>\n",
       "      <td>NaN</td>\n",
       "      <td>NaN</td>\n",
       "      <td>NaN</td>\n",
       "    </tr>\n",
       "    <tr>\n",
       "      <th>2013-03-17T00:03:00.0</th>\n",
       "      <td>549.3000</td>\n",
       "      <td>NaN</td>\n",
       "      <td>NaN</td>\n",
       "      <td>NaN</td>\n",
       "      <td>NaN</td>\n",
       "      <td>NaN</td>\n",
       "      <td>NaN</td>\n",
       "      <td>NaN</td>\n",
       "      <td>NaN</td>\n",
       "    </tr>\n",
       "    <tr>\n",
       "      <th>2013-03-17T00:04:00.0</th>\n",
       "      <td>549.3667</td>\n",
       "      <td>NaN</td>\n",
       "      <td>NaN</td>\n",
       "      <td>NaN</td>\n",
       "      <td>NaN</td>\n",
       "      <td>NaN</td>\n",
       "      <td>NaN</td>\n",
       "      <td>NaN</td>\n",
       "      <td>NaN</td>\n",
       "    </tr>\n",
       "    <tr>\n",
       "      <th>2013-03-17T00:05:00.0</th>\n",
       "      <td>548.8909</td>\n",
       "      <td>NaN</td>\n",
       "      <td>NaN</td>\n",
       "      <td>NaN</td>\n",
       "      <td>NaN</td>\n",
       "      <td>NaN</td>\n",
       "      <td>NaN</td>\n",
       "      <td>NaN</td>\n",
       "      <td>NaN</td>\n",
       "    </tr>\n",
       "  </tbody>\n",
       "</table>\n",
       "</div>"
      ],
      "text/plain": [
       "                       consumption  visibility  temperature  humidity  \\\n",
       "time_step                                                               \n",
       "2013-03-17T00:01:00.0     550.4000         NaN          NaN       NaN   \n",
       "2013-03-17T00:02:00.0     548.6000         NaN          NaN       NaN   \n",
       "2013-03-17T00:03:00.0     549.3000         NaN          NaN       NaN   \n",
       "2013-03-17T00:04:00.0     549.3667         NaN          NaN       NaN   \n",
       "2013-03-17T00:05:00.0     548.8909         NaN          NaN       NaN   \n",
       "\n",
       "                       humidex  windchill  wind  pressure  Unnamed: 9  \n",
       "time_step                                                              \n",
       "2013-03-17T00:01:00.0      NaN        NaN   NaN       NaN         NaN  \n",
       "2013-03-17T00:02:00.0      NaN        NaN   NaN       NaN         NaN  \n",
       "2013-03-17T00:03:00.0      NaN        NaN   NaN       NaN         NaN  \n",
       "2013-03-17T00:04:00.0      NaN        NaN   NaN       NaN         NaN  \n",
       "2013-03-17T00:05:00.0      NaN        NaN   NaN       NaN         NaN  "
      ]
     },
     "execution_count": 3,
     "metadata": {},
     "output_type": "execute_result"
    }
   ],
   "source": [
    "X_train.head()"
   ]
  },
  {
   "cell_type": "code",
   "execution_count": 4,
   "metadata": {
    "ExecuteTime": {
     "end_time": "2020-02-26T10:57:42.924010Z",
     "start_time": "2020-02-26T10:57:42.903950Z"
    }
   },
   "outputs": [],
   "source": [
    "X_train.drop(\"Unnamed: 9\", axis=1, inplace=True)\n",
    "X_test.drop(\"Unnamed: 9\", axis=1, inplace=True)"
   ]
  },
  {
   "cell_type": "code",
   "execution_count": 5,
   "metadata": {
    "ExecuteTime": {
     "end_time": "2020-02-26T10:57:42.930905Z",
     "start_time": "2020-02-26T10:57:42.925334Z"
    }
   },
   "outputs": [
    {
     "name": "stdout",
     "output_type": "stream",
     "text": [
      "(417599, 8)\n",
      "(417599, 4)\n",
      "(226081, 8)\n"
     ]
    }
   ],
   "source": [
    "print(X_train.shape)\n",
    "print(Y_train.shape)\n",
    "print(X_test.shape)"
   ]
  },
  {
   "cell_type": "markdown",
   "metadata": {},
   "source": [
    "**Analysing na**"
   ]
  },
  {
   "cell_type": "code",
   "execution_count": 6,
   "metadata": {
    "ExecuteTime": {
     "end_time": "2020-02-26T10:57:42.947887Z",
     "start_time": "2020-02-26T10:57:42.932169Z"
    }
   },
   "outputs": [
    {
     "data": {
      "text/plain": [
       "washing_machine    10231\n",
       "fridge_freezer     10231\n",
       "TV                 10231\n",
       "kettle             10231\n",
       "dtype: int64"
      ]
     },
     "execution_count": 6,
     "metadata": {},
     "output_type": "execute_result"
    }
   ],
   "source": [
    "Y_train.isna().sum()"
   ]
  },
  {
   "cell_type": "code",
   "execution_count": 7,
   "metadata": {
    "ExecuteTime": {
     "end_time": "2020-02-26T10:57:42.972379Z",
     "start_time": "2020-02-26T10:57:42.951056Z"
    }
   },
   "outputs": [
    {
     "data": {
      "text/plain": [
       "consumption     10231\n",
       "visibility     410663\n",
       "temperature    410652\n",
       "humidity       410663\n",
       "humidex        410663\n",
       "windchill      410671\n",
       "wind           410663\n",
       "pressure       410667\n",
       "dtype: int64"
      ]
     },
     "execution_count": 7,
     "metadata": {},
     "output_type": "execute_result"
    }
   ],
   "source": [
    "X_train.isna().sum()"
   ]
  },
  {
   "cell_type": "markdown",
   "metadata": {},
   "source": [
    "Check if na values in global consumption reflect na values in the single appliances:"
   ]
  },
  {
   "cell_type": "code",
   "execution_count": 8,
   "metadata": {
    "ExecuteTime": {
     "end_time": "2020-02-26T10:57:43.114533Z",
     "start_time": "2020-02-26T10:57:42.977982Z"
    }
   },
   "outputs": [
    {
     "name": "stdout",
     "output_type": "stream",
     "text": [
      "417599\n",
      "417599\n",
      "417599\n",
      "417599\n"
     ]
    }
   ],
   "source": [
    "print((Y_train[\"washing_machine\"].isna() == X_train[\"consumption\"].isna()).sum())\n",
    "print((Y_train[\"fridge_freezer\"].isna() == X_train[\"consumption\"].isna()).sum())\n",
    "print((Y_train[\"TV\"].isna() == X_train[\"consumption\"].isna()).sum())\n",
    "print((Y_train[\"kettle\"].isna() == X_train[\"consumption\"].isna()).sum())"
   ]
  },
  {
   "cell_type": "markdown",
   "metadata": {},
   "source": [
    "For now, keep NAs, useful for RNN."
   ]
  },
  {
   "cell_type": "code",
   "execution_count": 9,
   "metadata": {
    "ExecuteTime": {
     "end_time": "2020-02-26T10:57:43.125386Z",
     "start_time": "2020-02-26T10:57:43.116435Z"
    }
   },
   "outputs": [
    {
     "data": {
      "text/plain": [
       "washing_machine    0.0245\n",
       "fridge_freezer     0.0245\n",
       "TV                 0.0245\n",
       "kettle             0.0245\n",
       "dtype: float64"
      ]
     },
     "execution_count": 9,
     "metadata": {},
     "output_type": "execute_result"
    }
   ],
   "source": [
    "Y_train.isna().sum() / X_train.shape[0]"
   ]
  },
  {
   "cell_type": "markdown",
   "metadata": {},
   "source": [
    "### Dealing with NA"
   ]
  },
  {
   "cell_type": "code",
   "execution_count": 10,
   "metadata": {
    "ExecuteTime": {
     "end_time": "2020-02-26T10:57:43.130911Z",
     "start_time": "2020-02-26T10:57:43.126903Z"
    }
   },
   "outputs": [],
   "source": [
    "class DataImputer(BaseEstimator, TransformerMixin):\n",
    "    \n",
    "    def __init__(self):\n",
    "        pass\n",
    "    \n",
    "    def fit(self, X, y=None):\n",
    "        return X\n",
    "    \n",
    "    def transform(self, X, y=None):\n",
    "        X = X.interpolate(method='linear').fillna(method='bfill')\n",
    "        X.index = pd.to_datetime(X.index)\n",
    "        return X"
   ]
  },
  {
   "cell_type": "code",
   "execution_count": 11,
   "metadata": {
    "ExecuteTime": {
     "end_time": "2020-02-26T10:57:43.140486Z",
     "start_time": "2020-02-26T10:57:43.132381Z"
    }
   },
   "outputs": [],
   "source": [
    "class YImputer(BaseEstimator, TransformerMixin):\n",
    "    \n",
    "    def __init__(self):\n",
    "        pass\n",
    "    \n",
    "    def fit(self, X, y=None):\n",
    "        return X\n",
    "    \n",
    "    def transform(self, X, y=None):\n",
    "        X = X.interpolate(method='linear').fillna(method='bfill')\n",
    "        X.index = pd.to_datetime(X.index)\n",
    "        return X"
   ]
  },
  {
   "cell_type": "code",
   "execution_count": 12,
   "metadata": {
    "ExecuteTime": {
     "end_time": "2020-02-26T10:57:43.974593Z",
     "start_time": "2020-02-26T10:57:43.143144Z"
    }
   },
   "outputs": [],
   "source": [
    "di = DataImputer()\n",
    "yi = YImputer()\n",
    "x_trans = di.transform(X=X_train)\n",
    "y_trans = yi.transform(X=Y_train)"
   ]
  },
  {
   "cell_type": "markdown",
   "metadata": {},
   "source": [
    "Check that there are no more NaN after transformation:"
   ]
  },
  {
   "cell_type": "code",
   "execution_count": 13,
   "metadata": {
    "ExecuteTime": {
     "end_time": "2020-02-26T10:57:43.987393Z",
     "start_time": "2020-02-26T10:57:43.976885Z"
    }
   },
   "outputs": [
    {
     "data": {
      "text/plain": [
       "consumption    0\n",
       "visibility     0\n",
       "temperature    0\n",
       "humidity       0\n",
       "humidex        0\n",
       "windchill      0\n",
       "wind           0\n",
       "pressure       0\n",
       "dtype: int64"
      ]
     },
     "execution_count": 13,
     "metadata": {},
     "output_type": "execute_result"
    }
   ],
   "source": [
    "x_trans.isna().sum()"
   ]
  },
  {
   "cell_type": "markdown",
   "metadata": {},
   "source": [
    "## Prediction"
   ]
  },
  {
   "cell_type": "code",
   "execution_count": 14,
   "metadata": {
    "ExecuteTime": {
     "end_time": "2020-02-26T10:57:44.339844Z",
     "start_time": "2020-02-26T10:57:43.991247Z"
    }
   },
   "outputs": [],
   "source": [
    "X_train = X_train.append(X_train.iloc[-1, :])\n",
    "Y_train = Y_train.append(Y_train.iloc[-1, :])"
   ]
  },
  {
   "cell_type": "code",
   "execution_count": 15,
   "metadata": {
    "ExecuteTime": {
     "end_time": "2020-02-26T10:57:44.346566Z",
     "start_time": "2020-02-26T10:57:44.341460Z"
    },
    "scrolled": true
   },
   "outputs": [],
   "source": [
    "class RNNDataFormatter(BaseEstimator, TransformerMixin):\n",
    "    \n",
    "    def __init__(self):\n",
    "        pass\n",
    "    \n",
    "    def fit(self, X, y=None):\n",
    "        return X\n",
    "    \n",
    "    def transform(self, X, y=None):\n",
    "#         print(X.shape)\n",
    "        nb_col = X.shape[1]\n",
    "#         print(nb_col)\n",
    "        X_rnn = X[X.columns[:nb_col]]\n",
    "        X_rnn = X_rnn.values.reshape((int(X_rnn.shape[0]/60), 60, nb_col))\n",
    "        return X_rnn"
   ]
  },
  {
   "cell_type": "code",
   "execution_count": 16,
   "metadata": {
    "ExecuteTime": {
     "end_time": "2020-02-26T10:57:44.358608Z",
     "start_time": "2020-02-26T10:57:44.348267Z"
    }
   },
   "outputs": [],
   "source": [
    "p1 = Pipeline([\n",
    "    (\n",
    "        '1',\n",
    "        DataImputer()\n",
    "    ),\n",
    "    (\n",
    "        '2',\n",
    "        RNNDataFormatter()\n",
    "    )\n",
    "])"
   ]
  },
  {
   "cell_type": "code",
   "execution_count": 17,
   "metadata": {
    "ExecuteTime": {
     "end_time": "2020-02-26T10:57:44.366709Z",
     "start_time": "2020-02-26T10:57:44.361669Z"
    }
   },
   "outputs": [],
   "source": [
    "p2 = Pipeline([\n",
    "    (\n",
    "        '1',\n",
    "        YImputer()\n",
    "    ),\n",
    "    (\n",
    "        '2',\n",
    "        RNNDataFormatter()\n",
    "    )\n",
    "])"
   ]
  },
  {
   "cell_type": "code",
   "execution_count": 18,
   "metadata": {
    "ExecuteTime": {
     "end_time": "2020-02-26T10:57:44.972996Z",
     "start_time": "2020-02-26T10:57:44.368889Z"
    }
   },
   "outputs": [],
   "source": [
    "X = p1.transform(X_train)"
   ]
  },
  {
   "cell_type": "code",
   "execution_count": 19,
   "metadata": {
    "ExecuteTime": {
     "end_time": "2020-02-26T10:57:45.090177Z",
     "start_time": "2020-02-26T10:57:44.977756Z"
    }
   },
   "outputs": [],
   "source": [
    "Y = p2.transform(Y_train)"
   ]
  },
  {
   "cell_type": "code",
   "execution_count": 20,
   "metadata": {
    "ExecuteTime": {
     "end_time": "2020-02-26T10:57:45.094081Z",
     "start_time": "2020-02-26T10:57:45.091363Z"
    }
   },
   "outputs": [
    {
     "data": {
      "text/plain": [
       "(6960, 60, 8)"
      ]
     },
     "execution_count": 20,
     "metadata": {},
     "output_type": "execute_result"
    }
   ],
   "source": [
    "X.shape"
   ]
  },
  {
   "cell_type": "code",
   "execution_count": 21,
   "metadata": {
    "ExecuteTime": {
     "end_time": "2020-02-26T10:57:45.103258Z",
     "start_time": "2020-02-26T10:57:45.095930Z"
    }
   },
   "outputs": [
    {
     "data": {
      "text/plain": [
       "(6960, 60, 4)"
      ]
     },
     "execution_count": 21,
     "metadata": {},
     "output_type": "execute_result"
    }
   ],
   "source": [
    "Y.shape"
   ]
  },
  {
   "cell_type": "code",
   "execution_count": 22,
   "metadata": {
    "ExecuteTime": {
     "end_time": "2020-02-26T10:57:45.113323Z",
     "start_time": "2020-02-26T10:57:45.104261Z"
    }
   },
   "outputs": [],
   "source": [
    "X_train, y_train = X[:6000, :], Y[:6000, :, :]\n",
    "X_valid, y_valid = X[6000:, :], Y[6000:, :, :]"
   ]
  },
  {
   "cell_type": "markdown",
   "metadata": {},
   "source": [
    "**Baseline Model**"
   ]
  },
  {
   "cell_type": "code",
   "execution_count": 23,
   "metadata": {
    "ExecuteTime": {
     "end_time": "2020-02-26T10:58:54.481360Z",
     "start_time": "2020-02-26T10:57:45.114734Z"
    }
   },
   "outputs": [
    {
     "name": "stdout",
     "output_type": "stream",
     "text": [
      "Train on 6000 samples, validate on 960 samples\n",
      "Epoch 1/20\n",
      "6000/6000 [==============================] - 5s 755us/step - loss: 4632.3739 - val_loss: 7174.6017\n",
      "Epoch 2/20\n",
      "6000/6000 [==============================] - 4s 622us/step - loss: 4624.2984 - val_loss: 7174.1343\n",
      "Epoch 3/20\n",
      "6000/6000 [==============================] - 4s 640us/step - loss: 4624.1037 - val_loss: 7174.0006\n",
      "Epoch 4/20\n",
      "6000/6000 [==============================] - 3s 562us/step - loss: 4624.0323 - val_loss: 7173.9489\n",
      "Epoch 5/20\n",
      "6000/6000 [==============================] - 3s 544us/step - loss: 4623.9975 - val_loss: 7173.9115\n",
      "Epoch 6/20\n",
      "6000/6000 [==============================] - 3s 532us/step - loss: 4623.9754 - val_loss: 7173.8733\n",
      "Epoch 7/20\n",
      "6000/6000 [==============================] - 3s 523us/step - loss: 4623.9637 - val_loss: 7173.8820\n",
      "Epoch 8/20\n",
      "6000/6000 [==============================] - 3s 524us/step - loss: 4623.9646 - val_loss: 7173.8794\n",
      "Epoch 9/20\n",
      "6000/6000 [==============================] - 3s 522us/step - loss: 4623.9570 - val_loss: 7173.8970\n",
      "Epoch 10/20\n",
      "6000/6000 [==============================] - 3s 520us/step - loss: 4623.9451 - val_loss: 7173.8554\n",
      "Epoch 11/20\n",
      "6000/6000 [==============================] - 3s 522us/step - loss: 4623.9429 - val_loss: 7173.8731\n",
      "Epoch 12/20\n",
      "6000/6000 [==============================] - 3s 535us/step - loss: 4623.9322 - val_loss: 7173.8584\n",
      "Epoch 13/20\n",
      "6000/6000 [==============================] - 4s 608us/step - loss: 4623.9285 - val_loss: 7173.8629\n",
      "Epoch 14/20\n",
      "6000/6000 [==============================] - 4s 587us/step - loss: 4623.9178 - val_loss: 7173.8400\n",
      "Epoch 15/20\n",
      "6000/6000 [==============================] - 3s 547us/step - loss: 4623.9004 - val_loss: 7173.8085\n",
      "Epoch 16/20\n",
      "6000/6000 [==============================] - 4s 616us/step - loss: 4623.8834 - val_loss: 7173.7982\n",
      "Epoch 17/20\n",
      "6000/6000 [==============================] - 4s 614us/step - loss: 4623.8780 - val_loss: 7173.8051\n",
      "Epoch 18/20\n",
      "6000/6000 [==============================] - 4s 601us/step - loss: 4623.8767 - val_loss: 7173.8058\n",
      "Epoch 19/20\n",
      "6000/6000 [==============================] - 3s 522us/step - loss: 4623.8701 - val_loss: 7173.7931\n",
      "Epoch 20/20\n",
      "6000/6000 [==============================] - 3s 524us/step - loss: 4623.8738 - val_loss: 7173.7909\n"
     ]
    }
   ],
   "source": [
    "np.random.seed(42)\n",
    "tf.random.set_seed(42)\n",
    "\n",
    "model = Sequential([\n",
    "    SimpleRNN(20, return_sequences=True, input_shape=[None, 8]),\n",
    "    SimpleRNN(20, return_sequences=True),\n",
    "    SimpleRNN(4, return_sequences=True)\n",
    "])\n",
    "\n",
    "model.compile(loss=\"mse\", optimizer=\"adam\")\n",
    "history = model.fit(X_train, y_train, epochs=20,\n",
    "                    validation_data=(X_valid, y_valid))"
   ]
  },
  {
   "cell_type": "code",
   "execution_count": 24,
   "metadata": {
    "ExecuteTime": {
     "end_time": "2020-02-26T10:58:54.683474Z",
     "start_time": "2020-02-26T10:58:54.482789Z"
    }
   },
   "outputs": [
    {
     "data": {
      "image/png": "[encoded data removed]",
      "text/plain": [
       "<Figure size 576x396 with 1 Axes>"
      ]
     },
     "metadata": {},
     "output_type": "display_data"
    }
   ],
   "source": [
    "def plot_learning_curves(loss, val_loss):\n",
    "    plt.plot(np.arange(len(loss)) + 0.5, loss, \"b.-\", label=\"Training loss\")\n",
    "    plt.plot(np.arange(len(val_loss)) + 1, val_loss, \"r.-\", label=\"Validation loss\")\n",
    "    plt.gca().xaxis.set_major_locator(mpl.ticker.MaxNLocator(integer=True))\n",
    "#     plt.axis([1, 20, 0, 0.05])\n",
    "    plt.legend(fontsize=14)\n",
    "    plt.xlabel(\"Epochs\")\n",
    "    plt.ylabel(\"Loss\")\n",
    "    plt.grid(True)\n",
    "\n",
    "plot_learning_curves(history.history[\"loss\"], history.history[\"val_loss\"])\n",
    "plt.show()"
   ]
  },
  {
   "cell_type": "code",
   "execution_count": 25,
   "metadata": {
    "ExecuteTime": {
     "end_time": "2020-02-26T10:58:54.979847Z",
     "start_time": "2020-02-26T10:58:54.685137Z"
    }
   },
   "outputs": [
    {
     "data": {
      "text/plain": [
       "(960, 60, 4)"
      ]
     },
     "execution_count": 25,
     "metadata": {},
     "output_type": "execute_result"
    }
   ],
   "source": [
    "model.predict(X_valid).shape"
   ]
  }
 ],
 "metadata": {
  "jupytext": {
   "formats": "ipynb,md"
  },
  "kernelspec": {
   "display_name": ".venv",
   "language": "python",
   "name": ".venv"
  },
  "language_info": {
   "codemirror_mode": {
    "name": "ipython",
    "version": 3
   },
   "file_extension": ".py",
   "mimetype": "text/x-python",
   "name": "python",
   "nbconvert_exporter": "python",
   "pygments_lexer": "ipython3",
   "version": "3.7.0"
  },
  "toc": {
   "base_numbering": 1,
   "nav_menu": {},
   "number_sections": true,
   "sideBar": true,
   "skip_h1_title": false,
   "title_cell": "Table of Contents",
   "title_sidebar": "Contents",
   "toc_cell": false,
   "toc_position": {},
   "toc_section_display": true,
   "toc_window_display": false
  }
 },
 "nbformat": 4,
 "nbformat_minor": 2
}
