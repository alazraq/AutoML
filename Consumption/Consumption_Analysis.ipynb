{
 "cells": [
  {
   "cell_type": "markdown",
   "metadata": {},
   "source": [
    "# Analysing Consumption"
   ]
  },
  {
   "cell_type": "code",
   "execution_count": 6,
   "metadata": {},
   "outputs": [],
   "source": [
    "import pandas as pd\n",
    "# import pandas_profiling\n",
    "import numpy as np\n",
    "import matplotlib.pyplot as plt\n",
    "import matplotlib as mpl\n",
    "import seaborn as sns\n",
    "\n",
    "from sklearn.base import BaseEstimator, TransformerMixin\n",
    "\n",
    "import datetime"
   ]
  },
  {
   "cell_type": "code",
   "execution_count": 23,
   "metadata": {},
   "outputs": [],
   "source": [
    "X_train = pd.read_csv(\n",
    "    '../provided_data_and_metric/X_train_6GWGSxz.csv',\n",
    ")\n",
    "X_train.set_index(\"time_step\", inplace=True)\n",
    "\n",
    "Y_train = pd.read_csv(\n",
    "    '../provided_data_and_metric/y_train_2G60rOL.csv',\n",
    ")\n",
    "Y_train.set_index(\"time_step\", inplace=True)"
   ]
  },
  {
   "cell_type": "markdown",
   "metadata": {},
   "source": [
    "A few useful transformers:"
   ]
  },
  {
   "cell_type": "code",
   "execution_count": 24,
   "metadata": {},
   "outputs": [],
   "source": [
    "class DataImputer(BaseEstimator, TransformerMixin):  \n",
    "\n",
    "    def __init__(self):\n",
    "        self.X = None\n",
    "\n",
    "    def fit(self, x, y=None):\n",
    "        self.days_to_drop = [\"2013-10-27\", \"2013-10-28\", \"2013-12-18\", \"2013-12-19\",\n",
    "                             \"2013-08-01\", \"2013-08-02\", \"2013-11-10\", \"2013-07-07\",\n",
    "                             \"2013-09-07\", \"2013-03-30\", \"2013-07-14\"]\n",
    "        return self\n",
    "\n",
    "    def transform(self, x, y=None):\n",
    "        x.index = pd.to_datetime(x.index)     \n",
    "        try:\n",
    "            x.drop(['visibility', 'temperature', 'humidity', 'humidex',\n",
    "                    'windchill', 'wind', 'pressure', 'Unnamed: 9'], axis=1, inplace=True)\n",
    "            for day in self.days_to_drop:\n",
    "                x.drop(x.loc[day].index, inplace=True)\n",
    "        except KeyError as e:\n",
    "            pass\n",
    "\n",
    "        x = x.interpolate(method='linear').fillna(method='bfill')\n",
    "        return x"
   ]
  },
  {
   "cell_type": "code",
   "execution_count": 25,
   "metadata": {},
   "outputs": [],
   "source": [
    "class YImputer(BaseEstimator, TransformerMixin):\n",
    "    \n",
    "    def __init__(self):\n",
    "        pass\n",
    "\n",
    "    def fit(self, x, y=None):\n",
    "        self.days_to_drop = [\"2013-10-27\", \"2013-10-28\", \"2013-12-18\", \"2013-12-19\",\n",
    "                     \"2013-08-01\", \"2013-08-02\", \"2013-11-10\", \"2013-07-07\",\n",
    "                     \"2013-09-07\", \"2013-03-30\", \"2013-07-14\"]\n",
    "        return self\n",
    "    \n",
    "    def transform(self, x, y=None):\n",
    "        x.index = pd.to_datetime(x.index)\n",
    "        try:\n",
    "#             x.drop(['kettle', 'TV', 'washing_machine'], axis=1, inplace=True)\n",
    "            for day in self.days_to_drop:\n",
    "                x.drop(x.loc[day].index, inplace=True)\n",
    "        except KeyError as e:\n",
    "            pass\n",
    "        \n",
    "        x = x.interpolate(method='linear').fillna(method='bfill')\n",
    "        return x"
   ]
  },
  {
   "cell_type": "markdown",
   "metadata": {},
   "source": [
    "Transforming the data:"
   ]
  },
  {
   "cell_type": "code",
   "execution_count": 26,
   "metadata": {},
   "outputs": [],
   "source": [
    "di = DataImputer()\n",
    "yi = YImputer()\n",
    "di.fit(X_train)\n",
    "yi.fit(Y_train)\n",
    "X = di.transform(X_train)\n",
    "y = yi.transform(Y_train)"
   ]
  },
  {
   "cell_type": "code",
   "execution_count": 33,
   "metadata": {},
   "outputs": [
    {
     "data": {
      "text/html": [
       "<div>\n",
       "<style scoped>\n",
       "    .dataframe tbody tr th:only-of-type {\n",
       "        vertical-align: middle;\n",
       "    }\n",
       "\n",
       "    .dataframe tbody tr th {\n",
       "        vertical-align: top;\n",
       "    }\n",
       "\n",
       "    .dataframe thead th {\n",
       "        text-align: right;\n",
       "    }\n",
       "</style>\n",
       "<table border=\"1\" class=\"dataframe\">\n",
       "  <thead>\n",
       "    <tr style=\"text-align: right;\">\n",
       "      <th></th>\n",
       "      <th>consumption</th>\n",
       "    </tr>\n",
       "    <tr>\n",
       "      <th>time_step</th>\n",
       "      <th></th>\n",
       "    </tr>\n",
       "  </thead>\n",
       "  <tbody>\n",
       "    <tr>\n",
       "      <th>2013-03-17 00:01:00</th>\n",
       "      <td>550.4000</td>\n",
       "    </tr>\n",
       "    <tr>\n",
       "      <th>2013-03-17 00:02:00</th>\n",
       "      <td>548.6000</td>\n",
       "    </tr>\n",
       "    <tr>\n",
       "      <th>2013-03-17 00:03:00</th>\n",
       "      <td>549.3000</td>\n",
       "    </tr>\n",
       "    <tr>\n",
       "      <th>2013-03-17 00:04:00</th>\n",
       "      <td>549.3667</td>\n",
       "    </tr>\n",
       "    <tr>\n",
       "      <th>2013-03-17 00:05:00</th>\n",
       "      <td>548.8909</td>\n",
       "    </tr>\n",
       "  </tbody>\n",
       "</table>\n",
       "</div>"
      ],
      "text/plain": [
       "                     consumption\n",
       "time_step                       \n",
       "2013-03-17 00:01:00     550.4000\n",
       "2013-03-17 00:02:00     548.6000\n",
       "2013-03-17 00:03:00     549.3000\n",
       "2013-03-17 00:04:00     549.3667\n",
       "2013-03-17 00:05:00     548.8909"
      ]
     },
     "execution_count": 33,
     "metadata": {},
     "output_type": "execute_result"
    }
   ],
   "source": [
    "X.head()"
   ]
  },
  {
   "cell_type": "code",
   "execution_count": 34,
   "metadata": {},
   "outputs": [
    {
     "data": {
      "text/html": [
       "<div>\n",
       "<style scoped>\n",
       "    .dataframe tbody tr th:only-of-type {\n",
       "        vertical-align: middle;\n",
       "    }\n",
       "\n",
       "    .dataframe tbody tr th {\n",
       "        vertical-align: top;\n",
       "    }\n",
       "\n",
       "    .dataframe thead th {\n",
       "        text-align: right;\n",
       "    }\n",
       "</style>\n",
       "<table border=\"1\" class=\"dataframe\">\n",
       "  <thead>\n",
       "    <tr style=\"text-align: right;\">\n",
       "      <th></th>\n",
       "      <th>washing_machine</th>\n",
       "      <th>fridge_freezer</th>\n",
       "      <th>TV</th>\n",
       "      <th>kettle</th>\n",
       "    </tr>\n",
       "    <tr>\n",
       "      <th>time_step</th>\n",
       "      <th></th>\n",
       "      <th></th>\n",
       "      <th></th>\n",
       "      <th></th>\n",
       "    </tr>\n",
       "  </thead>\n",
       "  <tbody>\n",
       "    <tr>\n",
       "      <th>2013-03-17 00:01:00</th>\n",
       "      <td>0.0</td>\n",
       "      <td>79.2000</td>\n",
       "      <td>7.0</td>\n",
       "      <td>0.0</td>\n",
       "    </tr>\n",
       "    <tr>\n",
       "      <th>2013-03-17 00:02:00</th>\n",
       "      <td>0.0</td>\n",
       "      <td>78.0000</td>\n",
       "      <td>7.0</td>\n",
       "      <td>0.0</td>\n",
       "    </tr>\n",
       "    <tr>\n",
       "      <th>2013-03-17 00:03:00</th>\n",
       "      <td>0.0</td>\n",
       "      <td>76.9000</td>\n",
       "      <td>7.0</td>\n",
       "      <td>0.0</td>\n",
       "    </tr>\n",
       "    <tr>\n",
       "      <th>2013-03-17 00:04:00</th>\n",
       "      <td>0.0</td>\n",
       "      <td>76.1111</td>\n",
       "      <td>7.0</td>\n",
       "      <td>0.0</td>\n",
       "    </tr>\n",
       "    <tr>\n",
       "      <th>2013-03-17 00:05:00</th>\n",
       "      <td>0.0</td>\n",
       "      <td>75.2727</td>\n",
       "      <td>7.0</td>\n",
       "      <td>0.0</td>\n",
       "    </tr>\n",
       "  </tbody>\n",
       "</table>\n",
       "</div>"
      ],
      "text/plain": [
       "                     washing_machine  fridge_freezer   TV  kettle\n",
       "time_step                                                        \n",
       "2013-03-17 00:01:00              0.0         79.2000  7.0     0.0\n",
       "2013-03-17 00:02:00              0.0         78.0000  7.0     0.0\n",
       "2013-03-17 00:03:00              0.0         76.9000  7.0     0.0\n",
       "2013-03-17 00:04:00              0.0         76.1111  7.0     0.0\n",
       "2013-03-17 00:05:00              0.0         75.2727  7.0     0.0"
      ]
     },
     "execution_count": 34,
     "metadata": {},
     "output_type": "execute_result"
    }
   ],
   "source": [
    "y.head()"
   ]
  },
  {
   "cell_type": "markdown",
   "metadata": {},
   "source": [
    "## Looking for spikes in consumption"
   ]
  },
  {
   "cell_type": "markdown",
   "metadata": {},
   "source": [
    "Kettle Consumption:"
   ]
  },
  {
   "cell_type": "code",
   "execution_count": 46,
   "metadata": {},
   "outputs": [
    {
     "data": {
      "text/plain": [
       "<matplotlib.legend.Legend at 0x7f6b74f11588>"
      ]
     },
     "execution_count": 46,
     "metadata": {},
     "output_type": "execute_result"
    },
    {
     "data": {
      "image/png": "[encoded data removed]",
      "text/plain": [
       "<Figure size 1440x720 with 1 Axes>"
      ]
     },
     "metadata": {
      "needs_background": "light"
     },
     "output_type": "display_data"
    }
   ],
   "source": [
    "plt.figure(figsize=(20,10))\n",
    "plt.plot(X.loc[\"2013-03-17 17:50:00\":\"2013-03-17 17:59:00\",:], label=\"Consumption\")\n",
    "plt.plot(y.kettle.loc[\"2013-03-17 17:50:00\":\"2013-03-17 17:59:00\",], label=\"Kettle\")\n",
    "plt.plot(y.TV.loc[\"2013-03-17 17:50:00\":\"2013-03-17 17:59:00\",], label=\"TV\")\n",
    "plt.plot(y.washing_machine.loc[\"2013-03-17 17:50:00\":\"2013-03-17 17:59:00\",], label=\"Washing Machine\")\n",
    "plt.plot(y.fridge_freezer.loc[\"2013-03-17 17:50:00\":\"2013-03-17 17:59:00\",], label=\"Fridge\")\n",
    "plt.legend()"
   ]
  },
  {
   "cell_type": "markdown",
   "metadata": {},
   "source": [
    "**Question:** can we detect spikes of consumption?"
   ]
  },
  {
   "cell_type": "markdown",
   "metadata": {},
   "source": [
    "A [Bollinger Band®](https://www.investopedia.com/terms/b/bollingerbands.asp) is a technical analysis tool defined by a set of lines plotted two standard deviations (positively and negatively) away from a simple moving average (SMA) of the security's price, but can be adjusted to user preferences. Bollinger Bands® were developed and copyrighted by famous technical trader John Bollinger.\n",
    "\n",
    "This concept can be useful for us to detect departures from the mean."
   ]
  },
  {
   "cell_type": "code",
   "execution_count": 206,
   "metadata": {},
   "outputs": [],
   "source": [
    "rolling_mean = X.consumption.rolling(360).mean().fillna(method=\"bfill\")"
   ]
  },
  {
   "cell_type": "code",
   "execution_count": 207,
   "metadata": {},
   "outputs": [],
   "source": [
    "rolling_std = X.consumption.rolling(360).std().fillna(method=\"bfill\")"
   ]
  },
  {
   "cell_type": "markdown",
   "metadata": {},
   "source": [
    "In this case, given how kettle is very consumption heavy, we look for values above 4 std."
   ]
  },
  {
   "cell_type": "code",
   "execution_count": 208,
   "metadata": {},
   "outputs": [],
   "source": [
    "bollinger_bands = rolling_mean + 2*rolling_std"
   ]
  },
  {
   "cell_type": "code",
   "execution_count": 209,
   "metadata": {},
   "outputs": [
    {
     "data": {
      "text/plain": [
       "37"
      ]
     },
     "execution_count": 209,
     "metadata": {},
     "output_type": "execute_result"
    }
   ],
   "source": [
    "(bollinger_bands > 3000).sum()"
   ]
  },
  {
   "cell_type": "code",
   "execution_count": 210,
   "metadata": {},
   "outputs": [],
   "source": [
    "anomalies = X.loc[X.consumption > bollinger_bands, :]"
   ]
  },
  {
   "cell_type": "code",
   "execution_count": 211,
   "metadata": {},
   "outputs": [
    {
     "data": {
      "text/html": [
       "<div>\n",
       "<style scoped>\n",
       "    .dataframe tbody tr th:only-of-type {\n",
       "        vertical-align: middle;\n",
       "    }\n",
       "\n",
       "    .dataframe tbody tr th {\n",
       "        vertical-align: top;\n",
       "    }\n",
       "\n",
       "    .dataframe thead th {\n",
       "        text-align: right;\n",
       "    }\n",
       "</style>\n",
       "<table border=\"1\" class=\"dataframe\">\n",
       "  <thead>\n",
       "    <tr style=\"text-align: right;\">\n",
       "      <th></th>\n",
       "      <th>consumption</th>\n",
       "    </tr>\n",
       "    <tr>\n",
       "      <th>time_step</th>\n",
       "      <th></th>\n",
       "    </tr>\n",
       "  </thead>\n",
       "  <tbody>\n",
       "    <tr>\n",
       "      <th>2013-03-17 00:52:00</th>\n",
       "      <td>604.4273</td>\n",
       "    </tr>\n",
       "    <tr>\n",
       "      <th>2013-03-17 00:53:00</th>\n",
       "      <td>604.0000</td>\n",
       "    </tr>\n",
       "    <tr>\n",
       "      <th>2013-03-17 00:54:00</th>\n",
       "      <td>602.4040</td>\n",
       "    </tr>\n",
       "    <tr>\n",
       "      <th>2013-03-17 00:55:00</th>\n",
       "      <td>668.0111</td>\n",
       "    </tr>\n",
       "    <tr>\n",
       "      <th>2013-03-17 00:56:00</th>\n",
       "      <td>642.6060</td>\n",
       "    </tr>\n",
       "    <tr>\n",
       "      <th>...</th>\n",
       "      <td>...</td>\n",
       "    </tr>\n",
       "    <tr>\n",
       "      <th>2013-12-31 23:34:00</th>\n",
       "      <td>2304.7500</td>\n",
       "    </tr>\n",
       "    <tr>\n",
       "      <th>2013-12-31 23:41:00</th>\n",
       "      <td>2302.2222</td>\n",
       "    </tr>\n",
       "    <tr>\n",
       "      <th>2013-12-31 23:42:00</th>\n",
       "      <td>2326.8889</td>\n",
       "    </tr>\n",
       "    <tr>\n",
       "      <th>2013-12-31 23:48:00</th>\n",
       "      <td>2136.0000</td>\n",
       "    </tr>\n",
       "    <tr>\n",
       "      <th>2013-12-31 23:49:00</th>\n",
       "      <td>2317.6667</td>\n",
       "    </tr>\n",
       "  </tbody>\n",
       "</table>\n",
       "<p>23658 rows × 1 columns</p>\n",
       "</div>"
      ],
      "text/plain": [
       "                     consumption\n",
       "time_step                       \n",
       "2013-03-17 00:52:00     604.4273\n",
       "2013-03-17 00:53:00     604.0000\n",
       "2013-03-17 00:54:00     602.4040\n",
       "2013-03-17 00:55:00     668.0111\n",
       "2013-03-17 00:56:00     642.6060\n",
       "...                          ...\n",
       "2013-12-31 23:34:00    2304.7500\n",
       "2013-12-31 23:41:00    2302.2222\n",
       "2013-12-31 23:42:00    2326.8889\n",
       "2013-12-31 23:48:00    2136.0000\n",
       "2013-12-31 23:49:00    2317.6667\n",
       "\n",
       "[23658 rows x 1 columns]"
      ]
     },
     "execution_count": 211,
     "metadata": {},
     "output_type": "execute_result"
    }
   ],
   "source": [
    "anomalies"
   ]
  },
  {
   "cell_type": "markdown",
   "metadata": {},
   "source": [
    "Look at the minimum:"
   ]
  },
  {
   "cell_type": "code",
   "execution_count": 216,
   "metadata": {},
   "outputs": [
    {
     "data": {
      "text/plain": [
       "161.2857"
      ]
     },
     "execution_count": 216,
     "metadata": {},
     "output_type": "execute_result"
    }
   ],
   "source": [
    "min_anomalies = float(anomalies.min())\n",
    "min_anomalies"
   ]
  },
  {
   "cell_type": "code",
   "execution_count": 217,
   "metadata": {},
   "outputs": [
    {
     "data": {
      "text/html": [
       "<div>\n",
       "<style scoped>\n",
       "    .dataframe tbody tr th:only-of-type {\n",
       "        vertical-align: middle;\n",
       "    }\n",
       "\n",
       "    .dataframe tbody tr th {\n",
       "        vertical-align: top;\n",
       "    }\n",
       "\n",
       "    .dataframe thead th {\n",
       "        text-align: right;\n",
       "    }\n",
       "</style>\n",
       "<table border=\"1\" class=\"dataframe\">\n",
       "  <thead>\n",
       "    <tr style=\"text-align: right;\">\n",
       "      <th></th>\n",
       "      <th>consumption</th>\n",
       "    </tr>\n",
       "    <tr>\n",
       "      <th>time_step</th>\n",
       "      <th></th>\n",
       "    </tr>\n",
       "  </thead>\n",
       "  <tbody>\n",
       "    <tr>\n",
       "      <th>2013-08-14 21:37:00</th>\n",
       "      <td>161.2857</td>\n",
       "    </tr>\n",
       "  </tbody>\n",
       "</table>\n",
       "</div>"
      ],
      "text/plain": [
       "                     consumption\n",
       "time_step                       \n",
       "2013-08-14 21:37:00     161.2857"
      ]
     },
     "execution_count": 217,
     "metadata": {},
     "output_type": "execute_result"
    }
   ],
   "source": [
    "anomalies.loc[anomalies.consumption == min_anomalies, :]"
   ]
  },
  {
   "cell_type": "markdown",
   "metadata": {},
   "source": [
    "We can get some values that are very low, especially in the morning."
   ]
  },
  {
   "cell_type": "code",
   "execution_count": 218,
   "metadata": {},
   "outputs": [
    {
     "data": {
      "text/html": [
       "<div>\n",
       "<style scoped>\n",
       "    .dataframe tbody tr th:only-of-type {\n",
       "        vertical-align: middle;\n",
       "    }\n",
       "\n",
       "    .dataframe tbody tr th {\n",
       "        vertical-align: top;\n",
       "    }\n",
       "\n",
       "    .dataframe thead th {\n",
       "        text-align: right;\n",
       "    }\n",
       "</style>\n",
       "<table border=\"1\" class=\"dataframe\">\n",
       "  <thead>\n",
       "    <tr style=\"text-align: right;\">\n",
       "      <th></th>\n",
       "      <th>consumption</th>\n",
       "    </tr>\n",
       "    <tr>\n",
       "      <th>time_step</th>\n",
       "      <th></th>\n",
       "    </tr>\n",
       "  </thead>\n",
       "  <tbody>\n",
       "    <tr>\n",
       "      <th>2013-04-09 09:22:00</th>\n",
       "      <td>161.2857</td>\n",
       "    </tr>\n",
       "    <tr>\n",
       "      <th>2013-05-06 04:40:00</th>\n",
       "      <td>161.2857</td>\n",
       "    </tr>\n",
       "    <tr>\n",
       "      <th>2013-05-11 08:47:00</th>\n",
       "      <td>161.2857</td>\n",
       "    </tr>\n",
       "    <tr>\n",
       "      <th>2013-05-22 04:21:00</th>\n",
       "      <td>161.2857</td>\n",
       "    </tr>\n",
       "    <tr>\n",
       "      <th>2013-05-23 22:37:00</th>\n",
       "      <td>161.2857</td>\n",
       "    </tr>\n",
       "    <tr>\n",
       "      <th>...</th>\n",
       "      <td>...</td>\n",
       "    </tr>\n",
       "    <tr>\n",
       "      <th>2013-10-13 01:14:00</th>\n",
       "      <td>161.2857</td>\n",
       "    </tr>\n",
       "    <tr>\n",
       "      <th>2013-10-29 13:28:00</th>\n",
       "      <td>161.2857</td>\n",
       "    </tr>\n",
       "    <tr>\n",
       "      <th>2013-12-09 22:53:00</th>\n",
       "      <td>161.2857</td>\n",
       "    </tr>\n",
       "    <tr>\n",
       "      <th>2013-12-21 12:32:00</th>\n",
       "      <td>161.2857</td>\n",
       "    </tr>\n",
       "    <tr>\n",
       "      <th>2013-12-31 05:46:00</th>\n",
       "      <td>161.2857</td>\n",
       "    </tr>\n",
       "  </tbody>\n",
       "</table>\n",
       "<p>69 rows × 1 columns</p>\n",
       "</div>"
      ],
      "text/plain": [
       "                     consumption\n",
       "time_step                       \n",
       "2013-04-09 09:22:00     161.2857\n",
       "2013-05-06 04:40:00     161.2857\n",
       "2013-05-11 08:47:00     161.2857\n",
       "2013-05-22 04:21:00     161.2857\n",
       "2013-05-23 22:37:00     161.2857\n",
       "...                          ...\n",
       "2013-10-13 01:14:00     161.2857\n",
       "2013-10-29 13:28:00     161.2857\n",
       "2013-12-09 22:53:00     161.2857\n",
       "2013-12-21 12:32:00     161.2857\n",
       "2013-12-31 05:46:00     161.2857\n",
       "\n",
       "[69 rows x 1 columns]"
      ]
     },
     "execution_count": 218,
     "metadata": {},
     "output_type": "execute_result"
    }
   ],
   "source": [
    "X.loc[X.consumption == min_anomalies, :]"
   ]
  },
  {
   "cell_type": "markdown",
   "metadata": {},
   "source": [
    "An idea could be to discard all values below 500."
   ]
  },
  {
   "cell_type": "code",
   "execution_count": 219,
   "metadata": {},
   "outputs": [
    {
     "data": {
      "text/html": [
       "<div>\n",
       "<style scoped>\n",
       "    .dataframe tbody tr th:only-of-type {\n",
       "        vertical-align: middle;\n",
       "    }\n",
       "\n",
       "    .dataframe tbody tr th {\n",
       "        vertical-align: top;\n",
       "    }\n",
       "\n",
       "    .dataframe thead th {\n",
       "        text-align: right;\n",
       "    }\n",
       "</style>\n",
       "<table border=\"1\" class=\"dataframe\">\n",
       "  <thead>\n",
       "    <tr style=\"text-align: right;\">\n",
       "      <th></th>\n",
       "      <th>consumption</th>\n",
       "    </tr>\n",
       "    <tr>\n",
       "      <th>time_step</th>\n",
       "      <th></th>\n",
       "    </tr>\n",
       "  </thead>\n",
       "  <tbody>\n",
       "    <tr>\n",
       "      <th>2013-03-17 00:52:00</th>\n",
       "      <td>604.4273</td>\n",
       "    </tr>\n",
       "    <tr>\n",
       "      <th>2013-03-17 00:53:00</th>\n",
       "      <td>604.0000</td>\n",
       "    </tr>\n",
       "    <tr>\n",
       "      <th>2013-03-17 00:54:00</th>\n",
       "      <td>602.4040</td>\n",
       "    </tr>\n",
       "    <tr>\n",
       "      <th>2013-03-17 00:55:00</th>\n",
       "      <td>668.0111</td>\n",
       "    </tr>\n",
       "    <tr>\n",
       "      <th>2013-03-17 00:56:00</th>\n",
       "      <td>642.6060</td>\n",
       "    </tr>\n",
       "    <tr>\n",
       "      <th>...</th>\n",
       "      <td>...</td>\n",
       "    </tr>\n",
       "    <tr>\n",
       "      <th>2013-12-31 23:34:00</th>\n",
       "      <td>2304.7500</td>\n",
       "    </tr>\n",
       "    <tr>\n",
       "      <th>2013-12-31 23:41:00</th>\n",
       "      <td>2302.2222</td>\n",
       "    </tr>\n",
       "    <tr>\n",
       "      <th>2013-12-31 23:42:00</th>\n",
       "      <td>2326.8889</td>\n",
       "    </tr>\n",
       "    <tr>\n",
       "      <th>2013-12-31 23:48:00</th>\n",
       "      <td>2136.0000</td>\n",
       "    </tr>\n",
       "    <tr>\n",
       "      <th>2013-12-31 23:49:00</th>\n",
       "      <td>2317.6667</td>\n",
       "    </tr>\n",
       "  </tbody>\n",
       "</table>\n",
       "<p>14351 rows × 1 columns</p>\n",
       "</div>"
      ],
      "text/plain": [
       "                     consumption\n",
       "time_step                       \n",
       "2013-03-17 00:52:00     604.4273\n",
       "2013-03-17 00:53:00     604.0000\n",
       "2013-03-17 00:54:00     602.4040\n",
       "2013-03-17 00:55:00     668.0111\n",
       "2013-03-17 00:56:00     642.6060\n",
       "...                          ...\n",
       "2013-12-31 23:34:00    2304.7500\n",
       "2013-12-31 23:41:00    2302.2222\n",
       "2013-12-31 23:42:00    2326.8889\n",
       "2013-12-31 23:48:00    2136.0000\n",
       "2013-12-31 23:49:00    2317.6667\n",
       "\n",
       "[14351 rows x 1 columns]"
      ]
     },
     "execution_count": 219,
     "metadata": {},
     "output_type": "execute_result"
    }
   ],
   "source": [
    "anomalies.loc[anomalies.consumption > 500, :]"
   ]
  },
  {
   "cell_type": "markdown",
   "metadata": {},
   "source": [
    "Is 500 really a good threshold? Let's look at consumption when kettle is above 500."
   ]
  },
  {
   "cell_type": "code",
   "execution_count": 220,
   "metadata": {},
   "outputs": [],
   "source": [
    "cons_kettle_on = X.loc[y.loc[y.kettle>500, :].index]"
   ]
  },
  {
   "cell_type": "markdown",
   "metadata": {},
   "source": [
    "There is lot of std as expected. Consumption is never below ~689."
   ]
  },
  {
   "cell_type": "code",
   "execution_count": 221,
   "metadata": {},
   "outputs": [
    {
     "data": {
      "text/html": [
       "<div>\n",
       "<style scoped>\n",
       "    .dataframe tbody tr th:only-of-type {\n",
       "        vertical-align: middle;\n",
       "    }\n",
       "\n",
       "    .dataframe tbody tr th {\n",
       "        vertical-align: top;\n",
       "    }\n",
       "\n",
       "    .dataframe thead th {\n",
       "        text-align: right;\n",
       "    }\n",
       "</style>\n",
       "<table border=\"1\" class=\"dataframe\">\n",
       "  <thead>\n",
       "    <tr style=\"text-align: right;\">\n",
       "      <th></th>\n",
       "      <th>consumption</th>\n",
       "    </tr>\n",
       "  </thead>\n",
       "  <tbody>\n",
       "    <tr>\n",
       "      <th>count</th>\n",
       "      <td>1045.000000</td>\n",
       "    </tr>\n",
       "    <tr>\n",
       "      <th>mean</th>\n",
       "      <td>2794.541964</td>\n",
       "    </tr>\n",
       "    <tr>\n",
       "      <th>std</th>\n",
       "      <td>1240.747421</td>\n",
       "    </tr>\n",
       "    <tr>\n",
       "      <th>min</th>\n",
       "      <td>689.833300</td>\n",
       "    </tr>\n",
       "    <tr>\n",
       "      <th>25%</th>\n",
       "      <td>1736.875000</td>\n",
       "    </tr>\n",
       "    <tr>\n",
       "      <th>50%</th>\n",
       "      <td>2923.500000</td>\n",
       "    </tr>\n",
       "    <tr>\n",
       "      <th>75%</th>\n",
       "      <td>3344.666700</td>\n",
       "    </tr>\n",
       "    <tr>\n",
       "      <th>max</th>\n",
       "      <td>7571.222200</td>\n",
       "    </tr>\n",
       "  </tbody>\n",
       "</table>\n",
       "</div>"
      ],
      "text/plain": [
       "       consumption\n",
       "count  1045.000000\n",
       "mean   2794.541964\n",
       "std    1240.747421\n",
       "min     689.833300\n",
       "25%    1736.875000\n",
       "50%    2923.500000\n",
       "75%    3344.666700\n",
       "max    7571.222200"
      ]
     },
     "execution_count": 221,
     "metadata": {},
     "output_type": "execute_result"
    }
   ],
   "source": [
    "cons_kettle_on.describe()"
   ]
  },
  {
   "cell_type": "markdown",
   "metadata": {},
   "source": [
    "The minimum could serve as a good threshold."
   ]
  },
  {
   "cell_type": "code",
   "execution_count": 222,
   "metadata": {},
   "outputs": [],
   "source": [
    "anomalies = anomalies.loc[anomalies.consumption > 689.8, :]"
   ]
  },
  {
   "cell_type": "markdown",
   "metadata": {},
   "source": [
    "Now, it is important to look at the value for kettle, when we observe an anomaly."
   ]
  },
  {
   "cell_type": "code",
   "execution_count": 223,
   "metadata": {},
   "outputs": [],
   "source": [
    "kettle_anomaly = y.loc[anomalies.index, [\"kettle\"]] "
   ]
  },
  {
   "cell_type": "markdown",
   "metadata": {},
   "source": [
    "How did it go:"
   ]
  },
  {
   "cell_type": "code",
   "execution_count": 224,
   "metadata": {},
   "outputs": [
    {
     "name": "stdout",
     "output_type": "stream",
     "text": [
      "Kettle on in anomalies: 944\n",
      "Kettle on originally: 1045\n"
     ]
    }
   ],
   "source": [
    "print(f\"Kettle on in anomalies: {(kettle_anomaly.values > 500).sum()}\")\n",
    "print(f\"Kettle on originally: {(y.kettle>500).sum()}\")"
   ]
  },
  {
   "cell_type": "code",
   "execution_count": 225,
   "metadata": {},
   "outputs": [
    {
     "data": {
      "text/html": [
       "<div>\n",
       "<style scoped>\n",
       "    .dataframe tbody tr th:only-of-type {\n",
       "        vertical-align: middle;\n",
       "    }\n",
       "\n",
       "    .dataframe tbody tr th {\n",
       "        vertical-align: top;\n",
       "    }\n",
       "\n",
       "    .dataframe thead th {\n",
       "        text-align: right;\n",
       "    }\n",
       "</style>\n",
       "<table border=\"1\" class=\"dataframe\">\n",
       "  <thead>\n",
       "    <tr style=\"text-align: right;\">\n",
       "      <th></th>\n",
       "      <th>kettle</th>\n",
       "    </tr>\n",
       "    <tr>\n",
       "      <th>time_step</th>\n",
       "      <th></th>\n",
       "    </tr>\n",
       "  </thead>\n",
       "  <tbody>\n",
       "    <tr>\n",
       "      <th>2013-03-17 03:38:00</th>\n",
       "      <td>0.0</td>\n",
       "    </tr>\n",
       "    <tr>\n",
       "      <th>2013-03-17 06:47:00</th>\n",
       "      <td>0.0</td>\n",
       "    </tr>\n",
       "    <tr>\n",
       "      <th>2013-03-17 06:48:00</th>\n",
       "      <td>0.0</td>\n",
       "    </tr>\n",
       "    <tr>\n",
       "      <th>2013-03-17 06:49:00</th>\n",
       "      <td>0.0</td>\n",
       "    </tr>\n",
       "    <tr>\n",
       "      <th>2013-03-17 06:50:00</th>\n",
       "      <td>0.0</td>\n",
       "    </tr>\n",
       "    <tr>\n",
       "      <th>...</th>\n",
       "      <td>...</td>\n",
       "    </tr>\n",
       "    <tr>\n",
       "      <th>2013-12-31 23:34:00</th>\n",
       "      <td>0.0</td>\n",
       "    </tr>\n",
       "    <tr>\n",
       "      <th>2013-12-31 23:41:00</th>\n",
       "      <td>0.0</td>\n",
       "    </tr>\n",
       "    <tr>\n",
       "      <th>2013-12-31 23:42:00</th>\n",
       "      <td>0.0</td>\n",
       "    </tr>\n",
       "    <tr>\n",
       "      <th>2013-12-31 23:48:00</th>\n",
       "      <td>0.0</td>\n",
       "    </tr>\n",
       "    <tr>\n",
       "      <th>2013-12-31 23:49:00</th>\n",
       "      <td>0.0</td>\n",
       "    </tr>\n",
       "  </tbody>\n",
       "</table>\n",
       "<p>11347 rows × 1 columns</p>\n",
       "</div>"
      ],
      "text/plain": [
       "                     kettle\n",
       "time_step                  \n",
       "2013-03-17 03:38:00     0.0\n",
       "2013-03-17 06:47:00     0.0\n",
       "2013-03-17 06:48:00     0.0\n",
       "2013-03-17 06:49:00     0.0\n",
       "2013-03-17 06:50:00     0.0\n",
       "...                     ...\n",
       "2013-12-31 23:34:00     0.0\n",
       "2013-12-31 23:41:00     0.0\n",
       "2013-12-31 23:42:00     0.0\n",
       "2013-12-31 23:48:00     0.0\n",
       "2013-12-31 23:49:00     0.0\n",
       "\n",
       "[11347 rows x 1 columns]"
      ]
     },
     "execution_count": 225,
     "metadata": {},
     "output_type": "execute_result"
    }
   ],
   "source": [
    "kettle_anomaly"
   ]
  },
  {
   "cell_type": "markdown",
   "metadata": {},
   "source": [
    "### Visualing"
   ]
  },
  {
   "cell_type": "code",
   "execution_count": 230,
   "metadata": {},
   "outputs": [
    {
     "data": {
      "text/plain": [
       "<matplotlib.legend.Legend at 0x7f6b7731fa90>"
      ]
     },
     "execution_count": 230,
     "metadata": {},
     "output_type": "execute_result"
    },
    {
     "data": {
      "image/png": "[encoded data removed]",
      "text/plain": [
       "<Figure size 1440x720 with 1 Axes>"
      ]
     },
     "metadata": {
      "needs_background": "light"
     },
     "output_type": "display_data"
    }
   ],
   "source": [
    "plt.figure(figsize=(20,10))\n",
    "plt.plot(anomalies.iloc[400:600], label=\"Consumption anomalies\")\n",
    "plt.plot(kettle_anomaly.iloc[400:600], label=\"Kettle consumption\")\n",
    "plt.legend()"
   ]
  }
 ],
 "metadata": {
  "kernelspec": {
   "display_name": "Python 3",
   "language": "python",
   "name": "python3"
  },
  "language_info": {
   "codemirror_mode": {
    "name": "ipython",
    "version": 3
   },
   "file_extension": ".py",
   "mimetype": "text/x-python",
   "name": "python",
   "nbconvert_exporter": "python",
   "pygments_lexer": "ipython3",
   "version": "3.7.2"
  }
 },
 "nbformat": 4,
 "nbformat_minor": 4
}
